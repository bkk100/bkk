{
 "cells": [
  {
   "cell_type": "code",
   "execution_count": 1,
   "id": "139c2de6-cadd-489e-8afb-4ac3187ad09a",
   "metadata": {},
   "outputs": [],
   "source": [
    "#polymorphism which shows multiple behaviour in a entity"
   ]
  },
  {
   "cell_type": "code",
   "execution_count": 2,
   "id": "13b0cf80-d837-4214-b174-cdecd5df92ba",
   "metadata": {},
   "outputs": [],
   "source": [
    "def test(a,b):\n",
    "    return a+b"
   ]
  },
  {
   "cell_type": "code",
   "execution_count": 3,
   "id": "79eac937-0bd7-479d-a1e4-970d9fc9cc4a",
   "metadata": {},
   "outputs": [
    {
     "data": {
      "text/plain": [
       "7"
      ]
     },
     "execution_count": 3,
     "metadata": {},
     "output_type": "execute_result"
    }
   ],
   "source": [
    "test(3,4)"
   ]
  },
  {
   "cell_type": "code",
   "execution_count": 4,
   "id": "f7e0f96b-49ed-41d4-b71d-8d4b22035f8f",
   "metadata": {},
   "outputs": [
    {
     "data": {
      "text/plain": [
       "'sudhkumar'"
      ]
     },
     "execution_count": 4,
     "metadata": {},
     "output_type": "execute_result"
    }
   ],
   "source": [
    "test(\"sudh\",\"kumar\")"
   ]
  },
  {
   "cell_type": "code",
   "execution_count": 5,
   "id": "b435a660-2b3c-4605-862b-fbf040184b1a",
   "metadata": {},
   "outputs": [
    {
     "data": {
      "text/plain": [
       "[3, 4, 5, 5, 6, 7]"
      ]
     },
     "execution_count": 5,
     "metadata": {},
     "output_type": "execute_result"
    }
   ],
   "source": [
    "test([3,4,5],[5,6,7])"
   ]
  },
  {
   "cell_type": "code",
   "execution_count": 6,
   "id": "85e80d02-60eb-450e-8fa8-9f00840ee28c",
   "metadata": {},
   "outputs": [],
   "source": [
    "class data_science:\n",
    "    def syllabus(self):\n",
    "        print(\"this is my syllabus for data for data science\")"
   ]
  },
  {
   "cell_type": "code",
   "execution_count": 7,
   "id": "6575aa82-a3c9-4014-a48b-c78ec5f7c9b5",
   "metadata": {},
   "outputs": [],
   "source": [
    "class web_dev:\n",
    "    def syllabus(self):\n",
    "        print(\"this is my syllabus for web dev\")"
   ]
  },
  {
   "cell_type": "code",
   "execution_count": 10,
   "id": "00c09215-cd6f-4bad-924a-817ee7dddf3f",
   "metadata": {},
   "outputs": [],
   "source": [
    "def class_parcer(class_obj):#external function\n",
    "    for i in class_obj:\n",
    "        i.syllabus()"
   ]
  },
  {
   "cell_type": "code",
   "execution_count": 11,
   "id": "3f80a67a-188b-4ef6-ae1f-52738dbbe451",
   "metadata": {},
   "outputs": [],
   "source": [
    "data_science=data_science()"
   ]
  },
  {
   "cell_type": "code",
   "execution_count": 12,
   "id": "c6e55bf2-b6e5-4bb7-9d8f-05505a8f77df",
   "metadata": {},
   "outputs": [],
   "source": [
    "web_dev=web_dev()"
   ]
  },
  {
   "cell_type": "code",
   "execution_count": 13,
   "id": "e438b837-4f02-4584-88ba-b21eed90b578",
   "metadata": {},
   "outputs": [],
   "source": [
    "class_obj=[data_science,web_dev]"
   ]
  },
  {
   "cell_type": "code",
   "execution_count": 14,
   "id": "f270ce5d-e932-4faf-9390-551c4f257e20",
   "metadata": {},
   "outputs": [
    {
     "name": "stdout",
     "output_type": "stream",
     "text": [
      "this is my syllabus for data for data science\n",
      "this is my syllabus for web dev\n"
     ]
    }
   ],
   "source": [
    "class_parcer(class_obj)"
   ]
  },
  {
   "cell_type": "code",
   "execution_count": 15,
   "id": "3e1c6d89-9cb5-455d-9de3-282279a35348",
   "metadata": {},
   "outputs": [],
   "source": [
    "# encapsulation"
   ]
  },
  {
   "cell_type": "code",
   "execution_count": 1,
   "id": "6162935c-f995-4f1b-b388-40083b5ccf87",
   "metadata": {},
   "outputs": [],
   "source": [
    "class test:\n",
    "    \n",
    "    def __init__(self,a,b):\n",
    "        self.a=a\n",
    "        self.b=b\n",
    "        "
   ]
  },
  {
   "cell_type": "code",
   "execution_count": 2,
   "id": "2012a39f-3072-4f55-b4a0-89b5c744c450",
   "metadata": {},
   "outputs": [],
   "source": [
    "t=test(2,3)"
   ]
  },
  {
   "cell_type": "code",
   "execution_count": 3,
   "id": "4664b611-5ff9-4c44-bca3-316466804f3f",
   "metadata": {},
   "outputs": [],
   "source": [
    "t.a=233456 #t.tab key display the internal values of class"
   ]
  },
  {
   "cell_type": "code",
   "execution_count": 4,
   "id": "17503343-2746-4aa5-b332-9edb2883ec1e",
   "metadata": {},
   "outputs": [
    {
     "data": {
      "text/plain": [
       "233456"
      ]
     },
     "execution_count": 4,
     "metadata": {},
     "output_type": "execute_result"
    }
   ],
   "source": [
    "t.a"
   ]
  },
  {
   "cell_type": "code",
   "execution_count": 5,
   "id": "aed561bd-6a5c-4f1f-ae00-1ef91ce90104",
   "metadata": {},
   "outputs": [],
   "source": [
    "#it is not showing 2 but it shows the value which is give externally\n",
    "# so it means we can alter the value easily ouside the class\n",
    "#to overcome this problem(anyone can see the internal structure of the class)\n",
    "#we will use the encapsulate the class"
   ]
  },
  {
   "cell_type": "code",
   "execution_count": 6,
   "id": "44c09896-0c6e-4e1b-8da7-47e5419e7af0",
   "metadata": {},
   "outputs": [],
   "source": [
    "class car:\n",
    "    def __init__(self,year,make,model,speed):\n",
    "        self.__year=year#to hide the values we use double(__)after self.\n",
    "        self.__make=make\n",
    "        self.__model=model\n",
    "        self.__speed=0\n",
    "    "
   ]
  },
  {
   "cell_type": "code",
   "execution_count": 7,
   "id": "2743c71d-51b5-468e-b5ad-93db850c1d41",
   "metadata": {},
   "outputs": [
    {
     "ename": "TypeError",
     "evalue": "car.__init__() missing 4 required positional arguments: 'year', 'make', 'model', and 'speed'",
     "output_type": "error",
     "traceback": [
      "\u001b[0;31m---------------------------------------------------------------------------\u001b[0m",
      "\u001b[0;31mTypeError\u001b[0m                                 Traceback (most recent call last)",
      "Cell \u001b[0;32mIn[7], line 1\u001b[0m\n\u001b[0;32m----> 1\u001b[0m c\u001b[38;5;241m=\u001b[39m\u001b[43mcar\u001b[49m\u001b[43m(\u001b[49m\u001b[43m)\u001b[49m\n",
      "\u001b[0;31mTypeError\u001b[0m: car.__init__() missing 4 required positional arguments: 'year', 'make', 'model', and 'speed'"
     ]
    }
   ],
   "source": [
    "c=car()"
   ]
  },
  {
   "cell_type": "code",
   "execution_count": 8,
   "id": "3572bd0c-967d-46d6-ac08-2dd97b10aa26",
   "metadata": {},
   "outputs": [],
   "source": [
    "c=car(234,\"tie\",\"fhfjf\",12)"
   ]
  },
  {
   "cell_type": "code",
   "execution_count": 9,
   "id": "c6c8db03-1065-46fd-a2ec-bfe11f4b5cbc",
   "metadata": {},
   "outputs": [
    {
     "ename": "AttributeError",
     "evalue": "'car' object has no attribute 'year'",
     "output_type": "error",
     "traceback": [
      "\u001b[0;31m---------------------------------------------------------------------------\u001b[0m",
      "\u001b[0;31mAttributeError\u001b[0m                            Traceback (most recent call last)",
      "Cell \u001b[0;32mIn[9], line 1\u001b[0m\n\u001b[0;32m----> 1\u001b[0m \u001b[43mc\u001b[49m\u001b[38;5;241;43m.\u001b[39;49m\u001b[43myear\u001b[49m\n",
      "\u001b[0;31mAttributeError\u001b[0m: 'car' object has no attribute 'year'"
     ]
    }
   ],
   "source": [
    "c.year"
   ]
  },
  {
   "cell_type": "code",
   "execution_count": 10,
   "id": "f732fa52-86b8-4047-80f4-3fca0bbd14cb",
   "metadata": {},
   "outputs": [
    {
     "ename": "AttributeError",
     "evalue": "'car' object has no attribute '__year'",
     "output_type": "error",
     "traceback": [
      "\u001b[0;31m---------------------------------------------------------------------------\u001b[0m",
      "\u001b[0;31mAttributeError\u001b[0m                            Traceback (most recent call last)",
      "Cell \u001b[0;32mIn[10], line 1\u001b[0m\n\u001b[0;32m----> 1\u001b[0m \u001b[43mc\u001b[49m\u001b[38;5;241;43m.\u001b[39;49m\u001b[43m__year\u001b[49m\n",
      "\u001b[0;31mAttributeError\u001b[0m: 'car' object has no attribute '__year'"
     ]
    }
   ],
   "source": [
    "c.__year"
   ]
  },
  {
   "cell_type": "code",
   "execution_count": 11,
   "id": "89fc77d5-1620-4e1a-b30d-5b043862bfd1",
   "metadata": {},
   "outputs": [
    {
     "data": {
      "text/plain": [
       "234"
      ]
     },
     "execution_count": 11,
     "metadata": {},
     "output_type": "execute_result"
    }
   ],
   "source": [
    "c._car__year"
   ]
  },
  {
   "cell_type": "code",
   "execution_count": 12,
   "id": "c4c04a52-a2b0-41b0-968c-55e8f00ee36e",
   "metadata": {},
   "outputs": [],
   "source": [
    "#so directly user will not able to make modification in it"
   ]
  },
  {
   "cell_type": "code",
   "execution_count": 4,
   "id": "5e7180f3-2630-4b86-90c1-ef9d79f48a43",
   "metadata": {},
   "outputs": [],
   "source": [
    "class car:\n",
    "    def __init__(self,year,make,model,speed):\n",
    "        self.__year=year#to hide the values we use double(__)after self.\n",
    "        self.__make=make\n",
    "        self.__model=model\n",
    "        self.__speed=0\n",
    "        \n",
    "    def set_speed(self,speed):\n",
    "        self.__speed=0 if speed<0 else speed\n",
    "        \n",
    "    def get_speed(self):\n",
    "        return self.__speed   "
   ]
  },
  {
   "cell_type": "code",
   "execution_count": 5,
   "id": "20498bc7-a9a8-45cf-8571-29489cad8022",
   "metadata": {},
   "outputs": [],
   "source": [
    "c=car(234,\"tie\",\"fhfjf\",12)"
   ]
  },
  {
   "cell_type": "code",
   "execution_count": 6,
   "id": "f1962a14-6c7d-43c9-8c2d-e883419e5776",
   "metadata": {},
   "outputs": [
    {
     "ename": "TypeError",
     "evalue": "car.get_speed() takes 1 positional argument but 2 were given",
     "output_type": "error",
     "traceback": [
      "\u001b[0;31m---------------------------------------------------------------------------\u001b[0m",
      "\u001b[0;31mTypeError\u001b[0m                                 Traceback (most recent call last)",
      "Cell \u001b[0;32mIn[6], line 1\u001b[0m\n\u001b[0;32m----> 1\u001b[0m \u001b[43mc\u001b[49m\u001b[38;5;241;43m.\u001b[39;49m\u001b[43mget_speed\u001b[49m\u001b[43m(\u001b[49m\u001b[38;5;241;43m-\u001b[39;49m\u001b[38;5;241;43m2344\u001b[39;49m\u001b[43m)\u001b[49m\n",
      "\u001b[0;31mTypeError\u001b[0m: car.get_speed() takes 1 positional argument but 2 were given"
     ]
    }
   ],
   "source": [
    "c.get_speed(-2344)***********\n"
   ]
  },
  {
   "cell_type": "code",
   "execution_count": 7,
   "id": "5978c6d4-8f90-4e49-8a00-e9dfedff5768",
   "metadata": {},
   "outputs": [
    {
     "data": {
      "text/plain": [
       "0"
      ]
     },
     "execution_count": 7,
     "metadata": {},
     "output_type": "execute_result"
    }
   ],
   "source": [
    "c.get_speed()\n",
    "\n"
   ]
  },
  {
   "cell_type": "code",
   "execution_count": 8,
   "id": "d77b95eb-1c02-48bd-9a79-569a900624df",
   "metadata": {},
   "outputs": [
    {
     "ename": "TypeError",
     "evalue": "car.get_speed() takes 1 positional argument but 2 were given",
     "output_type": "error",
     "traceback": [
      "\u001b[0;31m---------------------------------------------------------------------------\u001b[0m",
      "\u001b[0;31mTypeError\u001b[0m                                 Traceback (most recent call last)",
      "Cell \u001b[0;32mIn[8], line 1\u001b[0m\n\u001b[0;32m----> 1\u001b[0m \u001b[43mc\u001b[49m\u001b[38;5;241;43m.\u001b[39;49m\u001b[43mget_speed\u001b[49m\u001b[43m(\u001b[49m\u001b[38;5;241;43m234\u001b[39;49m\u001b[43m)\u001b[49m\n",
      "\u001b[0;31mTypeError\u001b[0m: car.get_speed() takes 1 positional argument but 2 were given"
     ]
    }
   ],
   "source": [
    "c.get_speed(234)\n"
   ]
  },
  {
   "cell_type": "code",
   "execution_count": null,
   "id": "90f14cfe-d847-4bb2-b33b-b0219e019aff",
   "metadata": {},
   "outputs": [],
   "source": [
    "#\n"
   ]
  },
  {
   "cell_type": "code",
   "execution_count": 9,
   "id": "d8806834-d53d-4f5a-a3f7-1a23e8221fd3",
   "metadata": {},
   "outputs": [],
   "source": [
    "class bank_account:\n",
    "    def __init__(self,balance):\n",
    "        self.__balance=balance\n",
    "        \n",
    "    def deposit(self,amount):\n",
    "        self.__balance=self.__balance+amount\n",
    "        \n",
    "    def withdraw(self,amount):\n",
    "        if self.__balance>=amount:\n",
    "            self.__balance=self.__balance-amount\n",
    "            return True\n",
    "        else:\n",
    "            return False\n",
    "    def get_balance(self):\n",
    "        return self.__balance"
   ]
  },
  {
   "cell_type": "code",
   "execution_count": 10,
   "id": "f5a1fcbf-fa49-4244-8910-fdc855934031",
   "metadata": {},
   "outputs": [
    {
     "ename": "TypeError",
     "evalue": "bank_account.__init__() missing 1 required positional argument: 'balance'",
     "output_type": "error",
     "traceback": [
      "\u001b[0;31m---------------------------------------------------------------------------\u001b[0m",
      "\u001b[0;31mTypeError\u001b[0m                                 Traceback (most recent call last)",
      "Cell \u001b[0;32mIn[10], line 1\u001b[0m\n\u001b[0;32m----> 1\u001b[0m sudh\u001b[38;5;241m=\u001b[39m\u001b[43mbank_account\u001b[49m\u001b[43m(\u001b[49m\u001b[43m)\u001b[49m\n",
      "\u001b[0;31mTypeError\u001b[0m: bank_account.__init__() missing 1 required positional argument: 'balance'"
     ]
    }
   ],
   "source": [
    "sudh=bank_account()"
   ]
  },
  {
   "cell_type": "code",
   "execution_count": 11,
   "id": "66af41e0-9b0b-48e0-84d2-1dd5a74706d9",
   "metadata": {},
   "outputs": [],
   "source": [
    "sudh=bank_account(1000)\n",
    "\n"
   ]
  },
  {
   "cell_type": "code",
   "execution_count": 12,
   "id": "2a663952-2ac9-47fe-add4-83740a090c6d",
   "metadata": {},
   "outputs": [
    {
     "data": {
      "text/plain": [
       "1000"
      ]
     },
     "execution_count": 12,
     "metadata": {},
     "output_type": "execute_result"
    }
   ],
   "source": [
    "sudh.get_balance()\n"
   ]
  },
  {
   "cell_type": "code",
   "execution_count": 13,
   "id": "007af80c-fab4-4192-ba7b-4095674c75a3",
   "metadata": {},
   "outputs": [],
   "source": [
    "sudh.deposit(5000)"
   ]
  },
  {
   "cell_type": "code",
   "execution_count": 14,
   "id": "b24a5f99-b7e6-49b8-bad0-18cb1bc251e5",
   "metadata": {},
   "outputs": [
    {
     "data": {
      "text/plain": [
       "6000"
      ]
     },
     "execution_count": 14,
     "metadata": {},
     "output_type": "execute_result"
    }
   ],
   "source": [
    "sudh.get_balance()"
   ]
  },
  {
   "cell_type": "code",
   "execution_count": 17,
   "id": "4f63b464-a597-45c7-8c86-fe433f6d296b",
   "metadata": {},
   "outputs": [],
   "source": [
    "sudh.deposit(6000)"
   ]
  },
  {
   "cell_type": "code",
   "execution_count": 18,
   "id": "80a9a937-4fad-4ba1-b003-c4b7e859be6a",
   "metadata": {},
   "outputs": [
    {
     "data": {
      "text/plain": [
       "19000"
      ]
     },
     "execution_count": 18,
     "metadata": {},
     "output_type": "execute_result"
    }
   ],
   "source": [
    "sudh.get_balance()\n"
   ]
  },
  {
   "cell_type": "code",
   "execution_count": 19,
   "id": "0ee1111d-ca80-4f69-b2d6-56a516eac0ce",
   "metadata": {},
   "outputs": [
    {
     "data": {
      "text/plain": [
       "False"
      ]
     },
     "execution_count": 19,
     "metadata": {},
     "output_type": "execute_result"
    }
   ],
   "source": [
    "sudh.withdraw(20000)"
   ]
  },
  {
   "cell_type": "code",
   "execution_count": 20,
   "id": "8e29b9d4-d59c-442f-827c-531c6816ac24",
   "metadata": {},
   "outputs": [
    {
     "data": {
      "text/plain": [
       "True"
      ]
     },
     "execution_count": 20,
     "metadata": {},
     "output_type": "execute_result"
    }
   ],
   "source": [
    "sudh.withdraw(19000)"
   ]
  },
  {
   "cell_type": "code",
   "execution_count": 21,
   "id": "dc6212a5-53c3-4a5f-aafd-a0999d4063d6",
   "metadata": {},
   "outputs": [
    {
     "data": {
      "text/plain": [
       "0"
      ]
     },
     "execution_count": 21,
     "metadata": {},
     "output_type": "execute_result"
    }
   ],
   "source": [
    "sudh.get_balance()\n"
   ]
  },
  {
   "cell_type": "code",
   "execution_count": 22,
   "id": "fd626644-3af5-47e6-bf3b-006e6352a942",
   "metadata": {},
   "outputs": [],
   "source": [
    "# inheritance"
   ]
  },
  {
   "cell_type": "code",
   "execution_count": 23,
   "id": "c5a60fc3-791c-434e-adba-b9ce7884a41f",
   "metadata": {},
   "outputs": [],
   "source": [
    "class test:                         #parent class\n",
    "    def test_meth(self):\n",
    "        return \"this is my first class\"\n",
    "    \n",
    "    "
   ]
  },
  {
   "cell_type": "code",
   "execution_count": 24,
   "id": "0ab3a8cf-e778-46e6-8f84-48fa27c854a8",
   "metadata": {},
   "outputs": [],
   "source": [
    "class child_test(test):             #child class\n",
    "    pass"
   ]
  },
  {
   "cell_type": "code",
   "execution_count": 25,
   "id": "72abb49e-131b-4d35-ae75-7fa10828ac55",
   "metadata": {},
   "outputs": [],
   "source": [
    "child_test_obj=child_test()\n"
   ]
  },
  {
   "cell_type": "code",
   "execution_count": 26,
   "id": "44d22767-c4f8-4dc9-80a0-4402e4418607",
   "metadata": {},
   "outputs": [
    {
     "data": {
      "text/plain": [
       "'this is my first class'"
      ]
     },
     "execution_count": 26,
     "metadata": {},
     "output_type": "execute_result"
    }
   ],
   "source": [
    "child_test_obj.test_meth()\n"
   ]
  },
  {
   "cell_type": "code",
   "execution_count": 1,
   "id": "7e98c8a7-5644-4ac2-912b-5f1c8baf3acc",
   "metadata": {},
   "outputs": [],
   "source": [
    "#multilable inheritance"
   ]
  },
  {
   "cell_type": "code",
   "execution_count": 3,
   "id": "580f334d-988b-4300-bc6b-da3cf5368a79",
   "metadata": {},
   "outputs": [],
   "source": [
    "class class1:\n",
    "    def test_class1(self):\n",
    "        return \"this is a method from class1\""
   ]
  },
  {
   "cell_type": "code",
   "execution_count": 4,
   "id": "c74ca96d-ca5b-4d35-b94f-2f665edb6a72",
   "metadata": {},
   "outputs": [],
   "source": [
    "class class2(class1):\n",
    "    def test_class2(self):\n",
    "        return \"this is method from class2\""
   ]
  },
  {
   "cell_type": "code",
   "execution_count": 5,
   "id": "649b97b3-ccc7-450c-8400-abdaedaa11b2",
   "metadata": {},
   "outputs": [],
   "source": [
    "class class3(class2):\n",
    "    pass"
   ]
  },
  {
   "cell_type": "code",
   "execution_count": 6,
   "id": "89d7a566-2c97-456d-83cf-e3f4da86305d",
   "metadata": {},
   "outputs": [],
   "source": [
    "obj_class3=class3()"
   ]
  },
  {
   "cell_type": "code",
   "execution_count": 7,
   "id": "c46e41a7-1706-46be-a716-75ac09ec7cb8",
   "metadata": {},
   "outputs": [
    {
     "data": {
      "text/plain": [
       "'this is a method from class1'"
      ]
     },
     "execution_count": 7,
     "metadata": {},
     "output_type": "execute_result"
    }
   ],
   "source": [
    "obj_class3.test_class1()"
   ]
  },
  {
   "cell_type": "code",
   "execution_count": 9,
   "id": "64767182-8f17-452e-b7fa-4a8a011aee4d",
   "metadata": {},
   "outputs": [
    {
     "data": {
      "text/plain": [
       "'this is method from class2'"
      ]
     },
     "execution_count": 9,
     "metadata": {},
     "output_type": "execute_result"
    }
   ],
   "source": [
    "obj_class3.test_class2()"
   ]
  },
  {
   "cell_type": "code",
   "execution_count": 10,
   "id": "6b12afcb-2c7c-4951-b6c3-1b379fcd9c4c",
   "metadata": {},
   "outputs": [],
   "source": [
    "#multiple inheretence"
   ]
  },
  {
   "cell_type": "code",
   "execution_count": 11,
   "id": "e0be3461-f021-43cf-99d7-3257b8ea2778",
   "metadata": {},
   "outputs": [],
   "source": [
    "class class1:\n",
    "    def test_class1(self):\n",
    "        return\"this is a class1\""
   ]
  },
  {
   "cell_type": "code",
   "execution_count": 12,
   "id": "829aaa9c-8172-463d-9ce4-36e3f533d042",
   "metadata": {},
   "outputs": [],
   "source": [
    "class class2:\n",
    "    def test_class2(self):\n",
    "        return\"this is a class2\""
   ]
  },
  {
   "cell_type": "code",
   "execution_count": 13,
   "id": "09a9bd65-f39a-4417-aaaf-69eb777ceb6b",
   "metadata": {},
   "outputs": [],
   "source": [
    "class class3(class1,class2):\n",
    "    pass"
   ]
  },
  {
   "cell_type": "code",
   "execution_count": 14,
   "id": "0d69f1af-d425-411a-b8cc-758a956d5164",
   "metadata": {},
   "outputs": [],
   "source": [
    "obj_class3=class3()"
   ]
  },
  {
   "cell_type": "code",
   "execution_count": 15,
   "id": "54b38281-b7fb-4baa-981f-142c034e34fc",
   "metadata": {},
   "outputs": [
    {
     "data": {
      "text/plain": [
       "'this is a class1'"
      ]
     },
     "execution_count": 15,
     "metadata": {},
     "output_type": "execute_result"
    }
   ],
   "source": [
    "obj_class3.test_class1()"
   ]
  },
  {
   "cell_type": "code",
   "execution_count": 16,
   "id": "691c9f4f-855b-4dd7-b5b5-25c6ad77ab7d",
   "metadata": {},
   "outputs": [
    {
     "data": {
      "text/plain": [
       "'this is a class2'"
      ]
     },
     "execution_count": 16,
     "metadata": {},
     "output_type": "execute_result"
    }
   ],
   "source": [
    "obj_class3.test_class2()"
   ]
  },
  {
   "cell_type": "code",
   "execution_count": null,
   "id": "eff7ef40-1d90-4ac0-9dfb-2f59e3ccf8b3",
   "metadata": {},
   "outputs": [],
   "source": []
  }
 ],
 "metadata": {
  "kernelspec": {
   "display_name": "Python 3 (ipykernel)",
   "language": "python",
   "name": "python3"
  },
  "language_info": {
   "codemirror_mode": {
    "name": "ipython",
    "version": 3
   },
   "file_extension": ".py",
   "mimetype": "text/x-python",
   "name": "python",
   "nbconvert_exporter": "python",
   "pygments_lexer": "ipython3",
   "version": "3.10.8"
  }
 },
 "nbformat": 4,
 "nbformat_minor": 5
}
