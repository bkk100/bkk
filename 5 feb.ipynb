{
 "cells": [
  {
   "cell_type": "code",
   "execution_count": 2,
   "id": "dccac210-ebf4-4500-acfe-0f8e856222e1",
   "metadata": {},
   "outputs": [],
   "source": [
    "#opps programming(object oriented programming system)"
   ]
  },
  {
   "cell_type": "code",
   "execution_count": 3,
   "id": "c3d65ff7-55bd-4547-bd75-1d03ce05afcd",
   "metadata": {},
   "outputs": [],
   "source": [
    "a=1"
   ]
  },
  {
   "cell_type": "code",
   "execution_count": 4,
   "id": "157cb644-aa6d-45e6-a89e-da1f8962dc6d",
   "metadata": {},
   "outputs": [
    {
     "name": "stdout",
     "output_type": "stream",
     "text": [
      "<class 'int'>\n"
     ]
    }
   ],
   "source": [
    "print(type(a))"
   ]
  },
  {
   "cell_type": "code",
   "execution_count": 5,
   "id": "546bb637-493f-4d27-9ff2-75c0ddc4622c",
   "metadata": {},
   "outputs": [
    {
     "name": "stdout",
     "output_type": "stream",
     "text": [
      "<class 'str'>\n"
     ]
    }
   ],
   "source": [
    "print(type(\"pwskills\"))"
   ]
  },
  {
   "cell_type": "code",
   "execution_count": 6,
   "id": "d4da3230-8b17-4a20-ae9e-2f38d447d296",
   "metadata": {},
   "outputs": [],
   "source": [
    "#ways by which class is defined in python"
   ]
  },
  {
   "cell_type": "code",
   "execution_count": 8,
   "id": "29dbb74e-9dbe-4fb5-b9cf-da2d5df6639d",
   "metadata": {},
   "outputs": [],
   "source": [
    "class test:\n",
    "    pass"
   ]
  },
  {
   "cell_type": "code",
   "execution_count": 9,
   "id": "f7dfeeb2-8d06-4934-8016-284831e9dc9a",
   "metadata": {},
   "outputs": [],
   "source": [
    "a=test()"
   ]
  },
  {
   "cell_type": "code",
   "execution_count": 10,
   "id": "6e57e348-f882-41ce-b962-2a412562de25",
   "metadata": {},
   "outputs": [
    {
     "data": {
      "text/plain": [
       "__main__.test"
      ]
     },
     "execution_count": 10,
     "metadata": {},
     "output_type": "execute_result"
    }
   ],
   "source": [
    "type(a)"
   ]
  },
  {
   "cell_type": "code",
   "execution_count": 11,
   "id": "93c9b4d8-b986-4e65-92cc-badd6d772654",
   "metadata": {},
   "outputs": [
    {
     "name": "stdout",
     "output_type": "stream",
     "text": [
      "<class '__main__.test'>\n"
     ]
    }
   ],
   "source": [
    "print(type(a))"
   ]
  },
  {
   "cell_type": "code",
   "execution_count": 1,
   "id": "ef259c8d-4ba9-441c-a6d5-21af4b3421c7",
   "metadata": {},
   "outputs": [],
   "source": [
    "class pwskills:\n",
    "    def welcome_msg():\n",
    "        print(\"welcome to pwkills\")\n",
    "        \n",
    "        "
   ]
  },
  {
   "cell_type": "code",
   "execution_count": 2,
   "id": "1da75900-d39e-429b-8256-41e28e335dcc",
   "metadata": {},
   "outputs": [],
   "source": [
    "rohan=pwskills()# where rohan is object is important for object"
   ]
  },
  {
   "cell_type": "code",
   "execution_count": 3,
   "id": "08011275-7a96-4e0a-b51c-6ed2ca99bf1c",
   "metadata": {},
   "outputs": [
    {
     "name": "stdout",
     "output_type": "stream",
     "text": [
      "<class '__main__.pwskills'>\n"
     ]
    }
   ],
   "source": [
    "print(type(rohan))"
   ]
  },
  {
   "cell_type": "code",
   "execution_count": 4,
   "id": "8eb65c25-db12-4ea1-8b97-1bd97e047917",
   "metadata": {},
   "outputs": [
    {
     "ename": "TypeError",
     "evalue": "pwskills.welcome_msg() takes 0 positional arguments but 1 was given",
     "output_type": "error",
     "traceback": [
      "\u001b[0;31m---------------------------------------------------------------------------\u001b[0m",
      "\u001b[0;31mTypeError\u001b[0m                                 Traceback (most recent call last)",
      "Cell \u001b[0;32mIn[4], line 1\u001b[0m\n\u001b[0;32m----> 1\u001b[0m \u001b[43mrohan\u001b[49m\u001b[38;5;241;43m.\u001b[39;49m\u001b[43mwelcome_msg\u001b[49m\u001b[43m(\u001b[49m\u001b[43m)\u001b[49m\n",
      "\u001b[0;31mTypeError\u001b[0m: pwskills.welcome_msg() takes 0 positional arguments but 1 was given"
     ]
    }
   ],
   "source": [
    "rohan.welcome_msg()"
   ]
  },
  {
   "cell_type": "code",
   "execution_count": 31,
   "id": "d22ece2c-bcd6-4926-9dbb-d256fdd21443",
   "metadata": {},
   "outputs": [],
   "source": [
    "#so it is important to bind the syntax with class"
   ]
  },
  {
   "cell_type": "code",
   "execution_count": 32,
   "id": "935a2733-78e6-4e4e-b386-9d9270239b32",
   "metadata": {},
   "outputs": [],
   "source": [
    "class pwskills:\n",
    "    def welcome_msg(self):#self is used to link with the class\n",
    "        print(\"welcome to pwkills\")\n",
    "        "
   ]
  },
  {
   "cell_type": "code",
   "execution_count": 33,
   "id": "1b329f6e-4821-41b0-8730-6de6f9f38853",
   "metadata": {},
   "outputs": [],
   "source": [
    "rohan=pwskills()"
   ]
  },
  {
   "cell_type": "code",
   "execution_count": 34,
   "id": "ae2463ad-f005-447b-8e0d-f6e24e8a04a6",
   "metadata": {},
   "outputs": [
    {
     "name": "stdout",
     "output_type": "stream",
     "text": [
      "<class '__main__.pwskills'>\n"
     ]
    }
   ],
   "source": [
    "print(type(rohan))"
   ]
  },
  {
   "cell_type": "code",
   "execution_count": 35,
   "id": "c472b412-4faa-4d7a-a599-cf92e8e999da",
   "metadata": {},
   "outputs": [
    {
     "name": "stdout",
     "output_type": "stream",
     "text": [
      "welcome to pwkills\n"
     ]
    }
   ],
   "source": [
    "rohan.welcome_msg()"
   ]
  },
  {
   "cell_type": "code",
   "execution_count": 36,
   "id": "077b33c9-8f34-41c1-b62c-5c203a19600b",
   "metadata": {},
   "outputs": [],
   "source": [
    "# or"
   ]
  },
  {
   "cell_type": "code",
   "execution_count": 37,
   "id": "064aa424-1aa2-431b-8ec2-abd38fa36fe0",
   "metadata": {},
   "outputs": [],
   "source": [
    "bhupesh=pwskills()\n"
   ]
  },
  {
   "cell_type": "code",
   "execution_count": 38,
   "id": "2e65a99b-594e-4253-bf36-dd43b07fed42",
   "metadata": {},
   "outputs": [
    {
     "name": "stdout",
     "output_type": "stream",
     "text": [
      "welcome to pwkills\n"
     ]
    }
   ],
   "source": [
    "bhupesh.welcome_msg()"
   ]
  },
  {
   "cell_type": "code",
   "execution_count": 21,
   "id": "05aca846-252f-497c-ba35-3f2b99a2406c",
   "metadata": {},
   "outputs": [],
   "source": [
    "class pwskills1:\n",
    "    \n",
    "    def __init__(self,phone_number,email_id,student_id): #where _init_ is a constructor which used to pass different data when objects are made \n",
    "        self.phone_number=phone_number\n",
    "        self.email_id=email_id\n",
    "        self.student_id=student_id\n",
    "        \n",
    "    def return_student_details(self):\n",
    "        return self.student_id,self.phone_number,self.email_id\n",
    "    \n",
    "    "
   ]
  },
  {
   "cell_type": "code",
   "execution_count": null,
   "id": "0a73c7c0-ebf5-45cb-8430-8195004ff51f",
   "metadata": {},
   "outputs": [],
   "source": []
  },
  {
   "cell_type": "code",
   "execution_count": 22,
   "id": "5b353d53-b314-40a3-a4f5-e5fc1c418cdf",
   "metadata": {},
   "outputs": [
    {
     "ename": "TypeError",
     "evalue": "pwskills1.__init__() missing 3 required positional arguments: 'phone_number', 'email_id', and 'student_id'",
     "output_type": "error",
     "traceback": [
      "\u001b[0;31m---------------------------------------------------------------------------\u001b[0m",
      "\u001b[0;31mTypeError\u001b[0m                                 Traceback (most recent call last)",
      "Cell \u001b[0;32mIn[22], line 1\u001b[0m\n\u001b[0;32m----> 1\u001b[0m bkk\u001b[38;5;241m=\u001b[39m\u001b[43mpwskills1\u001b[49m\u001b[43m(\u001b[49m\u001b[43m)\u001b[49m\n",
      "\u001b[0;31mTypeError\u001b[0m: pwskills1.__init__() missing 3 required positional arguments: 'phone_number', 'email_id', and 'student_id'"
     ]
    }
   ],
   "source": [
    "\n",
    "bkk=pwskills1()\n"
   ]
  },
  {
   "cell_type": "code",
   "execution_count": 23,
   "id": "838ba937-acf4-4cf4-ab50-04e2e2e4adb2",
   "metadata": {},
   "outputs": [],
   "source": [
    "\n",
    "bkk=pwskills1(1222222,\"bhupesh@gmail.com\",101)"
   ]
  },
  {
   "cell_type": "code",
   "execution_count": 24,
   "id": "03d1e317-1a42-45ed-b90e-dc760d937ef4",
   "metadata": {},
   "outputs": [
    {
     "data": {
      "text/plain": [
       "<__main__.pwskills1 at 0x7f25381de680>"
      ]
     },
     "execution_count": 24,
     "metadata": {},
     "output_type": "execute_result"
    }
   ],
   "source": [
    "bkk"
   ]
  },
  {
   "cell_type": "code",
   "execution_count": 25,
   "id": "3a27f5ae-65cf-43c2-9639-fe88a08efa55",
   "metadata": {},
   "outputs": [
    {
     "data": {
      "text/plain": [
       "(101, 1222222, 'bhupesh@gmail.com')"
      ]
     },
     "execution_count": 25,
     "metadata": {},
     "output_type": "execute_result"
    }
   ],
   "source": [
    "bkk.return_student_details()"
   ]
  },
  {
   "cell_type": "code",
   "execution_count": 27,
   "id": "85fae8fe-7919-4652-9c47-be75ec58dff8",
   "metadata": {},
   "outputs": [
    {
     "data": {
      "text/plain": [
       "'bhupesh@gmail.com'"
      ]
     },
     "execution_count": 27,
     "metadata": {},
     "output_type": "execute_result"
    }
   ],
   "source": [
    "bkk.email_id"
   ]
  },
  {
   "cell_type": "code",
   "execution_count": 28,
   "id": "cd1a974b-e60f-41bc-848f-5784bd5ff16a",
   "metadata": {},
   "outputs": [],
   "source": [
    "gaurav=pwskills1(123456,\"gav@gmail.com\",123)"
   ]
  },
  {
   "cell_type": "code",
   "execution_count": 29,
   "id": "6100e70b-1aec-4377-8ea6-4775ad556cd8",
   "metadata": {},
   "outputs": [
    {
     "data": {
      "text/plain": [
       "<bound method pwskills1.return_student_details of <__main__.pwskills1 object at 0x7f2539ca24d0>>"
      ]
     },
     "execution_count": 29,
     "metadata": {},
     "output_type": "execute_result"
    }
   ],
   "source": [
    "gaurav.return_student_details\n",
    "\n"
   ]
  },
  {
   "cell_type": "code",
   "execution_count": 30,
   "id": "ce7e3008-31f2-4fc5-a13f-3f83b77291d5",
   "metadata": {},
   "outputs": [],
   "source": [
    "class pwskills2:\n",
    "    \n",
    "    def __init__(self,phone_number,email_id,student_id): #where _init_ is a constructor which used to pass different data when objects are made \n",
    "        self.phone_number1=phone_number\n",
    "        self.email_id1=email_id\n",
    "        self.student_id1=student_id\n",
    "        \n",
    "    def return_student_details(self):\n",
    "        return self.student_id1,self.phone_number1,self.email_id1\n",
    "    \n",
    "    "
   ]
  },
  {
   "cell_type": "code",
   "execution_count": 31,
   "id": "78d9f84b-374d-482a-9630-b7daf6fb52fc",
   "metadata": {},
   "outputs": [],
   "source": [
    "sudh=pwskills2(123456789,\"bkk@gmail.com\",102)"
   ]
  },
  {
   "cell_type": "code",
   "execution_count": 32,
   "id": "2f38c654-1c87-419d-a328-ac4f57fe3b75",
   "metadata": {},
   "outputs": [
    {
     "ename": "AttributeError",
     "evalue": "'pwskills2' object has no attribute 'phone_number'",
     "output_type": "error",
     "traceback": [
      "\u001b[0;31m---------------------------------------------------------------------------\u001b[0m",
      "\u001b[0;31mAttributeError\u001b[0m                            Traceback (most recent call last)",
      "Cell \u001b[0;32mIn[32], line 1\u001b[0m\n\u001b[0;32m----> 1\u001b[0m \u001b[43msudh\u001b[49m\u001b[38;5;241;43m.\u001b[39;49m\u001b[43mphone_number\u001b[49m\n",
      "\u001b[0;31mAttributeError\u001b[0m: 'pwskills2' object has no attribute 'phone_number'"
     ]
    }
   ],
   "source": [
    "sudh.phone_number"
   ]
  },
  {
   "cell_type": "code",
   "execution_count": 33,
   "id": "3126735b-ea26-4933-b96a-77dada5fcfbd",
   "metadata": {},
   "outputs": [
    {
     "data": {
      "text/plain": [
       "123456789"
      ]
     },
     "execution_count": 33,
     "metadata": {},
     "output_type": "execute_result"
    }
   ],
   "source": [
    "sudh.phone_number1"
   ]
  },
  {
   "cell_type": "code",
   "execution_count": 35,
   "id": "357103a8-77ae-4be7-8434-64c6a8225c2f",
   "metadata": {},
   "outputs": [
    {
     "data": {
      "text/plain": [
       "<bound method pwskills2.return_student_details of <__main__.pwskills2 object at 0x7f253816dab0>>"
      ]
     },
     "execution_count": 35,
     "metadata": {},
     "output_type": "execute_result"
    }
   ],
   "source": [
    "sudh.return_student_details"
   ]
  },
  {
   "cell_type": "code",
   "execution_count": null,
   "id": "b0cc1a65-0a05-425c-8125-2c021fde5650",
   "metadata": {},
   "outputs": [],
   "source": [
    "#self is not a reserved keyword"
   ]
  },
  {
   "cell_type": "code",
   "execution_count": 43,
   "id": "c7eb1a18-9113-4cb7-92bb-deb23da7bc96",
   "metadata": {},
   "outputs": [],
   "source": [
    "class pwskills1:\n",
    "    \n",
    "    def __init__(bkk,phone_number,email_id,student_id): #where _init_ is a constructor which used to pass different data when objects are made \n",
    "        bkk.phone_number=phone_number\n",
    "        bkk.email_id=email_id\n",
    "        bkk.student_id=student_id\n",
    "        \n",
    "    def return_student_details(bkk):\n",
    "        return bkk.student_id,bkk.phone_number,bkk.email_id\n",
    "    \n",
    "    "
   ]
  },
  {
   "cell_type": "code",
   "execution_count": 44,
   "id": "045db28c-851b-4169-91a9-ddb5a4794657",
   "metadata": {},
   "outputs": [],
   "source": [
    "sujit=pwskills1(12345,\"cddf@gmail.com\",123)\n"
   ]
  },
  {
   "cell_type": "code",
   "execution_count": 45,
   "id": "73da63ab-c7ee-436e-b4ae-9926700043d6",
   "metadata": {},
   "outputs": [
    {
     "data": {
      "text/plain": [
       "'cddf@gmail.com'"
      ]
     },
     "execution_count": 45,
     "metadata": {},
     "output_type": "execute_result"
    }
   ],
   "source": [
    "sujit.email_id"
   ]
  },
  {
   "cell_type": "code",
   "execution_count": null,
   "id": "aa48d5b5-99f1-4f50-8601-4b8ccc590118",
   "metadata": {},
   "outputs": [],
   "source": []
  }
 ],
 "metadata": {
  "kernelspec": {
   "display_name": "Python 3 (ipykernel)",
   "language": "python",
   "name": "python3"
  },
  "language_info": {
   "codemirror_mode": {
    "name": "ipython",
    "version": 3
   },
   "file_extension": ".py",
   "mimetype": "text/x-python",
   "name": "python",
   "nbconvert_exporter": "python",
   "pygments_lexer": "ipython3",
   "version": "3.10.8"
  }
 },
 "nbformat": 4,
 "nbformat_minor": 5
}
