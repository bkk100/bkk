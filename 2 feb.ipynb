{
 "cells": [
  {
   "cell_type": "code",
   "execution_count": 1,
   "id": "37d4430f-8f7f-4051-850b-3578d7697c4f",
   "metadata": {},
   "outputs": [],
   "source": [
    "l=[1,2,3,4,5]"
   ]
  },
  {
   "cell_type": "code",
   "execution_count": 2,
   "id": "d6a1d06f-0e3a-4c2b-9d57-853dd5274362",
   "metadata": {},
   "outputs": [
    {
     "name": "stdout",
     "output_type": "stream",
     "text": [
      "1 <class 'int'>\n",
      "2 <class 'int'>\n",
      "3 <class 'int'>\n",
      "4 <class 'int'>\n",
      "5 <class 'int'>\n"
     ]
    }
   ],
   "source": [
    "for i in l:\n",
    "    print(i,type(i))"
   ]
  },
  {
   "cell_type": "code",
   "execution_count": 3,
   "id": "61dd158f-294e-4dfa-a37e-d20da32382f4",
   "metadata": {},
   "outputs": [],
   "source": [
    "l1=[\"sudh\",\"kumar\",\"krish\",\"naik\"]"
   ]
  },
  {
   "cell_type": "code",
   "execution_count": 4,
   "id": "94062bf4-f5d9-4353-b719-7128e93b3e9c",
   "metadata": {},
   "outputs": [
    {
     "name": "stdout",
     "output_type": "stream",
     "text": [
      "sudh\n",
      "kumar\n",
      "krish\n",
      "naik\n"
     ]
    }
   ],
   "source": [
    "for i in l1:\n",
    "    print(i)"
   ]
  },
  {
   "cell_type": "code",
   "execution_count": 5,
   "id": "2630e5c6-faad-49fe-8cc7-3cbbf0fa739f",
   "metadata": {},
   "outputs": [
    {
     "data": {
      "text/plain": [
       "['sudh', 'kumar', 'krish', 'naik']"
      ]
     },
     "execution_count": 5,
     "metadata": {},
     "output_type": "execute_result"
    }
   ],
   "source": [
    "l1"
   ]
  },
  {
   "cell_type": "code",
   "execution_count": 6,
   "id": "84a7eb3e-bcd3-413f-b479-24a3ef92f553",
   "metadata": {},
   "outputs": [
    {
     "name": "stdout",
     "output_type": "stream",
     "text": [
      "sudh\n",
      "kumar\n",
      "krish\n",
      "naik\n",
      "if for loop is able to complete itself then only else will execute\n"
     ]
    }
   ],
   "source": [
    "for i in l1:\n",
    "    print(i)\n",
    "else:\n",
    "    print(\"if for loop is able to complete itself then only else will execute\")"
   ]
  },
  {
   "cell_type": "code",
   "execution_count": 7,
   "id": "bb177292-0688-45c1-b046-8a1da643dd7a",
   "metadata": {},
   "outputs": [],
   "source": [
    "# where else loop will not in use"
   ]
  },
  {
   "cell_type": "code",
   "execution_count": 8,
   "id": "766e7afd-42d1-40bc-8341-761b1c81d8e1",
   "metadata": {},
   "outputs": [
    {
     "name": "stdout",
     "output_type": "stream",
     "text": [
      "sudh\n",
      "kumar\n"
     ]
    }
   ],
   "source": [
    "for i in l1:\n",
    "    if i==\"krish\":\n",
    "        break# it will stop the loop\n",
    "    print(i)"
   ]
  },
  {
   "cell_type": "code",
   "execution_count": 9,
   "id": "5489d88b-b869-4cf8-9023-a3c8410b9bd1",
   "metadata": {},
   "outputs": [],
   "source": [
    "#else loop will only be executed when for loop will be complete atleast its one revolution"
   ]
  },
  {
   "cell_type": "code",
   "execution_count": 10,
   "id": "8e197e4f-f060-4e45-8b63-30288a9398a4",
   "metadata": {},
   "outputs": [
    {
     "name": "stdout",
     "output_type": "stream",
     "text": [
      "sudh\n"
     ]
    }
   ],
   "source": [
    "for i in l1:\n",
    "    if i==\"kumar\":\n",
    "        break\n",
    "    print(i)\n",
    "else:\n",
    "    print(\"execute this if for loop is able to complete itself\")\n"
   ]
  },
  {
   "cell_type": "code",
   "execution_count": 11,
   "id": "648c6ea3-a810-4765-9bf1-acbfb972c0fd",
   "metadata": {},
   "outputs": [
    {
     "data": {
      "text/plain": [
       "['sudh', 'kumar', 'krish', 'naik']"
      ]
     },
     "execution_count": 11,
     "metadata": {},
     "output_type": "execute_result"
    }
   ],
   "source": [
    "l1"
   ]
  },
  {
   "cell_type": "code",
   "execution_count": 12,
   "id": "14eab19a-f44c-44d1-982a-1a291274caf8",
   "metadata": {},
   "outputs": [
    {
     "name": "stdout",
     "output_type": "stream",
     "text": [
      "sudh\n",
      "krish\n",
      "naik\n"
     ]
    }
   ],
   "source": [
    "for i in l1:\n",
    "    if i ==\"kumar\":\n",
    "        continue\n",
    "    print(i)"
   ]
  },
  {
   "cell_type": "code",
   "execution_count": 17,
   "id": "46a25c92-aa95-46b1-a74e-ebb03d993605",
   "metadata": {},
   "outputs": [],
   "source": [
    "# why kumar is not come\n",
    "# this is because print in written parallel to if and it is also written continue"
   ]
  },
  {
   "cell_type": "code",
   "execution_count": null,
   "id": "514400c9-2667-4dcf-91e6-d44e5bae1a37",
   "metadata": {},
   "outputs": [],
   "source": []
  },
  {
   "cell_type": "code",
   "execution_count": 18,
   "id": "141ae483-82e1-48f9-8b68-6f707d5df2c1",
   "metadata": {},
   "outputs": [
    {
     "name": "stdout",
     "output_type": "stream",
     "text": [
      "sudh\n",
      "krish\n",
      "naik\n",
      "execute this if for loop is able to complete itself\n"
     ]
    }
   ],
   "source": [
    "for i in l1:\n",
    "    if i==\"kumar\":\n",
    "        continue\n",
    "        \n",
    "    print(i)\n",
    "else:\n",
    "    print(\"execute this if for loop is able to complete itself\")\n"
   ]
  },
  {
   "cell_type": "code",
   "execution_count": 19,
   "id": "5c4d9966-3431-460f-97f1-71c47af222ec",
   "metadata": {},
   "outputs": [
    {
     "ename": "TypeError",
     "evalue": "range expected at least 1 argument, got 0",
     "output_type": "error",
     "traceback": [
      "\u001b[0;31m---------------------------------------------------------------------------\u001b[0m",
      "\u001b[0;31mTypeError\u001b[0m                                 Traceback (most recent call last)",
      "Cell \u001b[0;32mIn[19], line 1\u001b[0m\n\u001b[0;32m----> 1\u001b[0m \u001b[38;5;28;43mrange\u001b[39;49m\u001b[43m(\u001b[49m\u001b[43m)\u001b[49m\u001b[38;5;66;03m#its a generator used to generate the numbers less than the given number\u001b[39;00m\n",
      "\u001b[0;31mTypeError\u001b[0m: range expected at least 1 argument, got 0"
     ]
    }
   ],
   "source": [
    "range()#its a generator used to generate the numbers less than the given number"
   ]
  },
  {
   "cell_type": "code",
   "execution_count": 20,
   "id": "2637ad0f-5cf6-4cc6-9a9e-04cd54c88165",
   "metadata": {},
   "outputs": [
    {
     "data": {
      "text/plain": [
       "range(0, 5)"
      ]
     },
     "execution_count": 20,
     "metadata": {},
     "output_type": "execute_result"
    }
   ],
   "source": [
    "range(0,5)#where 0 is starting and 5-1 is ending"
   ]
  },
  {
   "cell_type": "code",
   "execution_count": 21,
   "id": "6618e6a1-ae46-4c44-9293-058c96daf228",
   "metadata": {},
   "outputs": [
    {
     "data": {
      "text/plain": [
       "[0, 1, 2, 3, 4]"
      ]
     },
     "execution_count": 21,
     "metadata": {},
     "output_type": "execute_result"
    }
   ],
   "source": [
    "list(range(0,5))"
   ]
  },
  {
   "cell_type": "code",
   "execution_count": 22,
   "id": "41d35ae0-d2c5-4675-b3d3-8ab7680fd62a",
   "metadata": {},
   "outputs": [
    {
     "data": {
      "text/plain": [
       "[0, 2, 4]"
      ]
     },
     "execution_count": 22,
     "metadata": {},
     "output_type": "execute_result"
    }
   ],
   "source": [
    "list(range(0,5,2))#2 is jump"
   ]
  },
  {
   "cell_type": "code",
   "execution_count": 23,
   "id": "ac00258f-f130-4d89-a013-f77db8062526",
   "metadata": {},
   "outputs": [],
   "source": [
    "#we need to show the range into a list"
   ]
  },
  {
   "cell_type": "code",
   "execution_count": 24,
   "id": "bfd23171-72c9-491a-a016-d48448ed4d22",
   "metadata": {},
   "outputs": [
    {
     "data": {
      "text/plain": [
       "[0, 2, 4, 6, 8, 10, 12, 14, 16, 18]"
      ]
     },
     "execution_count": 24,
     "metadata": {},
     "output_type": "execute_result"
    }
   ],
   "source": [
    "list(range(0,20,2))"
   ]
  },
  {
   "cell_type": "code",
   "execution_count": 25,
   "id": "efaeb7f2-0efb-4414-a3d2-193e7cc76542",
   "metadata": {},
   "outputs": [
    {
     "data": {
      "text/plain": [
       "[-10, -9, -8, -7, -6, -5, -4, -3, -2, -1]"
      ]
     },
     "execution_count": 25,
     "metadata": {},
     "output_type": "execute_result"
    }
   ],
   "source": [
    "list(range(-10,0))"
   ]
  },
  {
   "cell_type": "code",
   "execution_count": 33,
   "id": "9bd0b50a-5ab8-4cb6-8b31-f020e067f140",
   "metadata": {},
   "outputs": [],
   "source": [
    "#now we want to get l1 in opposite order"
   ]
  },
  {
   "cell_type": "code",
   "execution_count": 13,
   "id": "935b7cec-aa70-49f7-87e7-9caa29c9a8d1",
   "metadata": {},
   "outputs": [
    {
     "data": {
      "text/plain": [
       "['sudh', 'kumar', 'krish', 'naik']"
      ]
     },
     "execution_count": 13,
     "metadata": {},
     "output_type": "execute_result"
    }
   ],
   "source": [
    "l1\n"
   ]
  },
  {
   "cell_type": "code",
   "execution_count": 14,
   "id": "f1a8567f-69d2-4e53-aed9-e994e9581607",
   "metadata": {},
   "outputs": [
    {
     "data": {
      "text/plain": [
       "[0, 1, 2, 3]"
      ]
     },
     "execution_count": 14,
     "metadata": {},
     "output_type": "execute_result"
    }
   ],
   "source": [
    "list(range(len(l1)))"
   ]
  },
  {
   "cell_type": "code",
   "execution_count": 24,
   "id": "6a08358e-ce5c-44bf-8e22-7b933205ab8e",
   "metadata": {},
   "outputs": [
    {
     "data": {
      "text/plain": [
       "[3, 2, 1, 0]"
      ]
     },
     "execution_count": 24,
     "metadata": {},
     "output_type": "execute_result"
    }
   ],
   "source": [
    "list(range(len(l1)-1,-1,-1))"
   ]
  },
  {
   "cell_type": "code",
   "execution_count": 42,
   "id": "21b91272-837d-4286-8819-5ce2ec5155fc",
   "metadata": {},
   "outputs": [],
   "source": [
    "# so "
   ]
  },
  {
   "cell_type": "code",
   "execution_count": 29,
   "id": "648c5077-6baa-4327-a2a5-f7417b2fdba7",
   "metadata": {},
   "outputs": [
    {
     "name": "stdout",
     "output_type": "stream",
     "text": [
      "naik\n",
      "krish\n",
      "kumar\n",
      "sudh\n"
     ]
    }
   ],
   "source": [
    "for i in range(len(l1)-1,-1,-1):\n",
    "    print(l1[i])"
   ]
  },
  {
   "cell_type": "code",
   "execution_count": 45,
   "id": "f6c99c01-d0a0-4c71-901e-6c8022635c5f",
   "metadata": {},
   "outputs": [],
   "source": [
    "l2=[23,45,67,56,78,98,76,56,45,34,23]"
   ]
  },
  {
   "cell_type": "code",
   "execution_count": 46,
   "id": "5a848003-6c80-47fa-a973-99cc3f6fc05f",
   "metadata": {},
   "outputs": [],
   "source": [
    "#find the data on even index"
   ]
  },
  {
   "cell_type": "code",
   "execution_count": 47,
   "id": "c39e4393-650d-4378-b6de-ed3d534a2651",
   "metadata": {},
   "outputs": [
    {
     "data": {
      "text/plain": [
       "[0, 2, 4, 6, 8, 10]"
      ]
     },
     "execution_count": 47,
     "metadata": {},
     "output_type": "execute_result"
    }
   ],
   "source": [
    "list(range(0,len(l2),2))\n"
   ]
  },
  {
   "cell_type": "code",
   "execution_count": 52,
   "id": "0c3c10a0-db3c-45ec-bc07-165614894b1c",
   "metadata": {},
   "outputs": [
    {
     "name": "stdout",
     "output_type": "stream",
     "text": [
      "23\n",
      "67\n",
      "78\n",
      "76\n",
      "45\n",
      "23\n"
     ]
    }
   ],
   "source": [
    "for i in range(0,len(l2),2):\n",
    "    \n",
    "    print(l2[i])\n",
    "    "
   ]
  },
  {
   "cell_type": "code",
   "execution_count": 53,
   "id": "3da3aff8-7e1b-489d-bd28-e2d8ca38234c",
   "metadata": {},
   "outputs": [],
   "source": [
    "l=[2,45,67,34,23,56]"
   ]
  },
  {
   "cell_type": "code",
   "execution_count": 54,
   "id": "3bd587cf-c04c-48d9-be04-ca6abe72f146",
   "metadata": {},
   "outputs": [],
   "source": [
    "#to find its elment sum"
   ]
  },
  {
   "cell_type": "code",
   "execution_count": 55,
   "id": "1b1de7d6-5743-4377-abfe-fa09d88adcd9",
   "metadata": {},
   "outputs": [
    {
     "data": {
      "text/plain": [
       "227"
      ]
     },
     "execution_count": 55,
     "metadata": {},
     "output_type": "execute_result"
    }
   ],
   "source": [
    "result=0\n",
    "for i in l:\n",
    "    result+=i\n",
    "result"
   ]
  },
  {
   "cell_type": "code",
   "execution_count": 56,
   "id": "1f882a3a-e0e7-4500-a8d5-944abba810da",
   "metadata": {},
   "outputs": [],
   "source": [
    "t=(1,2,3,4,5)"
   ]
  },
  {
   "cell_type": "code",
   "execution_count": 57,
   "id": "43486bab-d948-479a-b914-72ad2f6d8941",
   "metadata": {},
   "outputs": [
    {
     "data": {
      "text/plain": [
       "15"
      ]
     },
     "execution_count": 57,
     "metadata": {},
     "output_type": "execute_result"
    }
   ],
   "source": [
    "result=0\n",
    "for i in t:\n",
    "    result+=i\n",
    "result\n",
    "    "
   ]
  },
  {
   "cell_type": "code",
   "execution_count": 59,
   "id": "316a4b08-2449-47cb-bc12-f53cdfe18403",
   "metadata": {},
   "outputs": [],
   "source": [
    "s={1,2,3,4,5,\"sudh\",\"pwskills\"}"
   ]
  },
  {
   "cell_type": "code",
   "execution_count": 60,
   "id": "8ec30cf9-c5bb-43a1-9982-693dd558eedf",
   "metadata": {},
   "outputs": [
    {
     "name": "stdout",
     "output_type": "stream",
     "text": [
      "1\n",
      "2\n",
      "3\n",
      "4\n",
      "5\n",
      "sudh\n",
      "pwskills\n"
     ]
    }
   ],
   "source": [
    "for i in s:\n",
    "    print(i)"
   ]
  },
  {
   "cell_type": "code",
   "execution_count": 62,
   "id": "7765b80e-f8ef-42a7-8290-82f1c5c838a5",
   "metadata": {},
   "outputs": [],
   "source": [
    "#for loop is itterable for all i.e set ,list ,tuple,string"
   ]
  },
  {
   "cell_type": "code",
   "execution_count": 63,
   "id": "ae1f9a2a-f083-4390-85a4-483d275dfbe4",
   "metadata": {},
   "outputs": [],
   "source": [
    "s1=\"pwskills\""
   ]
  },
  {
   "cell_type": "code",
   "execution_count": 64,
   "id": "dce414e6-4f4a-40d8-aba5-337acd80e1f0",
   "metadata": {},
   "outputs": [
    {
     "name": "stdout",
     "output_type": "stream",
     "text": [
      "p\n",
      "w\n",
      "s\n",
      "k\n",
      "i\n",
      "l\n",
      "l\n",
      "s\n"
     ]
    }
   ],
   "source": [
    "for i in s1:\n",
    "    print(i)\n",
    "    \n",
    "    "
   ]
  },
  {
   "cell_type": "code",
   "execution_count": 65,
   "id": "395f2685-2850-41b1-aec5-1343cde63313",
   "metadata": {},
   "outputs": [],
   "source": [
    "d={\"name\":\"sudh\",\"class\":\"data science masters\",\n",
    "   \"topic\":[\"python\",\"stats\",\"machine leaning\",\"dl\",\"cv\",\"nlp\",\"resume\",\"interview\"]}"
   ]
  },
  {
   "cell_type": "code",
   "execution_count": 66,
   "id": "c6e3ee57-9d86-4155-a662-2d6075949128",
   "metadata": {},
   "outputs": [
    {
     "data": {
      "text/plain": [
       "{'name': 'sudh',\n",
       " 'class': 'data science masters',\n",
       " 'topic': ['python',\n",
       "  'stats',\n",
       "  'machine leaning',\n",
       "  'dl',\n",
       "  'cv',\n",
       "  'nlp',\n",
       "  'resume',\n",
       "  'interview']}"
      ]
     },
     "execution_count": 66,
     "metadata": {},
     "output_type": "execute_result"
    }
   ],
   "source": [
    "d"
   ]
  },
  {
   "cell_type": "code",
   "execution_count": 67,
   "id": "bf4438e1-a9c7-4131-8110-d47851e481a7",
   "metadata": {},
   "outputs": [
    {
     "data": {
      "text/plain": [
       "'sudh'"
      ]
     },
     "execution_count": 67,
     "metadata": {},
     "output_type": "execute_result"
    }
   ],
   "source": [
    "d[\"name\"]"
   ]
  },
  {
   "cell_type": "code",
   "execution_count": 68,
   "id": "7fcceb06-9a91-41cb-bae2-25f55fb489fd",
   "metadata": {},
   "outputs": [
    {
     "data": {
      "text/plain": [
       "dict_keys(['name', 'class', 'topic'])"
      ]
     },
     "execution_count": 68,
     "metadata": {},
     "output_type": "execute_result"
    }
   ],
   "source": [
    "d.keys()"
   ]
  },
  {
   "cell_type": "code",
   "execution_count": 75,
   "id": "67db0c37-d9e3-47dd-8e55-89246e0c4b5f",
   "metadata": {},
   "outputs": [
    {
     "name": "stdout",
     "output_type": "stream",
     "text": [
      "sudh\n",
      "data science masters\n",
      "['python', 'stats', 'machine leaning', 'dl', 'cv', 'nlp', 'resume', 'interview']\n"
     ]
    }
   ],
   "source": [
    "for i in d.keys():\n",
    "    print(d[i])\n",
    "    "
   ]
  },
  {
   "cell_type": "code",
   "execution_count": 70,
   "id": "6a85338f-8a0e-4a7f-9b48-099fe1c35dd6",
   "metadata": {},
   "outputs": [
    {
     "data": {
      "text/plain": [
       "dict_values(['sudh', 'data science masters', ['python', 'stats', 'machine leaning', 'dl', 'cv', 'nlp', 'resume', 'interview']])"
      ]
     },
     "execution_count": 70,
     "metadata": {},
     "output_type": "execute_result"
    }
   ],
   "source": [
    "d.values()"
   ]
  },
  {
   "cell_type": "code",
   "execution_count": 71,
   "id": "c5abfaf9-74cf-44e4-9bcf-f08705ce4627",
   "metadata": {},
   "outputs": [
    {
     "name": "stdout",
     "output_type": "stream",
     "text": [
      "sudh\n",
      "data science masters\n",
      "['python', 'stats', 'machine leaning', 'dl', 'cv', 'nlp', 'resume', 'interview']\n"
     ]
    }
   ],
   "source": [
    "for i in d.values():\n",
    "    print(i)"
   ]
  },
  {
   "cell_type": "code",
   "execution_count": 72,
   "id": "84320006-862f-4445-90e1-e4407454761a",
   "metadata": {},
   "outputs": [
    {
     "name": "stdout",
     "output_type": "stream",
     "text": [
      "('name', 'sudh')\n",
      "('class', 'data science masters')\n",
      "('topic', ['python', 'stats', 'machine leaning', 'dl', 'cv', 'nlp', 'resume', 'interview'])\n"
     ]
    }
   ],
   "source": [
    "for i in d.items():\n",
    "    print(i)"
   ]
  },
  {
   "cell_type": "code",
   "execution_count": 78,
   "id": "568c061d-b09f-4f1f-8e83-ae136e862231",
   "metadata": {},
   "outputs": [
    {
     "data": {
      "text/plain": [
       "False"
      ]
     },
     "execution_count": 78,
     "metadata": {},
     "output_type": "execute_result"
    }
   ],
   "source": [
    "#quiz"
   ]
  },
  {
   "cell_type": "code",
   "execution_count": 78,
   "id": "086b6906-fcbf-4cde-a0cd-920ea6d5984c",
   "metadata": {},
   "outputs": [
    {
     "data": {
      "text/plain": [
       "False"
      ]
     },
     "execution_count": 78,
     "metadata": {},
     "output_type": "execute_result"
    }
   ],
   "source": [
    "False or False and False"
   ]
  },
  {
   "cell_type": "code",
   "execution_count": 87,
   "id": "725e60ee-0810-43f3-ae0b-5a74ee8db8a0",
   "metadata": {},
   "outputs": [
    {
     "name": "stdout",
     "output_type": "stream",
     "text": [
      "True\n"
     ]
    }
   ],
   "source": [
    "a=\"bhupeshkumar\"\n",
    "b=a.isalnum()\n",
    "print(b)"
   ]
  },
  {
   "cell_type": "code",
   "execution_count": 88,
   "id": "64e08e89-104b-4773-9d21-0849fad1b31d",
   "metadata": {},
   "outputs": [],
   "source": [
    "#space is not alphanumeric so it return false"
   ]
  },
  {
   "cell_type": "code",
   "execution_count": null,
   "id": "50fec2d5-60f3-42fe-b2f1-2b5f7970246c",
   "metadata": {},
   "outputs": [],
   "source": [
    "#contains both numbers and characters"
   ]
  },
  {
   "cell_type": "code",
   "execution_count": 93,
   "id": "f4f51b77-5ef4-44bc-b821-b6082d8ae505",
   "metadata": {},
   "outputs": [
    {
     "name": "stdout",
     "output_type": "stream",
     "text": [
      "False\n"
     ]
    }
   ],
   "source": [
    "a=\"bhupesh 1kumar\"\n",
    "b=a.isalpha()\n",
    "print(b)"
   ]
  },
  {
   "cell_type": "code",
   "execution_count": 91,
   "id": "d9c1dcb4-825d-4438-ac14-df847ceaaa12",
   "metadata": {},
   "outputs": [],
   "source": [
    "#need to be all alphabets and space will return false"
   ]
  },
  {
   "cell_type": "code",
   "execution_count": null,
   "id": "231419de-79b9-4c47-82ed-748789cf5e66",
   "metadata": {},
   "outputs": [],
   "source": []
  },
  {
   "cell_type": "code",
   "execution_count": 102,
   "id": "dab6a594-61f6-4973-974e-a64d6890d0c5",
   "metadata": {},
   "outputs": [
    {
     "name": "stdout",
     "output_type": "stream",
     "text": [
      "True\n"
     ]
    }
   ],
   "source": [
    "a=\"-2.4\"\n",
    "b=a.isnumeric()\n",
    "print(b)"
   ]
  },
  {
   "cell_type": "code",
   "execution_count": 103,
   "id": "ee7b3881-048d-4f50-85c3-161567a72a40",
   "metadata": {},
   "outputs": [],
   "source": [
    "#all the numbers should be integer and it will give false in case of negative numbers, decimal numbers and spaces"
   ]
  },
  {
   "cell_type": "code",
   "execution_count": 112,
   "id": "5d8eef38-757c-4531-a339-f72d7be91d90",
   "metadata": {},
   "outputs": [
    {
     "data": {
      "text/plain": [
       "'p w s k i l l s'"
      ]
     },
     "execution_count": 112,
     "metadata": {},
     "output_type": "execute_result"
    }
   ],
   "source": [
    "string=\"pwskills\"\n",
    "\" \".join(string.replace(\" \",\"\"))"
   ]
  },
  {
   "cell_type": "code",
   "execution_count": 123,
   "id": "0c6e224d-6c9c-421e-90c4-674151f85f94",
   "metadata": {},
   "outputs": [
    {
     "data": {
      "text/plain": [
       "True"
      ]
     },
     "execution_count": 123,
     "metadata": {},
     "output_type": "execute_result"
    }
   ],
   "source": [
    "\"pwskills\"[::-1].upper().replace(\"SLLIKSWP\",\"pwskills\").islower()"
   ]
  },
  {
   "cell_type": "code",
   "execution_count": 117,
   "id": "a567c990-753f-42f7-a71e-78fa639e42e5",
   "metadata": {},
   "outputs": [
    {
     "name": "stdout",
     "output_type": "stream",
     "text": [
      "I\n",
      "Want\n",
      "To\n",
      "Be\n"
     ]
    }
   ],
   "source": [
    "s=\"i want to be\"\n",
    "for i in s.split():\n",
    "    i.capitalize()\n",
    "    print(i.title())"
   ]
  },
  {
   "cell_type": "code",
   "execution_count": 119,
   "id": "6e94cb88-9557-4c7a-9880-3f0226cdd524",
   "metadata": {},
   "outputs": [
    {
     "data": {
      "text/plain": [
       "['ilove']"
      ]
     },
     "execution_count": 119,
     "metadata": {},
     "output_type": "execute_result"
    }
   ],
   "source": [
    "s=\"ilove\"\n",
    "s.split()"
   ]
  },
  {
   "cell_type": "code",
   "execution_count": 120,
   "id": "d9d0fc80-1bad-4fc8-b80e-a5e242b232a0",
   "metadata": {},
   "outputs": [
    {
     "data": {
      "text/plain": [
       "'#bhupesh##'"
      ]
     },
     "execution_count": 120,
     "metadata": {},
     "output_type": "execute_result"
    }
   ],
   "source": [
    "a=\"bhupesh\"\n",
    "a.center(10,\"#\")"
   ]
  },
  {
   "cell_type": "code",
   "execution_count": 121,
   "id": "48e10547-bf86-4e17-aed2-e215ce47155f",
   "metadata": {},
   "outputs": [
    {
     "data": {
      "text/plain": [
       "'bhupesh###'"
      ]
     },
     "execution_count": 121,
     "metadata": {},
     "output_type": "execute_result"
    }
   ],
   "source": [
    "a=\"bhupesh\"\n",
    "a.ljust(10,\"#\")"
   ]
  },
  {
   "cell_type": "code",
   "execution_count": 122,
   "id": "5954341c-bfcc-49f9-8907-7a454e9f3ac9",
   "metadata": {},
   "outputs": [
    {
     "data": {
      "text/plain": [
       "'###bhupesh'"
      ]
     },
     "execution_count": 122,
     "metadata": {},
     "output_type": "execute_result"
    }
   ],
   "source": [
    "a=\"bhupesh\"\n",
    "a.rjust(10,\"#\")"
   ]
  },
  {
   "cell_type": "code",
   "execution_count": null,
   "id": "5b8f7b80-c64b-4c45-8d7c-f44f32470647",
   "metadata": {},
   "outputs": [],
   "source": []
  }
 ],
 "metadata": {
  "kernelspec": {
   "display_name": "Python 3 (ipykernel)",
   "language": "python",
   "name": "python3"
  },
  "language_info": {
   "codemirror_mode": {
    "name": "ipython",
    "version": 3
   },
   "file_extension": ".py",
   "mimetype": "text/x-python",
   "name": "python",
   "nbconvert_exporter": "python",
   "pygments_lexer": "ipython3",
   "version": "3.10.8"
  }
 },
 "nbformat": 4,
 "nbformat_minor": 5
}
