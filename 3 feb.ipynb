{
 "cells": [
  {
   "cell_type": "code",
   "execution_count": null,
   "id": "3249d757-79da-483d-9244-26dab95d134e",
   "metadata": {},
   "outputs": [],
   "source": []
  },
  {
   "cell_type": "code",
   "execution_count": 1,
   "id": "80d4a887-5c3c-4e2d-8fae-9b50c60fc493",
   "metadata": {},
   "outputs": [],
   "source": [
    "    #while loop(always check the condition)"
   ]
  },
  {
   "cell_type": "code",
   "execution_count": 2,
   "id": "70c2f590-e884-4e37-be7c-98e365bd9e19",
   "metadata": {},
   "outputs": [
    {
     "name": "stdout",
     "output_type": "stream",
     "text": [
      "1\n",
      "2\n",
      "3\n",
      "4\n",
      "5\n",
      "6\n",
      "7\n",
      "8\n",
      "9\n",
      "10\n"
     ]
    }
   ],
   "source": [
    "a=1\n",
    "while a<=10:\n",
    "    print(a)\n",
    "    a+=1"
   ]
  },
  {
   "cell_type": "code",
   "execution_count": 4,
   "id": "4b963c5e-0536-4593-81a0-4771af3dd38c",
   "metadata": {},
   "outputs": [],
   "source": [
    "#sumation till sum point"
   ]
  },
  {
   "cell_type": "code",
   "execution_count": 6,
   "id": "b3b3ce74-592d-4a0d-a9f6-5440ec40e11d",
   "metadata": {},
   "outputs": [
    {
     "name": "stdin",
     "output_type": "stream",
     "text": [
      "enter your limit 34\n"
     ]
    },
    {
     "data": {
      "text/plain": [
       "595"
      ]
     },
     "execution_count": 6,
     "metadata": {},
     "output_type": "execute_result"
    }
   ],
   "source": [
    "n=int(input(\"enter your limit\"))\n",
    "starting_point=0\n",
    "counter=1\n",
    "\n",
    "while counter<=n:\n",
    "    starting_point=starting_point+counter\n",
    "    counter=counter+1\n",
    "starting_point "
   ]
  },
  {
   "cell_type": "code",
   "execution_count": 7,
   "id": "eb7fe7cb-f3b6-48fa-8380-8b9ad2f26c94",
   "metadata": {},
   "outputs": [],
   "source": [
    "#factorial\n",
    "\n"
   ]
  },
  {
   "cell_type": "code",
   "execution_count": null,
   "id": "817d2a7b-38e9-44b1-85ff-89b2a7be1a81",
   "metadata": {},
   "outputs": [],
   "source": [
    "number=int(input(\"enter your number\"))\n",
    "factorial=1\n",
    "\n",
    "while number>0:\n",
    "           factorial=factorial*number\n",
    "           number=number-1\n",
    "factorial\n",
    "           \n",
    "           \n",
    "           \n",
    "           "
   ]
  },
  {
   "cell_type": "code",
   "execution_count": 10,
   "id": "90267731-8e84-4a46-b6be-dd7b073e0773",
   "metadata": {},
   "outputs": [],
   "source": [
    "#finanacci series"
   ]
  },
  {
   "cell_type": "code",
   "execution_count": 5,
   "id": "7d90d6d3-4ce2-4b6f-b334-d39895d345e8",
   "metadata": {},
   "outputs": [
    {
     "name": "stdin",
     "output_type": "stream",
     "text": [
      "enter the number of element you are looking for 10\n"
     ]
    },
    {
     "name": "stdout",
     "output_type": "stream",
     "text": [
      "0\n",
      "1\n",
      "1\n",
      "2\n",
      "3\n",
      "5\n",
      "8\n",
      "13\n",
      "21\n",
      "34\n"
     ]
    }
   ],
   "source": [
    "number=int(input(\"enter the number of element you are looking for\"))\n",
    "a,b=0,1\n",
    "counter=0\n",
    "while counter<number:\n",
    "    print(a)\n",
    "    c=a+b\n",
    "    a=b\n",
    "    b=c\n",
    "    counter=counter+1"
   ]
  },
  {
   "cell_type": "code",
   "execution_count": 7,
   "id": "84713349-9c2f-4a84-b57f-bfcd94b42e9a",
   "metadata": {},
   "outputs": [
    {
     "name": "stdin",
     "output_type": "stream",
     "text": [
      "number of times 10\n"
     ]
    },
    {
     "name": "stdout",
     "output_type": "stream",
     "text": [
      "0\n",
      "1\n",
      "1\n",
      "2\n",
      "3\n",
      "5\n",
      "8\n",
      "13\n",
      "21\n",
      "34\n"
     ]
    }
   ],
   "source": [
    "a,b=0,1\n",
    "n=int(input(\"number of times\"))\n",
    "for i in range(n):\n",
    "    print(a)\n",
    "    c=a+b\n",
    "    a=b\n",
    "    b=c\n",
    "    "
   ]
  },
  {
   "cell_type": "code",
   "execution_count": 8,
   "id": "cde70012-f924-4333-8170-a0d04cbc7237",
   "metadata": {},
   "outputs": [],
   "source": [
    "s=\"sudh\""
   ]
  },
  {
   "cell_type": "code",
   "execution_count": 9,
   "id": "10cc87bd-002f-4d4b-bccf-88c4867d64af",
   "metadata": {},
   "outputs": [
    {
     "data": {
      "text/plain": [
       "'hdus'"
      ]
     },
     "execution_count": 9,
     "metadata": {},
     "output_type": "execute_result"
    }
   ],
   "source": [
    "s[::-1]"
   ]
  },
  {
   "cell_type": "code",
   "execution_count": 10,
   "id": "cf16b219-aa3b-4e3b-bc3e-22a3b593e7d2",
   "metadata": {},
   "outputs": [
    {
     "name": "stdin",
     "output_type": "stream",
     "text": [
      "enter your input sudh\n"
     ]
    }
   ],
   "source": [
    "word=input(\"enter your input\")\n",
    "\n"
   ]
  },
  {
   "cell_type": "code",
   "execution_count": 11,
   "id": "ecce5c52-47a5-48c1-bee1-e437217794ce",
   "metadata": {},
   "outputs": [
    {
     "name": "stdout",
     "output_type": "stream",
     "text": [
      "hdus\n"
     ]
    }
   ],
   "source": [
    "reverse=\"\"\n",
    "length=len(word)\n",
    "while length>0:\n",
    "    reverse=reverse+word[length-1]\n",
    "    length=length-1\n",
    "print(reverse)"
   ]
  },
  {
   "cell_type": "code",
   "execution_count": 12,
   "id": "aa1740b8-f9d0-4bef-91f3-d0bf44cea7e8",
   "metadata": {},
   "outputs": [],
   "source": [
    "#print tables of number"
   ]
  },
  {
   "cell_type": "code",
   "execution_count": 2,
   "id": "35b56c63-426d-4a61-9f89-1594893563f4",
   "metadata": {},
   "outputs": [
    {
     "name": "stdin",
     "output_type": "stream",
     "text": [
      "enter your number 45\n"
     ]
    },
    {
     "name": "stdout",
     "output_type": "stream",
     "text": [
      "45 * 1 = 45\n",
      "45 * 2 = 45\n",
      "45 * 3 = 45\n",
      "45 * 4 = 45\n",
      "45 * 5 = 45\n",
      "45 * 6 = 45\n",
      "45 * 7 = 45\n",
      "45 * 8 = 45\n",
      "45 * 9 = 45\n",
      "45 * 10 = 45\n"
     ]
    }
   ],
   "source": [
    "n=int(input(\"enter your number\"))\n",
    "i=1\n",
    "\n",
    "while i<=10:\n",
    "    result=n*1\n",
    "    print(n ,\"*\",i,\"=\",result)\n",
    "    i=i+1\n",
    "    \n",
    "    "
   ]
  },
  {
   "cell_type": "code",
   "execution_count": 3,
   "id": "71ff4ea2-4990-45ba-ac1f-04c2a1507992",
   "metadata": {},
   "outputs": [
    {
     "name": "stdout",
     "output_type": "stream",
     "text": [
      "1\n",
      "2\n",
      "3\n",
      "4\n",
      "this will excecute one your while will complete it succesfully\n"
     ]
    }
   ],
   "source": [
    "n=5\n",
    "i=1\n",
    "while i<n:\n",
    "    print(i)\n",
    "    i=i+1\n",
    "else:\n",
    "    print(\"this will excecute one your while will complete it succesfully\")"
   ]
  },
  {
   "cell_type": "code",
   "execution_count": null,
   "id": "33500ecc-5931-46c1-a4b0-532f99fbe53a",
   "metadata": {},
   "outputs": [],
   "source": []
  },
  {
   "cell_type": "code",
   "execution_count": 1,
   "id": "8063a88e-8d21-4dd6-bd3c-6d58d10c11d0",
   "metadata": {},
   "outputs": [
    {
     "name": "stdout",
     "output_type": "stream",
     "text": [
      "1\n",
      "2\n",
      "3\n"
     ]
    }
   ],
   "source": [
    "n=5\n",
    "i=1\n",
    "while i<n:\n",
    "    print(i)\n",
    "    if i==3:\n",
    "        break\n",
    "    i=i+1\n",
    "else:\n",
    "    print(\"this will excecute one your while will complete it succesfully\")"
   ]
  },
  {
   "cell_type": "code",
   "execution_count": 2,
   "id": "d2b8fc5b-a458-4f5a-af28-5b77fcdd4883",
   "metadata": {},
   "outputs": [],
   "source": [
    "#comprention"
   ]
  },
  {
   "cell_type": "markdown",
   "id": "9a4293f6-ee63-411c-bc48-774d8cae3169",
   "metadata": {},
   "source": [
    " "
   ]
  },
  {
   "cell_type": "code",
   "execution_count": 5,
   "id": "b0d2f1d5-06ea-4202-9a8b-7e634cf3205a",
   "metadata": {},
   "outputs": [],
   "source": [
    "l=[1,2,3,4,5,34,12]\n",
    "l1=[]\n",
    "for i in l:\n",
    "    l1.append(i**2)"
   ]
  },
  {
   "cell_type": "code",
   "execution_count": 6,
   "id": "d30ca0a4-5ac8-455b-96ce-ff45dcbcceb8",
   "metadata": {},
   "outputs": [
    {
     "data": {
      "text/plain": [
       "[1, 4, 9, 16, 25, 1156, 144]"
      ]
     },
     "execution_count": 6,
     "metadata": {},
     "output_type": "execute_result"
    }
   ],
   "source": [
    "l1"
   ]
  },
  {
   "cell_type": "code",
   "execution_count": 7,
   "id": "ef976be1-ede9-4f3e-ac52-056950b17141",
   "metadata": {},
   "outputs": [],
   "source": [
    "#by comprention"
   ]
  },
  {
   "cell_type": "code",
   "execution_count": 8,
   "id": "05a7d933-b486-4d9b-804c-2273aa21b93b",
   "metadata": {},
   "outputs": [
    {
     "data": {
      "text/plain": [
       "[1, 4, 9, 16, 25, 1156, 144]"
      ]
     },
     "execution_count": 8,
     "metadata": {},
     "output_type": "execute_result"
    }
   ],
   "source": [
    "[i**2 for i in l]"
   ]
  },
  {
   "cell_type": "code",
   "execution_count": 9,
   "id": "ce543cec-d690-413a-a34d-299e66c751eb",
   "metadata": {},
   "outputs": [],
   "source": [
    "#find even number"
   ]
  },
  {
   "cell_type": "code",
   "execution_count": 13,
   "id": "4c09739d-904a-4bcf-a5f5-4b40d74e0343",
   "metadata": {},
   "outputs": [
    {
     "data": {
      "text/plain": [
       "[2, 4, 34, 12]"
      ]
     },
     "execution_count": 13,
     "metadata": {},
     "output_type": "execute_result"
    }
   ],
   "source": [
    "[i for i in l if i%2==0 ]"
   ]
  },
  {
   "cell_type": "code",
   "execution_count": 14,
   "id": "627b4395-042a-4986-949f-80312788971c",
   "metadata": {},
   "outputs": [],
   "source": [
    "#\n"
   ]
  },
  {
   "cell_type": "code",
   "execution_count": 1,
   "id": "adbe86e5-f81f-4397-8115-1cc1f49a6827",
   "metadata": {},
   "outputs": [],
   "source": [
    "l1=[\"sudh\",\"pwskills\",\"kumar\",\"data science masters\"]"
   ]
  },
  {
   "cell_type": "code",
   "execution_count": 16,
   "id": "291d6c58-e596-4706-a6de-3771727d1e4a",
   "metadata": {},
   "outputs": [
    {
     "data": {
      "text/plain": [
       "['SUDH', 'PWSKILLS', 'KUMAR', 'DATA SCIENCE MASTERS']"
      ]
     },
     "execution_count": 16,
     "metadata": {},
     "output_type": "execute_result"
    }
   ],
   "source": [
    "[ i.upper() for i in l1]"
   ]
  },
  {
   "cell_type": "code",
   "execution_count": 3,
   "id": "225082b6-f84f-4f20-b421-6bdb88f563f7",
   "metadata": {},
   "outputs": [
    {
     "name": "stdout",
     "output_type": "stream",
     "text": [
      "SUDH\n",
      "PWSKILLS\n",
      "KUMAR\n",
      "DATA SCIENCE MASTERS\n"
     ]
    }
   ],
   "source": [
    "for i in l1:\n",
    "    print(i.upper())\n",
    "    \n",
    "    "
   ]
  },
  {
   "cell_type": "code",
   "execution_count": 24,
   "id": "b46fefb1-4601-4d1b-904a-f65ce89f575f",
   "metadata": {},
   "outputs": [
    {
     "data": {
      "text/plain": [
       "[1, 2, 3, 4, 5, 34, 12]"
      ]
     },
     "execution_count": 24,
     "metadata": {},
     "output_type": "execute_result"
    }
   ],
   "source": [
    "l"
   ]
  },
  {
   "cell_type": "code",
   "execution_count": 25,
   "id": "d6cd059b-51a5-4e30-ad29-cbe72e993990",
   "metadata": {},
   "outputs": [],
   "source": [
    "#convert it in tuples"
   ]
  },
  {
   "cell_type": "code",
   "execution_count": 27,
   "id": "72aafdf5-db7a-460f-9f71-a9d3bde37aa5",
   "metadata": {},
   "outputs": [
    {
     "data": {
      "text/plain": [
       "[1, 4, 9, 16, 25, 1156, 144]"
      ]
     },
     "execution_count": 27,
     "metadata": {},
     "output_type": "execute_result"
    }
   ],
   "source": [
    "list(i**2 for i in l)"
   ]
  },
  {
   "cell_type": "code",
   "execution_count": null,
   "id": "292e86ad-8128-46a4-acf7-1fe89d4b897a",
   "metadata": {},
   "outputs": [],
   "source": [
    "#convert it in dictionary"
   ]
  },
  {
   "cell_type": "code",
   "execution_count": 29,
   "id": "7b387721-fa29-4454-b0f1-895332d07fde",
   "metadata": {},
   "outputs": [],
   "source": [
    "d={\"key1\":1,\"key2\":2,\"key3\":3,\"key4\":4}\n",
    "\n"
   ]
  },
  {
   "cell_type": "code",
   "execution_count": 30,
   "id": "0b40e42c-40d4-4f19-b967-3e38ccd8ff99",
   "metadata": {},
   "outputs": [
    {
     "data": {
      "text/plain": [
       "{'key1': 1, 'key2': 4, 'key3': 9, 'key4': 16}"
      ]
     },
     "execution_count": 30,
     "metadata": {},
     "output_type": "execute_result"
    }
   ],
   "source": [
    "{k:v**2 for k,v in d.items()}"
   ]
  },
  {
   "cell_type": "code",
   "execution_count": 31,
   "id": "5d7728bf-58a3-41e0-99b7-69cd91422e8b",
   "metadata": {},
   "outputs": [
    {
     "data": {
      "text/plain": [
       "{'key1': 1, 'key2': 2, 'key3': 3, 'key4': 4}"
      ]
     },
     "execution_count": 31,
     "metadata": {},
     "output_type": "execute_result"
    }
   ],
   "source": [
    "d\n"
   ]
  },
  {
   "cell_type": "code",
   "execution_count": 32,
   "id": "3fc0597d-a97f-410a-9b3d-35639a63bc19",
   "metadata": {},
   "outputs": [],
   "source": [
    "#print only those values which is greater than one\n",
    "\n"
   ]
  },
  {
   "cell_type": "code",
   "execution_count": 34,
   "id": "51ceb294-5ff5-408d-b80d-04a1d0b4008b",
   "metadata": {},
   "outputs": [
    {
     "data": {
      "text/plain": [
       "{'key2': 2, 'key3': 3, 'key4': 4}"
      ]
     },
     "execution_count": 34,
     "metadata": {},
     "output_type": "execute_result"
    }
   ],
   "source": [
    "{k:v for k,v in d.items() if v>1}"
   ]
  },
  {
   "cell_type": "code",
   "execution_count": 35,
   "id": "608996b9-09a4-4c07-b701-c13798370477",
   "metadata": {},
   "outputs": [],
   "source": [
    "#function "
   ]
  },
  {
   "cell_type": "code",
   "execution_count": 36,
   "id": "3bcf9a07-026e-445f-bf7c-ae30e2832b47",
   "metadata": {},
   "outputs": [
    {
     "name": "stdout",
     "output_type": "stream",
     "text": [
      "this is my p[rint\n"
     ]
    }
   ],
   "source": [
    "print(\"this is my p[rint\")"
   ]
  },
  {
   "cell_type": "code",
   "execution_count": 4,
   "id": "d0e99d1b-7712-4adc-8eb8-d3fb4d3a5cb9",
   "metadata": {},
   "outputs": [],
   "source": [
    "l=[1,2,3,4,5]"
   ]
  },
  {
   "cell_type": "code",
   "execution_count": 39,
   "id": "bf22da8c-8d70-4866-8a6f-c4debf3d71a8",
   "metadata": {},
   "outputs": [
    {
     "data": {
      "text/plain": [
       "5"
      ]
     },
     "execution_count": 39,
     "metadata": {},
     "output_type": "execute_result"
    }
   ],
   "source": [
    "len(l)"
   ]
  },
  {
   "cell_type": "code",
   "execution_count": 40,
   "id": "16e45c56-45e7-4e46-b6ff-c1269325f743",
   "metadata": {},
   "outputs": [
    {
     "data": {
      "text/plain": [
       "list"
      ]
     },
     "execution_count": 40,
     "metadata": {},
     "output_type": "execute_result"
    }
   ],
   "source": [
    "type(l)\n"
   ]
  },
  {
   "cell_type": "code",
   "execution_count": 41,
   "id": "b39ce0a5-8282-4a61-b00c-d68dca6b200e",
   "metadata": {},
   "outputs": [],
   "source": [
    "#but these are in build function"
   ]
  },
  {
   "cell_type": "code",
   "execution_count": 43,
   "id": "07371db5-6575-4a2e-a5ff-2cd7ce0ff2d0",
   "metadata": {},
   "outputs": [
    {
     "ename": "SyntaxError",
     "evalue": "incomplete input (2690612609.py, line 2)",
     "output_type": "error",
     "traceback": [
      "\u001b[0;36m  Cell \u001b[0;32mIn[43], line 2\u001b[0;36m\u001b[0m\n\u001b[0;31m    \u001b[0m\n\u001b[0m    ^\u001b[0m\n\u001b[0;31mSyntaxError\u001b[0m\u001b[0;31m:\u001b[0m incomplete input\n"
     ]
    }
   ],
   "source": [
    "def test():\n",
    "    "
   ]
  },
  {
   "cell_type": "code",
   "execution_count": 45,
   "id": "efd99a55-4602-4c67-9e51-1c5ddf0dfe8f",
   "metadata": {},
   "outputs": [],
   "source": [
    "def test():\n",
    "    pass#it will allow to pass it easily"
   ]
  },
  {
   "cell_type": "code",
   "execution_count": 46,
   "id": "92be4e4a-9141-481b-8fa5-84d64e1f7ad3",
   "metadata": {},
   "outputs": [],
   "source": [
    "#"
   ]
  },
  {
   "cell_type": "code",
   "execution_count": 47,
   "id": "4c686ffb-05cf-4d63-a6e0-248bc7f9da50",
   "metadata": {},
   "outputs": [],
   "source": [
    "def test1():\n",
    "    print(\"bhupesh\")"
   ]
  },
  {
   "cell_type": "code",
   "execution_count": 48,
   "id": "12ef6e43-d37e-4681-bd74-6b62dfb82356",
   "metadata": {},
   "outputs": [
    {
     "name": "stdout",
     "output_type": "stream",
     "text": [
      "bhupesh\n"
     ]
    }
   ],
   "source": [
    "test1()#it is calling a function"
   ]
  },
  {
   "cell_type": "code",
   "execution_count": 49,
   "id": "71f64758-5c3d-4161-baf8-27ddb4f4a103",
   "metadata": {},
   "outputs": [
    {
     "ename": "SyntaxError",
     "evalue": "cannot assign to function call here. Maybe you meant '==' instead of '='? (1994411438.py, line 1)",
     "output_type": "error",
     "traceback": [
      "\u001b[0;36m  Cell \u001b[0;32mIn[49], line 1\u001b[0;36m\u001b[0m\n\u001b[0;31m    test()=\"ram\"\u001b[0m\n\u001b[0m    ^\u001b[0m\n\u001b[0;31mSyntaxError\u001b[0m\u001b[0;31m:\u001b[0m cannot assign to function call here. Maybe you meant '==' instead of '='?\n"
     ]
    }
   ],
   "source": [
    "test()=\"ram\""
   ]
  },
  {
   "cell_type": "code",
   "execution_count": 50,
   "id": "96173dbd-c4ed-4ab6-aa18-2523c2ab20e8",
   "metadata": {},
   "outputs": [],
   "source": [
    "#this is because print is return none value and it will not be concanitate with the string"
   ]
  },
  {
   "cell_type": "code",
   "execution_count": 51,
   "id": "762e447c-ae2d-4167-ab78-bb88e3c87786",
   "metadata": {},
   "outputs": [],
   "source": [
    "#to solve this problen we use return() which use to return the datatype"
   ]
  },
  {
   "cell_type": "code",
   "execution_count": 5,
   "id": "fc62f379-f837-41c5-9639-86837f3e0cdf",
   "metadata": {},
   "outputs": [],
   "source": [
    "def test2():\n",
    "    return\"this is my first return\""
   ]
  },
  {
   "cell_type": "code",
   "execution_count": 6,
   "id": "602faad6-0863-4b6f-b3f7-afb5a16c450c",
   "metadata": {},
   "outputs": [
    {
     "data": {
      "text/plain": [
       "'this is my first return'"
      ]
     },
     "execution_count": 6,
     "metadata": {},
     "output_type": "execute_result"
    }
   ],
   "source": [
    "test2()"
   ]
  },
  {
   "cell_type": "code",
   "execution_count": 7,
   "id": "7d37033a-69dc-493e-9fb8-3c01f3daba5a",
   "metadata": {},
   "outputs": [
    {
     "ename": "SyntaxError",
     "evalue": "cannot assign to function call here. Maybe you meant '==' instead of '='? (4227006188.py, line 1)",
     "output_type": "error",
     "traceback": [
      "\u001b[0;36m  Cell \u001b[0;32mIn[7], line 1\u001b[0;36m\u001b[0m\n\u001b[0;31m    test2()=\"ram\"\u001b[0m\n\u001b[0m    ^\u001b[0m\n\u001b[0;31mSyntaxError\u001b[0m\u001b[0;31m:\u001b[0m cannot assign to function call here. Maybe you meant '==' instead of '='?\n"
     ]
    }
   ],
   "source": [
    "test2()=\"ram\""
   ]
  },
  {
   "cell_type": "code",
   "execution_count": 62,
   "id": "29ba8019-1101-429d-93a3-90f2e5115aac",
   "metadata": {},
   "outputs": [],
   "source": [
    "def test3():\n",
    "    return\"bhupesh\",23,345.6,[1,2,3]"
   ]
  },
  {
   "cell_type": "code",
   "execution_count": 63,
   "id": "78993fd0-99df-427c-ba9b-b999932471e4",
   "metadata": {},
   "outputs": [
    {
     "data": {
      "text/plain": [
       "('bhupesh', 23, 345.6, [1, 2, 3])"
      ]
     },
     "execution_count": 63,
     "metadata": {},
     "output_type": "execute_result"
    }
   ],
   "source": [
    "test3()"
   ]
  },
  {
   "cell_type": "code",
   "execution_count": 64,
   "id": "a2f85375-f25b-45ba-b5a2-53f1f312da48",
   "metadata": {},
   "outputs": [],
   "source": [
    "#we can also hold differnt data types in different variables"
   ]
  },
  {
   "cell_type": "code",
   "execution_count": 72,
   "id": "e0a0d0f5-56a4-402e-b874-788775cf3a14",
   "metadata": {},
   "outputs": [],
   "source": [
    "a,b,c,d=test3()"
   ]
  },
  {
   "cell_type": "code",
   "execution_count": 68,
   "id": "2e2acf37-bf76-477b-ab01-b6c8aca4e83f",
   "metadata": {},
   "outputs": [
    {
     "data": {
      "text/plain": [
       "('bhupesh', 23, 345.6, [1, 2, 3])"
      ]
     },
     "execution_count": 68,
     "metadata": {},
     "output_type": "execute_result"
    }
   ],
   "source": [
    "test3()"
   ]
  },
  {
   "cell_type": "code",
   "execution_count": 73,
   "id": "6f252383-b406-43f7-ae53-74d09cb54272",
   "metadata": {},
   "outputs": [
    {
     "data": {
      "text/plain": [
       "'bhupesh'"
      ]
     },
     "execution_count": 73,
     "metadata": {},
     "output_type": "execute_result"
    }
   ],
   "source": [
    "a"
   ]
  },
  {
   "cell_type": "code",
   "execution_count": 74,
   "id": "5ab96c89-755f-4398-8302-72f23811a3b0",
   "metadata": {},
   "outputs": [
    {
     "data": {
      "text/plain": [
       "23"
      ]
     },
     "execution_count": 74,
     "metadata": {},
     "output_type": "execute_result"
    }
   ],
   "source": [
    "b"
   ]
  },
  {
   "cell_type": "code",
   "execution_count": 75,
   "id": "1e20d515-327e-4352-96f5-35c4081aaefb",
   "metadata": {},
   "outputs": [
    {
     "data": {
      "text/plain": [
       "345.6"
      ]
     },
     "execution_count": 75,
     "metadata": {},
     "output_type": "execute_result"
    }
   ],
   "source": [
    "c"
   ]
  },
  {
   "cell_type": "code",
   "execution_count": 76,
   "id": "70e5e89e-6df4-4bdc-b2b7-6aff86068aff",
   "metadata": {},
   "outputs": [
    {
     "data": {
      "text/plain": [
       "[1, 2, 3]"
      ]
     },
     "execution_count": 76,
     "metadata": {},
     "output_type": "execute_result"
    }
   ],
   "source": [
    "d"
   ]
  },
  {
   "cell_type": "code",
   "execution_count": 77,
   "id": "ccce2dda-57ec-4436-b010-d0dff6f1c2dd",
   "metadata": {},
   "outputs": [],
   "source": [
    "def test4():\n",
    "    a=5+6/7\n",
    "    return a"
   ]
  },
  {
   "cell_type": "code",
   "execution_count": 78,
   "id": "32da9822-d6d0-4a8c-82ba-679d13fab16f",
   "metadata": {},
   "outputs": [
    {
     "data": {
      "text/plain": [
       "5.857142857142857"
      ]
     },
     "execution_count": 78,
     "metadata": {},
     "output_type": "execute_result"
    }
   ],
   "source": [
    "test4()"
   ]
  },
  {
   "cell_type": "code",
   "execution_count": 9,
   "id": "0b1f7925-a66b-4fde-8ca9-67b8c316570f",
   "metadata": {},
   "outputs": [],
   "source": [
    "def test5():\n",
    "    d=a+b/c\n",
    "    return d"
   ]
  },
  {
   "cell_type": "code",
   "execution_count": 10,
   "id": "ced7cac6-e0d1-41dd-a2a8-352e3812fc0b",
   "metadata": {},
   "outputs": [
    {
     "ename": "NameError",
     "evalue": "name 'a' is not defined",
     "output_type": "error",
     "traceback": [
      "\u001b[0;31m---------------------------------------------------------------------------\u001b[0m",
      "\u001b[0;31mNameError\u001b[0m                                 Traceback (most recent call last)",
      "Cell \u001b[0;32mIn[10], line 1\u001b[0m\n\u001b[0;32m----> 1\u001b[0m \u001b[43mtest5\u001b[49m\u001b[43m(\u001b[49m\u001b[43m)\u001b[49m\n",
      "Cell \u001b[0;32mIn[9], line 2\u001b[0m, in \u001b[0;36mtest5\u001b[0;34m()\u001b[0m\n\u001b[1;32m      1\u001b[0m \u001b[38;5;28;01mdef\u001b[39;00m \u001b[38;5;21mtest5\u001b[39m():\n\u001b[0;32m----> 2\u001b[0m     d\u001b[38;5;241m=\u001b[39m\u001b[43ma\u001b[49m\u001b[38;5;241m+\u001b[39mb\u001b[38;5;241m/\u001b[39mc\n\u001b[1;32m      3\u001b[0m     \u001b[38;5;28;01mreturn\u001b[39;00m d\n",
      "\u001b[0;31mNameError\u001b[0m: name 'a' is not defined"
     ]
    }
   ],
   "source": [
    "test5()"
   ]
  },
  {
   "cell_type": "code",
   "execution_count": 81,
   "id": "4300075a-5357-4893-a574-bd41ee9e3cc4",
   "metadata": {},
   "outputs": [],
   "source": [
    "#so we need to give values to the variables"
   ]
  },
  {
   "cell_type": "code",
   "execution_count": 14,
   "id": "ac7a83ff-5bf6-4928-ab8c-ac6849b721af",
   "metadata": {},
   "outputs": [
    {
     "ename": "TypeError",
     "evalue": "test5() takes 0 positional arguments but 3 were given",
     "output_type": "error",
     "traceback": [
      "\u001b[0;31m---------------------------------------------------------------------------\u001b[0m",
      "\u001b[0;31mTypeError\u001b[0m                                 Traceback (most recent call last)",
      "Cell \u001b[0;32mIn[14], line 1\u001b[0m\n\u001b[0;32m----> 1\u001b[0m \u001b[43mtest5\u001b[49m\u001b[43m(\u001b[49m\u001b[38;5;241;43m2\u001b[39;49m\u001b[43m,\u001b[49m\u001b[38;5;241;43m2\u001b[39;49m\u001b[43m,\u001b[49m\u001b[38;5;241;43m2\u001b[39;49m\u001b[43m)\u001b[49m\n",
      "\u001b[0;31mTypeError\u001b[0m: test5() takes 0 positional arguments but 3 were given"
     ]
    }
   ],
   "source": [
    "test5(2,2,2)#dought why this function is not working"
   ]
  },
  {
   "cell_type": "code",
   "execution_count": 15,
   "id": "3487aad3-cc15-40e5-b284-bc4255bd4ee9",
   "metadata": {},
   "outputs": [],
   "source": [
    "def test6(a,b):\n",
    "    return a+b\n"
   ]
  },
  {
   "cell_type": "code",
   "execution_count": 16,
   "id": "02a89334-7f39-472a-b1a3-15d7c7b36f7e",
   "metadata": {},
   "outputs": [
    {
     "data": {
      "text/plain": [
       "7"
      ]
     },
     "execution_count": 16,
     "metadata": {},
     "output_type": "execute_result"
    }
   ],
   "source": [
    "test6(3,4)"
   ]
  },
  {
   "cell_type": "code",
   "execution_count": 18,
   "id": "900ae138-4568-488b-94ae-1c80675e38de",
   "metadata": {},
   "outputs": [
    {
     "data": {
      "text/plain": [
       "'sudhkumar'"
      ]
     },
     "execution_count": 18,
     "metadata": {},
     "output_type": "execute_result"
    }
   ],
   "source": [
    "test6(\"sudh\",\"kumar\")#concatenate will take place"
   ]
  },
  {
   "cell_type": "code",
   "execution_count": 19,
   "id": "a7028e65-081c-4535-8567-7fd6800deac8",
   "metadata": {},
   "outputs": [
    {
     "data": {
      "text/plain": [
       "[1, 2, 3, 4, 6, 7, 8, 9]"
      ]
     },
     "execution_count": 19,
     "metadata": {},
     "output_type": "execute_result"
    }
   ],
   "source": [
    "test6([1,2,3,4],[6,7,8,9])"
   ]
  },
  {
   "cell_type": "code",
   "execution_count": 20,
   "id": "6ed41178-14f3-4b53-b8ab-3988fc8ea256",
   "metadata": {},
   "outputs": [],
   "source": [
    "l=[1,2,3,4,5,\"sudh\",\"kumar\",[1,2,3,4,5]]"
   ]
  },
  {
   "cell_type": "code",
   "execution_count": 21,
   "id": "a3ee1bb0-ef10-4525-9360-5305b780e1e8",
   "metadata": {},
   "outputs": [],
   "source": [
    "#find the integers of the list of integer numbers into another list"
   ]
  },
  {
   "cell_type": "code",
   "execution_count": 22,
   "id": "1a22ce65-e112-45dd-85c4-19afb9fbc892",
   "metadata": {},
   "outputs": [],
   "source": [
    "#without function"
   ]
  },
  {
   "cell_type": "code",
   "execution_count": 23,
   "id": "d966bccc-34b3-4003-bf2e-f08713504560",
   "metadata": {},
   "outputs": [],
   "source": [
    "l1=[]\n",
    "for i in l:\n",
    "    if type(i)==int or type(i)==float:\n",
    "        l1.append(i)"
   ]
  },
  {
   "cell_type": "code",
   "execution_count": 24,
   "id": "3f8fcbc6-f5c5-4851-91bd-b350a249dcd7",
   "metadata": {},
   "outputs": [
    {
     "data": {
      "text/plain": [
       "[1, 2, 3, 4, 5]"
      ]
     },
     "execution_count": 24,
     "metadata": {},
     "output_type": "execute_result"
    }
   ],
   "source": [
    "l1"
   ]
  },
  {
   "cell_type": "code",
   "execution_count": 25,
   "id": "bd793e14-7eaf-4ecb-8e59-0b380da9ed8f",
   "metadata": {},
   "outputs": [],
   "source": [
    "#function"
   ]
  },
  {
   "cell_type": "code",
   "execution_count": 35,
   "id": "83c639be-d01e-4abb-a0a9-21bb85871c5c",
   "metadata": {},
   "outputs": [],
   "source": [
    "def test7(l):\n",
    "    l1=[]\n",
    "    for i in l:\n",
    "        if type(i)==int or type(i)==float:\n",
    "            l1.append(i)\n",
    "    return l1"
   ]
  },
  {
   "cell_type": "code",
   "execution_count": 36,
   "id": "6ab10176-24c2-473b-b1a6-130103ac18d6",
   "metadata": {},
   "outputs": [
    {
     "data": {
      "text/plain": [
       "[1, 2, 3, 4, 5]"
      ]
     },
     "execution_count": 36,
     "metadata": {},
     "output_type": "execute_result"
    }
   ],
   "source": [
    "test7(l)"
   ]
  },
  {
   "cell_type": "code",
   "execution_count": 37,
   "id": "994ffa9e-d36f-4f6d-84ce-547deb65906a",
   "metadata": {},
   "outputs": [
    {
     "data": {
      "text/plain": [
       "[1, 2, 3, 4, 5, 'sudh', 'kumar', [1, 2, 3, 4, 5]]"
      ]
     },
     "execution_count": 37,
     "metadata": {},
     "output_type": "execute_result"
    }
   ],
   "source": [
    "l"
   ]
  },
  {
   "cell_type": "code",
   "execution_count": 38,
   "id": "f94b4425-0aab-4cbb-935f-83850261329e",
   "metadata": {},
   "outputs": [],
   "source": [
    "#we also want list in list"
   ]
  },
  {
   "cell_type": "code",
   "execution_count": 43,
   "id": "138c3676-854e-4260-bca4-78dadffe28b1",
   "metadata": {},
   "outputs": [],
   "source": [
    "def test8(a):\n",
    "    l=[]\n",
    "    for i in a:\n",
    "        if type(i)==list:\n",
    "            for j in i:\n",
    "                l.append(j)\n",
    "        else:\n",
    "            if type(i)==int or type(i)==float:\n",
    "                l.append(i)\n",
    "    return l"
   ]
  },
  {
   "cell_type": "code",
   "execution_count": 44,
   "id": "d3d35929-0655-4688-9ff9-f25b880c464f",
   "metadata": {},
   "outputs": [
    {
     "data": {
      "text/plain": [
       "[1, 2, 3, 4, 5, 1, 2, 3, 4, 5]"
      ]
     },
     "execution_count": 44,
     "metadata": {},
     "output_type": "execute_result"
    }
   ],
   "source": [
    "test8(l)"
   ]
  },
  {
   "cell_type": "code",
   "execution_count": 45,
   "id": "3ca7edf6-e675-4b18-aa12-d9b4a16a7195",
   "metadata": {},
   "outputs": [
    {
     "data": {
      "text/plain": [
       "[1, 2, 3, 4, 5, 'sudh', 'kumar', [1, 2, 3, 4, 5]]"
      ]
     },
     "execution_count": 45,
     "metadata": {},
     "output_type": "execute_result"
    }
   ],
   "source": [
    "l"
   ]
  },
  {
   "cell_type": "code",
   "execution_count": 47,
   "id": "4f6b291f-946b-42a8-a457-1bb020e304ed",
   "metadata": {},
   "outputs": [],
   "source": [
    "#press tab key and it will not show any description test8()"
   ]
  },
  {
   "cell_type": "code",
   "execution_count": 48,
   "id": "cc711872-bd9c-4b6e-8e27-f6e26e4c0b03",
   "metadata": {},
   "outputs": [],
   "source": [
    "# to write description will call doc string\n"
   ]
  },
  {
   "cell_type": "code",
   "execution_count": 5,
   "id": "61fdd19c-b7ca-4404-90a8-2f713b4392fe",
   "metadata": {},
   "outputs": [],
   "source": [
    "def test9(a):\n",
    "    '''this is my function to excract num data from the list'''\n",
    "    l=[]\n",
    "    for i in a:\n",
    "        if type(i)==list:\n",
    "            for j in i:\n",
    "                l.append(j)\n",
    "        else:\n",
    "            if type(i)==int or type(i)==float:\n",
    "                l.append(i)\n",
    "    return l"
   ]
  },
  {
   "cell_type": "code",
   "execution_count": 6,
   "id": "1bf23104-8ce5-4b40-9f2f-161ab5809ae6",
   "metadata": {},
   "outputs": [
    {
     "data": {
      "text/plain": [
       "[1, 2, 3, 4, 5]"
      ]
     },
     "execution_count": 6,
     "metadata": {},
     "output_type": "execute_result"
    }
   ],
   "source": [
    "test9(l)"
   ]
  },
  {
   "cell_type": "code",
   "execution_count": 51,
   "id": "b5545366-d722-4b60-871b-a193a2457fc8",
   "metadata": {},
   "outputs": [],
   "source": [
    "def test10(a,b):\n",
    "    return a+b"
   ]
  },
  {
   "cell_type": "code",
   "execution_count": 52,
   "id": "6afe6d9f-0020-46c0-963f-ca6bdb0d6269",
   "metadata": {},
   "outputs": [],
   "source": [
    "#there can be so many outputs where it should be dynamic"
   ]
  },
  {
   "cell_type": "code",
   "execution_count": 53,
   "id": "ef361ba7-b4a1-44fb-8a5c-fa17d08c8377",
   "metadata": {},
   "outputs": [],
   "source": [
    "def test11(*args):# * is steric whic means n number of arguments can be passed in the function\n",
    "    return args   # it is always stored in the touple"
   ]
  },
  {
   "cell_type": "code",
   "execution_count": 54,
   "id": "66d05802-e662-40a6-afee-7bca3800986b",
   "metadata": {},
   "outputs": [
    {
     "data": {
      "text/plain": [
       "tuple"
      ]
     },
     "execution_count": 54,
     "metadata": {},
     "output_type": "execute_result"
    }
   ],
   "source": [
    "type(test11())"
   ]
  },
  {
   "cell_type": "code",
   "execution_count": 55,
   "id": "80977c74-2f91-4806-86e4-484d815aa9ab",
   "metadata": {},
   "outputs": [
    {
     "data": {
      "text/plain": [
       "(1, 2, 3)"
      ]
     },
     "execution_count": 55,
     "metadata": {},
     "output_type": "execute_result"
    }
   ],
   "source": [
    "test11(1,2,3)"
   ]
  },
  {
   "cell_type": "code",
   "execution_count": 56,
   "id": "199d38d3-5018-49f5-933f-7cb2be65b978",
   "metadata": {},
   "outputs": [
    {
     "data": {
      "text/plain": [
       "(1, 2, 3, 'sudh', 'kumar', [1, 2, 3, 4, 4])"
      ]
     },
     "execution_count": 56,
     "metadata": {},
     "output_type": "execute_result"
    }
   ],
   "source": [
    "test11(1,2,3,\"sudh\",\"kumar\",[1,2,3,4,4])"
   ]
  },
  {
   "cell_type": "code",
   "execution_count": 7,
   "id": "615e0410-2325-448d-8e4d-e2d26faab63f",
   "metadata": {},
   "outputs": [],
   "source": [
    "def test12(*bhupesh):\n",
    "    return bhupesh"
   ]
  },
  {
   "cell_type": "code",
   "execution_count": 8,
   "id": "717a1c34-6f63-4895-9d92-b7f922f63687",
   "metadata": {},
   "outputs": [
    {
     "data": {
      "text/plain": [
       "(1,)"
      ]
     },
     "execution_count": 8,
     "metadata": {},
     "output_type": "execute_result"
    }
   ],
   "source": [
    "test12(1)"
   ]
  },
  {
   "cell_type": "code",
   "execution_count": 9,
   "id": "62fc8736-a6c6-4862-804a-f9753f983aad",
   "metadata": {},
   "outputs": [],
   "source": [
    "def test13(*args,a):\n",
    "    return args,a"
   ]
  },
  {
   "cell_type": "code",
   "execution_count": 10,
   "id": "b5615f4f-88f8-4066-921b-3c496866a6d9",
   "metadata": {},
   "outputs": [
    {
     "ename": "TypeError",
     "evalue": "test13() missing 1 required keyword-only argument: 'a'",
     "output_type": "error",
     "traceback": [
      "\u001b[0;31m---------------------------------------------------------------------------\u001b[0m",
      "\u001b[0;31mTypeError\u001b[0m                                 Traceback (most recent call last)",
      "Cell \u001b[0;32mIn[10], line 1\u001b[0m\n\u001b[0;32m----> 1\u001b[0m \u001b[43mtest13\u001b[49m\u001b[43m(\u001b[49m\u001b[38;5;241;43m1\u001b[39;49m\u001b[43m,\u001b[49m\u001b[38;5;241;43m2\u001b[39;49m\u001b[43m,\u001b[49m\u001b[38;5;241;43m3\u001b[39;49m\u001b[43m,\u001b[49m\u001b[38;5;241;43m4\u001b[39;49m\u001b[43m)\u001b[49m\n",
      "\u001b[0;31mTypeError\u001b[0m: test13() missing 1 required keyword-only argument: 'a'"
     ]
    }
   ],
   "source": [
    "test13(1,2,3,4)"
   ]
  },
  {
   "cell_type": "code",
   "execution_count": 63,
   "id": "c009f6d8-9c9e-4e42-866b-890820135138",
   "metadata": {},
   "outputs": [],
   "source": [
    "#now it confuses because it can be either for multiple args or for a"
   ]
  },
  {
   "cell_type": "code",
   "execution_count": 64,
   "id": "fcd5ad82-a8f8-4c9b-875e-4ae88ec04299",
   "metadata": {},
   "outputs": [],
   "source": [
    "#in order to solve such problem we will specify value of a"
   ]
  },
  {
   "cell_type": "code",
   "execution_count": 65,
   "id": "51ac8f21-d2d7-4096-95a5-8811eee10eaa",
   "metadata": {},
   "outputs": [
    {
     "data": {
      "text/plain": [
       "((1, 2, 3, 4), 5)"
      ]
     },
     "execution_count": 65,
     "metadata": {},
     "output_type": "execute_result"
    }
   ],
   "source": [
    "test13(1,2,3,4,a=5)"
   ]
  },
  {
   "cell_type": "code",
   "execution_count": 70,
   "id": "ac70f708-127a-4b35-b0bf-3f626c6f11e7",
   "metadata": {},
   "outputs": [],
   "source": [
    "def test14(c,d,a=23,b=1):\n",
    "    return a,b,c,d\n",
    "\n"
   ]
  },
  {
   "cell_type": "code",
   "execution_count": 71,
   "id": "2da6384c-2f4e-434c-b18b-1e3f2bae86a9",
   "metadata": {},
   "outputs": [
    {
     "ename": "TypeError",
     "evalue": "test14() missing 2 required positional arguments: 'c' and 'd'",
     "output_type": "error",
     "traceback": [
      "\u001b[0;31m---------------------------------------------------------------------------\u001b[0m",
      "\u001b[0;31mTypeError\u001b[0m                                 Traceback (most recent call last)",
      "Cell \u001b[0;32mIn[71], line 1\u001b[0m\n\u001b[0;32m----> 1\u001b[0m \u001b[43mtest14\u001b[49m\u001b[43m(\u001b[49m\u001b[43m)\u001b[49m\n",
      "\u001b[0;31mTypeError\u001b[0m: test14() missing 2 required positional arguments: 'c' and 'd'"
     ]
    }
   ],
   "source": [
    "test14()"
   ]
  },
  {
   "cell_type": "code",
   "execution_count": 69,
   "id": "f92f0363-8d1c-4ddc-9299-93c2f2a7f210",
   "metadata": {},
   "outputs": [
    {
     "data": {
      "text/plain": [
       "(23, 1, 3, 4)"
      ]
     },
     "execution_count": 69,
     "metadata": {},
     "output_type": "execute_result"
    }
   ],
   "source": [
    "test14(3,4)"
   ]
  },
  {
   "cell_type": "code",
   "execution_count": 72,
   "id": "cba3a59a-5490-4956-903a-672a541983ef",
   "metadata": {},
   "outputs": [],
   "source": [
    "#we can also change the value of a and b"
   ]
  },
  {
   "cell_type": "code",
   "execution_count": 73,
   "id": "80018067-e15c-4b6d-836b-cdc5e3e91aca",
   "metadata": {},
   "outputs": [
    {
     "data": {
      "text/plain": [
       "(897, 1, 2, 5)"
      ]
     },
     "execution_count": 73,
     "metadata": {},
     "output_type": "execute_result"
    }
   ],
   "source": [
    "test14(2,5,a=897)"
   ]
  },
  {
   "cell_type": "code",
   "execution_count": 74,
   "id": "5e5fc385-0e6f-4611-87c6-615846649e3b",
   "metadata": {},
   "outputs": [],
   "source": [
    "# if we our output in the dictionary type than do double "
   ]
  },
  {
   "cell_type": "code",
   "execution_count": 75,
   "id": "7a9c371f-1f9a-407f-88ae-b5fa74e2c31c",
   "metadata": {},
   "outputs": [],
   "source": [
    "def test15(**bhupesh):\n",
    "    return bhupesh"
   ]
  },
  {
   "cell_type": "code",
   "execution_count": 76,
   "id": "3152b363-3172-4af0-ad75-3fa1e062caab",
   "metadata": {},
   "outputs": [
    {
     "data": {
      "text/plain": [
       "{}"
      ]
     },
     "execution_count": 76,
     "metadata": {},
     "output_type": "execute_result"
    }
   ],
   "source": [
    "test15()"
   ]
  },
  {
   "cell_type": "code",
   "execution_count": 77,
   "id": "ebce72fb-f908-4d5c-a41e-20be7a8a96c1",
   "metadata": {},
   "outputs": [
    {
     "data": {
      "text/plain": [
       "dict"
      ]
     },
     "execution_count": 77,
     "metadata": {},
     "output_type": "execute_result"
    }
   ],
   "source": [
    "type(test15())"
   ]
  },
  {
   "cell_type": "code",
   "execution_count": 78,
   "id": "4a96ef90-e61f-46af-bb3b-124c2096eea9",
   "metadata": {},
   "outputs": [],
   "source": [
    "#and it will return the value in the form of key value pair"
   ]
  },
  {
   "cell_type": "code",
   "execution_count": 79,
   "id": "d890920d-bf5c-4557-8e1f-210d051f74f4",
   "metadata": {},
   "outputs": [
    {
     "data": {
      "text/plain": [
       "{'a': [1, 2, 3, 4, 5], 'b': 'bhupesh', 'c': 34.56}"
      ]
     },
     "execution_count": 79,
     "metadata": {},
     "output_type": "execute_result"
    }
   ],
   "source": [
    "test15(a=[1,2,3,4,5],b=\"bhupesh\",c=34.56)"
   ]
  },
  {
   "cell_type": "code",
   "execution_count": null,
   "id": "43bb837b-1328-4806-aa9d-7929554bb427",
   "metadata": {},
   "outputs": [],
   "source": []
  }
 ],
 "metadata": {
  "kernelspec": {
   "display_name": "Python 3 (ipykernel)",
   "language": "python",
   "name": "python3"
  },
  "language_info": {
   "codemirror_mode": {
    "name": "ipython",
    "version": 3
   },
   "file_extension": ".py",
   "mimetype": "text/x-python",
   "name": "python",
   "nbconvert_exporter": "python",
   "pygments_lexer": "ipython3",
   "version": "3.10.8"
  }
 },
 "nbformat": 4,
 "nbformat_minor": 5
}
