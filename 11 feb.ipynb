{
 "cells": [
  {
   "cell_type": "code",
   "execution_count": 1,
   "id": "060c7514-a93d-4ce5-8bd4-b729f58c3e9a",
   "metadata": {},
   "outputs": [],
   "source": [
    "#### working with files operation"
   ]
  },
  {
   "cell_type": "code",
   "execution_count": 3,
   "id": "2fa6fb3a-784e-45e7-a862-ad325d57c811",
   "metadata": {},
   "outputs": [],
   "source": [
    "f=open(\"test.tst\",\"w\")# now file is created"
   ]
  },
  {
   "cell_type": "code",
   "execution_count": 4,
   "id": "8ba1e884-b705-4bb9-9c6b-a4fd2aa2c0fb",
   "metadata": {},
   "outputs": [],
   "source": [
    "#to know where the file is opened"
   ]
  },
  {
   "cell_type": "code",
   "execution_count": 5,
   "id": "3f4884a3-50af-4792-8450-14c4117500a1",
   "metadata": {},
   "outputs": [
    {
     "data": {
      "text/plain": [
       "'/home/jovyan/work/lectures notes'"
      ]
     },
     "execution_count": 5,
     "metadata": {},
     "output_type": "execute_result"
    }
   ],
   "source": [
    "pwd"
   ]
  },
  {
   "cell_type": "code",
   "execution_count": 6,
   "id": "e4c792da-7646-4610-9bf6-14548dd282c8",
   "metadata": {},
   "outputs": [
    {
     "name": "stdout",
     "output_type": "stream",
     "text": [
      " 10feb.ipynb    '4 feb.ipynb'   dict,conditional,loop.ipynb  'rough work.ipynb'\n",
      "'11 feb.ipynb'  '5 feb.ipynb'  'for loop practice.ipynb'      test.tst\n",
      "'3 feb.ipynb'   '8 feb.ipynb'   list,tuple,set.ipynb          text.txt\n"
     ]
    }
   ],
   "source": [
    "ls"
   ]
  },
  {
   "cell_type": "code",
   "execution_count": 7,
   "id": "1e2f9df3-30e8-49ca-bd4a-47185e04b329",
   "metadata": {},
   "outputs": [],
   "source": [
    "#now we want to change the location of the file "
   ]
  },
  {
   "cell_type": "code",
   "execution_count": 8,
   "id": "4e6587f8-9ef4-4f64-8b0e-847df4a2dd61",
   "metadata": {},
   "outputs": [
    {
     "name": "stdout",
     "output_type": "stream",
     "text": [
      "[Errno 2] No such file or directory: 'work'\n",
      "/home/jovyan/work/lectures notes\n"
     ]
    }
   ],
   "source": [
    "cd work"
   ]
  },
  {
   "cell_type": "code",
   "execution_count": 9,
   "id": "58aa77e6-3c2d-4c80-8082-5ec1d2fec145",
   "metadata": {},
   "outputs": [
    {
     "name": "stdout",
     "output_type": "stream",
     "text": [
      " 10feb.ipynb    '4 feb.ipynb'   dict,conditional,loop.ipynb  'rough work.ipynb'\n",
      "'11 feb.ipynb'  '5 feb.ipynb'  'for loop practice.ipynb'      test.tst\n",
      "'3 feb.ipynb'   '8 feb.ipynb'   list,tuple,set.ipynb          text.txt\n"
     ]
    }
   ],
   "source": [
    "ls#list"
   ]
  },
  {
   "cell_type": "code",
   "execution_count": 10,
   "id": "5f56cc0e-db72-40c9-8ed2-7a68df50068a",
   "metadata": {},
   "outputs": [],
   "source": [
    "# if we want to add something in the test.txt file"
   ]
  },
  {
   "cell_type": "code",
   "execution_count": 11,
   "id": "15898bcd-27d5-4699-9f61-078296480f1a",
   "metadata": {},
   "outputs": [
    {
     "data": {
      "text/plain": [
       "30"
      ]
     },
     "execution_count": 11,
     "metadata": {},
     "output_type": "execute_result"
    }
   ],
   "source": [
    "f.write(\"this is my first file to write\")"
   ]
  },
  {
   "cell_type": "code",
   "execution_count": 12,
   "id": "b8d00030-87cf-49f7-b881-02e19e569ce2",
   "metadata": {},
   "outputs": [],
   "source": [
    "f.close()"
   ]
  },
  {
   "cell_type": "code",
   "execution_count": 13,
   "id": "fc3abe3c-b1c0-432e-9a90-16e331d82a9d",
   "metadata": {},
   "outputs": [],
   "source": [
    "############\n"
   ]
  },
  {
   "cell_type": "code",
   "execution_count": 14,
   "id": "c7e3ef43-84c7-4a0c-90f4-f86991d4d6e3",
   "metadata": {},
   "outputs": [],
   "source": [
    "f=open(\"text.txt\",\"w\")"
   ]
  },
  {
   "cell_type": "code",
   "execution_count": 15,
   "id": "14bfe01d-4ad0-4247-84f0-a2dcec42d92f",
   "metadata": {},
   "outputs": [
    {
     "data": {
      "text/plain": [
       "15"
      ]
     },
     "execution_count": 15,
     "metadata": {},
     "output_type": "execute_result"
    }
   ],
   "source": [
    "f.write(\"this is my file\")"
   ]
  },
  {
   "cell_type": "code",
   "execution_count": 16,
   "id": "04f65d26-88eb-4c05-993e-9789f9728af2",
   "metadata": {},
   "outputs": [],
   "source": [
    "f.close()"
   ]
  },
  {
   "cell_type": "code",
   "execution_count": 17,
   "id": "bd456fc9-9712-46d7-b964-b12f23a5a934",
   "metadata": {},
   "outputs": [],
   "source": [
    "# the previous string is removed and display a new string and to disobey this condition we can change the mode "
   ]
  },
  {
   "cell_type": "code",
   "execution_count": 30,
   "id": "5d138a10-1f8d-4674-aa29-d7747480fcec",
   "metadata": {},
   "outputs": [],
   "source": [
    "f=open(\"text.tst\",\"a\")"
   ]
  },
  {
   "cell_type": "code",
   "execution_count": 31,
   "id": "47fdace7-80d9-4f79-904d-26e3cd939284",
   "metadata": {},
   "outputs": [
    {
     "data": {
      "text/plain": [
       "765"
      ]
     },
     "execution_count": 31,
     "metadata": {},
     "output_type": "execute_result"
    }
   ],
   "source": [
    "f.write(\"Data Science Masters course is highly curated and uniquely designed according to the latest industry standards. This program instills students the skills essential to knowledge discovery efforts to identify standard, novel, and truly differentiated solutions and decision-making, including skills in managing, querying, analyzing, visualizing, and extracting meaning from extremely large data sets. This trending program provides students with the statistical, mathematical and computational skills needed to meet the large-scale data science challenges of today's professional world. You will learn all the stack required to work in data science industry including cloud infrastructure and real-time industry projects. This course will be taught in Hindi language.\")"
   ]
  },
  {
   "cell_type": "code",
   "execution_count": 32,
   "id": "be713648-2bfa-48bd-a3e5-c050ca21c6cf",
   "metadata": {},
   "outputs": [],
   "source": [
    "f.close()"
   ]
  },
  {
   "cell_type": "code",
   "execution_count": 33,
   "id": "5354efc6-a8dd-4cf4-98d6-5d86eeb4daf7",
   "metadata": {},
   "outputs": [],
   "source": [
    "###########"
   ]
  },
  {
   "cell_type": "code",
   "execution_count": 36,
   "id": "cc31cf15-4fdf-41e5-96d9-e739f4f2244a",
   "metadata": {},
   "outputs": [],
   "source": [
    "f=open(\"text.tst\",\"r\")"
   ]
  },
  {
   "cell_type": "code",
   "execution_count": 37,
   "id": "1193c428-54f7-4a29-bef6-6eec9d956b75",
   "metadata": {},
   "outputs": [
    {
     "data": {
      "text/plain": [
       "\"Data Science Masters course is highly curated and uniquely designed according to the latest industry standards. This program instills students the skills essential to knowledge discovery efforts to identify standard, novel, and truly differentiated solutions and decision-making, including skills in managing, querying, analyzing, visualizing, and extracting meaning from extremely large data sets. This trending program provides students with the statistical, mathematical and computational skills needed to meet the large-scale data science challenges of today's professional world. You will learn all the stack required to work in data science industry including cloud infrastructure and real-time industry projects. This course will be taught in Hindi language.Data Science Masters course is highly curated and uniquely designed according to the latest industry standards. This program instills students the skills essential to knowledge discovery efforts to identify standard, novel, and truly differentiated solutions and decision-making, including skills in managing, querying, analyzing, visualizing, and extracting meaning from extremely large data sets. This trending program provides students with the statistical, mathematical and computational skills needed to meet the large-scale data science challenges of today's professional world. You will learn all the stack required to work in data science industry including cloud infrastructure and real-time industry projects. This course will be taught in Hindi language.\""
      ]
     },
     "execution_count": 37,
     "metadata": {},
     "output_type": "execute_result"
    }
   ],
   "source": [
    "f.read()"
   ]
  },
  {
   "cell_type": "code",
   "execution_count": 39,
   "id": "f8a3c3fb-9516-471e-8737-55246d2c1f61",
   "metadata": {},
   "outputs": [],
   "source": [
    "# or another method is if we want to store the data"
   ]
  },
  {
   "cell_type": "code",
   "execution_count": 2,
   "id": "c3baab71-0ec9-4561-b6ea-f720c91a025c",
   "metadata": {},
   "outputs": [],
   "source": [
    "data=open(\"text.txt\",\"r\")\n",
    "\n"
   ]
  },
  {
   "cell_type": "code",
   "execution_count": 3,
   "id": "b677ecc6-4037-470e-a342-206d24a97247",
   "metadata": {},
   "outputs": [
    {
     "data": {
      "text/plain": [
       "\"this is my fileData Science Masters course is highly curated and uniquely designed according to the latest industry standards. This program instills students the skills essential to knowledge discovery efforts to identify standard, novel, and truly differentiated solutions and decision-making, including skills in managing, querying, analyzing, visualizing, and extracting meaning from extremely large data sets. This trending program provides students with the statistical, mathematical and computational skills needed to meet the large-scale data science challenges of today's professional world. You will learn all the stack required to work in data science industry including cloud infrastructure and real-time industry projects. This course will be taught in Hindi language.\""
      ]
     },
     "execution_count": 3,
     "metadata": {},
     "output_type": "execute_result"
    }
   ],
   "source": [
    "data.read()"
   ]
  },
  {
   "cell_type": "code",
   "execution_count": 4,
   "id": "ea3ad8a4-179d-46e6-beaf-63fa117a9adf",
   "metadata": {},
   "outputs": [],
   "source": [
    "# if we want to read the data line by line than"
   ]
  },
  {
   "cell_type": "code",
   "execution_count": 5,
   "id": "f35f80bc-8ed0-4dec-8d77-ace29644eeef",
   "metadata": {},
   "outputs": [
    {
     "data": {
      "text/plain": [
       "''"
      ]
     },
     "execution_count": 5,
     "metadata": {},
     "output_type": "execute_result"
    }
   ],
   "source": [
    "data.readline()"
   ]
  },
  {
   "cell_type": "code",
   "execution_count": 6,
   "id": "4e7d041a-e438-40b1-ac32-2e8a5e9f8bdb",
   "metadata": {},
   "outputs": [],
   "source": [
    "# why it is giving blank"
   ]
  },
  {
   "cell_type": "code",
   "execution_count": 7,
   "id": "6ca76451-905f-4070-881c-887581adc5ae",
   "metadata": {},
   "outputs": [
    {
     "data": {
      "text/plain": [
       "0"
      ]
     },
     "execution_count": 7,
     "metadata": {},
     "output_type": "execute_result"
    }
   ],
   "source": [
    "data.seek(0)"
   ]
  },
  {
   "cell_type": "code",
   "execution_count": 8,
   "id": "ef1eb15e-3081-41a8-b4dc-63ed2cdf6085",
   "metadata": {},
   "outputs": [
    {
     "data": {
      "text/plain": [
       "\"this is my fileData Science Masters course is highly curated and uniquely designed according to the latest industry standards. This program instills students the skills essential to knowledge discovery efforts to identify standard, novel, and truly differentiated solutions and decision-making, including skills in managing, querying, analyzing, visualizing, and extracting meaning from extremely large data sets. This trending program provides students with the statistical, mathematical and computational skills needed to meet the large-scale data science challenges of today's professional world. You will learn all the stack required to work in data science industry including cloud infrastructure and real-time industry projects. This course will be taught in Hindi language.\""
      ]
     },
     "execution_count": 8,
     "metadata": {},
     "output_type": "execute_result"
    }
   ],
   "source": [
    "data.readline()"
   ]
  },
  {
   "cell_type": "code",
   "execution_count": 9,
   "id": "78f3f970-7f80-4d31-af4c-fd3331a37371",
   "metadata": {},
   "outputs": [
    {
     "data": {
      "text/plain": [
       "''"
      ]
     },
     "execution_count": 9,
     "metadata": {},
     "output_type": "execute_result"
    }
   ],
   "source": [
    "data.readline()\n"
   ]
  },
  {
   "cell_type": "code",
   "execution_count": 10,
   "id": "88161e2a-3b0f-4417-b37c-8c5ab9554d54",
   "metadata": {},
   "outputs": [],
   "source": [
    "# what does data.seek does is that put the pointer into the given position which is written between the closed brackets"
   ]
  },
  {
   "cell_type": "code",
   "execution_count": 11,
   "id": "ea25ef21-00af-4928-88d0-e420f6003e39",
   "metadata": {},
   "outputs": [
    {
     "data": {
      "text/plain": [
       "10"
      ]
     },
     "execution_count": 11,
     "metadata": {},
     "output_type": "execute_result"
    }
   ],
   "source": [
    "data.seek(10)"
   ]
  },
  {
   "cell_type": "code",
   "execution_count": 12,
   "id": "caaac0eb-e2eb-4c3e-a1f2-fdaa24a48bdf",
   "metadata": {},
   "outputs": [
    {
     "data": {
      "text/plain": [
       "\" fileData Science Masters course is highly curated and uniquely designed according to the latest industry standards. This program instills students the skills essential to knowledge discovery efforts to identify standard, novel, and truly differentiated solutions and decision-making, including skills in managing, querying, analyzing, visualizing, and extracting meaning from extremely large data sets. This trending program provides students with the statistical, mathematical and computational skills needed to meet the large-scale data science challenges of today's professional world. You will learn all the stack required to work in data science industry including cloud infrastructure and real-time industry projects. This course will be taught in Hindi language.\""
      ]
     },
     "execution_count": 12,
     "metadata": {},
     "output_type": "execute_result"
    }
   ],
   "source": [
    "data.read()"
   ]
  },
  {
   "cell_type": "code",
   "execution_count": 13,
   "id": "bd03e824-9e77-40a0-b75f-c3b94fb11e33",
   "metadata": {},
   "outputs": [],
   "source": [
    "############\n"
   ]
  },
  {
   "cell_type": "code",
   "execution_count": 14,
   "id": "924cbeb4-eb74-414e-a8ed-21a198a7314e",
   "metadata": {},
   "outputs": [],
   "source": [
    "data1=open(\"text.txt\",\"r\")"
   ]
  },
  {
   "cell_type": "code",
   "execution_count": 15,
   "id": "3c786591-b548-49b4-8e69-9238dccb629d",
   "metadata": {},
   "outputs": [
    {
     "name": "stdout",
     "output_type": "stream",
     "text": [
      "this is my fileData Science Masters course is highly curated and uniquely designed according to the latest industry standards. This program instills students the skills essential to knowledge discovery efforts to identify standard, novel, and truly differentiated solutions and decision-making, including skills in managing, querying, analyzing, visualizing, and extracting meaning from extremely large data sets. This trending program provides students with the statistical, mathematical and computational skills needed to meet the large-scale data science challenges of today's professional world. You will learn all the stack required to work in data science industry including cloud infrastructure and real-time industry projects. This course will be taught in Hindi language.\n"
     ]
    }
   ],
   "source": [
    "for i in data1:\n",
    "    print(i)\n",
    "    "
   ]
  },
  {
   "cell_type": "code",
   "execution_count": 16,
   "id": "1a48f1df-f5ea-4cf8-8754-9dd4ce442ab9",
   "metadata": {},
   "outputs": [],
   "source": [
    "# for loop would help in read the data line by line"
   ]
  },
  {
   "cell_type": "code",
   "execution_count": 17,
   "id": "a1dc0d8b-0c5d-4939-bc16-6c8243eb3fc8",
   "metadata": {},
   "outputs": [],
   "source": [
    "###### size of file"
   ]
  },
  {
   "cell_type": "code",
   "execution_count": 21,
   "id": "697a44f7-0343-450f-ae12-fd6518009203",
   "metadata": {},
   "outputs": [],
   "source": [
    "import os# os is perating system\n"
   ]
  },
  {
   "cell_type": "code",
   "execution_count": 22,
   "id": "50f737b2-bc53-4d83-b8ee-182cb11c2d77",
   "metadata": {},
   "outputs": [
    {
     "data": {
      "text/plain": [
       "780"
      ]
     },
     "execution_count": 22,
     "metadata": {},
     "output_type": "execute_result"
    }
   ],
   "source": [
    "os.path.getsize(\"text.txt\")"
   ]
  },
  {
   "cell_type": "code",
   "execution_count": 23,
   "id": "9e7d5b5c-5130-46d6-baa6-591c418ee2f3",
   "metadata": {},
   "outputs": [],
   "source": [
    "# if we want to delete the file"
   ]
  },
  {
   "cell_type": "code",
   "execution_count": 24,
   "id": "6844888e-78ac-49b4-80e2-5bb99ccce7fb",
   "metadata": {},
   "outputs": [],
   "source": [
    "os.remove(\"test.tst\")"
   ]
  },
  {
   "cell_type": "code",
   "execution_count": 25,
   "id": "d548236d-4a68-4226-9216-db39b138e5eb",
   "metadata": {},
   "outputs": [],
   "source": [
    "############3\n"
   ]
  },
  {
   "cell_type": "code",
   "execution_count": 26,
   "id": "2f1da9c3-7fd3-47f8-bb3f-ec849747237d",
   "metadata": {},
   "outputs": [],
   "source": [
    "f=open(\"test1.txt\",\"w\")"
   ]
  },
  {
   "cell_type": "code",
   "execution_count": 27,
   "id": "d32b6484-c808-434d-8914-026fc91d8ec9",
   "metadata": {},
   "outputs": [
    {
     "data": {
      "text/plain": [
       "765"
      ]
     },
     "execution_count": 27,
     "metadata": {},
     "output_type": "execute_result"
    }
   ],
   "source": [
    "f.write(\"Data Science Masters course is highly curated and uniquely designed according to the latest industry standards. This program instills students the skills essential to knowledge discovery efforts to identify standard, novel, and truly differentiated solutions and decision-making, including skills in managing, querying, analyzing, visualizing, and extracting meaning from extremely large data sets. This trending program provides students with the statistical, mathematical and computational skills needed to meet the large-scale data science challenges of today's professional world. You will learn all the stack required to work in data science industry including cloud infrastructure and real-time industry projects. This course will be taught in Hindi language.\")"
   ]
  },
  {
   "cell_type": "code",
   "execution_count": 28,
   "id": "9d1286eb-2350-4aa2-95b5-74482b594ce6",
   "metadata": {},
   "outputs": [],
   "source": [
    "f.close()\n"
   ]
  },
  {
   "cell_type": "code",
   "execution_count": 29,
   "id": "61b499a1-2ea2-4185-a1e1-74f9f065ad8c",
   "metadata": {},
   "outputs": [],
   "source": [
    "#if we want to rename the file"
   ]
  },
  {
   "cell_type": "code",
   "execution_count": 30,
   "id": "f3ec0ca0-8ac2-49ba-9a60-00413764e7ba",
   "metadata": {},
   "outputs": [],
   "source": [
    "os.rename(\"test1.txt\",\"new.txt\")\n"
   ]
  },
  {
   "cell_type": "code",
   "execution_count": 1,
   "id": "bc4395ff-5852-4776-b89f-09c9dbc1a559",
   "metadata": {},
   "outputs": [],
   "source": [
    "# if we want to generate the multiple copies of it"
   ]
  },
  {
   "cell_type": "code",
   "execution_count": 3,
   "id": "85b6bf84-8c04-4214-833b-c078c2f8af5e",
   "metadata": {},
   "outputs": [],
   "source": [
    "import shutil"
   ]
  },
  {
   "cell_type": "code",
   "execution_count": 4,
   "id": "5e46b123-a7f0-4c18-8660-e988cc6f238f",
   "metadata": {},
   "outputs": [
    {
     "data": {
      "text/plain": [
       "'copy_new.txt'"
      ]
     },
     "execution_count": 4,
     "metadata": {},
     "output_type": "execute_result"
    }
   ],
   "source": [
    "shutil.copy(\"new.txt\",\"copy_new.txt\")\n"
   ]
  },
  {
   "cell_type": "code",
   "execution_count": 5,
   "id": "7348c283-de86-43c3-ae4e-defe8e16ecc3",
   "metadata": {},
   "outputs": [],
   "source": [
    "# or "
   ]
  },
  {
   "cell_type": "code",
   "execution_count": 7,
   "id": "f582aedc-4eec-4eb9-a175-319e11e7d49f",
   "metadata": {},
   "outputs": [
    {
     "name": "stdout",
     "output_type": "stream",
     "text": [
      "Data Science Masters course is highly curated and uniquely designed according to the latest industry standards. This program instills students the skills essential to knowledge discovery efforts to identify standard, novel, and truly differentiated solutions and decision-making, including skills in managing, querying, analyzing, visualizing, and extracting meaning from extremely large data sets. This trending program provides students with the statistical, mathematical and computational skills needed to meet the large-scale data science challenges of today's professional world. You will learn all the stack required to work in data science industry including cloud infrastructure and real-time industry projects. This course will be taught in Hindi language.\n"
     ]
    }
   ],
   "source": [
    "with open(\"new.txt\",\"r\") as f:\n",
    "    print(f.read())\n",
    "    "
   ]
  },
  {
   "cell_type": "code",
   "execution_count": 8,
   "id": "4058a788-d774-4558-b831-175201077fb2",
   "metadata": {},
   "outputs": [],
   "source": [
    "# reading and writting files\n",
    "#for dictionary\n"
   ]
  },
  {
   "cell_type": "code",
   "execution_count": 1,
   "id": "6d6f650f-2406-46ff-a2ca-07113392cb90",
   "metadata": {},
   "outputs": [],
   "source": [
    "data={\n",
    "    \"name\":\"sudh\",\n",
    "    \"mail_id\":\"sudh@gmail.com\",\n",
    "    \"phone number\":987654321,\n",
    "    \"subject\":[\"data science\",\"big data\",\"data analytics\"]\n",
    "}\n",
    "    "
   ]
  },
  {
   "cell_type": "code",
   "execution_count": 2,
   "id": "2ccb7b31-9581-4230-a57f-0b29b4f2f7a2",
   "metadata": {},
   "outputs": [],
   "source": [
    "import json"
   ]
  },
  {
   "cell_type": "code",
   "execution_count": 3,
   "id": "2db7c166-11ed-4401-826e-d289cec76fb4",
   "metadata": {},
   "outputs": [],
   "source": [
    "with open(\"data.json\",\"w\") as f:\n",
    "    json.dump(data,f)"
   ]
  },
  {
   "cell_type": "code",
   "execution_count": 4,
   "id": "8a82ed13-28a6-4a80-bdc3-b657764d2cc3",
   "metadata": {},
   "outputs": [],
   "source": [
    "# if we want to read"
   ]
  },
  {
   "cell_type": "code",
   "execution_count": 5,
   "id": "9a2da787-1633-41f1-b71e-5c0fe0075949",
   "metadata": {},
   "outputs": [],
   "source": [
    "with open(\"data.json\",\"r\") as f:\n",
    "    data1=json.load(f)\n",
    "    "
   ]
  },
  {
   "cell_type": "code",
   "execution_count": 6,
   "id": "10848b9a-5194-4e22-854a-4ad72e8551c6",
   "metadata": {},
   "outputs": [
    {
     "data": {
      "text/plain": [
       "{'name': 'sudh',\n",
       " 'mail_id': 'sudh@gmail.com',\n",
       " 'phone number': 987654321,\n",
       " 'subject': ['data science', 'big data', 'data analytics']}"
      ]
     },
     "execution_count": 6,
     "metadata": {},
     "output_type": "execute_result"
    }
   ],
   "source": [
    "data1"
   ]
  },
  {
   "cell_type": "code",
   "execution_count": 7,
   "id": "bb1da926-9a7b-425c-abf0-7f6e862dcbd8",
   "metadata": {},
   "outputs": [],
   "source": [
    "# if we want to excrat big data\n"
   ]
  },
  {
   "cell_type": "code",
   "execution_count": 8,
   "id": "3023439e-68fa-4146-96ec-79c5ad5f009f",
   "metadata": {},
   "outputs": [
    {
     "data": {
      "text/plain": [
       "'big data'"
      ]
     },
     "execution_count": 8,
     "metadata": {},
     "output_type": "execute_result"
    }
   ],
   "source": [
    "data1[\"subject\"][1]"
   ]
  },
  {
   "cell_type": "code",
   "execution_count": 9,
   "id": "2bc12351-9927-4819-81d8-d2c8862a15ee",
   "metadata": {},
   "outputs": [],
   "source": [
    "##### comma seperator value files"
   ]
  },
  {
   "cell_type": "code",
   "execution_count": 3,
   "id": "0a7c5f74-d96c-4f69-abf3-5d37fbaf0d35",
   "metadata": {},
   "outputs": [],
   "source": [
    "import csv\n"
   ]
  },
  {
   "cell_type": "code",
   "execution_count": 4,
   "id": "3e7fb57d-dba7-4b67-bdac-d5d292163387",
   "metadata": {},
   "outputs": [],
   "source": [
    "data=[[\"name\",\"email_id\",\"phone_number\"],\n",
    "      [\"sudh\",\"sudh@gmail.com\",876765443434],\n",
    "      [\"krish\",\"krish@gmail.com\",7665445566]\n",
    "     ]"
   ]
  },
  {
   "cell_type": "code",
   "execution_count": 5,
   "id": "bd61be0f-9c65-48e8-baf6-98fd5b293e09",
   "metadata": {},
   "outputs": [],
   "source": [
    "with open(\"data.csv\",\"w\") as f:\n",
    "    writer=csv.writer(f)\n",
    "    \n",
    "    for i in data:\n",
    "        writer.writerow(i)"
   ]
  },
  {
   "cell_type": "code",
   "execution_count": 6,
   "id": "f8d7fbae-a84e-4662-916b-7d634cada023",
   "metadata": {},
   "outputs": [],
   "source": [
    "# want to read"
   ]
  },
  {
   "cell_type": "code",
   "execution_count": 7,
   "id": "36f9a1cc-f340-4127-80dc-9b699f9de3bc",
   "metadata": {},
   "outputs": [
    {
     "name": "stdout",
     "output_type": "stream",
     "text": [
      "['name', 'email_id', 'phone_number']\n",
      "['sudh', 'sudh@gmail.com', '876765443434']\n",
      "['krish', 'krish@gmail.com', '7665445566']\n"
     ]
    }
   ],
   "source": [
    "with open(\"data.csv\",\"r\") as f:\n",
    "    read_data=csv.reader(f)\n",
    "    \n",
    "    for i in read_data:\n",
    "        print(i)"
   ]
  },
  {
   "cell_type": "code",
   "execution_count": 8,
   "id": "4ddb4343-8d7f-43eb-9a02-a0ae61613b4e",
   "metadata": {},
   "outputs": [],
   "source": [
    "###############3 binary data"
   ]
  },
  {
   "cell_type": "code",
   "execution_count": 5,
   "id": "14491bad-b721-4c26-bf14-e882406ed090",
   "metadata": {},
   "outputs": [],
   "source": [
    "with open(\"test4.bin\",\"wb\") as f:\n",
    "    f.write(b\"\\x01\\x02\\x03\\x337477\")"
   ]
  },
  {
   "cell_type": "code",
   "execution_count": 6,
   "id": "a5205f37-13eb-43d3-a17e-65b02c7fc612",
   "metadata": {},
   "outputs": [],
   "source": [
    "# it is in code words \n",
    "# and if we want to read it than"
   ]
  },
  {
   "cell_type": "code",
   "execution_count": 7,
   "id": "9054e82a-bfe1-4474-86c8-d323850d1b74",
   "metadata": {},
   "outputs": [
    {
     "name": "stdout",
     "output_type": "stream",
     "text": [
      "b'\\x01\\x02\\x0337477'\n"
     ]
    }
   ],
   "source": [
    "with open(\"test4.bin\",\"rb\") as f:\n",
    "    print(f.read())\n",
    "    "
   ]
  },
  {
   "cell_type": "code",
   "execution_count": 1,
   "id": "6c09f259-b232-499a-93fc-6ec2c417215a",
   "metadata": {},
   "outputs": [],
   "source": [
    "########### buffer read and write"
   ]
  },
  {
   "cell_type": "code",
   "execution_count": 10,
   "id": "fafd59ff-0224-449c-83df-a0682dabc149",
   "metadata": {},
   "outputs": [],
   "source": [
    "import io"
   ]
  },
  {
   "cell_type": "code",
   "execution_count": 11,
   "id": "a856a666-cbb2-4d23-b626-1f668a19b60c",
   "metadata": {},
   "outputs": [],
   "source": [
    "with open(\"test1.txt\",\"wb\") as f:\n",
    "    file=io.BufferedWriter(f)\n",
    "    \n",
    "    file.write(b\"this is my first line\\n\")\n",
    "    file.write(b\"this si my second line\\n\")# where b represents bite\n",
    "    file.flush()\n",
    "    "
   ]
  },
  {
   "cell_type": "code",
   "execution_count": null,
   "id": "80db6379-94b1-4fdb-bc86-ec186e7dcd12",
   "metadata": {},
   "outputs": [],
   "source": []
  },
  {
   "cell_type": "code",
   "execution_count": null,
   "id": "10f24c5b-3f08-41d7-a2bc-9f02ccbbc14f",
   "metadata": {},
   "outputs": [],
   "source": []
  },
  {
   "cell_type": "code",
   "execution_count": null,
   "id": "7be3abe1-e053-4679-b87b-9aec7718fb42",
   "metadata": {},
   "outputs": [],
   "source": []
  },
  {
   "cell_type": "code",
   "execution_count": 3,
   "id": "9c291a38-91ad-4382-a9b3-eacf03e34af9",
   "metadata": {},
   "outputs": [],
   "source": [
    "#for write"
   ]
  },
  {
   "cell_type": "code",
   "execution_count": 12,
   "id": "17887d04-3aba-473d-8bdd-ed253573ac0f",
   "metadata": {},
   "outputs": [
    {
     "name": "stdout",
     "output_type": "stream",
     "text": [
      "b'this is my first line\\nthis si my second line\\n'\n"
     ]
    }
   ],
   "source": [
    "with open(\"test1.txt\",\"rb\") as f:\n",
    "    file=io.BufferedReader(f)\n",
    "    print(file.read())"
   ]
  },
  {
   "cell_type": "code",
   "execution_count": 13,
   "id": "790d01b0-4a25-499f-9493-6908e059651a",
   "metadata": {},
   "outputs": [],
   "source": [
    "############# logging function"
   ]
  },
  {
   "cell_type": "code",
   "execution_count": 14,
   "id": "6c22da6f-14df-42e7-9650-7bb96feb1a49",
   "metadata": {},
   "outputs": [
    {
     "name": "stdout",
     "output_type": "stream",
     "text": [
      "this is my friend\n"
     ]
    }
   ],
   "source": [
    "print(\"this is my friend\")"
   ]
  },
  {
   "cell_type": "code",
   "execution_count": 16,
   "id": "51fcc146-01fd-4d5c-a164-8c15316c2d0a",
   "metadata": {},
   "outputs": [],
   "source": [
    "# it is only available in the console\n",
    "# bot in future if we have to do investigation than we must store the data in the file\n",
    "# so we need in logging\n",
    "# in production grade code we must use logging method instead of print"
   ]
  },
  {
   "cell_type": "code",
   "execution_count": 2,
   "id": "e1d57d0a-048f-4145-bf8c-69da02ff1184",
   "metadata": {},
   "outputs": [],
   "source": [
    "import logging\n"
   ]
  },
  {
   "cell_type": "code",
   "execution_count": 3,
   "id": "b9435b93-9f7c-41e6-8d5f-b650dbf40b83",
   "metadata": {},
   "outputs": [],
   "source": [
    "# then call the basic configuration"
   ]
  },
  {
   "cell_type": "code",
   "execution_count": 4,
   "id": "af35a7ed-4a71-44cb-b892-556e12da1e36",
   "metadata": {},
   "outputs": [],
   "source": [
    "logging.basicConfig(filename=\"test.log\",level=logging.INFO\n",
    "                   \n",
    "                   \n",
    "                   )"
   ]
  },
  {
   "cell_type": "code",
   "execution_count": 5,
   "id": "82ea80b7-cb4c-4be7-9562-89a30eb82740",
   "metadata": {},
   "outputs": [],
   "source": [
    "logging.info(\"log this line of execytion\")"
   ]
  },
  {
   "cell_type": "code",
   "execution_count": 6,
   "id": "12d0b315-8550-4f4f-b54b-db092a2c920c",
   "metadata": {},
   "outputs": [],
   "source": [
    "logging.info(\"this is my friend\")"
   ]
  },
  {
   "cell_type": "code",
   "execution_count": 7,
   "id": "c8cd6d5b-560f-4ca9-ac87-24351216df26",
   "metadata": {},
   "outputs": [
    {
     "data": {
      "text/plain": [
       "' 1-NOTSET\\n    2-DEBUG\\n    3-INFO\\n    4-WARNING\\n    5-ERROR\\n    6-CRITICAL\\n    \\n1 AND 2 ARE NOT ABLE TO LOGGING \\nBUT FROM 3 TO 6 ,ARE HELPFUL IN LOGGING'"
      ]
     },
     "execution_count": 7,
     "metadata": {},
     "output_type": "execute_result"
    }
   ],
   "source": [
    "# there are different levels in info which are\n",
    "\n",
    "''' 1-NOTSET\n",
    "    2-DEBUG\n",
    "    3-INFO\n",
    "    4-WARNING\n",
    "    5-ERROR\n",
    "    6-CRITICAL\n",
    "    \n",
    "1 AND 2 ARE NOT ABLE TO LOGGING \n",
    "BUT FROM 3 TO 6 ,ARE HELPFUL IN LOGGING'''"
   ]
  },
  {
   "cell_type": "code",
   "execution_count": 8,
   "id": "d71a2039-10e9-4397-a74e-eda8bee6eb1e",
   "metadata": {},
   "outputs": [],
   "source": [
    "### EX\n"
   ]
  },
  {
   "cell_type": "code",
   "execution_count": 9,
   "id": "88ccce7b-71fd-4db0-ae07-fc5565ec938a",
   "metadata": {},
   "outputs": [],
   "source": [
    "logging.debug(\"this is my msg\")"
   ]
  },
  {
   "cell_type": "code",
   "execution_count": 10,
   "id": "75404413-c77d-451c-baa9-1c14afe44da6",
   "metadata": {},
   "outputs": [],
   "source": [
    "\n",
    "# where as"
   ]
  },
  {
   "cell_type": "code",
   "execution_count": 11,
   "id": "323de808-e7e0-4159-a2b3-19f511f906f8",
   "metadata": {},
   "outputs": [],
   "source": [
    "logging.warning(\"this is my warning msg\")"
   ]
  },
  {
   "cell_type": "code",
   "execution_count": 12,
   "id": "370ee728-efe7-4795-a6cb-2be05120d809",
   "metadata": {},
   "outputs": [],
   "source": [
    "logging.error(\"this is my error\")"
   ]
  },
  {
   "cell_type": "code",
   "execution_count": 13,
   "id": "1bb21b62-21f3-4505-806e-2646961268e2",
   "metadata": {},
   "outputs": [],
   "source": [
    "logging.critical(\"this is my critical message\")"
   ]
  },
  {
   "cell_type": "code",
   "execution_count": 14,
   "id": "1d9909b8-9333-4aa7-8cd8-f9f7ba284888",
   "metadata": {},
   "outputs": [],
   "source": [
    "logging.shutdown()"
   ]
  },
  {
   "cell_type": "code",
   "execution_count": 15,
   "id": "4b701723-26a1-455d-8641-836e780b847a",
   "metadata": {},
   "outputs": [],
   "source": [
    "# how data is stored"
   ]
  },
  {
   "cell_type": "code",
   "execution_count": 1,
   "id": "caed61c7-9c50-4598-a7f1-ff4067a28dc0",
   "metadata": {},
   "outputs": [],
   "source": [
    "import logging"
   ]
  },
  {
   "cell_type": "code",
   "execution_count": 2,
   "id": "1a44d4ab-f9ab-45bf-b7ca-6d7ab40fce91",
   "metadata": {},
   "outputs": [],
   "source": [
    "logging.basicConfig(filename=\"test1.log\",level=logging.DEBUG,format=\"%(asctime)s%(message)s\")"
   ]
  },
  {
   "cell_type": "code",
   "execution_count": 3,
   "id": "36e25cf3-48b6-4a86-8d95-76250b4efa9d",
   "metadata": {},
   "outputs": [],
   "source": [
    "logging.info(\"this is my info logging\")"
   ]
  },
  {
   "cell_type": "code",
   "execution_count": 4,
   "id": "413b21a5-3906-4551-afcc-92a22b9fa8c2",
   "metadata": {},
   "outputs": [],
   "source": [
    "logging.error(\"this is my error msg\")"
   ]
  },
  {
   "cell_type": "code",
   "execution_count": 5,
   "id": "2f966a9e-74cf-408b-8b03-21a4dc947b1a",
   "metadata": {},
   "outputs": [],
   "source": [
    "logging.critical(\"this is my critical\")"
   ]
  },
  {
   "cell_type": "code",
   "execution_count": 6,
   "id": "9e5a4bc6-0c2f-41e7-a418-f07874bf453a",
   "metadata": {},
   "outputs": [],
   "source": [
    "logging.shutdown()\n"
   ]
  },
  {
   "cell_type": "code",
   "execution_count": 16,
   "id": "360b72ef-cfe5-4c6d-b67d-ef9b33d15485",
   "metadata": {},
   "outputs": [],
   "source": [
    "import logging"
   ]
  },
  {
   "cell_type": "code",
   "execution_count": 17,
   "id": "c43ff4b4-8e3f-42ff-9b64-6104d4be6c6e",
   "metadata": {},
   "outputs": [],
   "source": [
    "logging.basicConfig(filename=\"test2.log\",level=logging.DEBUG,format=\"%(asctime)s%(name)s%(levelname)s%(message)s\")\n"
   ]
  },
  {
   "cell_type": "code",
   "execution_count": 18,
   "id": "25654d9f-1059-401e-b198-0c2f143d98f2",
   "metadata": {},
   "outputs": [],
   "source": [
    "logging.info(\"this is my info logging\")"
   ]
  },
  {
   "cell_type": "code",
   "execution_count": 19,
   "id": "df91a394-384f-46f3-999e-c2c44b552f3f",
   "metadata": {},
   "outputs": [],
   "source": [
    "logging.error(\"this is my error msg\")"
   ]
  },
  {
   "cell_type": "code",
   "execution_count": 20,
   "id": "1f0732ab-8829-44e4-acae-a73d5324753c",
   "metadata": {},
   "outputs": [],
   "source": [
    "logging.critical(\"this is my critical\")"
   ]
  },
  {
   "cell_type": "code",
   "execution_count": null,
   "id": "07b005d7-01e2-4baf-939f-097acbdb3399",
   "metadata": {},
   "outputs": [],
   "source": []
  },
  {
   "cell_type": "code",
   "execution_count": 21,
   "id": "b1bdcb50-9b01-4f5a-8a14-c41c919a7a36",
   "metadata": {},
   "outputs": [],
   "source": [
    "########### practical application"
   ]
  },
  {
   "cell_type": "code",
   "execution_count": 22,
   "id": "0fa1d237-5bd7-4883-81a2-7189ebfc752f",
   "metadata": {},
   "outputs": [],
   "source": [
    "# seperate the data according to their types in a list"
   ]
  },
  {
   "cell_type": "code",
   "execution_count": 8,
   "id": "4dc9f293-cf39-4b03-a9ba-61c8b1627c7c",
   "metadata": {},
   "outputs": [],
   "source": [
    "l=[1,2,3,4,[2,3,4],\"sudh\",\"kumar\"]"
   ]
  },
  {
   "cell_type": "code",
   "execution_count": 9,
   "id": "25208c98-5dc8-4337-acc8-162701129341",
   "metadata": {},
   "outputs": [],
   "source": [
    "l1_int=[]\n",
    "l2_str=[]\n",
    "\n",
    "for i in l:\n",
    "    logging.info(\"we are iterating our list and our local var is i\")\n",
    "    if type(i)==list:\n",
    "        logging.info(\"i am inside if statement and i am trying to check list type\")\n",
    "        for j in i:\n",
    "            logging.info(\"i am in another for loop for list inside list element\")\n",
    "            if type(j)==int:\n",
    "                logging.info(\"i am inside if statement\")\n",
    "                l1_int.append(j)\n",
    "    elif type(i)==int:\n",
    "        l1_int.append(i)\n",
    "    else:\n",
    "        if type(i)==str:\n",
    "            l2_str.append(i)\n",
    "            \n",
    "        \n",
    "    "
   ]
  },
  {
   "cell_type": "code",
   "execution_count": 10,
   "id": "4e849b91-ae01-4e17-88d3-a4c0549e4e91",
   "metadata": {},
   "outputs": [
    {
     "data": {
      "text/plain": [
       "[1, 2, 3, 4, 2, 3, 4]"
      ]
     },
     "execution_count": 10,
     "metadata": {},
     "output_type": "execute_result"
    }
   ],
   "source": [
    "l1_int"
   ]
  },
  {
   "cell_type": "code",
   "execution_count": 11,
   "id": "c4c35dd9-b71b-48f0-b377-05c7c53fe403",
   "metadata": {},
   "outputs": [
    {
     "data": {
      "text/plain": [
       "['sudh', 'kumar']"
      ]
     },
     "execution_count": 11,
     "metadata": {},
     "output_type": "execute_result"
    }
   ],
   "source": [
    "l2_str"
   ]
  },
  {
   "cell_type": "code",
   "execution_count": 12,
   "id": "616d5ecf-d02e-4fe7-acd4-9a92727ba81d",
   "metadata": {},
   "outputs": [],
   "source": [
    "# now we want to logg list\n",
    "\n"
   ]
  },
  {
   "cell_type": "code",
   "execution_count": 13,
   "id": "2cd4afca-7a15-4d5c-9449-ef35573e843b",
   "metadata": {},
   "outputs": [
    {
     "name": "stderr",
     "output_type": "stream",
     "text": [
      "--- Logging error ---\n",
      "Traceback (most recent call last):\n",
      "  File \"/opt/conda/lib/python3.10/logging/__init__.py\", line 1100, in emit\n",
      "    msg = self.format(record)\n",
      "  File \"/opt/conda/lib/python3.10/logging/__init__.py\", line 943, in format\n",
      "    return fmt.format(record)\n",
      "  File \"/opt/conda/lib/python3.10/logging/__init__.py\", line 678, in format\n",
      "    record.message = record.getMessage()\n",
      "  File \"/opt/conda/lib/python3.10/logging/__init__.py\", line 368, in getMessage\n",
      "    msg = msg % self.args\n",
      "TypeError: not all arguments converted during string formatting\n",
      "Call stack:\n",
      "  File \"/opt/conda/lib/python3.10/runpy.py\", line 196, in _run_module_as_main\n",
      "    return _run_code(code, main_globals, None,\n",
      "  File \"/opt/conda/lib/python3.10/runpy.py\", line 86, in _run_code\n",
      "    exec(code, run_globals)\n",
      "  File \"/opt/conda/lib/python3.10/site-packages/ipykernel_launcher.py\", line 17, in <module>\n",
      "    app.launch_new_instance()\n",
      "  File \"/opt/conda/lib/python3.10/site-packages/traitlets/config/application.py\", line 992, in launch_instance\n",
      "    app.start()\n",
      "  File \"/opt/conda/lib/python3.10/site-packages/ipykernel/kernelapp.py\", line 711, in start\n",
      "    self.io_loop.start()\n",
      "  File \"/opt/conda/lib/python3.10/site-packages/tornado/platform/asyncio.py\", line 199, in start\n",
      "    self.asyncio_loop.run_forever()\n",
      "  File \"/opt/conda/lib/python3.10/asyncio/base_events.py\", line 603, in run_forever\n",
      "    self._run_once()\n",
      "  File \"/opt/conda/lib/python3.10/asyncio/base_events.py\", line 1899, in _run_once\n",
      "    handle._run()\n",
      "  File \"/opt/conda/lib/python3.10/asyncio/events.py\", line 80, in _run\n",
      "    self._context.run(self._callback, *self._args)\n",
      "  File \"/opt/conda/lib/python3.10/site-packages/ipykernel/kernelbase.py\", line 510, in dispatch_queue\n",
      "    await self.process_one()\n",
      "  File \"/opt/conda/lib/python3.10/site-packages/ipykernel/kernelbase.py\", line 499, in process_one\n",
      "    await dispatch(*args)\n",
      "  File \"/opt/conda/lib/python3.10/site-packages/ipykernel/kernelbase.py\", line 406, in dispatch_shell\n",
      "    await result\n",
      "  File \"/opt/conda/lib/python3.10/site-packages/ipykernel/kernelbase.py\", line 729, in execute_request\n",
      "    reply_content = await reply_content\n",
      "  File \"/opt/conda/lib/python3.10/site-packages/ipykernel/ipkernel.py\", line 411, in do_execute\n",
      "    res = shell.run_cell(\n",
      "  File \"/opt/conda/lib/python3.10/site-packages/ipykernel/zmqshell.py\", line 531, in run_cell\n",
      "    return super().run_cell(*args, **kwargs)\n",
      "  File \"/opt/conda/lib/python3.10/site-packages/IPython/core/interactiveshell.py\", line 2940, in run_cell\n",
      "    result = self._run_cell(\n",
      "  File \"/opt/conda/lib/python3.10/site-packages/IPython/core/interactiveshell.py\", line 2995, in _run_cell\n",
      "    return runner(coro)\n",
      "  File \"/opt/conda/lib/python3.10/site-packages/IPython/core/async_helpers.py\", line 129, in _pseudo_sync_runner\n",
      "    coro.send(None)\n",
      "  File \"/opt/conda/lib/python3.10/site-packages/IPython/core/interactiveshell.py\", line 3194, in run_cell_async\n",
      "    has_raised = await self.run_ast_nodes(code_ast.body, cell_name,\n",
      "  File \"/opt/conda/lib/python3.10/site-packages/IPython/core/interactiveshell.py\", line 3373, in run_ast_nodes\n",
      "    if await self.run_code(code, result, async_=asy):\n",
      "  File \"/opt/conda/lib/python3.10/site-packages/IPython/core/interactiveshell.py\", line 3433, in run_code\n",
      "    exec(code_obj, self.user_global_ns, self.user_ns)\n",
      "  File \"/tmp/ipykernel_4123/1386840026.py\", line 5, in <module>\n",
      "    logging.info(\"we are iterating our list and our local var is i\",l)\n",
      "Message: 'we are iterating our list and our local var is i'\n",
      "Arguments: ([1, 2, 3, 4, [2, 3, 4], 'sudh', 'kumar'],)\n",
      "--- Logging error ---\n",
      "Traceback (most recent call last):\n",
      "  File \"/opt/conda/lib/python3.10/logging/__init__.py\", line 1100, in emit\n",
      "    msg = self.format(record)\n",
      "  File \"/opt/conda/lib/python3.10/logging/__init__.py\", line 943, in format\n",
      "    return fmt.format(record)\n",
      "  File \"/opt/conda/lib/python3.10/logging/__init__.py\", line 678, in format\n",
      "    record.message = record.getMessage()\n",
      "  File \"/opt/conda/lib/python3.10/logging/__init__.py\", line 368, in getMessage\n",
      "    msg = msg % self.args\n",
      "TypeError: not all arguments converted during string formatting\n",
      "Call stack:\n",
      "  File \"/opt/conda/lib/python3.10/runpy.py\", line 196, in _run_module_as_main\n",
      "    return _run_code(code, main_globals, None,\n",
      "  File \"/opt/conda/lib/python3.10/runpy.py\", line 86, in _run_code\n",
      "    exec(code, run_globals)\n",
      "  File \"/opt/conda/lib/python3.10/site-packages/ipykernel_launcher.py\", line 17, in <module>\n",
      "    app.launch_new_instance()\n",
      "  File \"/opt/conda/lib/python3.10/site-packages/traitlets/config/application.py\", line 992, in launch_instance\n",
      "    app.start()\n",
      "  File \"/opt/conda/lib/python3.10/site-packages/ipykernel/kernelapp.py\", line 711, in start\n",
      "    self.io_loop.start()\n",
      "  File \"/opt/conda/lib/python3.10/site-packages/tornado/platform/asyncio.py\", line 199, in start\n",
      "    self.asyncio_loop.run_forever()\n",
      "  File \"/opt/conda/lib/python3.10/asyncio/base_events.py\", line 603, in run_forever\n",
      "    self._run_once()\n",
      "  File \"/opt/conda/lib/python3.10/asyncio/base_events.py\", line 1899, in _run_once\n",
      "    handle._run()\n",
      "  File \"/opt/conda/lib/python3.10/asyncio/events.py\", line 80, in _run\n",
      "    self._context.run(self._callback, *self._args)\n",
      "  File \"/opt/conda/lib/python3.10/site-packages/ipykernel/kernelbase.py\", line 510, in dispatch_queue\n",
      "    await self.process_one()\n",
      "  File \"/opt/conda/lib/python3.10/site-packages/ipykernel/kernelbase.py\", line 499, in process_one\n",
      "    await dispatch(*args)\n",
      "  File \"/opt/conda/lib/python3.10/site-packages/ipykernel/kernelbase.py\", line 406, in dispatch_shell\n",
      "    await result\n",
      "  File \"/opt/conda/lib/python3.10/site-packages/ipykernel/kernelbase.py\", line 729, in execute_request\n",
      "    reply_content = await reply_content\n",
      "  File \"/opt/conda/lib/python3.10/site-packages/ipykernel/ipkernel.py\", line 411, in do_execute\n",
      "    res = shell.run_cell(\n",
      "  File \"/opt/conda/lib/python3.10/site-packages/ipykernel/zmqshell.py\", line 531, in run_cell\n",
      "    return super().run_cell(*args, **kwargs)\n",
      "  File \"/opt/conda/lib/python3.10/site-packages/IPython/core/interactiveshell.py\", line 2940, in run_cell\n",
      "    result = self._run_cell(\n",
      "  File \"/opt/conda/lib/python3.10/site-packages/IPython/core/interactiveshell.py\", line 2995, in _run_cell\n",
      "    return runner(coro)\n",
      "  File \"/opt/conda/lib/python3.10/site-packages/IPython/core/async_helpers.py\", line 129, in _pseudo_sync_runner\n",
      "    coro.send(None)\n",
      "  File \"/opt/conda/lib/python3.10/site-packages/IPython/core/interactiveshell.py\", line 3194, in run_cell_async\n",
      "    has_raised = await self.run_ast_nodes(code_ast.body, cell_name,\n",
      "  File \"/opt/conda/lib/python3.10/site-packages/IPython/core/interactiveshell.py\", line 3373, in run_ast_nodes\n",
      "    if await self.run_code(code, result, async_=asy):\n",
      "  File \"/opt/conda/lib/python3.10/site-packages/IPython/core/interactiveshell.py\", line 3433, in run_code\n",
      "    exec(code_obj, self.user_global_ns, self.user_ns)\n",
      "  File \"/tmp/ipykernel_4123/1386840026.py\", line 5, in <module>\n",
      "    logging.info(\"we are iterating our list and our local var is i\",l)\n",
      "Message: 'we are iterating our list and our local var is i'\n",
      "Arguments: ([1, 2, 3, 4, [2, 3, 4], 'sudh', 'kumar'],)\n",
      "--- Logging error ---\n",
      "Traceback (most recent call last):\n",
      "  File \"/opt/conda/lib/python3.10/logging/__init__.py\", line 1100, in emit\n",
      "    msg = self.format(record)\n",
      "  File \"/opt/conda/lib/python3.10/logging/__init__.py\", line 943, in format\n",
      "    return fmt.format(record)\n",
      "  File \"/opt/conda/lib/python3.10/logging/__init__.py\", line 678, in format\n",
      "    record.message = record.getMessage()\n",
      "  File \"/opt/conda/lib/python3.10/logging/__init__.py\", line 368, in getMessage\n",
      "    msg = msg % self.args\n",
      "TypeError: not all arguments converted during string formatting\n",
      "Call stack:\n",
      "  File \"/opt/conda/lib/python3.10/runpy.py\", line 196, in _run_module_as_main\n",
      "    return _run_code(code, main_globals, None,\n",
      "  File \"/opt/conda/lib/python3.10/runpy.py\", line 86, in _run_code\n",
      "    exec(code, run_globals)\n",
      "  File \"/opt/conda/lib/python3.10/site-packages/ipykernel_launcher.py\", line 17, in <module>\n",
      "    app.launch_new_instance()\n",
      "  File \"/opt/conda/lib/python3.10/site-packages/traitlets/config/application.py\", line 992, in launch_instance\n",
      "    app.start()\n",
      "  File \"/opt/conda/lib/python3.10/site-packages/ipykernel/kernelapp.py\", line 711, in start\n",
      "    self.io_loop.start()\n",
      "  File \"/opt/conda/lib/python3.10/site-packages/tornado/platform/asyncio.py\", line 199, in start\n",
      "    self.asyncio_loop.run_forever()\n",
      "  File \"/opt/conda/lib/python3.10/asyncio/base_events.py\", line 603, in run_forever\n",
      "    self._run_once()\n",
      "  File \"/opt/conda/lib/python3.10/asyncio/base_events.py\", line 1899, in _run_once\n",
      "    handle._run()\n",
      "  File \"/opt/conda/lib/python3.10/asyncio/events.py\", line 80, in _run\n",
      "    self._context.run(self._callback, *self._args)\n",
      "  File \"/opt/conda/lib/python3.10/site-packages/ipykernel/kernelbase.py\", line 510, in dispatch_queue\n",
      "    await self.process_one()\n",
      "  File \"/opt/conda/lib/python3.10/site-packages/ipykernel/kernelbase.py\", line 499, in process_one\n",
      "    await dispatch(*args)\n",
      "  File \"/opt/conda/lib/python3.10/site-packages/ipykernel/kernelbase.py\", line 406, in dispatch_shell\n",
      "    await result\n",
      "  File \"/opt/conda/lib/python3.10/site-packages/ipykernel/kernelbase.py\", line 729, in execute_request\n",
      "    reply_content = await reply_content\n",
      "  File \"/opt/conda/lib/python3.10/site-packages/ipykernel/ipkernel.py\", line 411, in do_execute\n",
      "    res = shell.run_cell(\n",
      "  File \"/opt/conda/lib/python3.10/site-packages/ipykernel/zmqshell.py\", line 531, in run_cell\n",
      "    return super().run_cell(*args, **kwargs)\n",
      "  File \"/opt/conda/lib/python3.10/site-packages/IPython/core/interactiveshell.py\", line 2940, in run_cell\n",
      "    result = self._run_cell(\n",
      "  File \"/opt/conda/lib/python3.10/site-packages/IPython/core/interactiveshell.py\", line 2995, in _run_cell\n",
      "    return runner(coro)\n",
      "  File \"/opt/conda/lib/python3.10/site-packages/IPython/core/async_helpers.py\", line 129, in _pseudo_sync_runner\n",
      "    coro.send(None)\n",
      "  File \"/opt/conda/lib/python3.10/site-packages/IPython/core/interactiveshell.py\", line 3194, in run_cell_async\n",
      "    has_raised = await self.run_ast_nodes(code_ast.body, cell_name,\n",
      "  File \"/opt/conda/lib/python3.10/site-packages/IPython/core/interactiveshell.py\", line 3373, in run_ast_nodes\n",
      "    if await self.run_code(code, result, async_=asy):\n",
      "  File \"/opt/conda/lib/python3.10/site-packages/IPython/core/interactiveshell.py\", line 3433, in run_code\n",
      "    exec(code_obj, self.user_global_ns, self.user_ns)\n",
      "  File \"/tmp/ipykernel_4123/1386840026.py\", line 5, in <module>\n",
      "    logging.info(\"we are iterating our list and our local var is i\",l)\n",
      "Message: 'we are iterating our list and our local var is i'\n",
      "Arguments: ([1, 2, 3, 4, [2, 3, 4], 'sudh', 'kumar'],)\n",
      "--- Logging error ---\n",
      "Traceback (most recent call last):\n",
      "  File \"/opt/conda/lib/python3.10/logging/__init__.py\", line 1100, in emit\n",
      "    msg = self.format(record)\n",
      "  File \"/opt/conda/lib/python3.10/logging/__init__.py\", line 943, in format\n",
      "    return fmt.format(record)\n",
      "  File \"/opt/conda/lib/python3.10/logging/__init__.py\", line 678, in format\n",
      "    record.message = record.getMessage()\n",
      "  File \"/opt/conda/lib/python3.10/logging/__init__.py\", line 368, in getMessage\n",
      "    msg = msg % self.args\n",
      "TypeError: not all arguments converted during string formatting\n",
      "Call stack:\n",
      "  File \"/opt/conda/lib/python3.10/runpy.py\", line 196, in _run_module_as_main\n",
      "    return _run_code(code, main_globals, None,\n",
      "  File \"/opt/conda/lib/python3.10/runpy.py\", line 86, in _run_code\n",
      "    exec(code, run_globals)\n",
      "  File \"/opt/conda/lib/python3.10/site-packages/ipykernel_launcher.py\", line 17, in <module>\n",
      "    app.launch_new_instance()\n",
      "  File \"/opt/conda/lib/python3.10/site-packages/traitlets/config/application.py\", line 992, in launch_instance\n",
      "    app.start()\n",
      "  File \"/opt/conda/lib/python3.10/site-packages/ipykernel/kernelapp.py\", line 711, in start\n",
      "    self.io_loop.start()\n",
      "  File \"/opt/conda/lib/python3.10/site-packages/tornado/platform/asyncio.py\", line 199, in start\n",
      "    self.asyncio_loop.run_forever()\n",
      "  File \"/opt/conda/lib/python3.10/asyncio/base_events.py\", line 603, in run_forever\n",
      "    self._run_once()\n",
      "  File \"/opt/conda/lib/python3.10/asyncio/base_events.py\", line 1899, in _run_once\n",
      "    handle._run()\n",
      "  File \"/opt/conda/lib/python3.10/asyncio/events.py\", line 80, in _run\n",
      "    self._context.run(self._callback, *self._args)\n",
      "  File \"/opt/conda/lib/python3.10/site-packages/ipykernel/kernelbase.py\", line 510, in dispatch_queue\n",
      "    await self.process_one()\n",
      "  File \"/opt/conda/lib/python3.10/site-packages/ipykernel/kernelbase.py\", line 499, in process_one\n",
      "    await dispatch(*args)\n",
      "  File \"/opt/conda/lib/python3.10/site-packages/ipykernel/kernelbase.py\", line 406, in dispatch_shell\n",
      "    await result\n",
      "  File \"/opt/conda/lib/python3.10/site-packages/ipykernel/kernelbase.py\", line 729, in execute_request\n",
      "    reply_content = await reply_content\n",
      "  File \"/opt/conda/lib/python3.10/site-packages/ipykernel/ipkernel.py\", line 411, in do_execute\n",
      "    res = shell.run_cell(\n",
      "  File \"/opt/conda/lib/python3.10/site-packages/ipykernel/zmqshell.py\", line 531, in run_cell\n",
      "    return super().run_cell(*args, **kwargs)\n",
      "  File \"/opt/conda/lib/python3.10/site-packages/IPython/core/interactiveshell.py\", line 2940, in run_cell\n",
      "    result = self._run_cell(\n",
      "  File \"/opt/conda/lib/python3.10/site-packages/IPython/core/interactiveshell.py\", line 2995, in _run_cell\n",
      "    return runner(coro)\n",
      "  File \"/opt/conda/lib/python3.10/site-packages/IPython/core/async_helpers.py\", line 129, in _pseudo_sync_runner\n",
      "    coro.send(None)\n",
      "  File \"/opt/conda/lib/python3.10/site-packages/IPython/core/interactiveshell.py\", line 3194, in run_cell_async\n",
      "    has_raised = await self.run_ast_nodes(code_ast.body, cell_name,\n",
      "  File \"/opt/conda/lib/python3.10/site-packages/IPython/core/interactiveshell.py\", line 3373, in run_ast_nodes\n",
      "    if await self.run_code(code, result, async_=asy):\n",
      "  File \"/opt/conda/lib/python3.10/site-packages/IPython/core/interactiveshell.py\", line 3433, in run_code\n",
      "    exec(code_obj, self.user_global_ns, self.user_ns)\n",
      "  File \"/tmp/ipykernel_4123/1386840026.py\", line 5, in <module>\n",
      "    logging.info(\"we are iterating our list and our local var is i\",l)\n",
      "Message: 'we are iterating our list and our local var is i'\n",
      "Arguments: ([1, 2, 3, 4, [2, 3, 4], 'sudh', 'kumar'],)\n",
      "--- Logging error ---\n",
      "Traceback (most recent call last):\n",
      "  File \"/opt/conda/lib/python3.10/logging/__init__.py\", line 1100, in emit\n",
      "    msg = self.format(record)\n",
      "  File \"/opt/conda/lib/python3.10/logging/__init__.py\", line 943, in format\n",
      "    return fmt.format(record)\n",
      "  File \"/opt/conda/lib/python3.10/logging/__init__.py\", line 678, in format\n",
      "    record.message = record.getMessage()\n",
      "  File \"/opt/conda/lib/python3.10/logging/__init__.py\", line 368, in getMessage\n",
      "    msg = msg % self.args\n",
      "TypeError: not all arguments converted during string formatting\n",
      "Call stack:\n",
      "  File \"/opt/conda/lib/python3.10/runpy.py\", line 196, in _run_module_as_main\n",
      "    return _run_code(code, main_globals, None,\n",
      "  File \"/opt/conda/lib/python3.10/runpy.py\", line 86, in _run_code\n",
      "    exec(code, run_globals)\n",
      "  File \"/opt/conda/lib/python3.10/site-packages/ipykernel_launcher.py\", line 17, in <module>\n",
      "    app.launch_new_instance()\n",
      "  File \"/opt/conda/lib/python3.10/site-packages/traitlets/config/application.py\", line 992, in launch_instance\n",
      "    app.start()\n",
      "  File \"/opt/conda/lib/python3.10/site-packages/ipykernel/kernelapp.py\", line 711, in start\n",
      "    self.io_loop.start()\n",
      "  File \"/opt/conda/lib/python3.10/site-packages/tornado/platform/asyncio.py\", line 199, in start\n",
      "    self.asyncio_loop.run_forever()\n",
      "  File \"/opt/conda/lib/python3.10/asyncio/base_events.py\", line 603, in run_forever\n",
      "    self._run_once()\n",
      "  File \"/opt/conda/lib/python3.10/asyncio/base_events.py\", line 1899, in _run_once\n",
      "    handle._run()\n",
      "  File \"/opt/conda/lib/python3.10/asyncio/events.py\", line 80, in _run\n",
      "    self._context.run(self._callback, *self._args)\n",
      "  File \"/opt/conda/lib/python3.10/site-packages/ipykernel/kernelbase.py\", line 510, in dispatch_queue\n",
      "    await self.process_one()\n",
      "  File \"/opt/conda/lib/python3.10/site-packages/ipykernel/kernelbase.py\", line 499, in process_one\n",
      "    await dispatch(*args)\n",
      "  File \"/opt/conda/lib/python3.10/site-packages/ipykernel/kernelbase.py\", line 406, in dispatch_shell\n",
      "    await result\n",
      "  File \"/opt/conda/lib/python3.10/site-packages/ipykernel/kernelbase.py\", line 729, in execute_request\n",
      "    reply_content = await reply_content\n",
      "  File \"/opt/conda/lib/python3.10/site-packages/ipykernel/ipkernel.py\", line 411, in do_execute\n",
      "    res = shell.run_cell(\n",
      "  File \"/opt/conda/lib/python3.10/site-packages/ipykernel/zmqshell.py\", line 531, in run_cell\n",
      "    return super().run_cell(*args, **kwargs)\n",
      "  File \"/opt/conda/lib/python3.10/site-packages/IPython/core/interactiveshell.py\", line 2940, in run_cell\n",
      "    result = self._run_cell(\n",
      "  File \"/opt/conda/lib/python3.10/site-packages/IPython/core/interactiveshell.py\", line 2995, in _run_cell\n",
      "    return runner(coro)\n",
      "  File \"/opt/conda/lib/python3.10/site-packages/IPython/core/async_helpers.py\", line 129, in _pseudo_sync_runner\n",
      "    coro.send(None)\n",
      "  File \"/opt/conda/lib/python3.10/site-packages/IPython/core/interactiveshell.py\", line 3194, in run_cell_async\n",
      "    has_raised = await self.run_ast_nodes(code_ast.body, cell_name,\n",
      "  File \"/opt/conda/lib/python3.10/site-packages/IPython/core/interactiveshell.py\", line 3373, in run_ast_nodes\n",
      "    if await self.run_code(code, result, async_=asy):\n",
      "  File \"/opt/conda/lib/python3.10/site-packages/IPython/core/interactiveshell.py\", line 3433, in run_code\n",
      "    exec(code_obj, self.user_global_ns, self.user_ns)\n",
      "  File \"/tmp/ipykernel_4123/1386840026.py\", line 5, in <module>\n",
      "    logging.info(\"we are iterating our list and our local var is i\",l)\n",
      "Message: 'we are iterating our list and our local var is i'\n",
      "Arguments: ([1, 2, 3, 4, [2, 3, 4], 'sudh', 'kumar'],)\n",
      "--- Logging error ---\n",
      "Traceback (most recent call last):\n",
      "  File \"/opt/conda/lib/python3.10/logging/__init__.py\", line 1100, in emit\n",
      "    msg = self.format(record)\n",
      "  File \"/opt/conda/lib/python3.10/logging/__init__.py\", line 943, in format\n",
      "    return fmt.format(record)\n",
      "  File \"/opt/conda/lib/python3.10/logging/__init__.py\", line 678, in format\n",
      "    record.message = record.getMessage()\n",
      "  File \"/opt/conda/lib/python3.10/logging/__init__.py\", line 368, in getMessage\n",
      "    msg = msg % self.args\n",
      "TypeError: not all arguments converted during string formatting\n",
      "Call stack:\n",
      "  File \"/opt/conda/lib/python3.10/runpy.py\", line 196, in _run_module_as_main\n",
      "    return _run_code(code, main_globals, None,\n",
      "  File \"/opt/conda/lib/python3.10/runpy.py\", line 86, in _run_code\n",
      "    exec(code, run_globals)\n",
      "  File \"/opt/conda/lib/python3.10/site-packages/ipykernel_launcher.py\", line 17, in <module>\n",
      "    app.launch_new_instance()\n",
      "  File \"/opt/conda/lib/python3.10/site-packages/traitlets/config/application.py\", line 992, in launch_instance\n",
      "    app.start()\n",
      "  File \"/opt/conda/lib/python3.10/site-packages/ipykernel/kernelapp.py\", line 711, in start\n",
      "    self.io_loop.start()\n",
      "  File \"/opt/conda/lib/python3.10/site-packages/tornado/platform/asyncio.py\", line 199, in start\n",
      "    self.asyncio_loop.run_forever()\n",
      "  File \"/opt/conda/lib/python3.10/asyncio/base_events.py\", line 603, in run_forever\n",
      "    self._run_once()\n",
      "  File \"/opt/conda/lib/python3.10/asyncio/base_events.py\", line 1899, in _run_once\n",
      "    handle._run()\n",
      "  File \"/opt/conda/lib/python3.10/asyncio/events.py\", line 80, in _run\n",
      "    self._context.run(self._callback, *self._args)\n",
      "  File \"/opt/conda/lib/python3.10/site-packages/ipykernel/kernelbase.py\", line 510, in dispatch_queue\n",
      "    await self.process_one()\n",
      "  File \"/opt/conda/lib/python3.10/site-packages/ipykernel/kernelbase.py\", line 499, in process_one\n",
      "    await dispatch(*args)\n",
      "  File \"/opt/conda/lib/python3.10/site-packages/ipykernel/kernelbase.py\", line 406, in dispatch_shell\n",
      "    await result\n",
      "  File \"/opt/conda/lib/python3.10/site-packages/ipykernel/kernelbase.py\", line 729, in execute_request\n",
      "    reply_content = await reply_content\n",
      "  File \"/opt/conda/lib/python3.10/site-packages/ipykernel/ipkernel.py\", line 411, in do_execute\n",
      "    res = shell.run_cell(\n",
      "  File \"/opt/conda/lib/python3.10/site-packages/ipykernel/zmqshell.py\", line 531, in run_cell\n",
      "    return super().run_cell(*args, **kwargs)\n",
      "  File \"/opt/conda/lib/python3.10/site-packages/IPython/core/interactiveshell.py\", line 2940, in run_cell\n",
      "    result = self._run_cell(\n",
      "  File \"/opt/conda/lib/python3.10/site-packages/IPython/core/interactiveshell.py\", line 2995, in _run_cell\n",
      "    return runner(coro)\n",
      "  File \"/opt/conda/lib/python3.10/site-packages/IPython/core/async_helpers.py\", line 129, in _pseudo_sync_runner\n",
      "    coro.send(None)\n",
      "  File \"/opt/conda/lib/python3.10/site-packages/IPython/core/interactiveshell.py\", line 3194, in run_cell_async\n",
      "    has_raised = await self.run_ast_nodes(code_ast.body, cell_name,\n",
      "  File \"/opt/conda/lib/python3.10/site-packages/IPython/core/interactiveshell.py\", line 3373, in run_ast_nodes\n",
      "    if await self.run_code(code, result, async_=asy):\n",
      "  File \"/opt/conda/lib/python3.10/site-packages/IPython/core/interactiveshell.py\", line 3433, in run_code\n",
      "    exec(code_obj, self.user_global_ns, self.user_ns)\n",
      "  File \"/tmp/ipykernel_4123/1386840026.py\", line 5, in <module>\n",
      "    logging.info(\"we are iterating our list and our local var is i\",l)\n",
      "Message: 'we are iterating our list and our local var is i'\n",
      "Arguments: ([1, 2, 3, 4, [2, 3, 4], 'sudh', 'kumar'],)\n",
      "--- Logging error ---\n",
      "Traceback (most recent call last):\n",
      "  File \"/opt/conda/lib/python3.10/logging/__init__.py\", line 1100, in emit\n",
      "    msg = self.format(record)\n",
      "  File \"/opt/conda/lib/python3.10/logging/__init__.py\", line 943, in format\n",
      "    return fmt.format(record)\n",
      "  File \"/opt/conda/lib/python3.10/logging/__init__.py\", line 678, in format\n",
      "    record.message = record.getMessage()\n",
      "  File \"/opt/conda/lib/python3.10/logging/__init__.py\", line 368, in getMessage\n",
      "    msg = msg % self.args\n",
      "TypeError: not all arguments converted during string formatting\n",
      "Call stack:\n",
      "  File \"/opt/conda/lib/python3.10/runpy.py\", line 196, in _run_module_as_main\n",
      "    return _run_code(code, main_globals, None,\n",
      "  File \"/opt/conda/lib/python3.10/runpy.py\", line 86, in _run_code\n",
      "    exec(code, run_globals)\n",
      "  File \"/opt/conda/lib/python3.10/site-packages/ipykernel_launcher.py\", line 17, in <module>\n",
      "    app.launch_new_instance()\n",
      "  File \"/opt/conda/lib/python3.10/site-packages/traitlets/config/application.py\", line 992, in launch_instance\n",
      "    app.start()\n",
      "  File \"/opt/conda/lib/python3.10/site-packages/ipykernel/kernelapp.py\", line 711, in start\n",
      "    self.io_loop.start()\n",
      "  File \"/opt/conda/lib/python3.10/site-packages/tornado/platform/asyncio.py\", line 199, in start\n",
      "    self.asyncio_loop.run_forever()\n",
      "  File \"/opt/conda/lib/python3.10/asyncio/base_events.py\", line 603, in run_forever\n",
      "    self._run_once()\n",
      "  File \"/opt/conda/lib/python3.10/asyncio/base_events.py\", line 1899, in _run_once\n",
      "    handle._run()\n",
      "  File \"/opt/conda/lib/python3.10/asyncio/events.py\", line 80, in _run\n",
      "    self._context.run(self._callback, *self._args)\n",
      "  File \"/opt/conda/lib/python3.10/site-packages/ipykernel/kernelbase.py\", line 510, in dispatch_queue\n",
      "    await self.process_one()\n",
      "  File \"/opt/conda/lib/python3.10/site-packages/ipykernel/kernelbase.py\", line 499, in process_one\n",
      "    await dispatch(*args)\n",
      "  File \"/opt/conda/lib/python3.10/site-packages/ipykernel/kernelbase.py\", line 406, in dispatch_shell\n",
      "    await result\n",
      "  File \"/opt/conda/lib/python3.10/site-packages/ipykernel/kernelbase.py\", line 729, in execute_request\n",
      "    reply_content = await reply_content\n",
      "  File \"/opt/conda/lib/python3.10/site-packages/ipykernel/ipkernel.py\", line 411, in do_execute\n",
      "    res = shell.run_cell(\n",
      "  File \"/opt/conda/lib/python3.10/site-packages/ipykernel/zmqshell.py\", line 531, in run_cell\n",
      "    return super().run_cell(*args, **kwargs)\n",
      "  File \"/opt/conda/lib/python3.10/site-packages/IPython/core/interactiveshell.py\", line 2940, in run_cell\n",
      "    result = self._run_cell(\n",
      "  File \"/opt/conda/lib/python3.10/site-packages/IPython/core/interactiveshell.py\", line 2995, in _run_cell\n",
      "    return runner(coro)\n",
      "  File \"/opt/conda/lib/python3.10/site-packages/IPython/core/async_helpers.py\", line 129, in _pseudo_sync_runner\n",
      "    coro.send(None)\n",
      "  File \"/opt/conda/lib/python3.10/site-packages/IPython/core/interactiveshell.py\", line 3194, in run_cell_async\n",
      "    has_raised = await self.run_ast_nodes(code_ast.body, cell_name,\n",
      "  File \"/opt/conda/lib/python3.10/site-packages/IPython/core/interactiveshell.py\", line 3373, in run_ast_nodes\n",
      "    if await self.run_code(code, result, async_=asy):\n",
      "  File \"/opt/conda/lib/python3.10/site-packages/IPython/core/interactiveshell.py\", line 3433, in run_code\n",
      "    exec(code_obj, self.user_global_ns, self.user_ns)\n",
      "  File \"/tmp/ipykernel_4123/1386840026.py\", line 5, in <module>\n",
      "    logging.info(\"we are iterating our list and our local var is i\",l)\n",
      "Message: 'we are iterating our list and our local var is i'\n",
      "Arguments: ([1, 2, 3, 4, [2, 3, 4], 'sudh', 'kumar'],)\n"
     ]
    }
   ],
   "source": [
    "l1_int=[]\n",
    "l2_str=[]\n",
    "\n",
    "for i in l:\n",
    "    logging.info(\"we are iterating our list and our local var is i\",l)\n",
    "    if type(i)==list:\n",
    "        logging.info(\"i am inside if statement and i am trying to check list type\")\n",
    "        for j in i:\n",
    "            logging.info(\"i am in another for loop for list inside list element\")\n",
    "            if type(j)==int:\n",
    "                logging.info(\"i am inside if statement\")\n",
    "                l1_int.append(j)\n",
    "    elif type(i)==int:\n",
    "        l1_int.append(i)\n",
    "    else:\n",
    "        if type(i)==str:\n",
    "            l2_str.append(i)\n",
    "            \n",
    "        \n",
    "    "
   ]
  },
  {
   "cell_type": "code",
   "execution_count": 14,
   "id": "1d3e615b-a9e1-4f36-93c6-3f39146ba645",
   "metadata": {},
   "outputs": [],
   "source": [
    "# so first convert list into string"
   ]
  },
  {
   "cell_type": "code",
   "execution_count": 25,
   "id": "6b829f7b-2bc6-4b1f-a177-84f06455542a",
   "metadata": {},
   "outputs": [],
   "source": [
    "l1_int=[]\n",
    "l2_str=[]\n",
    "\n",
    "for i in l:\n",
    "    logging.info(\"we are iterating our list and our local var is i\"+str(l))\n",
    "    if type(i)==list:\n",
    "        logging.info(\"i am inside if statement and i am trying to check list type\"+str(i))\n",
    "        for j in i:\n",
    "            logging.info(\"i am in another for loop for list inside list element\"+str(j))\n",
    "            if type(j)==int:\n",
    "                logging.info(\"i am inside if statement\")\n",
    "                l1_int.append(j)\n",
    "    elif type(i)==int:\n",
    "        l1_int.append(i)\n",
    "    else:\n",
    "        if type(i)==str:\n",
    "            l2_str.append(i)\n",
    "            \n",
    "        \n",
    "    "
   ]
  },
  {
   "cell_type": "code",
   "execution_count": 26,
   "id": "7477e89f-5b20-4905-9e56-38925aa37d42",
   "metadata": {},
   "outputs": [],
   "source": [
    "# we can also do logging by creating place holder"
   ]
  },
  {
   "cell_type": "code",
   "execution_count": 27,
   "id": "b6201adb-dc07-41a9-80ca-8ae667367f05",
   "metadata": {},
   "outputs": [],
   "source": [
    "l1_int=[]\n",
    "l2_str=[]\n",
    "\n",
    "for i in l:\n",
    "    logging.info(\"we are iterating our list and our local var is i{}\".format(l))\n",
    "    if type(i)==list:\n",
    "        logging.info(\"i am inside if statement and i am trying to check list type\"+str(i))\n",
    "        for j in i:\n",
    "            logging.info(\"i am in another for loop for list inside list element\"+str(j))\n",
    "            if type(j)==int:\n",
    "                logging.info(\"i am inside if statement\")\n",
    "                l1_int.append(j)\n",
    "    elif type(i)==int:\n",
    "        l1_int.append(i)\n",
    "    else:\n",
    "        if type(i)==str:\n",
    "            l2_str.append(i)\n",
    "            \n",
    "        \n",
    "    "
   ]
  },
  {
   "cell_type": "code",
   "execution_count": 28,
   "id": "468515b7-77fc-4d04-99ff-6720a1a58ee1",
   "metadata": {},
   "outputs": [],
   "source": [
    "# if we want to do logging in the result"
   ]
  },
  {
   "cell_type": "code",
   "execution_count": 30,
   "id": "8547c594-72be-4526-ae4e-095befe86773",
   "metadata": {},
   "outputs": [],
   "source": [
    "l1_int=[]\n",
    "l2_str=[]\n",
    "\n",
    "for i in l:\n",
    "    logging.info(\"we are iterating our list and our local var is i\"+str(l))\n",
    "    if type(i)==list:\n",
    "        logging.info(\"i am inside if statement and i am trying to check list type\"+str(i))\n",
    "        for j in i:\n",
    "            logging.info(\"i am in another for loop for list inside list element\"+str(j))\n",
    "            if type(j)==int:\n",
    "                logging.info(\"i am inside if statement\")\n",
    "                l1_int.append(j)\n",
    "    elif type(i)==int:\n",
    "        l1_int.append(i)\n",
    "    else:\n",
    "        if type(i)==str:\n",
    "            l2_str.append(i)\n",
    "logging.info(\"my final result for int is {l1} and str is {l2}\".format(l1=l1_int,l2=l2_str) )          \n",
    "        \n",
    "    "
   ]
  },
  {
   "cell_type": "code",
   "execution_count": null,
   "id": "fc2ec23c-612d-4153-8604-b0fc5b8fe26d",
   "metadata": {},
   "outputs": [],
   "source": []
  }
 ],
 "metadata": {
  "kernelspec": {
   "display_name": "Python 3 (ipykernel)",
   "language": "python",
   "name": "python3"
  },
  "language_info": {
   "codemirror_mode": {
    "name": "ipython",
    "version": 3
   },
   "file_extension": ".py",
   "mimetype": "text/x-python",
   "name": "python",
   "nbconvert_exporter": "python",
   "pygments_lexer": "ipython3",
   "version": "3.10.8"
  }
 },
 "nbformat": 4,
 "nbformat_minor": 5
}
