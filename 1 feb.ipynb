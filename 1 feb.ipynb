{
 "cells": [
  {
   "cell_type": "code",
   "execution_count": 1,
   "id": "5b94e1e2-a39f-41f4-bdb5-34d4549b7a91",
   "metadata": {},
   "outputs": [],
   "source": [
    "'''data type\n",
    "1-list(mutable)[]\n",
    "2-tuple(immutable)()\n",
    "3-set(immutable){}\n",
    "4-dictionary{}(mutable)'''\n"
   ]
  },
  {
   "cell_type": "code",
   "execution_count": 2,
   "id": "a27cc2c1-30ab-43de-a650-a543398c4a58",
   "metadata": {},
   "outputs": [],
   "source": [
    "d={}#it always store the value in the form of key and its meaning\n",
    "#where key can be anything within the double commas except for bullean values"
   ]
  },
  {
   "cell_type": "code",
   "execution_count": 3,
   "id": "bac83954-f1d4-401f-bfdb-e5176a2b33d4",
   "metadata": {},
   "outputs": [
    {
     "data": {
      "text/plain": [
       "dict"
      ]
     },
     "execution_count": 3,
     "metadata": {},
     "output_type": "execute_result"
    }
   ],
   "source": [
    "type(d)"
   ]
  },
  {
   "cell_type": "code",
   "execution_count": 4,
   "id": "0c7e2831-fae4-4602-a806-4e37456200f6",
   "metadata": {},
   "outputs": [],
   "source": [
    "d1={\"key\":\"sudh\"}"
   ]
  },
  {
   "cell_type": "code",
   "execution_count": 5,
   "id": "14d19a72-2871-4d7a-85c7-db4c23619bec",
   "metadata": {},
   "outputs": [
    {
     "data": {
      "text/plain": [
       "{'key': 'sudh'}"
      ]
     },
     "execution_count": 5,
     "metadata": {},
     "output_type": "execute_result"
    }
   ],
   "source": [
    "d1"
   ]
  },
  {
   "cell_type": "code",
   "execution_count": 7,
   "id": "a786acc7-b972-481f-ba4e-a54792b0b90c",
   "metadata": {},
   "outputs": [],
   "source": [
    "d2={\"name\":\"bhupesh\",\"number\":9872765}"
   ]
  },
  {
   "cell_type": "code",
   "execution_count": 8,
   "id": "dbb8a72a-1f13-4b7d-8f58-86fc7661ca38",
   "metadata": {},
   "outputs": [
    {
     "data": {
      "text/plain": [
       "{'name': 'bhupesh', 'number': 9872765}"
      ]
     },
     "execution_count": 8,
     "metadata": {},
     "output_type": "execute_result"
    }
   ],
   "source": [
    "d2"
   ]
  },
  {
   "cell_type": "code",
   "execution_count": 9,
   "id": "0164e879-2e1b-41ce-81a4-8db50fd7b1b0",
   "metadata": {},
   "outputs": [],
   "source": [
    "d3={234:\"sudh\",\"_wer\":\"kumar\",True:2345}"
   ]
  },
  {
   "cell_type": "code",
   "execution_count": 10,
   "id": "261548ca-5094-47c3-959e-c6b689c45944",
   "metadata": {},
   "outputs": [
    {
     "data": {
      "text/plain": [
       "{234: 'sudh', '_wer': 'kumar', True: 2345}"
      ]
     },
     "execution_count": 10,
     "metadata": {},
     "output_type": "execute_result"
    }
   ],
   "source": [
    "d3"
   ]
  },
  {
   "cell_type": "code",
   "execution_count": 11,
   "id": "d618f602-f68c-4926-b1cd-719dfa83b4e2",
   "metadata": {},
   "outputs": [
    {
     "data": {
      "text/plain": [
       "'sudh'"
      ]
     },
     "execution_count": 11,
     "metadata": {},
     "output_type": "execute_result"
    }
   ],
   "source": [
    "d3[234]# to excract values with respect to key"
   ]
  },
  {
   "cell_type": "code",
   "execution_count": 12,
   "id": "d52c9690-ab08-409d-8b21-a39673b8b1a2",
   "metadata": {},
   "outputs": [
    {
     "data": {
      "text/plain": [
       "2345"
      ]
     },
     "execution_count": 12,
     "metadata": {},
     "output_type": "execute_result"
    }
   ],
   "source": [
    "d3[True]"
   ]
  },
  {
   "cell_type": "code",
   "execution_count": 13,
   "id": "bbb9cdee-bc4f-4074-8369-0b5880c750cb",
   "metadata": {},
   "outputs": [
    {
     "data": {
      "text/plain": [
       "2345"
      ]
     },
     "execution_count": 13,
     "metadata": {},
     "output_type": "execute_result"
    }
   ],
   "source": [
    "d3[1]"
   ]
  },
  {
   "cell_type": "code",
   "execution_count": 14,
   "id": "ac9d6801-f43b-48af-86a8-1185031303e4",
   "metadata": {},
   "outputs": [],
   "source": [
    "#as True=1"
   ]
  },
  {
   "cell_type": "code",
   "execution_count": 15,
   "id": "146b49b4-f6a3-4122-b926-1ab33c4f89b7",
   "metadata": {},
   "outputs": [],
   "source": [
    "#key should be unique and if not then it will overright it and will\n",
    "#return the latest value"
   ]
  },
  {
   "cell_type": "code",
   "execution_count": 1,
   "id": "0dbfa348-c598-4e6e-9570-48a809577de7",
   "metadata": {},
   "outputs": [],
   "source": [
    "d4={\"name\":\"sudh\",\"mail_id\":\"bhup@gmail.com\",\"name\":\"bkk\"}\n"
   ]
  },
  {
   "cell_type": "code",
   "execution_count": 2,
   "id": "95c8ae5f-b42b-4c68-b23f-e294ecd7b2f0",
   "metadata": {},
   "outputs": [
    {
     "data": {
      "text/plain": [
       "'bkk'"
      ]
     },
     "execution_count": 2,
     "metadata": {},
     "output_type": "execute_result"
    }
   ],
   "source": [
    "d4[\"name\"]\n"
   ]
  },
  {
   "cell_type": "code",
   "execution_count": 3,
   "id": "0d52dbf6-2fc4-4271-9c8e-898172b96692",
   "metadata": {},
   "outputs": [],
   "source": [
    "d5={\"company\":\"pwskills\",\"courses\":[\"web dev\",\"data science\",\"java with dsa system design\"]}"
   ]
  },
  {
   "cell_type": "code",
   "execution_count": 4,
   "id": "1578e6a1-7e05-4baa-a745-f5f5c8bf660a",
   "metadata": {},
   "outputs": [
    {
     "data": {
      "text/plain": [
       "['web dev', 'data science', 'java with dsa system design']"
      ]
     },
     "execution_count": 4,
     "metadata": {},
     "output_type": "execute_result"
    }
   ],
   "source": [
    "d5[\"courses\"]"
   ]
  },
  {
   "cell_type": "code",
   "execution_count": 5,
   "id": "dd8b07ca-380c-4ad6-b991-fe3aaa5f428e",
   "metadata": {},
   "outputs": [
    {
     "data": {
      "text/plain": [
       "'java with dsa system design'"
      ]
     },
     "execution_count": 5,
     "metadata": {},
     "output_type": "execute_result"
    }
   ],
   "source": [
    "d5[\"courses\"][2]"
   ]
  },
  {
   "cell_type": "code",
   "execution_count": 2,
   "id": "087431f6-63a7-4d27-9907-2e68b8ba245d",
   "metadata": {},
   "outputs": [],
   "source": [
    "d6={\"number\":[2,34,5,6,34],\"assignment\":(1,2,3,4,5,6),\"launch_date\":{28,12,14},\"class_time\":{\"web_dev\":8,\"data science masters\":8,\"java with dsa and system design\":7}}\n",
    "\n",
    "\n",
    "\n"
   ]
  },
  {
   "cell_type": "code",
   "execution_count": 3,
   "id": "1ca69532-91cb-4a2c-9691-ab63f5c63d11",
   "metadata": {},
   "outputs": [
    {
     "data": {
      "text/plain": [
       "{'number': [2, 34, 5, 6, 34],\n",
       " 'assignment': (1, 2, 3, 4, 5, 6),\n",
       " 'launch_date': {12, 14, 28},\n",
       " 'class_time': {'web_dev': 8,\n",
       "  'data science masters': 8,\n",
       "  'java with dsa and system design': 7}}"
      ]
     },
     "execution_count": 3,
     "metadata": {},
     "output_type": "execute_result"
    }
   ],
   "source": [
    "d6\n"
   ]
  },
  {
   "cell_type": "code",
   "execution_count": 12,
   "id": "a5e90370-caea-4a6e-b87a-edd580ebc1bc",
   "metadata": {},
   "outputs": [],
   "source": [
    "#this is known as nested dictionary"
   ]
  },
  {
   "cell_type": "code",
   "execution_count": 13,
   "id": "2f047d15-32e6-430d-8ab0-650bb1422812",
   "metadata": {},
   "outputs": [],
   "source": [
    "#we have to excract 7"
   ]
  },
  {
   "cell_type": "code",
   "execution_count": 14,
   "id": "72bbdacc-9b44-44b7-8515-4ddcaab3dd0a",
   "metadata": {},
   "outputs": [
    {
     "data": {
      "text/plain": [
       "7"
      ]
     },
     "execution_count": 14,
     "metadata": {},
     "output_type": "execute_result"
    }
   ],
   "source": [
    "d6[\"class_time\"][\"java with dsa and system design\"]"
   ]
  },
  {
   "cell_type": "code",
   "execution_count": 15,
   "id": "3d06d73f-b730-4c48-98c6-0449968200bb",
   "metadata": {},
   "outputs": [
    {
     "data": {
      "text/plain": [
       "{'number': [2, 34, 5, 6, 34],\n",
       " 'assignment': (1, 2, 3, 4, 5, 6),\n",
       " 'launch_date': {12, 14, 28},\n",
       " 'class_time': {'web_dev': 8,\n",
       "  'data science masters': 8,\n",
       "  'java with dsa and system design': 7}}"
      ]
     },
     "execution_count": 15,
     "metadata": {},
     "output_type": "execute_result"
    }
   ],
   "source": [
    "d6"
   ]
  },
  {
   "cell_type": "code",
   "execution_count": 16,
   "id": "0f4ff3f9-dd3c-433c-8377-147d9c95fcd4",
   "metadata": {},
   "outputs": [],
   "source": [
    "#now add a key"
   ]
  },
  {
   "cell_type": "code",
   "execution_count": 4,
   "id": "2ac22d3c-1be5-4f5f-a27a-cba1706cdf71",
   "metadata": {},
   "outputs": [],
   "source": [
    "d6[\"mentor\"]=[\"sudanshu\",\"krish\",\"anurag\",\"hayder\"]\n",
    "\n",
    "\n"
   ]
  },
  {
   "cell_type": "code",
   "execution_count": 5,
   "id": "c6f19f0c-7157-4ea2-b94d-3ff2f138861e",
   "metadata": {},
   "outputs": [
    {
     "data": {
      "text/plain": [
       "{'number': [2, 34, 5, 6, 34],\n",
       " 'assignment': (1, 2, 3, 4, 5, 6),\n",
       " 'launch_date': {12, 14, 28},\n",
       " 'class_time': {'web_dev': 8,\n",
       "  'data science masters': 8,\n",
       "  'java with dsa and system design': 7},\n",
       " 'mentor': ['sudanshu', 'krish', 'anurag', 'hayder']}"
      ]
     },
     "execution_count": 5,
     "metadata": {},
     "output_type": "execute_result"
    }
   ],
   "source": [
    "d6"
   ]
  },
  {
   "cell_type": "code",
   "execution_count": 6,
   "id": "af207340-6cb5-4ee0-adbf-83247a29f79b",
   "metadata": {},
   "outputs": [],
   "source": [
    "del d6[\"number\"]"
   ]
  },
  {
   "cell_type": "code",
   "execution_count": 7,
   "id": "4708dc50-b797-487a-8ef7-ed0824db58f8",
   "metadata": {},
   "outputs": [
    {
     "data": {
      "text/plain": [
       "{'assignment': (1, 2, 3, 4, 5, 6),\n",
       " 'launch_date': {12, 14, 28},\n",
       " 'class_time': {'web_dev': 8,\n",
       "  'data science masters': 8,\n",
       "  'java with dsa and system design': 7},\n",
       " 'mentor': ['sudanshu', 'krish', 'anurag', 'hayder']}"
      ]
     },
     "execution_count": 7,
     "metadata": {},
     "output_type": "execute_result"
    }
   ],
   "source": [
    "d6"
   ]
  },
  {
   "cell_type": "code",
   "execution_count": 8,
   "id": "9de5494e-b142-4fa6-82b4-e07a647ae4a6",
   "metadata": {},
   "outputs": [],
   "source": [
    "# in order to find all the keys of the dictionary function we will use key function"
   ]
  },
  {
   "cell_type": "code",
   "execution_count": 9,
   "id": "3473fb70-74fe-4547-a966-3af591fe93ae",
   "metadata": {},
   "outputs": [
    {
     "data": {
      "text/plain": [
       "dict_keys(['assignment', 'launch_date', 'class_time', 'mentor'])"
      ]
     },
     "execution_count": 9,
     "metadata": {},
     "output_type": "execute_result"
    }
   ],
   "source": [
    "d6.keys()#use for keys excration"
   ]
  },
  {
   "cell_type": "code",
   "execution_count": 10,
   "id": "b5e3f8c6-8b38-4f5d-b96f-8dc62c938740",
   "metadata": {},
   "outputs": [
    {
     "data": {
      "text/plain": [
       "['assignment', 'launch_date', 'class_time', 'mentor']"
      ]
     },
     "execution_count": 10,
     "metadata": {},
     "output_type": "execute_result"
    }
   ],
   "source": [
    "list(d6.keys())"
   ]
  },
  {
   "cell_type": "code",
   "execution_count": 11,
   "id": "ec552a0b-0c47-4546-b390-d2534d1eca41",
   "metadata": {},
   "outputs": [
    {
     "data": {
      "text/plain": [
       "dict_values([(1, 2, 3, 4, 5, 6), {28, 12, 14}, {'web_dev': 8, 'data science masters': 8, 'java with dsa and system design': 7}, ['sudanshu', 'krish', 'anurag', 'hayder']])"
      ]
     },
     "execution_count": 11,
     "metadata": {},
     "output_type": "execute_result"
    }
   ],
   "source": [
    "d6.values()#use for values excration"
   ]
  },
  {
   "cell_type": "code",
   "execution_count": 12,
   "id": "a070f720-8057-4da1-b681-e0b020bdbea0",
   "metadata": {},
   "outputs": [
    {
     "data": {
      "text/plain": [
       "[(1, 2, 3, 4, 5, 6),\n",
       " {12, 14, 28},\n",
       " {'web_dev': 8,\n",
       "  'data science masters': 8,\n",
       "  'java with dsa and system design': 7},\n",
       " ['sudanshu', 'krish', 'anurag', 'hayder']]"
      ]
     },
     "execution_count": 12,
     "metadata": {},
     "output_type": "execute_result"
    }
   ],
   "source": [
    "list(d6.values())"
   ]
  },
  {
   "cell_type": "code",
   "execution_count": null,
   "id": "378e9dfd-715c-4d62-8994-5034c5fbfe4f",
   "metadata": {},
   "outputs": [],
   "source": [
    "#if we want to excract both keys as well as values than"
   ]
  },
  {
   "cell_type": "code",
   "execution_count": 13,
   "id": "7f7d5352-9995-44a5-b7e5-c23924da0014",
   "metadata": {},
   "outputs": [
    {
     "data": {
      "text/plain": [
       "dict_items([('assignment', (1, 2, 3, 4, 5, 6)), ('launch_date', {28, 12, 14}), ('class_time', {'web_dev': 8, 'data science masters': 8, 'java with dsa and system design': 7}), ('mentor', ['sudanshu', 'krish', 'anurag', 'hayder'])])"
      ]
     },
     "execution_count": 13,
     "metadata": {},
     "output_type": "execute_result"
    }
   ],
   "source": [
    "d6.items()# use for both"
   ]
  },
  {
   "cell_type": "code",
   "execution_count": 14,
   "id": "5ce29210-9165-4eb4-9ef3-6097b9b55083",
   "metadata": {},
   "outputs": [],
   "source": [
    "#now convert it into list\n"
   ]
  },
  {
   "cell_type": "code",
   "execution_count": 15,
   "id": "feecfe9e-54a4-4687-a2eb-e15e317f7b9a",
   "metadata": {},
   "outputs": [
    {
     "data": {
      "text/plain": [
       "[('assignment', (1, 2, 3, 4, 5, 6)),\n",
       " ('launch_date', {12, 14, 28}),\n",
       " ('class_time',\n",
       "  {'web_dev': 8,\n",
       "   'data science masters': 8,\n",
       "   'java with dsa and system design': 7}),\n",
       " ('mentor', ['sudanshu', 'krish', 'anurag', 'hayder'])]"
      ]
     },
     "execution_count": 15,
     "metadata": {},
     "output_type": "execute_result"
    }
   ],
   "source": [
    "list(d6.items())"
   ]
  },
  {
   "cell_type": "code",
   "execution_count": 17,
   "id": "0c6fdcda-e0ec-4763-910c-92b7e7c68850",
   "metadata": {},
   "outputs": [
    {
     "data": {
      "text/plain": [
       "(1, 2, 3, 4, 5, 6)"
      ]
     },
     "execution_count": 17,
     "metadata": {},
     "output_type": "execute_result"
    }
   ],
   "source": [
    "d6.pop(\"assignment\")"
   ]
  },
  {
   "cell_type": "code",
   "execution_count": 18,
   "id": "b8c441ea-0b28-4585-a486-5a4822aa16ba",
   "metadata": {},
   "outputs": [
    {
     "data": {
      "text/plain": [
       "{'launch_date': {12, 14, 28},\n",
       " 'class_time': {'web_dev': 8,\n",
       "  'data science masters': 8,\n",
       "  'java with dsa and system design': 7},\n",
       " 'mentor': ['sudanshu', 'krish', 'anurag', 'hayder']}"
      ]
     },
     "execution_count": 18,
     "metadata": {},
     "output_type": "execute_result"
    }
   ],
   "source": [
    "d6"
   ]
  },
  {
   "cell_type": "code",
   "execution_count": 19,
   "id": "9ccc40e6-7fe2-4984-95af-3ba25e10e0a9",
   "metadata": {},
   "outputs": [
    {
     "ename": "TypeError",
     "evalue": "pop expected at least 1 argument, got 0",
     "output_type": "error",
     "traceback": [
      "\u001b[0;31m---------------------------------------------------------------------------\u001b[0m",
      "\u001b[0;31mTypeError\u001b[0m                                 Traceback (most recent call last)",
      "Cell \u001b[0;32mIn[19], line 1\u001b[0m\n\u001b[0;32m----> 1\u001b[0m \u001b[43md6\u001b[49m\u001b[38;5;241;43m.\u001b[39;49m\u001b[43mpop\u001b[49m\u001b[43m(\u001b[49m\u001b[43m)\u001b[49m\n",
      "\u001b[0;31mTypeError\u001b[0m: pop expected at least 1 argument, got 0"
     ]
    }
   ],
   "source": [
    "d6.pop()"
   ]
  },
  {
   "cell_type": "code",
   "execution_count": 20,
   "id": "88aefc79-9192-489a-83c0-d6823c8b5a2e",
   "metadata": {},
   "outputs": [],
   "source": [
    "#in list it is used to remove the data in the last index but in case of dictionary there is no syntax"
   ]
  },
  {
   "cell_type": "code",
   "execution_count": 21,
   "id": "66bc60ce-1ca5-44aa-bf3b-f922e930a882",
   "metadata": {},
   "outputs": [],
   "source": [
    "# countrol statement"
   ]
  },
  {
   "cell_type": "code",
   "execution_count": 12,
   "id": "b16ed235-2fcb-4b7b-9752-105c57718059",
   "metadata": {},
   "outputs": [
    {
     "name": "stdin",
     "output_type": "stream",
     "text": [
      "what is your marks?/n 67\n"
     ]
    },
    {
     "name": "stdout",
     "output_type": "stream",
     "text": [
      "67\n",
      "you will be part of a1 batch\n"
     ]
    }
   ],
   "source": [
    "\n",
    "marks=int(input(\"what is your marks?/n\"))\n",
    "print(marks)\n",
    "\n",
    "if marks>=80:\n",
    "    print(\"you will be part of a0 batch\")\n",
    "elif marks>=60 and marks<=80:\n",
    "    print(\"you will be part of a1 batch\")\n",
    "elif marks>=40 and marks<60:\n",
    "    print(\"you will be part of a2 batch\")\n",
    "else:\n",
    "    print(\"you will be part of a3 batch\")\n",
    "\n"
   ]
  },
  {
   "cell_type": "code",
   "execution_count": 1,
   "id": "8be7286c-2c29-4ce4-af35-f06c81c6ce1d",
   "metadata": {},
   "outputs": [
    {
     "name": "stdin",
     "output_type": "stream",
     "text": [
      "enter price 23\n"
     ]
    },
    {
     "name": "stdout",
     "output_type": "stream",
     "text": [
      "i will purchase\n"
     ]
    }
   ],
   "source": [
    "price=int(input(\"enter price\"))\n",
    "if price >1000:\n",
    "    print(\"i will not purchase\")\n",
    "else:\n",
    "    print(\"i will purchase\")\n",
    "    "
   ]
  },
  {
   "cell_type": "code",
   "execution_count": null,
   "id": "aff3a308-2ce8-4483-be64-ede1f167e9de",
   "metadata": {},
   "outputs": [],
   "source": [
    "#its nested conditions"
   ]
  },
  {
   "cell_type": "code",
   "execution_count": 3,
   "id": "f11a1b40-5e2a-49af-b9b5-e5c4b950bf2e",
   "metadata": {},
   "outputs": [
    {
     "name": "stdin",
     "output_type": "stream",
     "text": [
      "enter price 1500\n"
     ]
    },
    {
     "name": "stdout",
     "output_type": "stream",
     "text": [
      "i will not purchase\n",
      "it's okay\n"
     ]
    }
   ],
   "source": [
    "price=int(input(\"enter price\"))\n",
    "if price >1000:\n",
    "    print(\"i will not purchase\")\n",
    "    if price>5000:\n",
    "        print(\"this is so much\")\n",
    "    elif price<2000:\n",
    "        print(\"it's okay\")\n",
    "else:\n",
    "    print(\"i will purchase\")\n",
    "    "
   ]
  },
  {
   "cell_type": "code",
   "execution_count": 4,
   "id": "6ec7f2f0-d7f5-4b5a-9115-876f4e71a8e6",
   "metadata": {},
   "outputs": [],
   "source": [
    "#loops"
   ]
  },
  {
   "cell_type": "code",
   "execution_count": 5,
   "id": "f9746446-463c-4b6a-bb0f-423a5f49d1de",
   "metadata": {},
   "outputs": [],
   "source": [
    "l=[1,2,3,4,5,6,7,8,9]"
   ]
  },
  {
   "cell_type": "code",
   "execution_count": 6,
   "id": "6b647d52-ee14-4762-91b2-7c9844c30aee",
   "metadata": {},
   "outputs": [],
   "source": [
    "#now add 1 with each of list elements"
   ]
  },
  {
   "cell_type": "code",
   "execution_count": 7,
   "id": "4b810e75-97f1-4e44-97a9-b00b8bc47e60",
   "metadata": {},
   "outputs": [
    {
     "data": {
      "text/plain": [
       "2"
      ]
     },
     "execution_count": 7,
     "metadata": {},
     "output_type": "execute_result"
    }
   ],
   "source": [
    "l[0]+1"
   ]
  },
  {
   "cell_type": "code",
   "execution_count": 11,
   "id": "84ac0221-1d4c-4295-85e9-b8d45d8ddcde",
   "metadata": {},
   "outputs": [],
   "source": [
    "l1=[]"
   ]
  },
  {
   "cell_type": "code",
   "execution_count": 13,
   "id": "56aec225-ab1d-48ad-a7bb-389e25da7ee0",
   "metadata": {},
   "outputs": [],
   "source": [
    "l1.append(l[0]+1)"
   ]
  },
  {
   "cell_type": "code",
   "execution_count": 14,
   "id": "9975c3b3-9e40-425f-9d30-c0c61040048c",
   "metadata": {},
   "outputs": [
    {
     "data": {
      "text/plain": [
       "[2]"
      ]
     },
     "execution_count": 14,
     "metadata": {},
     "output_type": "execute_result"
    }
   ],
   "source": [
    "l1"
   ]
  },
  {
   "cell_type": "code",
   "execution_count": null,
   "id": "dd70b79e-d17a-49b5-bdfd-f5abef078871",
   "metadata": {},
   "outputs": [],
   "source": [
    "#this is very long process"
   ]
  },
  {
   "cell_type": "code",
   "execution_count": 15,
   "id": "57067f19-e933-4606-8c94-c3900a881f5e",
   "metadata": {},
   "outputs": [],
   "source": [
    "#this can be solved with help of loop"
   ]
  },
  {
   "cell_type": "code",
   "execution_count": 22,
   "id": "1729f776-b928-47c4-9317-2c1786fc2d9f",
   "metadata": {},
   "outputs": [
    {
     "name": "stdout",
     "output_type": "stream",
     "text": [
      "2\n",
      "3\n",
      "4\n",
      "5\n",
      "6\n",
      "7\n",
      "8\n",
      "9\n",
      "10\n",
      "[2, 3, 4, 5, 6, 7, 8, 9, 10]\n"
     ]
    }
   ],
   "source": [
    "l1=[]\n",
    "for i in l:\n",
    "    i+=1\n",
    "    print(i)\n",
    "    l1.append(i)\n",
    "print(l1)"
   ]
  },
  {
   "cell_type": "code",
   "execution_count": 36,
   "id": "13444524-c4c2-407a-8ee4-b3e200f215af",
   "metadata": {},
   "outputs": [],
   "source": [
    "l=[\"sudh\",\"kumar\",\"pwskills\",\"course\"]\n"
   ]
  },
  {
   "cell_type": "code",
   "execution_count": 37,
   "id": "34a81aaa-232c-489a-91dc-5eb9c61e1a9d",
   "metadata": {},
   "outputs": [
    {
     "ename": "AttributeError",
     "evalue": "'list' object has no attribute 'upper'",
     "output_type": "error",
     "traceback": [
      "\u001b[0;31m---------------------------------------------------------------------------\u001b[0m",
      "\u001b[0;31mAttributeError\u001b[0m                            Traceback (most recent call last)",
      "Cell \u001b[0;32mIn[37], line 1\u001b[0m\n\u001b[0;32m----> 1\u001b[0m \u001b[43ml\u001b[49m\u001b[38;5;241;43m.\u001b[39;49m\u001b[43mupper\u001b[49m()\n",
      "\u001b[0;31mAttributeError\u001b[0m: 'list' object has no attribute 'upper'"
     ]
    }
   ],
   "source": [
    "l.upper()\n"
   ]
  },
  {
   "cell_type": "code",
   "execution_count": null,
   "id": "56ac8f8b-64b5-4e39-ad12-32f42f7bfe54",
   "metadata": {},
   "outputs": [],
   "source": [
    "#as list l is not capital but its elements can be capital"
   ]
  },
  {
   "cell_type": "code",
   "execution_count": 42,
   "id": "8b8a2875-a3e6-4e23-abe4-db7d9a0e89d9",
   "metadata": {},
   "outputs": [
    {
     "name": "stdout",
     "output_type": "stream",
     "text": [
      "['SUDH', 'KUMAR', 'PWSKILLS', 'COURSE']\n"
     ]
    }
   ],
   "source": [
    "l1=[]\n",
    "for i in l:\n",
    "    a=i.upper()\n",
    "    l1.append(a)\n",
    "print(l1)   "
   ]
  },
  {
   "cell_type": "code",
   "execution_count": 44,
   "id": "9697973b-0d68-40e2-b488-2db7a61b0f23",
   "metadata": {},
   "outputs": [
    {
     "data": {
      "text/plain": [
       "['SUDH', 'KUMAR', 'PWSKILLS', 'COURSE']"
      ]
     },
     "execution_count": 44,
     "metadata": {},
     "output_type": "execute_result"
    }
   ],
   "source": [
    "l1"
   ]
  },
  {
   "cell_type": "code",
   "execution_count": 9,
   "id": "0c9f2b68-4713-4d8c-acd9-ee9d59dcb995",
   "metadata": {},
   "outputs": [],
   "source": [
    "l=[1,2,3,4,5,4,4,\"sudh\",\"kumar\",324,34.456,\"abc\"]"
   ]
  },
  {
   "cell_type": "code",
   "execution_count": 10,
   "id": "145ab4f7-7dea-4882-b851-b36e7d38c28d",
   "metadata": {},
   "outputs": [],
   "source": [
    "#now seperate the list according to datatypes"
   ]
  },
  {
   "cell_type": "code",
   "execution_count": 14,
   "id": "603b4fd4-7f7b-415a-b8bf-d97071fd0365",
   "metadata": {},
   "outputs": [],
   "source": [
    "l1_num=[]\n",
    "l2_str=[]\n",
    "for i in l:\n",
    "    if type(i)==int or type(i)==float:\n",
    "        l1_num.append(i)\n",
    "    else:\n",
    "        l2_str.append(i)\n",
    "        "
   ]
  },
  {
   "cell_type": "code",
   "execution_count": 15,
   "id": "3cb66cd2-fea4-4e29-8a07-b24d140af6ee",
   "metadata": {},
   "outputs": [
    {
     "data": {
      "text/plain": [
       "[1, 2, 3, 4, 5, 4, 4, 324, 34.456]"
      ]
     },
     "execution_count": 15,
     "metadata": {},
     "output_type": "execute_result"
    }
   ],
   "source": [
    "l1_num\n"
   ]
  },
  {
   "cell_type": "code",
   "execution_count": 16,
   "id": "8acfa694-e17b-41d2-8322-a0dabf33ce39",
   "metadata": {},
   "outputs": [
    {
     "data": {
      "text/plain": [
       "['sudh', 'kumar', 'abc']"
      ]
     },
     "execution_count": 16,
     "metadata": {},
     "output_type": "execute_result"
    }
   ],
   "source": [
    "l2_str"
   ]
  },
  {
   "cell_type": "code",
   "execution_count": null,
   "id": "8264e024-9c40-49cb-a7a9-b659a34906bf",
   "metadata": {},
   "outputs": [],
   "source": []
  },
  {
   "cell_type": "code",
   "execution_count": null,
   "id": "3154364b-079b-4e61-a130-af0d43782f44",
   "metadata": {},
   "outputs": [],
   "source": []
  },
  {
   "cell_type": "code",
   "execution_count": null,
   "id": "c4d8c83c-ddc1-4b7e-944c-4e5dc38ce4a7",
   "metadata": {},
   "outputs": [],
   "source": []
  },
  {
   "cell_type": "code",
   "execution_count": null,
   "id": "528b0dd9-32ff-470e-b022-9a1e32ceb057",
   "metadata": {},
   "outputs": [],
   "source": []
  },
  {
   "cell_type": "code",
   "execution_count": null,
   "id": "9fbfa22c-b500-4bd7-ba24-0c6ab6f26493",
   "metadata": {},
   "outputs": [],
   "source": []
  },
  {
   "cell_type": "code",
   "execution_count": null,
   "id": "997a2618-78ec-4231-a157-89c4ac516563",
   "metadata": {},
   "outputs": [],
   "source": []
  },
  {
   "cell_type": "code",
   "execution_count": null,
   "id": "00db0c8c-c5a3-4df7-aa09-0b4cd29fab98",
   "metadata": {},
   "outputs": [],
   "source": []
  },
  {
   "cell_type": "code",
   "execution_count": null,
   "id": "2112a564-cb45-432d-9ae1-1612783fe0c0",
   "metadata": {},
   "outputs": [],
   "source": []
  },
  {
   "cell_type": "code",
   "execution_count": null,
   "id": "241206e5-a792-4c67-a8b4-fe67dd359ded",
   "metadata": {},
   "outputs": [],
   "source": []
  },
  {
   "cell_type": "code",
   "execution_count": null,
   "id": "72c2f7db-e42c-4572-ab0a-de134bbfa261",
   "metadata": {},
   "outputs": [],
   "source": []
  },
  {
   "cell_type": "code",
   "execution_count": null,
   "id": "9ec5f137-9f18-40dc-b78e-8477a7e8a08c",
   "metadata": {},
   "outputs": [],
   "source": []
  },
  {
   "cell_type": "code",
   "execution_count": null,
   "id": "99403f9a-1d67-4d7a-94a8-6557e78a4dd7",
   "metadata": {},
   "outputs": [],
   "source": []
  },
  {
   "cell_type": "code",
   "execution_count": null,
   "id": "3c06774f-2764-4580-b954-9f31568be800",
   "metadata": {},
   "outputs": [],
   "source": []
  },
  {
   "cell_type": "code",
   "execution_count": null,
   "id": "117bb8f6-8133-4d2d-b42c-9581d48051b6",
   "metadata": {},
   "outputs": [],
   "source": []
  },
  {
   "cell_type": "code",
   "execution_count": null,
   "id": "47729802-9d2c-4cd5-8fbc-4b2cdfd41f79",
   "metadata": {},
   "outputs": [],
   "source": []
  },
  {
   "cell_type": "code",
   "execution_count": null,
   "id": "38dc4219-4108-4618-99ae-5eee7c6f1c5e",
   "metadata": {},
   "outputs": [],
   "source": []
  },
  {
   "cell_type": "code",
   "execution_count": null,
   "id": "64a60283-3529-45b1-8c44-cf90cd9dbfe9",
   "metadata": {},
   "outputs": [],
   "source": []
  },
  {
   "cell_type": "code",
   "execution_count": null,
   "id": "de3aab60-0202-4f03-94c7-de2a81492634",
   "metadata": {},
   "outputs": [],
   "source": []
  },
  {
   "cell_type": "code",
   "execution_count": null,
   "id": "22bea8c4-b9ea-4841-9281-d37fe31a6143",
   "metadata": {},
   "outputs": [],
   "source": []
  },
  {
   "cell_type": "code",
   "execution_count": null,
   "id": "98b83519-f92e-438c-97ad-1c9d882f98bb",
   "metadata": {},
   "outputs": [],
   "source": []
  },
  {
   "cell_type": "code",
   "execution_count": null,
   "id": "838385a6-e405-4a61-a648-b9531e242017",
   "metadata": {},
   "outputs": [],
   "source": []
  },
  {
   "cell_type": "code",
   "execution_count": null,
   "id": "2960cc2d-2970-49fc-814c-c4e881a4c7ce",
   "metadata": {},
   "outputs": [],
   "source": []
  },
  {
   "cell_type": "code",
   "execution_count": null,
   "id": "f0dab021-4895-444c-a156-4e77b50988df",
   "metadata": {},
   "outputs": [],
   "source": []
  },
  {
   "cell_type": "code",
   "execution_count": null,
   "id": "07d20cfa-ff83-4d41-968a-284412030e4a",
   "metadata": {},
   "outputs": [],
   "source": []
  },
  {
   "cell_type": "code",
   "execution_count": null,
   "id": "bf8e668c-057e-47c0-832a-1604b0f7f3c2",
   "metadata": {},
   "outputs": [],
   "source": []
  },
  {
   "cell_type": "code",
   "execution_count": null,
   "id": "ce4ac16e-0e1b-41e1-844f-1d33e3e2a857",
   "metadata": {},
   "outputs": [],
   "source": []
  },
  {
   "cell_type": "code",
   "execution_count": null,
   "id": "3d7793f9-9e31-49f2-9993-eb034afc4b99",
   "metadata": {},
   "outputs": [],
   "source": []
  },
  {
   "cell_type": "code",
   "execution_count": null,
   "id": "c7e109b1-720a-422c-a9af-650b07ae65f5",
   "metadata": {},
   "outputs": [],
   "source": []
  },
  {
   "cell_type": "code",
   "execution_count": null,
   "id": "85247672-5fc9-470f-a021-58891c8de0c6",
   "metadata": {},
   "outputs": [],
   "source": []
  },
  {
   "cell_type": "code",
   "execution_count": null,
   "id": "748a534a-54e1-496f-9bb3-a886b4434e10",
   "metadata": {},
   "outputs": [],
   "source": []
  },
  {
   "cell_type": "code",
   "execution_count": null,
   "id": "0b8ecfac-4b5d-43b6-b686-15a13ccb18dc",
   "metadata": {},
   "outputs": [],
   "source": []
  },
  {
   "cell_type": "code",
   "execution_count": null,
   "id": "2211b278-8309-466a-a15d-b74673ee31c4",
   "metadata": {},
   "outputs": [],
   "source": []
  },
  {
   "cell_type": "code",
   "execution_count": null,
   "id": "d4b2b99e-300f-44ec-9801-1aeca5b5762f",
   "metadata": {},
   "outputs": [],
   "source": []
  },
  {
   "cell_type": "code",
   "execution_count": null,
   "id": "2e3b2879-ed5d-4df3-b635-dd3d44777689",
   "metadata": {},
   "outputs": [],
   "source": []
  },
  {
   "cell_type": "code",
   "execution_count": null,
   "id": "aa00102f-74d4-457d-8baa-27ea2d2c0103",
   "metadata": {},
   "outputs": [],
   "source": []
  },
  {
   "cell_type": "code",
   "execution_count": null,
   "id": "d0d68c25-12e6-4810-abe9-e27022177bfd",
   "metadata": {},
   "outputs": [],
   "source": []
  },
  {
   "cell_type": "code",
   "execution_count": null,
   "id": "65b46298-8ca6-416f-a263-b445983e62ee",
   "metadata": {},
   "outputs": [],
   "source": []
  },
  {
   "cell_type": "code",
   "execution_count": null,
   "id": "e9844aed-cdc4-4a73-8b26-f2aab2fcb45b",
   "metadata": {},
   "outputs": [],
   "source": []
  },
  {
   "cell_type": "code",
   "execution_count": null,
   "id": "374de141-1c62-46d8-9802-3f8dd94bced9",
   "metadata": {},
   "outputs": [],
   "source": []
  },
  {
   "cell_type": "code",
   "execution_count": null,
   "id": "a39c61bb-a8cb-487a-9ce9-b43a8584a6c9",
   "metadata": {},
   "outputs": [],
   "source": []
  },
  {
   "cell_type": "code",
   "execution_count": null,
   "id": "896ec38c-f29a-4fe5-9b8a-b20a069c96c2",
   "metadata": {},
   "outputs": [],
   "source": []
  },
  {
   "cell_type": "code",
   "execution_count": null,
   "id": "441eadf3-ec29-4c1f-98d3-9db741d92900",
   "metadata": {},
   "outputs": [],
   "source": []
  },
  {
   "cell_type": "code",
   "execution_count": null,
   "id": "a4e6cabd-848a-44ff-935c-db299c2337dd",
   "metadata": {},
   "outputs": [],
   "source": []
  },
  {
   "cell_type": "code",
   "execution_count": null,
   "id": "554eff74-b0e0-4fd9-b2bf-8dd4ceb107b1",
   "metadata": {},
   "outputs": [],
   "source": []
  }
 ],
 "metadata": {
  "kernelspec": {
   "display_name": "Python 3 (ipykernel)",
   "language": "python",
   "name": "python3"
  },
  "language_info": {
   "codemirror_mode": {
    "name": "ipython",
    "version": 3
   },
   "file_extension": ".py",
   "mimetype": "text/x-python",
   "name": "python",
   "nbconvert_exporter": "python",
   "pygments_lexer": "ipython3",
   "version": "3.10.8"
  }
 },
 "nbformat": 4,
 "nbformat_minor": 5
}
