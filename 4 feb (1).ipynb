{
 "cells": [
  {
   "cell_type": "code",
   "execution_count": 1,
   "id": "72e5c734-1106-4291-ae19-52ceace6bacc",
   "metadata": {},
   "outputs": [],
   "source": [
    "#generator function"
   ]
  },
  {
   "cell_type": "code",
   "execution_count": 2,
   "id": "a1880b9c-cc83-47b5-a2e7-78a45c01955a",
   "metadata": {},
   "outputs": [
    {
     "data": {
      "text/plain": [
       "range(0, 10)"
      ]
     },
     "execution_count": 2,
     "metadata": {},
     "output_type": "execute_result"
    }
   ],
   "source": [
    "range(10)"
   ]
  },
  {
   "cell_type": "code",
   "execution_count": 3,
   "id": "6046e6aa-81a1-4ec4-8059-776d038d14a9",
   "metadata": {},
   "outputs": [
    {
     "name": "stdout",
     "output_type": "stream",
     "text": [
      "0\n",
      "1\n",
      "2\n",
      "3\n",
      "4\n",
      "5\n",
      "6\n",
      "7\n",
      "8\n",
      "9\n"
     ]
    }
   ],
   "source": [
    "for i in range(10):\n",
    "    print(i)"
   ]
  },
  {
   "cell_type": "code",
   "execution_count": 4,
   "id": "57d8b383-ce04-4f6c-be52-ae44a619ddbe",
   "metadata": {},
   "outputs": [],
   "source": [
    "# it stored all the the values and return the value"
   ]
  },
  {
   "cell_type": "code",
   "execution_count": 5,
   "id": "715c30fc-132f-44f7-81b1-7e2d86d7c4ac",
   "metadata": {},
   "outputs": [],
   "source": [
    "# but generator function aloww us the give or generate the data continuously one by one without stored it"
   ]
  },
  {
   "cell_type": "code",
   "execution_count": 6,
   "id": "feaa2ae1-9d6b-4dea-a071-d1a867a191a1",
   "metadata": {},
   "outputs": [],
   "source": [
    "def test_fib(n):#for finnachi number\n",
    "    a,b=0,1\n",
    "    for i in range(n):\n",
    "        yield a\n",
    "        a,b=b,a+b"
   ]
  },
  {
   "cell_type": "code",
   "execution_count": 7,
   "id": "aedb4d80-8f7b-4ae2-b60c-121d7b16dac6",
   "metadata": {},
   "outputs": [
    {
     "data": {
      "text/plain": [
       "<generator object test_fib at 0x7f4eb43fda10>"
      ]
     },
     "execution_count": 7,
     "metadata": {},
     "output_type": "execute_result"
    }
   ],
   "source": [
    "test_fib(10)\n"
   ]
  },
  {
   "cell_type": "code",
   "execution_count": 8,
   "id": "7bc851fc-7b56-4b5c-91ff-9243cd353331",
   "metadata": {},
   "outputs": [
    {
     "name": "stdout",
     "output_type": "stream",
     "text": [
      "0\n",
      "1\n",
      "1\n",
      "2\n",
      "3\n",
      "5\n",
      "8\n",
      "13\n",
      "21\n",
      "34\n"
     ]
    }
   ],
   "source": [
    "for i in test_fib(10):\n",
    "    print(i)"
   ]
  },
  {
   "cell_type": "code",
   "execution_count": null,
   "id": "6a0128f4-e6ed-47dc-8d4d-3760afabe426",
   "metadata": {},
   "outputs": [],
   "source": [
    "# by using while"
   ]
  },
  {
   "cell_type": "code",
   "execution_count": 14,
   "id": "fd6fddd9-fb57-4b37-86b7-968bfde9544c",
   "metadata": {},
   "outputs": [],
   "source": [
    "def test_fib1():#for finnachi number\n",
    "    a,b=0,1\n",
    "    while True:\n",
    "        yield a\n",
    "        a,b=b,a+b"
   ]
  },
  {
   "cell_type": "code",
   "execution_count": 18,
   "id": "a572244f-ae86-44a5-be52-9bd009526244",
   "metadata": {},
   "outputs": [],
   "source": [
    "fib= test_fib1()#for calling it we will make object of it"
   ]
  },
  {
   "cell_type": "code",
   "execution_count": 19,
   "id": "26964321-7ea7-48ce-b381-ef101f9bb650",
   "metadata": {},
   "outputs": [
    {
     "name": "stdout",
     "output_type": "stream",
     "text": [
      "0\n",
      "1\n",
      "1\n",
      "2\n",
      "3\n",
      "5\n",
      "8\n",
      "13\n",
      "21\n",
      "34\n"
     ]
    }
   ],
   "source": [
    "for i in range(10):\n",
    "    print(next(fib))"
   ]
  },
  {
   "cell_type": "code",
   "execution_count": 20,
   "id": "a5a12792-5cdb-4307-bc6a-57662a296faa",
   "metadata": {},
   "outputs": [],
   "source": [
    "#explanation of next function"
   ]
  },
  {
   "cell_type": "code",
   "execution_count": 21,
   "id": "52a4e1f0-bf48-4434-a728-18656455b89e",
   "metadata": {},
   "outputs": [],
   "source": [
    "s=\"sudh\""
   ]
  },
  {
   "cell_type": "code",
   "execution_count": 22,
   "id": "05090456-569a-462b-86cb-9bba25bdd083",
   "metadata": {},
   "outputs": [
    {
     "name": "stdout",
     "output_type": "stream",
     "text": [
      "s\n",
      "u\n",
      "d\n",
      "h\n"
     ]
    }
   ],
   "source": [
    "for i in s:\n",
    "    print(i)"
   ]
  },
  {
   "cell_type": "code",
   "execution_count": 23,
   "id": "e279ab16-f3f1-4e57-b7c9-281c9aca35e3",
   "metadata": {},
   "outputs": [
    {
     "ename": "TypeError",
     "evalue": "'str' object is not an iterator",
     "output_type": "error",
     "traceback": [
      "\u001b[0;31m---------------------------------------------------------------------------\u001b[0m",
      "\u001b[0;31mTypeError\u001b[0m                                 Traceback (most recent call last)",
      "Cell \u001b[0;32mIn[23], line 1\u001b[0m\n\u001b[0;32m----> 1\u001b[0m \u001b[38;5;28;43mnext\u001b[39;49m\u001b[43m(\u001b[49m\u001b[43ms\u001b[49m\u001b[43m)\u001b[49m\n",
      "\u001b[0;31mTypeError\u001b[0m: 'str' object is not an iterator"
     ]
    }
   ],
   "source": [
    "next(s)"
   ]
  },
  {
   "cell_type": "code",
   "execution_count": 24,
   "id": "c4b84ca1-c7e6-47c6-aed5-898f7a5a297a",
   "metadata": {},
   "outputs": [],
   "source": [
    "#so string object is not an itterator"
   ]
  },
  {
   "cell_type": "code",
   "execution_count": 25,
   "id": "13a345fc-4f0d-42d3-8989-6b1bfb6c51bd",
   "metadata": {},
   "outputs": [],
   "source": [
    "s1=iter(s)"
   ]
  },
  {
   "cell_type": "code",
   "execution_count": 31,
   "id": "0c3b6864-eba9-42f4-b472-5a7a11d1fc8a",
   "metadata": {},
   "outputs": [
    {
     "data": {
      "text/plain": [
       "str_iterator"
      ]
     },
     "execution_count": 31,
     "metadata": {},
     "output_type": "execute_result"
    }
   ],
   "source": [
    "type(s1)"
   ]
  },
  {
   "cell_type": "code",
   "execution_count": 26,
   "id": "8e914bad-16a8-480d-9103-33e81810052a",
   "metadata": {},
   "outputs": [
    {
     "data": {
      "text/plain": [
       "'s'"
      ]
     },
     "execution_count": 26,
     "metadata": {},
     "output_type": "execute_result"
    }
   ],
   "source": [
    "next(s1)"
   ]
  },
  {
   "cell_type": "code",
   "execution_count": 27,
   "id": "2d1c968e-3264-434f-9263-8a199d2cbce9",
   "metadata": {},
   "outputs": [
    {
     "data": {
      "text/plain": [
       "'u'"
      ]
     },
     "execution_count": 27,
     "metadata": {},
     "output_type": "execute_result"
    }
   ],
   "source": [
    "next(s1)"
   ]
  },
  {
   "cell_type": "code",
   "execution_count": 28,
   "id": "aff4ca64-989b-4ad5-8eaf-76c60f624dc7",
   "metadata": {},
   "outputs": [
    {
     "data": {
      "text/plain": [
       "'d'"
      ]
     },
     "execution_count": 28,
     "metadata": {},
     "output_type": "execute_result"
    }
   ],
   "source": [
    "next(s1)"
   ]
  },
  {
   "cell_type": "code",
   "execution_count": 29,
   "id": "f7bb2378-2a3e-46ce-93ca-8ddd6f7b5639",
   "metadata": {},
   "outputs": [
    {
     "data": {
      "text/plain": [
       "'h'"
      ]
     },
     "execution_count": 29,
     "metadata": {},
     "output_type": "execute_result"
    }
   ],
   "source": [
    "next(s1)"
   ]
  },
  {
   "cell_type": "code",
   "execution_count": 30,
   "id": "4e3bc5db-9f91-4817-a401-3288001a1f1f",
   "metadata": {},
   "outputs": [],
   "source": [
    "#so string is itterable but not itterator"
   ]
  },
  {
   "cell_type": "code",
   "execution_count": 32,
   "id": "1442387c-4e33-40fa-9c1d-33f601f57bf1",
   "metadata": {},
   "outputs": [],
   "source": [
    "#so in order to make the string itterator first we will put the string in an iter()function\n",
    "#which will make it itterator and than call next function because it always work on itterator"
   ]
  },
  {
   "cell_type": "code",
   "execution_count": 33,
   "id": "1f8199f3-20c1-4669-81c8-216e9eafe92a",
   "metadata": {},
   "outputs": [
    {
     "ename": "StopIteration",
     "evalue": "",
     "output_type": "error",
     "traceback": [
      "\u001b[0;31m---------------------------------------------------------------------------\u001b[0m",
      "\u001b[0;31mStopIteration\u001b[0m                             Traceback (most recent call last)",
      "Cell \u001b[0;32mIn[33], line 1\u001b[0m\n\u001b[0;32m----> 1\u001b[0m \u001b[38;5;28;43mnext\u001b[39;49m\u001b[43m(\u001b[49m\u001b[43ms1\u001b[49m\u001b[43m)\u001b[49m\n",
      "\u001b[0;31mStopIteration\u001b[0m: "
     ]
    }
   ],
   "source": [
    "next(s1)"
   ]
  },
  {
   "cell_type": "code",
   "execution_count": 34,
   "id": "5de7fde8-b704-4727-a090-cd60b4c3d06a",
   "metadata": {},
   "outputs": [],
   "source": [
    "#another example"
   ]
  },
  {
   "cell_type": "code",
   "execution_count": 35,
   "id": "4d74d8c1-184d-4f91-af24-f0a9d8f5eafe",
   "metadata": {},
   "outputs": [
    {
     "ename": "TypeError",
     "evalue": "'int' object is not an iterator",
     "output_type": "error",
     "traceback": [
      "\u001b[0;31m---------------------------------------------------------------------------\u001b[0m",
      "\u001b[0;31mTypeError\u001b[0m                                 Traceback (most recent call last)",
      "Cell \u001b[0;32mIn[35], line 1\u001b[0m\n\u001b[0;32m----> 1\u001b[0m \u001b[38;5;28;43mnext\u001b[39;49m\u001b[43m(\u001b[49m\u001b[38;5;241;43m45\u001b[39;49m\u001b[43m)\u001b[49m\n",
      "\u001b[0;31mTypeError\u001b[0m: 'int' object is not an iterator"
     ]
    }
   ],
   "source": [
    "next(45)"
   ]
  },
  {
   "cell_type": "code",
   "execution_count": 36,
   "id": "14cf87a0-8d03-4e8e-9548-0d535f57fedd",
   "metadata": {},
   "outputs": [
    {
     "ename": "TypeError",
     "evalue": "'int' object is not iterable",
     "output_type": "error",
     "traceback": [
      "\u001b[0;31m---------------------------------------------------------------------------\u001b[0m",
      "\u001b[0;31mTypeError\u001b[0m                                 Traceback (most recent call last)",
      "Cell \u001b[0;32mIn[36], line 1\u001b[0m\n\u001b[0;32m----> 1\u001b[0m \u001b[38;5;28;43miter\u001b[39;49m\u001b[43m(\u001b[49m\u001b[38;5;241;43m45\u001b[39;49m\u001b[43m)\u001b[49m\n",
      "\u001b[0;31mTypeError\u001b[0m: 'int' object is not iterable"
     ]
    }
   ],
   "source": [
    "iter(45)"
   ]
  },
  {
   "cell_type": "code",
   "execution_count": 1,
   "id": "db81949a-6d2d-47e0-b030-5e97ade8d164",
   "metadata": {},
   "outputs": [],
   "source": [
    "#so if iterrables can only be itterator"
   ]
  },
  {
   "cell_type": "code",
   "execution_count": 2,
   "id": "f50857a1-07c8-48a4-8096-6a289d35c433",
   "metadata": {},
   "outputs": [],
   "source": [
    "def count_test(n):\n",
    "    count=1\n",
    "    while count<=n:\n",
    "        yield count\n",
    "        count=count+1\n",
    "        "
   ]
  },
  {
   "cell_type": "code",
   "execution_count": 3,
   "id": "cccaea1d-d02d-422e-9649-e9f9a445ae10",
   "metadata": {},
   "outputs": [],
   "source": [
    "c=count_test(5)"
   ]
  },
  {
   "cell_type": "code",
   "execution_count": 4,
   "id": "7650f56c-7819-4c6a-82fb-302a59385ffa",
   "metadata": {},
   "outputs": [
    {
     "name": "stdout",
     "output_type": "stream",
     "text": [
      "1\n",
      "2\n",
      "3\n",
      "4\n",
      "5\n"
     ]
    }
   ],
   "source": [
    "for i in c:\n",
    "    print(i)"
   ]
  },
  {
   "cell_type": "code",
   "execution_count": 5,
   "id": "a71a270b-f09e-48fa-ac9c-e0efb21781dc",
   "metadata": {},
   "outputs": [
    {
     "data": {
      "text/plain": [
       "generator"
      ]
     },
     "execution_count": 5,
     "metadata": {},
     "output_type": "execute_result"
    }
   ],
   "source": [
    "type(c)"
   ]
  },
  {
   "cell_type": "code",
   "execution_count": 6,
   "id": "c8ab0413-93e5-45fa-b66a-8a8208eede10",
   "metadata": {},
   "outputs": [],
   "source": [
    "#lambda function"
   ]
  },
  {
   "cell_type": "code",
   "execution_count": 7,
   "id": "f023f90a-1c44-47d3-b4a4-1a3c77aef154",
   "metadata": {},
   "outputs": [],
   "source": [
    "n=3\n",
    "p=2"
   ]
  },
  {
   "cell_type": "code",
   "execution_count": 8,
   "id": "05a5c005-6f03-4d2b-b7cf-583cf1e4e436",
   "metadata": {},
   "outputs": [],
   "source": [
    "def test(n,p):\n",
    "    return n**p"
   ]
  },
  {
   "cell_type": "code",
   "execution_count": 9,
   "id": "1caffe75-6599-43ea-bfdf-4852aab2b394",
   "metadata": {},
   "outputs": [
    {
     "data": {
      "text/plain": [
       "729"
      ]
     },
     "execution_count": 9,
     "metadata": {},
     "output_type": "execute_result"
    }
   ],
   "source": [
    "test(3,6)"
   ]
  },
  {
   "cell_type": "code",
   "execution_count": 10,
   "id": "7a776e82-b12f-46eb-85c4-afe80753f702",
   "metadata": {},
   "outputs": [],
   "source": [
    "#in term of lembda function"
   ]
  },
  {
   "cell_type": "code",
   "execution_count": 11,
   "id": "7fa6348b-dcdb-4b3a-9a56-3323be6a2283",
   "metadata": {},
   "outputs": [],
   "source": [
    "a=lambda n,p:n**p\n",
    "\n"
   ]
  },
  {
   "cell_type": "code",
   "execution_count": 12,
   "id": "713c817b-d5e5-40f3-90ba-255295778c55",
   "metadata": {},
   "outputs": [
    {
     "data": {
      "text/plain": [
       "9"
      ]
     },
     "execution_count": 12,
     "metadata": {},
     "output_type": "execute_result"
    }
   ],
   "source": [
    "a(3,2)"
   ]
  },
  {
   "cell_type": "code",
   "execution_count": 13,
   "id": "efec9213-e98d-4c0e-9a09-54cb63f31a9c",
   "metadata": {},
   "outputs": [],
   "source": [
    "#\n"
   ]
  },
  {
   "cell_type": "code",
   "execution_count": 14,
   "id": "b6bca56f-f02c-4047-8ef4-ba394d4ad933",
   "metadata": {},
   "outputs": [],
   "source": [
    "add=lambda x,y:x+y"
   ]
  },
  {
   "cell_type": "code",
   "execution_count": 15,
   "id": "4740f9a3-5784-4392-bb91-97aaedc0870e",
   "metadata": {},
   "outputs": [
    {
     "data": {
      "text/plain": [
       "5"
      ]
     },
     "execution_count": 15,
     "metadata": {},
     "output_type": "execute_result"
    }
   ],
   "source": [
    "add(2,3)"
   ]
  },
  {
   "cell_type": "code",
   "execution_count": 16,
   "id": "b148ad70-1bcc-411c-9708-7def8f67a6ab",
   "metadata": {},
   "outputs": [],
   "source": [
    "#"
   ]
  },
  {
   "cell_type": "code",
   "execution_count": 17,
   "id": "8cc0f6b7-24d6-4fab-98eb-46b392de6e79",
   "metadata": {},
   "outputs": [],
   "source": [
    "c_to_f=lambda c:(9/5)*c+32\n"
   ]
  },
  {
   "cell_type": "code",
   "execution_count": 18,
   "id": "ab60bde5-8e8e-4721-a0bc-2b775a9fb2fc",
   "metadata": {},
   "outputs": [
    {
     "data": {
      "text/plain": [
       "113.0"
      ]
     },
     "execution_count": 18,
     "metadata": {},
     "output_type": "execute_result"
    }
   ],
   "source": [
    "c_to_f(45)"
   ]
  },
  {
   "cell_type": "code",
   "execution_count": 19,
   "id": "8e1e6ded-4d13-427b-a095-e1b3f02b733b",
   "metadata": {},
   "outputs": [],
   "source": [
    "finding_max=lambda x,y:x if x>y else y"
   ]
  },
  {
   "cell_type": "code",
   "execution_count": 21,
   "id": "d5bb2d9e-c79f-4867-8375-0a94f840a8df",
   "metadata": {},
   "outputs": [
    {
     "data": {
      "text/plain": [
       "4"
      ]
     },
     "execution_count": 21,
     "metadata": {},
     "output_type": "execute_result"
    }
   ],
   "source": [
    "finding_max(4,3)"
   ]
  },
  {
   "cell_type": "code",
   "execution_count": 22,
   "id": "47e39a12-fd26-43ea-8973-bfb6afefcb0c",
   "metadata": {},
   "outputs": [],
   "source": [
    "#"
   ]
  },
  {
   "cell_type": "code",
   "execution_count": 23,
   "id": "4e6f6f5d-4f05-408e-8b31-a44c3fe9c167",
   "metadata": {},
   "outputs": [],
   "source": [
    "s=\"pwskills\"\n",
    "a=lambda s:len(s)"
   ]
  },
  {
   "cell_type": "code",
   "execution_count": 29,
   "id": "fc55072b-d64a-4c00-bcea-bb2640b537e3",
   "metadata": {},
   "outputs": [
    {
     "data": {
      "text/plain": [
       "8"
      ]
     },
     "execution_count": 29,
     "metadata": {},
     "output_type": "execute_result"
    }
   ],
   "source": [
    "a(s)"
   ]
  },
  {
   "cell_type": "code",
   "execution_count": 30,
   "id": "d7f743f1-9cd5-4c7c-b378-39a9a53fcde1",
   "metadata": {},
   "outputs": [],
   "source": [
    "#map ,reduce and filter function\n"
   ]
  },
  {
   "cell_type": "code",
   "execution_count": 31,
   "id": "6672260a-e3e8-4c9e-a1eb-981f392e40f1",
   "metadata": {},
   "outputs": [],
   "source": [
    "l=[1,2,3,4,5]"
   ]
  },
  {
   "cell_type": "code",
   "execution_count": 32,
   "id": "fbcce981-830d-4e25-a6c2-14d69e518fda",
   "metadata": {},
   "outputs": [],
   "source": [
    "def test(l):\n",
    "    l1=[]\n",
    "    for i in l:\n",
    "        l1.append(i**2)\n",
    "    return l1"
   ]
  },
  {
   "cell_type": "code",
   "execution_count": 34,
   "id": "cdae4db6-450e-4b55-8c10-45bb470a5215",
   "metadata": {},
   "outputs": [
    {
     "data": {
      "text/plain": [
       "[1, 4, 9, 16, 25]"
      ]
     },
     "execution_count": 34,
     "metadata": {},
     "output_type": "execute_result"
    }
   ],
   "source": [
    "test(l)"
   ]
  },
  {
   "cell_type": "code",
   "execution_count": 35,
   "id": "957254a4-4d18-4f24-93c3-e8bc8b47989c",
   "metadata": {},
   "outputs": [],
   "source": [
    "def sq(x):\n",
    "    return x**2#its an external function"
   ]
  },
  {
   "cell_type": "code",
   "execution_count": 38,
   "id": "228058b2-8f8a-4c4e-bed5-ee19e89ff049",
   "metadata": {},
   "outputs": [
    {
     "data": {
      "text/plain": [
       "<map at 0x7fed2028bf40>"
      ]
     },
     "execution_count": 38,
     "metadata": {},
     "output_type": "execute_result"
    }
   ],
   "source": [
    "map(sq,l)"
   ]
  },
  {
   "cell_type": "code",
   "execution_count": 39,
   "id": "f5fde298-f0b7-4bbd-90f2-c9d04f98a401",
   "metadata": {},
   "outputs": [
    {
     "data": {
      "text/plain": [
       "[1, 4, 9, 16, 25]"
      ]
     },
     "execution_count": 39,
     "metadata": {},
     "output_type": "execute_result"
    }
   ],
   "source": [
    "list(map(sq,l))"
   ]
  },
  {
   "cell_type": "code",
   "execution_count": 40,
   "id": "005eb77b-558e-4a5c-adf0-1a342cf59617",
   "metadata": {},
   "outputs": [],
   "source": [
    "#or by internal function"
   ]
  },
  {
   "cell_type": "code",
   "execution_count": 46,
   "id": "1c754688-d7e0-4b85-9b34-5c524c19ac9b",
   "metadata": {},
   "outputs": [
    {
     "data": {
      "text/plain": [
       "[1, 4, 9, 16, 25]"
      ]
     },
     "execution_count": 46,
     "metadata": {},
     "output_type": "execute_result"
    }
   ],
   "source": [
    "list(map(lambda x:x**2,l))"
   ]
  },
  {
   "cell_type": "code",
   "execution_count": 47,
   "id": "be10c069-9add-4476-a940-bd453ec1c776",
   "metadata": {},
   "outputs": [],
   "source": [
    "#\n",
    "    "
   ]
  },
  {
   "cell_type": "code",
   "execution_count": 54,
   "id": "a831d463-8142-426a-91e9-aa2d89d55166",
   "metadata": {},
   "outputs": [
    {
     "data": {
      "text/plain": [
       "[7, 9, 11, 13, 15]"
      ]
     },
     "execution_count": 54,
     "metadata": {},
     "output_type": "execute_result"
    }
   ],
   "source": [
    "l1=[1,2,3,4,5]\n",
    "l2=[6,7,8,9,10]\n",
    "list(map(lambda x,y:x+y,l1,l2))\n"
   ]
  },
  {
   "cell_type": "code",
   "execution_count": 55,
   "id": "2d878ff0-c790-43e7-8d94-2cf271ae7691",
   "metadata": {},
   "outputs": [],
   "source": [
    "#by external function\n"
   ]
  },
  {
   "cell_type": "code",
   "execution_count": 57,
   "id": "483cf7ac-c96c-41bb-b849-83a0b527b885",
   "metadata": {},
   "outputs": [],
   "source": [
    "def sum(x,y):\n",
    "    return x+y"
   ]
  },
  {
   "cell_type": "code",
   "execution_count": 58,
   "id": "72b324f1-e36d-4ed4-bfa7-3c55a0225e23",
   "metadata": {},
   "outputs": [
    {
     "data": {
      "text/plain": [
       "[7, 9, 11, 13, 15]"
      ]
     },
     "execution_count": 58,
     "metadata": {},
     "output_type": "execute_result"
    }
   ],
   "source": [
    "list(map(sum,l1,l2))"
   ]
  },
  {
   "cell_type": "code",
   "execution_count": 61,
   "id": "64eca8e7-4877-4332-9b1b-e6dd2c10a452",
   "metadata": {},
   "outputs": [
    {
     "data": {
      "text/plain": [
       "['P', 'W', ' ', 'S', 'K', 'I', 'L', 'L', 'S']"
      ]
     },
     "execution_count": 61,
     "metadata": {},
     "output_type": "execute_result"
    }
   ],
   "source": [
    "s=\"pw skills\"\n",
    "list(map(lambda s:s.upper(),s))"
   ]
  },
  {
   "cell_type": "code",
   "execution_count": 62,
   "id": "5229fe66-8a4c-4679-a978-b06fc880eb72",
   "metadata": {},
   "outputs": [],
   "source": [
    "#reduce function"
   ]
  },
  {
   "cell_type": "code",
   "execution_count": 63,
   "id": "bc6771ec-1973-4a40-a028-f8a4c950cec3",
   "metadata": {},
   "outputs": [],
   "source": [
    "from functools import reduce"
   ]
  },
  {
   "cell_type": "code",
   "execution_count": 72,
   "id": "005374f1-25d8-431d-bb6a-5eb255935b25",
   "metadata": {},
   "outputs": [],
   "source": [
    "l=[1,2,3,4,5]\n",
    "\n"
   ]
  },
  {
   "cell_type": "code",
   "execution_count": 65,
   "id": "8083ce68-3743-4401-b0fd-8a7b0ff48a73",
   "metadata": {},
   "outputs": [
    {
     "data": {
      "text/plain": [
       "15"
      ]
     },
     "execution_count": 65,
     "metadata": {},
     "output_type": "execute_result"
    }
   ],
   "source": [
    "reduce(lambda x,y:x+y,l)"
   ]
  },
  {
   "cell_type": "code",
   "execution_count": 66,
   "id": "f157ef01-3149-4bbb-b20c-71bcfd0d8f62",
   "metadata": {},
   "outputs": [],
   "source": [
    "# in reduce function we will introduce only two parameters"
   ]
  },
  {
   "cell_type": "code",
   "execution_count": 67,
   "id": "a5ccb324-6c8a-4298-83a1-c3968c53ce5a",
   "metadata": {},
   "outputs": [
    {
     "ename": "TypeError",
     "evalue": "<lambda>() missing 1 required positional argument: 'z'",
     "output_type": "error",
     "traceback": [
      "\u001b[0;31m---------------------------------------------------------------------------\u001b[0m",
      "\u001b[0;31mTypeError\u001b[0m                                 Traceback (most recent call last)",
      "Cell \u001b[0;32mIn[67], line 1\u001b[0m\n\u001b[0;32m----> 1\u001b[0m \u001b[43mreduce\u001b[49m\u001b[43m(\u001b[49m\u001b[38;5;28;43;01mlambda\u001b[39;49;00m\u001b[43m \u001b[49m\u001b[43mx\u001b[49m\u001b[43m,\u001b[49m\u001b[43my\u001b[49m\u001b[43m,\u001b[49m\u001b[43mz\u001b[49m\u001b[43m:\u001b[49m\u001b[43mx\u001b[49m\u001b[38;5;241;43m+\u001b[39;49m\u001b[43my\u001b[49m\u001b[38;5;241;43m+\u001b[39;49m\u001b[43mz\u001b[49m\u001b[43m,\u001b[49m\u001b[43ml\u001b[49m\u001b[43m)\u001b[49m\n",
      "\u001b[0;31mTypeError\u001b[0m: <lambda>() missing 1 required positional argument: 'z'"
     ]
    }
   ],
   "source": [
    "reduce(lambda x,y,z:x+y+z,l)"
   ]
  },
  {
   "cell_type": "code",
   "execution_count": 68,
   "id": "f3e84ad8-5f6b-4c84-b11a-e69eb321d7bb",
   "metadata": {},
   "outputs": [
    {
     "ename": "TypeError",
     "evalue": "reduce() of empty iterable with no initial value",
     "output_type": "error",
     "traceback": [
      "\u001b[0;31m---------------------------------------------------------------------------\u001b[0m",
      "\u001b[0;31mTypeError\u001b[0m                                 Traceback (most recent call last)",
      "Cell \u001b[0;32mIn[68], line 1\u001b[0m\n\u001b[0;32m----> 1\u001b[0m \u001b[43mreduce\u001b[49m\u001b[43m(\u001b[49m\u001b[38;5;28;43;01mlambda\u001b[39;49;00m\u001b[43m \u001b[49m\u001b[43mx\u001b[49m\u001b[43m,\u001b[49m\u001b[43my\u001b[49m\u001b[43m:\u001b[49m\u001b[43mx\u001b[49m\u001b[38;5;241;43m+\u001b[39;49m\u001b[43my\u001b[49m\u001b[43m,\u001b[49m\u001b[43m[\u001b[49m\u001b[43m]\u001b[49m\u001b[43m)\u001b[49m\n",
      "\u001b[0;31mTypeError\u001b[0m: reduce() of empty iterable with no initial value"
     ]
    }
   ],
   "source": [
    "reduce(lambda x,y:x+y,[])"
   ]
  },
  {
   "cell_type": "code",
   "execution_count": 69,
   "id": "ae405276-a868-4e97-8809-3cb2ebf48588",
   "metadata": {},
   "outputs": [
    {
     "data": {
      "text/plain": [
       "1"
      ]
     },
     "execution_count": 69,
     "metadata": {},
     "output_type": "execute_result"
    }
   ],
   "source": [
    "reduce(lambda x,y:x+y,[1])"
   ]
  },
  {
   "cell_type": "code",
   "execution_count": 74,
   "id": "83814033-c119-48e9-9361-36b92b195a46",
   "metadata": {},
   "outputs": [
    {
     "data": {
      "text/plain": [
       "120"
      ]
     },
     "execution_count": 74,
     "metadata": {},
     "output_type": "execute_result"
    }
   ],
   "source": [
    "reduce(lambda x,y:x*y,l)"
   ]
  },
  {
   "cell_type": "code",
   "execution_count": 76,
   "id": "3da1fe5b-1fed-4799-bdfd-a90cccb2225b",
   "metadata": {},
   "outputs": [],
   "source": [
    "#find the max number in the list"
   ]
  },
  {
   "cell_type": "code",
   "execution_count": 78,
   "id": "4861a797-baec-4057-9348-25b693af2100",
   "metadata": {},
   "outputs": [
    {
     "data": {
      "text/plain": [
       "5"
      ]
     },
     "execution_count": 78,
     "metadata": {},
     "output_type": "execute_result"
    }
   ],
   "source": [
    "reduce(lambda x,y:x if x>y else y,l)"
   ]
  },
  {
   "cell_type": "code",
   "execution_count": 79,
   "id": "ed9d5c40-dd61-4613-9d56-242ddb39e548",
   "metadata": {},
   "outputs": [],
   "source": [
    "# filter function"
   ]
  },
  {
   "cell_type": "code",
   "execution_count": 80,
   "id": "290689e3-5f7f-41b1-b2ea-6520a1d65c8b",
   "metadata": {},
   "outputs": [
    {
     "data": {
      "text/plain": [
       "[1, 2, 3, 4, 5]"
      ]
     },
     "execution_count": 80,
     "metadata": {},
     "output_type": "execute_result"
    }
   ],
   "source": [
    "l"
   ]
  },
  {
   "cell_type": "code",
   "execution_count": 81,
   "id": "e46afeae-795b-4699-923c-0c5b1dd7d9e4",
   "metadata": {},
   "outputs": [],
   "source": [
    "#find even number"
   ]
  },
  {
   "cell_type": "code",
   "execution_count": 83,
   "id": "74ac9a04-73fb-4be8-a06e-41fdbff470d8",
   "metadata": {},
   "outputs": [
    {
     "data": {
      "text/plain": [
       "[2, 4]"
      ]
     },
     "execution_count": 83,
     "metadata": {},
     "output_type": "execute_result"
    }
   ],
   "source": [
    "list(filter(lambda x:x%2==0,l))"
   ]
  },
  {
   "cell_type": "code",
   "execution_count": 84,
   "id": "a4a9e2bd-17c0-49e8-a921-a32627eb3353",
   "metadata": {},
   "outputs": [],
   "source": [
    "#for odd numbers"
   ]
  },
  {
   "cell_type": "code",
   "execution_count": 85,
   "id": "cb5e70dc-3e5a-4d4b-8d99-27557389315c",
   "metadata": {},
   "outputs": [
    {
     "data": {
      "text/plain": [
       "[1, 3, 5]"
      ]
     },
     "execution_count": 85,
     "metadata": {},
     "output_type": "execute_result"
    }
   ],
   "source": [
    "list(filter(lambda x:x%2!=0,l))\n"
   ]
  },
  {
   "cell_type": "code",
   "execution_count": 86,
   "id": "36e2643f-c20b-44a6-a0a0-c75749909aa4",
   "metadata": {},
   "outputs": [],
   "source": [
    "#find the negative numbers"
   ]
  },
  {
   "cell_type": "code",
   "execution_count": 89,
   "id": "583c3d59-e300-48da-8f7e-ef307a17fb91",
   "metadata": {},
   "outputs": [],
   "source": [
    "l1=[-3,-4,-5,6,4,-1,45,-9]"
   ]
  },
  {
   "cell_type": "code",
   "execution_count": 91,
   "id": "8ab1f94f-4507-46cd-946b-e5b24a2ce382",
   "metadata": {},
   "outputs": [
    {
     "data": {
      "text/plain": [
       "[-3, -4, -5, -1, -9]"
      ]
     },
     "execution_count": 91,
     "metadata": {},
     "output_type": "execute_result"
    }
   ],
   "source": [
    "list(filter(lambda x:x<0,l1))"
   ]
  },
  {
   "cell_type": "code",
   "execution_count": 92,
   "id": "0483a900-a717-41e4-a621-e1937ce73347",
   "metadata": {},
   "outputs": [],
   "source": [
    "l2=[\"sudh\",\"pwskills\",\"kumar\",\"banglore\",\"krish\"]\n"
   ]
  },
  {
   "cell_type": "code",
   "execution_count": 93,
   "id": "aa04eef7-ef19-4f17-acee-20177c3c2420",
   "metadata": {},
   "outputs": [
    {
     "data": {
      "text/plain": [
       "['sudh', 'kumar', 'krish']"
      ]
     },
     "execution_count": 93,
     "metadata": {},
     "output_type": "execute_result"
    }
   ],
   "source": [
    "list(filter(lambda x:len(x)<6,l2))"
   ]
  },
  {
   "cell_type": "code",
   "execution_count": 94,
   "id": "61b90d43-2eb6-4044-b3ff-f1a13f318b76",
   "metadata": {},
   "outputs": [],
   "source": [
    "#quiz"
   ]
  },
  {
   "cell_type": "code",
   "execution_count": 95,
   "id": "1da55510-06c5-47b1-b7c9-2e327679b748",
   "metadata": {},
   "outputs": [
    {
     "name": "stdout",
     "output_type": "stream",
     "text": [
      "[1, 4, 9, 16, 25]\n"
     ]
    }
   ],
   "source": [
    "a=[1,2,3,4,5]\n",
    "sq=map(lambda x:x**2,a)\n",
    "print(list(sq))"
   ]
  },
  {
   "cell_type": "code",
   "execution_count": null,
   "id": "013f1fea-3ae4-458a-a8ee-061e6102ebe2",
   "metadata": {},
   "outputs": [],
   "source": []
  }
 ],
 "metadata": {
  "kernelspec": {
   "display_name": "Python 3 (ipykernel)",
   "language": "python",
   "name": "python3"
  },
  "language_info": {
   "codemirror_mode": {
    "name": "ipython",
    "version": 3
   },
   "file_extension": ".py",
   "mimetype": "text/x-python",
   "name": "python",
   "nbconvert_exporter": "python",
   "pygments_lexer": "ipython3",
   "version": "3.10.8"
  }
 },
 "nbformat": 4,
 "nbformat_minor": 5
}
