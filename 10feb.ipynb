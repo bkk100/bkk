{
 "cells": [
  {
   "cell_type": "code",
   "execution_count": 1,
   "id": "03729fa8-6384-41bb-b6e8-10996d470e5d",
   "metadata": {},
   "outputs": [],
   "source": [
    "# decorator"
   ]
  },
  {
   "cell_type": "code",
   "execution_count": 1,
   "id": "05692442-9c9f-4eed-9ed0-72862408d3c4",
   "metadata": {},
   "outputs": [],
   "source": [
    "def test():\n",
    "    print(\"this is the start of function\")\n",
    "    print(\"this is my function to test\")\n",
    "    print(4+5)\n",
    "    print(\"this is the end of my function\")\n",
    "    "
   ]
  },
  {
   "cell_type": "code",
   "execution_count": 2,
   "id": "1b333069-d438-44de-af2f-59c0522cb728",
   "metadata": {},
   "outputs": [
    {
     "name": "stdout",
     "output_type": "stream",
     "text": [
      "this is the start of function\n",
      "this is my function to test\n",
      "9\n",
      "this is the end of my function\n"
     ]
    }
   ],
   "source": [
    "test()"
   ]
  },
  {
   "cell_type": "code",
   "execution_count": 3,
   "id": "77d392d3-14f4-4eaf-bd84-6c90aa95ab91",
   "metadata": {},
   "outputs": [],
   "source": [
    "#for this we have to write the function again and again and it is uneasy"
   ]
  },
  {
   "cell_type": "code",
   "execution_count": 1,
   "id": "f5af93fe-b034-499e-b51f-4bfe17ebd904",
   "metadata": {},
   "outputs": [],
   "source": [
    "def deco(func):#decorator code\n",
    "    def inner_dec():\n",
    "        print(\"this is the start of my function\")\n",
    "        func()\n",
    "        print(\"this is the end of my function\")\n",
    "    return inner_dec"
   ]
  },
  {
   "cell_type": "code",
   "execution_count": 3,
   "id": "7890fc39-3b73-41c5-a687-4f3e45ee8c80",
   "metadata": {},
   "outputs": [],
   "source": [
    "def test1():\n",
    "    print(6*7)"
   ]
  },
  {
   "cell_type": "code",
   "execution_count": 4,
   "id": "ba6a3ec1-f02c-4091-b30a-5090a145089c",
   "metadata": {},
   "outputs": [
    {
     "name": "stdout",
     "output_type": "stream",
     "text": [
      "42\n"
     ]
    }
   ],
   "source": [
    "test1()"
   ]
  },
  {
   "cell_type": "code",
   "execution_count": 5,
   "id": "b7fac7e8-7f2b-47cc-b9f2-fac83f623b04",
   "metadata": {},
   "outputs": [],
   "source": [
    "#we will use @function_name(i.e.deco)"
   ]
  },
  {
   "cell_type": "code",
   "execution_count": 6,
   "id": "dce10f98-0c3f-413d-ad4a-d0ec03eeb65d",
   "metadata": {},
   "outputs": [],
   "source": [
    "@deco\n",
    "def test1():\n",
    "    print(6*7)"
   ]
  },
  {
   "cell_type": "code",
   "execution_count": 7,
   "id": "9ebead1c-8e68-4e14-a189-64f8f984d2c3",
   "metadata": {},
   "outputs": [
    {
     "name": "stdout",
     "output_type": "stream",
     "text": [
      "this is the start of my function\n",
      "42\n",
      "this is the end of my function\n"
     ]
    }
   ],
   "source": [
    "test1()"
   ]
  },
  {
   "cell_type": "code",
   "execution_count": 8,
   "id": "e782d1fa-0542-442a-9e0a-570c761afe5e",
   "metadata": {},
   "outputs": [],
   "source": [
    "#########\n"
   ]
  },
  {
   "cell_type": "code",
   "execution_count": 17,
   "id": "f2c0cddb-eba2-4f2f-9023-61c1450c04ca",
   "metadata": {},
   "outputs": [],
   "source": [
    "import time\n",
    "\n",
    "def timer_test(func):\n",
    "    def timer_test_inner():\n",
    "        start=time.time()\n",
    "        func()\n",
    "        end=time.time()\n",
    "        print(end-start)\n",
    "        \n",
    "    return timer_test_inner"
   ]
  },
  {
   "cell_type": "code",
   "execution_count": 18,
   "id": "95d4da51-39ec-409b-87d5-4d48d5c50964",
   "metadata": {},
   "outputs": [],
   "source": [
    "def test2():\n",
    "    print(7*8)\n",
    "    "
   ]
  },
  {
   "cell_type": "code",
   "execution_count": 19,
   "id": "b87385f9-0e29-4278-8da2-d1b5a696e8ca",
   "metadata": {},
   "outputs": [
    {
     "name": "stdout",
     "output_type": "stream",
     "text": [
      "56\n"
     ]
    }
   ],
   "source": [
    "test2()"
   ]
  },
  {
   "cell_type": "code",
   "execution_count": 20,
   "id": "31fec40a-f5d2-47a9-abff-623c6c913e2f",
   "metadata": {},
   "outputs": [],
   "source": [
    "#but if we want time of execution"
   ]
  },
  {
   "cell_type": "code",
   "execution_count": 21,
   "id": "03cc3e40-f595-4d9f-b22d-678269877742",
   "metadata": {},
   "outputs": [],
   "source": [
    "@timer_test\n",
    "def test2():\n",
    "    print(7*8)"
   ]
  },
  {
   "cell_type": "code",
   "execution_count": 22,
   "id": "0f346d02-0b6f-43b1-a6b7-1a382c5f2f91",
   "metadata": {},
   "outputs": [
    {
     "name": "stdout",
     "output_type": "stream",
     "text": [
      "56\n",
      "4.3392181396484375e-05\n"
     ]
    }
   ],
   "source": [
    "test2()"
   ]
  },
  {
   "cell_type": "code",
   "execution_count": 24,
   "id": "1d788394-f56b-4325-bb98-8ce177b6da29",
   "metadata": {},
   "outputs": [],
   "source": [
    "@timer_test\n",
    "def test3():\n",
    "    for i in range(123456789):\n",
    "        pass"
   ]
  },
  {
   "cell_type": "code",
   "execution_count": 26,
   "id": "ef2cee2f-af3d-4964-819e-798273f81c07",
   "metadata": {},
   "outputs": [
    {
     "name": "stdout",
     "output_type": "stream",
     "text": [
      "3.1279757022857666\n"
     ]
    }
   ],
   "source": [
    "test3()"
   ]
  },
  {
   "cell_type": "code",
   "execution_count": 27,
   "id": "899311ae-6b3a-4ab3-b403-62a87833070f",
   "metadata": {},
   "outputs": [],
   "source": [
    "#class method"
   ]
  },
  {
   "cell_type": "code",
   "execution_count": 29,
   "id": "3d50fab3-b87e-489a-b759-e5ea8db763ae",
   "metadata": {},
   "outputs": [],
   "source": [
    "class pwskills:\n",
    "    def __init__(self,name,email):\n",
    "        self.name=name\n",
    "        self.email=email\n",
    "        \n",
    "    def students_details(self):\n",
    "        print(self.name,self.email)"
   ]
  },
  {
   "cell_type": "code",
   "execution_count": 30,
   "id": "bc4e12c9-cf7c-4383-a964-fc9897680dcc",
   "metadata": {},
   "outputs": [],
   "source": [
    "pw=pwskills(\"mohan\",\"mohan@gmail.com\")\n"
   ]
  },
  {
   "cell_type": "code",
   "execution_count": 31,
   "id": "4979816c-7796-46a9-a084-5eda8f8ecad4",
   "metadata": {},
   "outputs": [
    {
     "data": {
      "text/plain": [
       "'mohan'"
      ]
     },
     "execution_count": 31,
     "metadata": {},
     "output_type": "execute_result"
    }
   ],
   "source": [
    "pw.name"
   ]
  },
  {
   "cell_type": "code",
   "execution_count": 32,
   "id": "d01ebe90-af28-4014-9478-2287896f7bde",
   "metadata": {},
   "outputs": [
    {
     "data": {
      "text/plain": [
       "'mohan@gmail.com'"
      ]
     },
     "execution_count": 32,
     "metadata": {},
     "output_type": "execute_result"
    }
   ],
   "source": [
    "pw.email\n"
   ]
  },
  {
   "cell_type": "code",
   "execution_count": 34,
   "id": "03340ea4-b26d-4825-8c9d-f81bf27f6561",
   "metadata": {},
   "outputs": [
    {
     "name": "stdout",
     "output_type": "stream",
     "text": [
      "mohan mohan@gmail.com\n"
     ]
    }
   ],
   "source": [
    "pw.students_details()\n",
    "\n"
   ]
  },
  {
   "cell_type": "code",
   "execution_count": 1,
   "id": "e3372ef0-ffd6-4e20-93a3-ff8ceab63ac3",
   "metadata": {},
   "outputs": [],
   "source": [
    "#with help of class methods we can overload indirectly"
   ]
  },
  {
   "cell_type": "code",
   "execution_count": 3,
   "id": "b4467d30-2f08-4f09-8991-5a3f82f5d42e",
   "metadata": {},
   "outputs": [],
   "source": [
    "class pwskills1:\n",
    "    def __init__(self,name,email):\n",
    "        self.name=name\n",
    "        self.email=email\n",
    "        \n",
    "    @classmethod\n",
    "    def details(cls,name,email):\n",
    "        return cls(name,email)\n",
    "        \n",
    "    def students_details(self):\n",
    "        print(self.name,self.email)\n",
    "        "
   ]
  },
  {
   "cell_type": "code",
   "execution_count": 4,
   "id": "b3299643-8e08-4b18-9ba3-537b691a2593",
   "metadata": {},
   "outputs": [
    {
     "data": {
      "text/plain": [
       "<__main__.pwskills1 at 0x7fa5216ea680>"
      ]
     },
     "execution_count": 4,
     "metadata": {},
     "output_type": "execute_result"
    }
   ],
   "source": [
    "pwskills1.details(\"sudh\",\"fghhj\")#without creating an object we will able to run the code"
   ]
  },
  {
   "cell_type": "code",
   "execution_count": 5,
   "id": "a9f439e7-1ef6-45c7-9069-53bcfcaf4e8a",
   "metadata": {},
   "outputs": [],
   "source": [
    "pw1=pwskills1.details(\"sudh\",\"fghhj\")"
   ]
  },
  {
   "cell_type": "code",
   "execution_count": 6,
   "id": "e8d5a32c-aef5-430a-85f1-fbf142ad2053",
   "metadata": {},
   "outputs": [
    {
     "data": {
      "text/plain": [
       "'sudh'"
      ]
     },
     "execution_count": 6,
     "metadata": {},
     "output_type": "execute_result"
    }
   ],
   "source": [
    "pw1.name"
   ]
  },
  {
   "cell_type": "code",
   "execution_count": 7,
   "id": "8f7251e0-903a-4193-8bdd-f0f63528ee96",
   "metadata": {},
   "outputs": [
    {
     "data": {
      "text/plain": [
       "'fghhj'"
      ]
     },
     "execution_count": 7,
     "metadata": {},
     "output_type": "execute_result"
    }
   ],
   "source": [
    "pw1.email"
   ]
  },
  {
   "cell_type": "code",
   "execution_count": 10,
   "id": "49debe84-0e84-4607-9cd7-ae0a714d74e6",
   "metadata": {},
   "outputs": [
    {
     "name": "stdout",
     "output_type": "stream",
     "text": [
      "sudh fghhj\n"
     ]
    }
   ],
   "source": [
    "pw1.students_details()\n"
   ]
  },
  {
   "cell_type": "code",
   "execution_count": null,
   "id": "ca400312-3c2c-4f2c-8463-06d5bce72a0f",
   "metadata": {},
   "outputs": [],
   "source": [
    "# an important note"
   ]
  },
  {
   "cell_type": "code",
   "execution_count": 3,
   "id": "d0a7955a-67cc-4916-8697-beb8124a43a8",
   "metadata": {},
   "outputs": [],
   "source": [
    "'''class pwskills1:\n",
    "    \n",
    "    def __init__(self,name,email):\n",
    "        self.name=name\n",
    "        self.email=email\n",
    "        \n",
    "    @classmethod     #it is inbyild decorator inside the class of the python\n",
    "    def details(cls,name,email): #by using cls function we need not be create an object\n",
    "        return cls(name,email)\n",
    "        \n",
    "    def students_details(self):\n",
    "        print(self.name,self.email)'''"
   ]
  },
  {
   "cell_type": "code",
   "execution_count": 1,
   "id": "01914fba-a2b9-4bdc-95b3-42f457c8e0a1",
   "metadata": {},
   "outputs": [],
   "source": [
    "class pwskills2:\n",
    "    \n",
    "    mobile_number=435656765 #class variable(mobile_number)\n",
    "    \n",
    "    def __init__(self,name,email):\n",
    "        self.name=name\n",
    "        self.email=email\n",
    "        \n",
    "    @classmethod\n",
    "    def details(cls,name,email):\n",
    "        return cls(name,email)\n",
    "        \n",
    "    def students_details(self):\n",
    "        print(self.name,self.email)"
   ]
  },
  {
   "cell_type": "code",
   "execution_count": 5,
   "id": "5e9f25c0-5197-4e85-8c38-78ec0addb4ab",
   "metadata": {},
   "outputs": [],
   "source": [
    "#if we want to acces the class variable directly by calling its class\n"
   ]
  },
  {
   "cell_type": "code",
   "execution_count": 3,
   "id": "0ea4eafd-82e3-48d6-aff1-19016579fd7f",
   "metadata": {},
   "outputs": [
    {
     "data": {
      "text/plain": [
       "435656765"
      ]
     },
     "execution_count": 3,
     "metadata": {},
     "output_type": "execute_result"
    }
   ],
   "source": [
    "pwskills2.mobile_number\n"
   ]
  },
  {
   "cell_type": "code",
   "execution_count": 4,
   "id": "6b6d98cc-8753-4c42-b892-24c611321249",
   "metadata": {},
   "outputs": [],
   "source": [
    "#so here we not need to create object "
   ]
  },
  {
   "cell_type": "code",
   "execution_count": 5,
   "id": "861a407e-36fc-428f-97cc-e0484a8a8c51",
   "metadata": {},
   "outputs": [],
   "source": [
    "#we can also acess mobile_number inside a class method"
   ]
  },
  {
   "cell_type": "code",
   "execution_count": 6,
   "id": "8d4036e8-7970-4310-bebf-d7c5c9e89642",
   "metadata": {},
   "outputs": [],
   "source": [
    "class pwskills2:\n",
    "    \n",
    "    mobile_number=435656765 #class variable(mobile_number)\n",
    "    \n",
    "    def __init__(self,name,email):\n",
    "        self.name=name\n",
    "        self.email=email\n",
    "    @classmethod    \n",
    "    def change_number(cls,mobile):\n",
    "        pwskills2.mobile_number=mobile\n",
    "        \n",
    "        \n",
    "        \n",
    "    @classmethod\n",
    "    def details(cls,name,email):\n",
    "        return cls(name,email)\n",
    "        \n",
    "    def students_details(self):\n",
    "        print(self.name,self.email)"
   ]
  },
  {
   "cell_type": "code",
   "execution_count": 7,
   "id": "1ff6c14b-f8bf-4321-b7d5-2ab685a03e3f",
   "metadata": {},
   "outputs": [],
   "source": [
    "pwskills2.change_number(99999999999)"
   ]
  },
  {
   "cell_type": "code",
   "execution_count": 8,
   "id": "4386e94d-c136-490a-8832-53aae174f0f5",
   "metadata": {},
   "outputs": [
    {
     "data": {
      "text/plain": [
       "99999999999"
      ]
     },
     "execution_count": 8,
     "metadata": {},
     "output_type": "execute_result"
    }
   ],
   "source": [
    "pwskills2.mobile_number"
   ]
  },
  {
   "cell_type": "code",
   "execution_count": 10,
   "id": "40e6a574-acd6-4e6c-b683-7c6f931392f3",
   "metadata": {},
   "outputs": [],
   "source": [
    "######################################"
   ]
  },
  {
   "cell_type": "code",
   "execution_count": 11,
   "id": "959cc28e-f8a8-4db8-b36d-c282ac676d0d",
   "metadata": {},
   "outputs": [],
   "source": [
    "#if we want to acess mobile_number inside the student_details then there are two ways"
   ]
  },
  {
   "cell_type": "code",
   "execution_count": 9,
   "id": "dbfdb312-2d43-4c6a-82bd-77c187cb3a5d",
   "metadata": {},
   "outputs": [],
   "source": [
    "class pwskills2:\n",
    "    \n",
    "    mobile_number=435656765 #class variable(mobile_number)\n",
    "    \n",
    "    def __init__(self,name,email):\n",
    "        self.name=name\n",
    "        self.email=email\n",
    "    @classmethod    \n",
    "    def change_number(cls,mobile):\n",
    "        pwskills2.mobile_number=mobile\n",
    "        \n",
    "        \n",
    "        \n",
    "    @classmethod\n",
    "    def details(cls,name,email):\n",
    "        return cls(name,email)\n",
    "        \n",
    "    def students_details(self):\n",
    "        print(self.name,self.email,pwskills2.mobile_number)"
   ]
  },
  {
   "cell_type": "code",
   "execution_count": 13,
   "id": "e39fe19f-8189-4a2e-8593-45b74d07f435",
   "metadata": {},
   "outputs": [],
   "source": [
    "#1 method of accessing students_detail by making object"
   ]
  },
  {
   "cell_type": "code",
   "execution_count": 10,
   "id": "00667278-9cd0-4bec-974a-3ea546e48568",
   "metadata": {},
   "outputs": [],
   "source": [
    "pw_obj=pwskills2(\"sudh\",\"hhgfghjj\")"
   ]
  },
  {
   "cell_type": "code",
   "execution_count": 11,
   "id": "9a01eb0e-038d-463b-a1f4-4a19930cee6b",
   "metadata": {},
   "outputs": [
    {
     "data": {
      "text/plain": [
       "435656765"
      ]
     },
     "execution_count": 11,
     "metadata": {},
     "output_type": "execute_result"
    }
   ],
   "source": [
    "\n",
    "pw_obj.mobile_number"
   ]
  },
  {
   "cell_type": "code",
   "execution_count": 16,
   "id": "fcf9fd76-67c6-49e1-991c-4cd834f67f5f",
   "metadata": {},
   "outputs": [],
   "source": [
    "# 2 method by class method by making variable"
   ]
  },
  {
   "cell_type": "code",
   "execution_count": 17,
   "id": "e467dce7-a52b-47d8-a681-c0875101891e",
   "metadata": {},
   "outputs": [],
   "source": [
    "pw=pwskills2.details(\"rohan\",\"rodjdk\")"
   ]
  },
  {
   "cell_type": "code",
   "execution_count": 18,
   "id": "45f4bc55-702a-4d44-95e5-90c1e9a0f1df",
   "metadata": {},
   "outputs": [
    {
     "name": "stdout",
     "output_type": "stream",
     "text": [
      "rohan rodjdk 435656765\n"
     ]
    }
   ],
   "source": [
    "pw.students_details()"
   ]
  },
  {
   "cell_type": "code",
   "execution_count": 19,
   "id": "32b2cee6-dbac-4684-8352-4afd672afa90",
   "metadata": {},
   "outputs": [],
   "source": [
    "class pwskills3:\n",
    "    \n",
    "    mobile_number=435656765 #class variable(mobile_number)\n",
    "    \n",
    "    def __init__(self,name,email):\n",
    "        self.name=name\n",
    "        self.email=email\n",
    "    @classmethod    \n",
    "    def change_number(cls,mobile):\n",
    "        pwskills2.mobile_number=mobile\n",
    "        \n",
    "        \n",
    "        \n",
    "    @classmethod\n",
    "    def details(cls,name,email):\n",
    "        return cls(name,email)\n",
    "        \n",
    "    def students_details(self):\n",
    "        print(self.name,self.email,pwskills2.mobile_number)"
   ]
  },
  {
   "cell_type": "code",
   "execution_count": 22,
   "id": "d473878f-a01c-4aae-9825-5e2deb4da149",
   "metadata": {},
   "outputs": [],
   "source": [
    "#we have another method which is externally present and we have to add within our class"
   ]
  },
  {
   "cell_type": "code",
   "execution_count": 23,
   "id": "448f2041-464a-45e2-a5ae-40a1d3e54171",
   "metadata": {},
   "outputs": [],
   "source": [
    "def course_details(cls,course_name):\n",
    "    print(\"course name is\",course_name)"
   ]
  },
  {
   "cell_type": "code",
   "execution_count": 25,
   "id": "7257b775-2b6d-46b8-83c1-7ab2fa1b89c6",
   "metadata": {},
   "outputs": [],
   "source": [
    "#pwskills3. #press tab key and couse_detail is not included in it "
   ]
  },
  {
   "cell_type": "code",
   "execution_count": 26,
   "id": "f2efde0d-b00a-489d-a79d-7ea4c9611b3a",
   "metadata": {},
   "outputs": [],
   "source": [
    "pwskills3.course_details=classmethod(course_details)"
   ]
  },
  {
   "cell_type": "code",
   "execution_count": 27,
   "id": "08c205c5-bd8d-4192-8b66-9ae571ed008d",
   "metadata": {},
   "outputs": [
    {
     "name": "stdout",
     "output_type": "stream",
     "text": [
      "course name is data science masters\n"
     ]
    }
   ],
   "source": [
    "pwskills3.course_details(\"data science masters\")"
   ]
  },
  {
   "cell_type": "code",
   "execution_count": 28,
   "id": "58e70710-d1c8-4256-b6ff-f9fe733fdf68",
   "metadata": {},
   "outputs": [],
   "source": [
    "#so basic syntax of adding eternal function within the class"
   ]
  },
  {
   "cell_type": "code",
   "execution_count": 29,
   "id": "06eac9e4-b928-4b89-8cde-fc0cefe6656d",
   "metadata": {},
   "outputs": [],
   "source": [
    "#class name.external function=classmethod(function name)"
   ]
  },
  {
   "cell_type": "code",
   "execution_count": null,
   "id": "a6263847-0341-4529-8dcc-2f747fec458d",
   "metadata": {},
   "outputs": [],
   "source": []
  },
  {
   "cell_type": "code",
   "execution_count": 30,
   "id": "d8d093bf-e8ef-44c8-aafa-4b351a1f1d96",
   "metadata": {},
   "outputs": [],
   "source": [
    "#anothe ex"
   ]
  },
  {
   "cell_type": "code",
   "execution_count": 31,
   "id": "ecf78d23-ee00-49e8-b319-47193fd3611e",
   "metadata": {},
   "outputs": [],
   "source": [
    "def mentor(cls,list_of_mentor):\n",
    "    print(list_of_mentor)"
   ]
  },
  {
   "cell_type": "code",
   "execution_count": 32,
   "id": "220112d7-60da-4a82-882b-1be47bccb114",
   "metadata": {},
   "outputs": [],
   "source": [
    "pwskills3.mentor=classmethod(mentor)"
   ]
  },
  {
   "cell_type": "code",
   "execution_count": 34,
   "id": "a1310395-bca5-4490-bf06-1b6fd50c5758",
   "metadata": {},
   "outputs": [
    {
     "name": "stdout",
     "output_type": "stream",
     "text": [
      "['sidhanshu', 'krish']\n"
     ]
    }
   ],
   "source": [
    "pwskills3.mentor([\"sidhanshu\",\"krish\"])"
   ]
  },
  {
   "cell_type": "code",
   "execution_count": 35,
   "id": "cf59ab50-675f-4901-9fe9-2e5b1549fd15",
   "metadata": {},
   "outputs": [],
   "source": [
    "#and now we want to delete any function within a class than"
   ]
  },
  {
   "cell_type": "code",
   "execution_count": 59,
   "id": "26e80eb5-b412-49d0-bcfb-16a9c363bec4",
   "metadata": {},
   "outputs": [],
   "source": [
    "class pwskills4:\n",
    "    \n",
    "    mobile_number=435656765 #class variable(mobile_number)\n",
    "    \n",
    "    def __init__(self,name,email):\n",
    "        self.name=name\n",
    "        self.email=email\n",
    "    @classmethod    \n",
    "    def change_number(cls,mobile):\n",
    "        pwskills2.mobile_number=mobile\n",
    "        \n",
    "        \n",
    "        \n",
    "    @classmethod\n",
    "    def details(cls,name,email):\n",
    "        return cls(name,email)\n",
    "        \n",
    "    def students_details(self):\n",
    "        print(self.name,self.email,pwskills2.mobile_number)"
   ]
  },
  {
   "cell_type": "code",
   "execution_count": 47,
   "id": "40e47a0c-0a64-4753-bd80-78061e6d02cc",
   "metadata": {},
   "outputs": [],
   "source": [
    "del pwskills4.change_number"
   ]
  },
  {
   "cell_type": "code",
   "execution_count": 48,
   "id": "c8fd4941-0b64-4f81-b455-2a63fc91f039",
   "metadata": {},
   "outputs": [
    {
     "ename": "AttributeError",
     "evalue": "type object 'pwskills4' has no attribute 'change_number'",
     "output_type": "error",
     "traceback": [
      "\u001b[0;31m---------------------------------------------------------------------------\u001b[0m",
      "\u001b[0;31mAttributeError\u001b[0m                            Traceback (most recent call last)",
      "Cell \u001b[0;32mIn[48], line 1\u001b[0m\n\u001b[0;32m----> 1\u001b[0m \u001b[43mpwskills4\u001b[49m\u001b[38;5;241;43m.\u001b[39;49m\u001b[43mchange_number\u001b[49m(\u001b[38;5;241m344556666\u001b[39m)\n",
      "\u001b[0;31mAttributeError\u001b[0m: type object 'pwskills4' has no attribute 'change_number'"
     ]
    }
   ],
   "source": [
    "pwskills4.change_number(344556666)\n"
   ]
  },
  {
   "cell_type": "code",
   "execution_count": 49,
   "id": "9975f211-5526-408f-9bc8-7197542d9501",
   "metadata": {},
   "outputs": [],
   "source": [
    "#there is another way to delete the function within the class"
   ]
  },
  {
   "cell_type": "code",
   "execution_count": 50,
   "id": "3401163f-9f8d-435a-ad8d-af69755e1c8b",
   "metadata": {},
   "outputs": [],
   "source": [
    "# delattr(class name,function name want to delete in form of string)"
   ]
  },
  {
   "cell_type": "code",
   "execution_count": 51,
   "id": "47d3fe7a-964d-4a1d-bdb8-fcb71cb1ba8d",
   "metadata": {},
   "outputs": [],
   "source": [
    "delattr(pwskills4,\"details\")"
   ]
  },
  {
   "cell_type": "code",
   "execution_count": 52,
   "id": "34df501e-aa66-4ddc-a6bf-1ac90e1832d5",
   "metadata": {},
   "outputs": [],
   "source": [
    "#now it is delete"
   ]
  },
  {
   "cell_type": "code",
   "execution_count": 53,
   "id": "5b0b5dfe-39b8-463c-953e-65e0e53e3b5d",
   "metadata": {},
   "outputs": [],
   "source": [
    "delattr(pwskills4,\"students_details\")"
   ]
  },
  {
   "cell_type": "code",
   "execution_count": 60,
   "id": "7032140f-3e3f-4509-882a-3493452c10d1",
   "metadata": {},
   "outputs": [],
   "source": [
    "delattr(pwskills4,\"mobile_number\")"
   ]
  },
  {
   "cell_type": "code",
   "execution_count": 61,
   "id": "65557d10-e5a1-48cb-8735-73926493461b",
   "metadata": {},
   "outputs": [],
   "source": [
    "############# static method"
   ]
  },
  {
   "cell_type": "code",
   "execution_count": 1,
   "id": "81cb3bec-60a9-408b-9348-8213a234398d",
   "metadata": {},
   "outputs": [],
   "source": [
    "class pwskills:\n",
    "    def student_details(self,name,mail_id,number):\n",
    "        print(name,mail_id,number)"
   ]
  },
  {
   "cell_type": "code",
   "execution_count": 2,
   "id": "66b97982-5a0e-4529-b110-29d57a899c23",
   "metadata": {},
   "outputs": [],
   "source": [
    "pw=pwskills()"
   ]
  },
  {
   "cell_type": "code",
   "execution_count": 3,
   "id": "2fc859d4-5089-4d88-b4cd-4b2306f0011c",
   "metadata": {},
   "outputs": [
    {
     "name": "stdout",
     "output_type": "stream",
     "text": [
      "bhupesh ncdjsjdn@ 2344566\n"
     ]
    }
   ],
   "source": [
    "pw.student_details(\"bhupesh\",\"ncdjsjdn@\",2344566)"
   ]
  },
  {
   "cell_type": "code",
   "execution_count": 6,
   "id": "75866c3c-a9ab-455b-b870-4c09b1578a29",
   "metadata": {},
   "outputs": [],
   "source": [
    "# if we want to repeat the data again and again than static method is best\n",
    "# and we not need to create the objects again and again and not need to bind like classmethod\n",
    "\n"
   ]
  },
  {
   "cell_type": "code",
   "execution_count": 9,
   "id": "61f1cbd7-ecc1-4c41-935c-c10615df45b7",
   "metadata": {},
   "outputs": [],
   "source": [
    "class pwskills1:\n",
    "    def student_details(self,name,mail_id,number):\n",
    "        print(name,mail_id,number)\n",
    "        \n",
    "    @staticmethod\n",
    "    def mentor_class(list_mentor):\n",
    "        print(list_mentor)"
   ]
  },
  {
   "cell_type": "code",
   "execution_count": 10,
   "id": "fcfdf885-7444-4dcc-979d-9b5bae719d5a",
   "metadata": {},
   "outputs": [
    {
     "name": "stdout",
     "output_type": "stream",
     "text": [
      "['sudh', 'krish']\n"
     ]
    }
   ],
   "source": [
    "pwskills1.mentor_class([\"sudh\",\"krish\"])"
   ]
  },
  {
   "cell_type": "code",
   "execution_count": 11,
   "id": "d07f81d2-eb26-438e-9081-fdfb724fcfac",
   "metadata": {},
   "outputs": [],
   "source": [
    "################"
   ]
  },
  {
   "cell_type": "code",
   "execution_count": 12,
   "id": "681919be-8180-4355-851b-47805315ef27",
   "metadata": {},
   "outputs": [],
   "source": [
    "stu1=pwskills1()"
   ]
  },
  {
   "cell_type": "code",
   "execution_count": 13,
   "id": "6274c555-747c-43bd-ad2e-a9f477e01b18",
   "metadata": {},
   "outputs": [],
   "source": [
    "stu2=pwskills1()"
   ]
  },
  {
   "cell_type": "code",
   "execution_count": 14,
   "id": "63d7e80c-310b-40da-9943-6f20cfb7def3",
   "metadata": {},
   "outputs": [],
   "source": [
    "stu3=pwskills1()"
   ]
  },
  {
   "cell_type": "code",
   "execution_count": 15,
   "id": "47999ad3-a8da-403b-86a6-b6bd31dc2f3e",
   "metadata": {},
   "outputs": [],
   "source": [
    "#so if static method is not used then we have to create so many objects"
   ]
  },
  {
   "cell_type": "code",
   "execution_count": 13,
   "id": "7013b505-db83-4b68-8f58-dbb625d47f55",
   "metadata": {},
   "outputs": [],
   "source": [
    "class pwskills1:\n",
    "    def student_details(self,name,mail_id,number):\n",
    "        print(name,mail_id,number)\n",
    "        \n",
    "    @staticmethod\n",
    "    def mentor_class(list_mentor):\n",
    "        print(list_mentor)\n",
    "        \n",
    "    def mentor(self,mentor_list):\n",
    "        print(mentor_list)\n",
    "    "
   ]
  },
  {
   "cell_type": "code",
   "execution_count": 14,
   "id": "6c86c9ad-b1ed-4714-bf0c-5a6ff0ee28da",
   "metadata": {},
   "outputs": [],
   "source": [
    "stu1=pwskills1()"
   ]
  },
  {
   "cell_type": "code",
   "execution_count": 16,
   "id": "08bcb0ed-72b5-43a2-9549-d831b10ca61b",
   "metadata": {},
   "outputs": [
    {
     "name": "stdout",
     "output_type": "stream",
     "text": [
      "['sudh', 'krish']\n"
     ]
    }
   ],
   "source": [
    "stu1.mentor([\"sudh\",\"krish\"]) # which is only accessible by variable name stu1\n"
   ]
  },
  {
   "cell_type": "code",
   "execution_count": 21,
   "id": "9e22fcb2-344e-425e-bc18-174e777dd904",
   "metadata": {},
   "outputs": [],
   "source": [
    "class pwskills2:\n",
    "    def student_details(self,name,mail_id,number):\n",
    "        print(name,mail_id,number)\n",
    "        \n",
    "    @staticmethod\n",
    "    def mentor_class(list_mentor):\n",
    "        print(list_mentor)\n",
    "        \n",
    "    @classmethod\n",
    "    def class_name(cls):\n",
    "        cls.mentor_class([\"sudh\",\"krish\"])\n",
    "        \n",
    "    def mentor(self,mentor_list):\n",
    "        print(mentor_list)\n",
    "    "
   ]
  },
  {
   "cell_type": "code",
   "execution_count": 22,
   "id": "832d2d49-563b-4ab8-851d-037ece1ee35c",
   "metadata": {},
   "outputs": [],
   "source": [
    "#now we have to use static method inside a class method or instance method"
   ]
  },
  {
   "cell_type": "code",
   "execution_count": 23,
   "id": "5afa5861-9845-4892-acea-da4417db2a1d",
   "metadata": {},
   "outputs": [
    {
     "name": "stdout",
     "output_type": "stream",
     "text": [
      "['sudh', 'krish']\n"
     ]
    }
   ],
   "source": [
    "pwskills2.class_name()"
   ]
  },
  {
   "cell_type": "code",
   "execution_count": 31,
   "id": "ce5a4d8a-7e46-4472-9f21-abb929e42f14",
   "metadata": {},
   "outputs": [],
   "source": [
    "class pwskills2:\n",
    "    def student_details(self,name,mail_id,number):\n",
    "        print(name,mail_id,number)\n",
    "        \n",
    "        \n",
    "        \n",
    "    @staticmethod\n",
    "    def mentor_mail_id(mail_id_mentor):\n",
    "        print(mail_id_mentor)\n",
    "        \n",
    "    @staticmethod\n",
    "    def mentor_class(list_mentor):\n",
    "        pwskills2.mentor_mail_id([\"bhu@gmail.com\",\"saj@gmail.com\"])\n",
    "        print(list_mentor)\n",
    "        \n",
    "    @classmethod\n",
    "    def class_name(cls):\n",
    "        cls.mentor_class([\"sudh\",\"krish\"])\n",
    "        \n",
    "    def mentor(self,mentor_list):\n",
    "        print(mentor_list)\n",
    "    "
   ]
  },
  {
   "cell_type": "code",
   "execution_count": 32,
   "id": "28eb3e2b-8d91-465b-a025-82841f6dfe41",
   "metadata": {},
   "outputs": [],
   "source": [
    "#now we want to create the link between the two satatic methods then do\n",
    "#what is done in the above code."
   ]
  },
  {
   "cell_type": "code",
   "execution_count": 33,
   "id": "13cec83c-1259-4eac-8da2-375054d386fa",
   "metadata": {},
   "outputs": [
    {
     "name": "stdout",
     "output_type": "stream",
     "text": [
      "['bhu@gmail.com', 'saj@gmail.com']\n",
      "['krish', 'sudh']\n"
     ]
    }
   ],
   "source": [
    "pwskills2.mentor_class([\"krish\",\"sudh\"])"
   ]
  },
  {
   "cell_type": "code",
   "execution_count": 39,
   "id": "d073db57-6ae9-409d-8579-1b80a9bbfa55",
   "metadata": {},
   "outputs": [],
   "source": [
    "class pwskills2:\n",
    "    def student_details(self,name,mail_id,number):\n",
    "        print(name,mail_id,number)\n",
    "        \n",
    "        \n",
    "        \n",
    "    @staticmethod\n",
    "    def mentor_mail_id(mail_id_mentor):\n",
    "        print(mail_id_mentor)\n",
    "        \n",
    "    @staticmethod\n",
    "    def mentor_class(list_mentor):\n",
    "        pwskills2.mentor_mail_id([\"bhu@gmail.com\",\"saj@gmail.com\"])\n",
    "        print(list_mentor)\n",
    "        \n",
    "    @classmethod\n",
    "    def class_name(cls):\n",
    "        cls.mentor_class([\"sudh\",\"krish\"])\n",
    "        \n",
    "    def mentor(self,mentor_list):#instance method\n",
    "        print(mentor_list)\n",
    "        self.mentor_class([\"krish\",\"sudh\"])\n",
    "        \n",
    "    "
   ]
  },
  {
   "cell_type": "code",
   "execution_count": 40,
   "id": "b074e1f4-b6ac-4541-a871-9fb3fda94db3",
   "metadata": {},
   "outputs": [],
   "source": [
    "# in instance method we have to call static method"
   ]
  },
  {
   "cell_type": "code",
   "execution_count": 41,
   "id": "1ba52c99-cb19-4af0-82a7-b75790caeda6",
   "metadata": {},
   "outputs": [],
   "source": [
    "pw=pwskills2()"
   ]
  },
  {
   "cell_type": "code",
   "execution_count": 42,
   "id": "6e855b36-7336-490d-a375-a20781d7ecfe",
   "metadata": {},
   "outputs": [
    {
     "name": "stdout",
     "output_type": "stream",
     "text": [
      "['krish', 'sudh']\n",
      "['bhu@gmail.com', 'saj@gmail.com']\n",
      "['krish', 'sudh']\n"
     ]
    }
   ],
   "source": [
    "pw.mentor([\"krish\",\"sudh\"])"
   ]
  },
  {
   "cell_type": "code",
   "execution_count": 46,
   "id": "dab96982-a66a-41e9-b1fb-61a57ce53b41",
   "metadata": {},
   "outputs": [],
   "source": [
    "############### special method(magic or dunder function)"
   ]
  },
  {
   "cell_type": "code",
   "execution_count": 44,
   "id": "f9664eaf-ae1e-4fe0-9bd1-74ba1625c341",
   "metadata": {},
   "outputs": [
    {
     "data": {
      "text/plain": [
       "['__abs__',\n",
       " '__add__',\n",
       " '__and__',\n",
       " '__bool__',\n",
       " '__ceil__',\n",
       " '__class__',\n",
       " '__delattr__',\n",
       " '__dir__',\n",
       " '__divmod__',\n",
       " '__doc__',\n",
       " '__eq__',\n",
       " '__float__',\n",
       " '__floor__',\n",
       " '__floordiv__',\n",
       " '__format__',\n",
       " '__ge__',\n",
       " '__getattribute__',\n",
       " '__getnewargs__',\n",
       " '__gt__',\n",
       " '__hash__',\n",
       " '__index__',\n",
       " '__init__',\n",
       " '__init_subclass__',\n",
       " '__int__',\n",
       " '__invert__',\n",
       " '__le__',\n",
       " '__lshift__',\n",
       " '__lt__',\n",
       " '__mod__',\n",
       " '__mul__',\n",
       " '__ne__',\n",
       " '__neg__',\n",
       " '__new__',\n",
       " '__or__',\n",
       " '__pos__',\n",
       " '__pow__',\n",
       " '__radd__',\n",
       " '__rand__',\n",
       " '__rdivmod__',\n",
       " '__reduce__',\n",
       " '__reduce_ex__',\n",
       " '__repr__',\n",
       " '__rfloordiv__',\n",
       " '__rlshift__',\n",
       " '__rmod__',\n",
       " '__rmul__',\n",
       " '__ror__',\n",
       " '__round__',\n",
       " '__rpow__',\n",
       " '__rrshift__',\n",
       " '__rshift__',\n",
       " '__rsub__',\n",
       " '__rtruediv__',\n",
       " '__rxor__',\n",
       " '__setattr__',\n",
       " '__sizeof__',\n",
       " '__str__',\n",
       " '__sub__',\n",
       " '__subclasshook__',\n",
       " '__truediv__',\n",
       " '__trunc__',\n",
       " '__xor__',\n",
       " 'as_integer_ratio',\n",
       " 'bit_count',\n",
       " 'bit_length',\n",
       " 'conjugate',\n",
       " 'denominator',\n",
       " 'from_bytes',\n",
       " 'imag',\n",
       " 'numerator',\n",
       " 'real',\n",
       " 'to_bytes']"
      ]
     },
     "execution_count": 44,
     "metadata": {},
     "output_type": "execute_result"
    }
   ],
   "source": [
    "dir(int)"
   ]
  },
  {
   "cell_type": "code",
   "execution_count": 45,
   "id": "c7ac01d0-b302-4969-94cb-e7cf10f9d6d9",
   "metadata": {},
   "outputs": [
    {
     "data": {
      "text/plain": [
       "['__add__',\n",
       " '__class__',\n",
       " '__contains__',\n",
       " '__delattr__',\n",
       " '__dir__',\n",
       " '__doc__',\n",
       " '__eq__',\n",
       " '__format__',\n",
       " '__ge__',\n",
       " '__getattribute__',\n",
       " '__getitem__',\n",
       " '__getnewargs__',\n",
       " '__gt__',\n",
       " '__hash__',\n",
       " '__init__',\n",
       " '__init_subclass__',\n",
       " '__iter__',\n",
       " '__le__',\n",
       " '__len__',\n",
       " '__lt__',\n",
       " '__mod__',\n",
       " '__mul__',\n",
       " '__ne__',\n",
       " '__new__',\n",
       " '__reduce__',\n",
       " '__reduce_ex__',\n",
       " '__repr__',\n",
       " '__rmod__',\n",
       " '__rmul__',\n",
       " '__setattr__',\n",
       " '__sizeof__',\n",
       " '__str__',\n",
       " '__subclasshook__',\n",
       " 'capitalize',\n",
       " 'casefold',\n",
       " 'center',\n",
       " 'count',\n",
       " 'encode',\n",
       " 'endswith',\n",
       " 'expandtabs',\n",
       " 'find',\n",
       " 'format',\n",
       " 'format_map',\n",
       " 'index',\n",
       " 'isalnum',\n",
       " 'isalpha',\n",
       " 'isascii',\n",
       " 'isdecimal',\n",
       " 'isdigit',\n",
       " 'isidentifier',\n",
       " 'islower',\n",
       " 'isnumeric',\n",
       " 'isprintable',\n",
       " 'isspace',\n",
       " 'istitle',\n",
       " 'isupper',\n",
       " 'join',\n",
       " 'ljust',\n",
       " 'lower',\n",
       " 'lstrip',\n",
       " 'maketrans',\n",
       " 'partition',\n",
       " 'removeprefix',\n",
       " 'removesuffix',\n",
       " 'replace',\n",
       " 'rfind',\n",
       " 'rindex',\n",
       " 'rjust',\n",
       " 'rpartition',\n",
       " 'rsplit',\n",
       " 'rstrip',\n",
       " 'split',\n",
       " 'splitlines',\n",
       " 'startswith',\n",
       " 'strip',\n",
       " 'swapcase',\n",
       " 'title',\n",
       " 'translate',\n",
       " 'upper',\n",
       " 'zfill']"
      ]
     },
     "execution_count": 45,
     "metadata": {},
     "output_type": "execute_result"
    }
   ],
   "source": [
    "dir(str)"
   ]
  },
  {
   "cell_type": "code",
   "execution_count": 47,
   "id": "577323ec-556d-49f4-a359-96bb3ba30161",
   "metadata": {},
   "outputs": [],
   "source": [
    "a=100"
   ]
  },
  {
   "cell_type": "code",
   "execution_count": 48,
   "id": "1fe73ba6-b442-4ebe-bd7a-f5a27bade9fb",
   "metadata": {},
   "outputs": [
    {
     "data": {
      "text/plain": [
       "105"
      ]
     },
     "execution_count": 48,
     "metadata": {},
     "output_type": "execute_result"
    }
   ],
   "source": [
    "a+5"
   ]
  },
  {
   "cell_type": "code",
   "execution_count": 49,
   "id": "6300c8f0-8a32-419f-bc24-0c82565d7047",
   "metadata": {},
   "outputs": [],
   "source": [
    "# or by magic function"
   ]
  },
  {
   "cell_type": "code",
   "execution_count": 50,
   "id": "39d1b85b-a1a0-483d-b170-3c380b904ba7",
   "metadata": {},
   "outputs": [
    {
     "data": {
      "text/plain": [
       "105"
      ]
     },
     "execution_count": 50,
     "metadata": {},
     "output_type": "execute_result"
    }
   ],
   "source": [
    "a.__add__(5)"
   ]
  },
  {
   "cell_type": "code",
   "execution_count": 51,
   "id": "cc14e3f9-6f58-4f92-a8db-014b0ff1bf9e",
   "metadata": {},
   "outputs": [],
   "source": [
    "class pwskills:\n",
    "    def __init__(self):\n",
    "        self.mobile_number=987654321"
   ]
  },
  {
   "cell_type": "code",
   "execution_count": 52,
   "id": "9fb003b2-f3e8-4fe4-9ab3-3557e1222ff3",
   "metadata": {},
   "outputs": [],
   "source": [
    "pw=pwskills()"
   ]
  },
  {
   "cell_type": "code",
   "execution_count": 53,
   "id": "9dcaa084-472a-402e-82eb-75d43054e469",
   "metadata": {},
   "outputs": [
    {
     "data": {
      "text/plain": [
       "987654321"
      ]
     },
     "execution_count": 53,
     "metadata": {},
     "output_type": "execute_result"
    }
   ],
   "source": [
    "pw.mobile_number"
   ]
  },
  {
   "cell_type": "code",
   "execution_count": 54,
   "id": "093a41fd-25e8-4f57-b5cb-e6de67a963f0",
   "metadata": {},
   "outputs": [],
   "source": [
    "# as __init__ is also a magic function\n",
    "# and before it another function also operate"
   ]
  },
  {
   "cell_type": "code",
   "execution_count": 55,
   "id": "88a65ec0-9309-4e87-a18e-e1342ca92f9c",
   "metadata": {},
   "outputs": [],
   "source": [
    "class pwskills:\n",
    "    \n",
    "    #def __new__(cls):\n",
    "    \n",
    "    def __init__(self):\n",
    "        print(\"this is my init\")\n",
    "        self.mobile_number=987654321"
   ]
  },
  {
   "cell_type": "code",
   "execution_count": 56,
   "id": "04a6c3a4-77eb-4ffd-9816-667b5da676e9",
   "metadata": {},
   "outputs": [
    {
     "name": "stdout",
     "output_type": "stream",
     "text": [
      "this is my init\n"
     ]
    }
   ],
   "source": [
    "pw=pwskills()"
   ]
  },
  {
   "cell_type": "code",
   "execution_count": 57,
   "id": "1762f438-bc0a-4628-a8f7-a538cedf8ce9",
   "metadata": {},
   "outputs": [],
   "source": [
    "class pwskills:\n",
    "    \n",
    "    def __new__(cls):\n",
    "        print(\"this is my new\")\n",
    "    \n",
    "    def __init__(self):\n",
    "        print(\"this is my init\")\n",
    "        self.mobile_number=987654321"
   ]
  },
  {
   "cell_type": "code",
   "execution_count": 58,
   "id": "0687a93f-dfd2-4c85-a6fa-da6f19d3ac31",
   "metadata": {},
   "outputs": [
    {
     "name": "stdout",
     "output_type": "stream",
     "text": [
      "this is my new\n"
     ]
    }
   ],
   "source": [
    "pw=pwskills()"
   ]
  },
  {
   "cell_type": "code",
   "execution_count": 59,
   "id": "bb677145-4a50-40a0-b055-1cfd9e8a7703",
   "metadata": {},
   "outputs": [],
   "source": [
    "# so this is proved"
   ]
  },
  {
   "cell_type": "code",
   "execution_count": 61,
   "id": "3364749b-8d5e-437a-aa09-7d0335260a43",
   "metadata": {},
   "outputs": [],
   "source": [
    "class pwskills1:\n",
    "    \n",
    "    def __init__(self):\n",
    "        \n",
    "        self.mobile_number=987654321"
   ]
  },
  {
   "cell_type": "code",
   "execution_count": 62,
   "id": "7794b141-f813-4fb1-9690-bb62aa92590b",
   "metadata": {},
   "outputs": [],
   "source": [
    "pw1=pwskills1()"
   ]
  },
  {
   "cell_type": "code",
   "execution_count": 63,
   "id": "25981465-e6f5-4c77-950d-baae00fe0bc2",
   "metadata": {},
   "outputs": [
    {
     "data": {
      "text/plain": [
       "<__main__.pwskills1 at 0x7fa521241600>"
      ]
     },
     "execution_count": 63,
     "metadata": {},
     "output_type": "execute_result"
    }
   ],
   "source": [
    "pw1"
   ]
  },
  {
   "cell_type": "code",
   "execution_count": 6,
   "id": "4a3e21fd-d04d-4355-985d-0ab2610f4a80",
   "metadata": {},
   "outputs": [],
   "source": [
    "#as if we want output in the string than use magic number"
   ]
  },
  {
   "cell_type": "code",
   "execution_count": 1,
   "id": "38482ddc-91aa-4cea-a0d8-cc416c03d4e9",
   "metadata": {},
   "outputs": [],
   "source": [
    "class pwskills1:\n",
    "    \n",
    "    def __init__(self):\n",
    "        \n",
    "        self.mobile_number=987654321\n",
    "        \n",
    "    def __str__(self):\n",
    "        return \"this is my magic call of str\""
   ]
  },
  {
   "cell_type": "code",
   "execution_count": 3,
   "id": "42e3f3be-a9b8-4727-91b4-f050e6b8710e",
   "metadata": {},
   "outputs": [],
   "source": [
    "pw1=pwskills1()"
   ]
  },
  {
   "cell_type": "code",
   "execution_count": 4,
   "id": "ddfa2fa1-2670-4889-b013-f5ddabcf28c9",
   "metadata": {},
   "outputs": [
    {
     "data": {
      "text/plain": [
       "<__main__.pwskills1 at 0x7ff5844130d0>"
      ]
     },
     "execution_count": 4,
     "metadata": {},
     "output_type": "execute_result"
    }
   ],
   "source": [
    "pw1"
   ]
  },
  {
   "cell_type": "code",
   "execution_count": 5,
   "id": "e24e6ec3-d475-4b2a-affa-626ffcd038aa",
   "metadata": {},
   "outputs": [
    {
     "name": "stdout",
     "output_type": "stream",
     "text": [
      "this is my magic call of str\n"
     ]
    }
   ],
   "source": [
    "print(pw1)"
   ]
  },
  {
   "cell_type": "code",
   "execution_count": 7,
   "id": "8c46341b-e52d-4423-bae5-714d6aae4524",
   "metadata": {},
   "outputs": [],
   "source": [
    "# note - in general try to avoid the useage of magic function because it has no standard usage"
   ]
  },
  {
   "cell_type": "code",
   "execution_count": 8,
   "id": "0c356ea6-640e-493a-9821-4770c7f449bb",
   "metadata": {},
   "outputs": [],
   "source": [
    "####################### property decorator"
   ]
  },
  {
   "cell_type": "code",
   "execution_count": 13,
   "id": "2201581b-d797-4477-b958-b54925af4948",
   "metadata": {},
   "outputs": [],
   "source": [
    "class pwskills:\n",
    "    def __init__(self,course_price,course_name):\n",
    "        self.__course_price=course_price\n",
    "        self.course_name=course_name"
   ]
  },
  {
   "cell_type": "code",
   "execution_count": 14,
   "id": "e1114a50-4c8f-4f35-b791-b04184a05a07",
   "metadata": {},
   "outputs": [],
   "source": [
    "pw=pwskills(3500,\"data science masters\")"
   ]
  },
  {
   "cell_type": "code",
   "execution_count": 15,
   "id": "1b548069-9f35-4bc7-a42b-ced2a719a335",
   "metadata": {},
   "outputs": [
    {
     "ename": "AttributeError",
     "evalue": "'pwskills' object has no attribute '__course_price'",
     "output_type": "error",
     "traceback": [
      "\u001b[0;31m---------------------------------------------------------------------------\u001b[0m",
      "\u001b[0;31mAttributeError\u001b[0m                            Traceback (most recent call last)",
      "Cell \u001b[0;32mIn[15], line 1\u001b[0m\n\u001b[0;32m----> 1\u001b[0m \u001b[43mpw\u001b[49m\u001b[38;5;241;43m.\u001b[39;49m\u001b[43m__course_price\u001b[49m\n",
      "\u001b[0;31mAttributeError\u001b[0m: 'pwskills' object has no attribute '__course_price'"
     ]
    }
   ],
   "source": [
    "pw.__course_price # this is wrong"
   ]
  },
  {
   "cell_type": "code",
   "execution_count": 16,
   "id": "c035beaf-a99d-4d74-8396-c4994805a608",
   "metadata": {},
   "outputs": [],
   "source": [
    "# if we want to acces the course_price than"
   ]
  },
  {
   "cell_type": "code",
   "execution_count": 17,
   "id": "7111ed05-80c8-4fa8-abe8-0c220e62e57f",
   "metadata": {},
   "outputs": [
    {
     "data": {
      "text/plain": [
       "3500"
      ]
     },
     "execution_count": 17,
     "metadata": {},
     "output_type": "execute_result"
    }
   ],
   "source": [
    "pw._pwskills__course_price"
   ]
  },
  {
   "cell_type": "code",
   "execution_count": 18,
   "id": "9a93865c-5dd4-4f54-880c-5999168e917d",
   "metadata": {},
   "outputs": [
    {
     "data": {
      "text/plain": [
       "'data science masters'"
      ]
     },
     "execution_count": 18,
     "metadata": {},
     "output_type": "execute_result"
    }
   ],
   "source": [
    "pw.course_name"
   ]
  },
  {
   "cell_type": "code",
   "execution_count": 19,
   "id": "efa4e921-18f0-44c4-b617-2a0f735df34c",
   "metadata": {},
   "outputs": [],
   "source": [
    "#so user will not able to acess or make modification in the course_price\n",
    "# so this can easily be accessible by using properties of decorator"
   ]
  },
  {
   "cell_type": "code",
   "execution_count": 20,
   "id": "063b5e78-b005-4f8d-ab4c-b641013265d6",
   "metadata": {},
   "outputs": [],
   "source": [
    "class pwskills:\n",
    "    def __init__(self,course_price,course_name):\n",
    "        self.__course_price=course_price\n",
    "        self.course_name=course_name\n",
    "        \n",
    "    @property# use for acces only\n",
    "    def course_price_access(self):\n",
    "        return self.__course_price"
   ]
  },
  {
   "cell_type": "code",
   "execution_count": 21,
   "id": "424fe254-e340-456c-b084-291483eca3d4",
   "metadata": {},
   "outputs": [],
   "source": [
    "pw=pwskills(3500,\"data science masters\")"
   ]
  },
  {
   "cell_type": "code",
   "execution_count": 22,
   "id": "93882247-879b-4149-ac49-4d18b84f5c6e",
   "metadata": {},
   "outputs": [
    {
     "data": {
      "text/plain": [
       "3500"
      ]
     },
     "execution_count": 22,
     "metadata": {},
     "output_type": "execute_result"
    }
   ],
   "source": [
    "pw.course_price_access"
   ]
  },
  {
   "cell_type": "code",
   "execution_count": 23,
   "id": "d3c4825b-063d-48a0-b1e7-ebac918cf662",
   "metadata": {},
   "outputs": [],
   "source": [
    "# so we can easily able to acess the course_price by using decorator properties"
   ]
  },
  {
   "cell_type": "code",
   "execution_count": 24,
   "id": "d1fad306-3b85-47f7-a785-bc1f0a2e5259",
   "metadata": {},
   "outputs": [],
   "source": [
    "# now if we want to make modification in the course_price than"
   ]
  },
  {
   "cell_type": "code",
   "execution_count": 25,
   "id": "86505bd7-f35a-4c4f-9fc7-9d5a0b43a277",
   "metadata": {},
   "outputs": [],
   "source": [
    "class pwskills:\n",
    "    def __init__(self,course_price,course_name):\n",
    "        self.__course_price=course_price\n",
    "        self.course_name=course_name\n",
    "        \n",
    "    @property# use for acces only\n",
    "    def course_price_access(self):\n",
    "        return self.__course_price\n",
    "    \n",
    "    @course_price_access.setter   #use only for make modifications\n",
    "    def course_price_set(self,price):\n",
    "        if price<=3500:\n",
    "            pass\n",
    "        else:\n",
    "            self.__course_price=price\n",
    "    "
   ]
  },
  {
   "cell_type": "code",
   "execution_count": 26,
   "id": "7aee709d-e454-4446-af83-155f19835e26",
   "metadata": {},
   "outputs": [],
   "source": [
    "pw=pwskills(3500,\"data science masters\")"
   ]
  },
  {
   "cell_type": "code",
   "execution_count": 27,
   "id": "7404fcab-3714-45d2-8646-748316f2454a",
   "metadata": {},
   "outputs": [
    {
     "data": {
      "text/plain": [
       "3500"
      ]
     },
     "execution_count": 27,
     "metadata": {},
     "output_type": "execute_result"
    }
   ],
   "source": [
    "pw.course_price_access"
   ]
  },
  {
   "cell_type": "code",
   "execution_count": 28,
   "id": "f8f716a6-d70e-4234-9746-17f9b9566ee9",
   "metadata": {},
   "outputs": [],
   "source": [
    "pw.course_price_set=9999"
   ]
  },
  {
   "cell_type": "code",
   "execution_count": 29,
   "id": "3f99c1a2-6888-4758-a257-3cf13a10e071",
   "metadata": {},
   "outputs": [
    {
     "data": {
      "text/plain": [
       "9999"
      ]
     },
     "execution_count": 29,
     "metadata": {},
     "output_type": "execute_result"
    }
   ],
   "source": [
    "pw.course_price_access"
   ]
  },
  {
   "cell_type": "code",
   "execution_count": 31,
   "id": "974f28bf-c09c-4cfc-8ed4-d983731b5ddc",
   "metadata": {},
   "outputs": [],
   "source": [
    "#now it changes and mahe modifications"
   ]
  },
  {
   "cell_type": "code",
   "execution_count": 32,
   "id": "9b56534e-eb3f-43ed-8af4-a412c4d25fc5",
   "metadata": {},
   "outputs": [],
   "source": [
    "#now we want to del something and give access to user"
   ]
  },
  {
   "cell_type": "code",
   "execution_count": 33,
   "id": "c55d8708-47e5-4f91-bc1a-6444fbd1cf72",
   "metadata": {},
   "outputs": [],
   "source": [
    "class pwskills:\n",
    "    def __init__(self,course_price,course_name):\n",
    "        self.__course_price=course_price\n",
    "        self.course_name=course_name\n",
    "        \n",
    "    @property# use for acces only\n",
    "    def course_price_access(self):\n",
    "        return self.__course_price\n",
    "    \n",
    "    @course_price_access.setter   #use only for make modifications\n",
    "    def course_price_set(self,price):\n",
    "        if price<=3500:\n",
    "            pass\n",
    "        else:\n",
    "            self.__course_price=price\n",
    "    @course_price_access.deleter\n",
    "    def delete_course_price(self):\n",
    "        del self.__course_price"
   ]
  },
  {
   "cell_type": "code",
   "execution_count": 34,
   "id": "1250d923-70fd-47f1-b2a1-e3df05e5ffbf",
   "metadata": {},
   "outputs": [],
   "source": [
    "pw=pwskills(3500,\"data science masters\")"
   ]
  },
  {
   "cell_type": "code",
   "execution_count": 35,
   "id": "9e84385c-2485-4e6e-93b1-7c594bd988ea",
   "metadata": {},
   "outputs": [
    {
     "data": {
      "text/plain": [
       "3500"
      ]
     },
     "execution_count": 35,
     "metadata": {},
     "output_type": "execute_result"
    }
   ],
   "source": [
    "pw.course_price_access"
   ]
  },
  {
   "cell_type": "code",
   "execution_count": 36,
   "id": "6ec2b7d7-0dd6-47ec-bf9b-d64d474ef44a",
   "metadata": {},
   "outputs": [],
   "source": [
    "del pw.delete_course_price"
   ]
  },
  {
   "cell_type": "code",
   "execution_count": 37,
   "id": "4d57bd22-b53d-4f85-b434-ca38d03aaa33",
   "metadata": {},
   "outputs": [
    {
     "ename": "AttributeError",
     "evalue": "'pwskills' object has no attribute '_pwskills__course_price'",
     "output_type": "error",
     "traceback": [
      "\u001b[0;31m---------------------------------------------------------------------------\u001b[0m",
      "\u001b[0;31mAttributeError\u001b[0m                            Traceback (most recent call last)",
      "Cell \u001b[0;32mIn[37], line 1\u001b[0m\n\u001b[0;32m----> 1\u001b[0m \u001b[43mpw\u001b[49m\u001b[38;5;241;43m.\u001b[39;49m\u001b[43mcourse_price_access\u001b[49m\n",
      "Cell \u001b[0;32mIn[33], line 8\u001b[0m, in \u001b[0;36mpwskills.course_price_access\u001b[0;34m(self)\u001b[0m\n\u001b[1;32m      6\u001b[0m \u001b[38;5;129m@property\u001b[39m\u001b[38;5;66;03m# use for acces only\u001b[39;00m\n\u001b[1;32m      7\u001b[0m \u001b[38;5;28;01mdef\u001b[39;00m \u001b[38;5;21mcourse_price_access\u001b[39m(\u001b[38;5;28mself\u001b[39m):\n\u001b[0;32m----> 8\u001b[0m     \u001b[38;5;28;01mreturn\u001b[39;00m \u001b[38;5;28;43mself\u001b[39;49m\u001b[38;5;241;43m.\u001b[39;49m\u001b[43m__course_price\u001b[49m\n",
      "\u001b[0;31mAttributeError\u001b[0m: 'pwskills' object has no attribute '_pwskills__course_price'"
     ]
    }
   ],
   "source": [
    "pw.course_price_access"
   ]
  },
  {
   "cell_type": "code",
   "execution_count": null,
   "id": "4ea4e9d4-d2ae-486e-9364-0d2a348f7957",
   "metadata": {},
   "outputs": [],
   "source": [
    "# so it is succesfully deleted"
   ]
  }
 ],
 "metadata": {
  "kernelspec": {
   "display_name": "Python 3 (ipykernel)",
   "language": "python",
   "name": "python3"
  },
  "language_info": {
   "codemirror_mode": {
    "name": "ipython",
    "version": 3
   },
   "file_extension": ".py",
   "mimetype": "text/x-python",
   "name": "python",
   "nbconvert_exporter": "python",
   "pygments_lexer": "ipython3",
   "version": "3.10.8"
  }
 },
 "nbformat": 4,
 "nbformat_minor": 5
}
