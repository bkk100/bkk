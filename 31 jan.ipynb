{
 "cells": [
  {
   "cell_type": "code",
   "execution_count": 287,
   "id": "1a140c29-97c5-4393-9091-d5dd14252ae3",
   "metadata": {},
   "outputs": [],
   "source": [
    "l=[1,345,45,\"sudh\",True,5+9j,345.456]"
   ]
  },
  {
   "cell_type": "code",
   "execution_count": 193,
   "id": "a35c3c22-3c03-4f6b-89dc-29aba1bb5a29",
   "metadata": {},
   "outputs": [
    {
     "data": {
      "text/plain": [
       "list"
      ]
     },
     "execution_count": 193,
     "metadata": {},
     "output_type": "execute_result"
    }
   ],
   "source": [
    "type(l)\n"
   ]
  },
  {
   "cell_type": "code",
   "execution_count": 194,
   "id": "316cad35-1d6e-4cba-a012-e6a991317fb4",
   "metadata": {},
   "outputs": [],
   "source": [
    "#now have to remove one by one element in the given list"
   ]
  },
  {
   "cell_type": "code",
   "execution_count": 195,
   "id": "ccd84e48-5578-4711-9e2d-72da1eae8d9c",
   "metadata": {},
   "outputs": [
    {
     "data": {
      "text/plain": [
       "1"
      ]
     },
     "execution_count": 195,
     "metadata": {},
     "output_type": "execute_result"
    }
   ],
   "source": [
    "l[0]"
   ]
  },
  {
   "cell_type": "code",
   "execution_count": 196,
   "id": "9f29dcb8-3d62-451e-9cec-f01b045095ca",
   "metadata": {},
   "outputs": [
    {
     "data": {
      "text/plain": [
       "345.456"
      ]
     },
     "execution_count": 196,
     "metadata": {},
     "output_type": "execute_result"
    }
   ],
   "source": [
    "l[6]"
   ]
  },
  {
   "cell_type": "code",
   "execution_count": 197,
   "id": "0ff06278-9bf7-460c-a4dc-4038fe2876e5",
   "metadata": {},
   "outputs": [
    {
     "ename": "IndexError",
     "evalue": "list index out of range",
     "output_type": "error",
     "traceback": [
      "\u001b[0;31m---------------------------------------------------------------------------\u001b[0m",
      "\u001b[0;31mIndexError\u001b[0m                                Traceback (most recent call last)",
      "Cell \u001b[0;32mIn[197], line 1\u001b[0m\n\u001b[0;32m----> 1\u001b[0m \u001b[43ml\u001b[49m\u001b[43m[\u001b[49m\u001b[38;5;241;43m19\u001b[39;49m\u001b[43m]\u001b[49m\n",
      "\u001b[0;31mIndexError\u001b[0m: list index out of range"
     ]
    }
   ],
   "source": [
    "l[19]"
   ]
  },
  {
   "cell_type": "code",
   "execution_count": 198,
   "id": "88f4b9bd-8eed-48ee-9dc8-f14a38b4f990",
   "metadata": {},
   "outputs": [],
   "source": [
    "#as 19 index is not available"
   ]
  },
  {
   "cell_type": "code",
   "execution_count": 199,
   "id": "1737c7c2-f5a5-4c84-ad62-b56cc22384d2",
   "metadata": {},
   "outputs": [
    {
     "data": {
      "text/plain": [
       "[1, 345, 45]"
      ]
     },
     "execution_count": 199,
     "metadata": {},
     "output_type": "execute_result"
    }
   ],
   "source": [
    "l[:3]"
   ]
  },
  {
   "cell_type": "code",
   "execution_count": 200,
   "id": "811e2d90-77d3-4082-a51f-ab408f6c8598",
   "metadata": {},
   "outputs": [
    {
     "data": {
      "text/plain": [
       "345.456"
      ]
     },
     "execution_count": 200,
     "metadata": {},
     "output_type": "execute_result"
    }
   ],
   "source": [
    "l[-1]"
   ]
  },
  {
   "cell_type": "code",
   "execution_count": 201,
   "id": "686c1fb2-222d-4fbc-9f7f-f03a6f3d462a",
   "metadata": {},
   "outputs": [
    {
     "data": {
      "text/plain": [
       "[345.456, (5+9j), True, 'sudh', 45, 345, 1]"
      ]
     },
     "execution_count": 201,
     "metadata": {},
     "output_type": "execute_result"
    }
   ],
   "source": [
    "l[::-1]"
   ]
  },
  {
   "cell_type": "code",
   "execution_count": 202,
   "id": "80d7fc4f-591c-470f-b22e-ce3df0849935",
   "metadata": {},
   "outputs": [],
   "source": [
    "\n",
    "#now we have to find make the sequence in even order"
   ]
  },
  {
   "cell_type": "code",
   "execution_count": 203,
   "id": "c65d75af-d17a-4047-aad8-7aa678584168",
   "metadata": {},
   "outputs": [
    {
     "data": {
      "text/plain": [
       "[1, 45, True, 345.456]"
      ]
     },
     "execution_count": 203,
     "metadata": {},
     "output_type": "execute_result"
    }
   ],
   "source": [
    "l[::2]"
   ]
  },
  {
   "cell_type": "code",
   "execution_count": 204,
   "id": "c22fe7a4-a8f0-4cfc-a789-f522894f7849",
   "metadata": {},
   "outputs": [],
   "source": [
    "s=\"pwskills\"\n"
   ]
  },
  {
   "cell_type": "code",
   "execution_count": 205,
   "id": "1c6e8285-7914-469c-9084-06f8047be503",
   "metadata": {},
   "outputs": [
    {
     "ename": "TypeError",
     "evalue": "can only concatenate list (not \"str\") to list",
     "output_type": "error",
     "traceback": [
      "\u001b[0;31m---------------------------------------------------------------------------\u001b[0m",
      "\u001b[0;31mTypeError\u001b[0m                                 Traceback (most recent call last)",
      "Cell \u001b[0;32mIn[205], line 1\u001b[0m\n\u001b[0;32m----> 1\u001b[0m \u001b[43ml\u001b[49m\u001b[38;5;241;43m+\u001b[39;49m\u001b[43ms\u001b[49m\n",
      "\u001b[0;31mTypeError\u001b[0m: can only concatenate list (not \"str\") to list"
     ]
    }
   ],
   "source": [
    "l+s"
   ]
  },
  {
   "cell_type": "code",
   "execution_count": 206,
   "id": "c9f57d68-eec1-416a-a50e-f8d25a201909",
   "metadata": {},
   "outputs": [],
   "source": [
    "#as concatenation take place only with strings"
   ]
  },
  {
   "cell_type": "code",
   "execution_count": 207,
   "id": "9d9c1dd8-ea3f-4f2d-9942-964d302d1e18",
   "metadata": {},
   "outputs": [
    {
     "data": {
      "text/plain": [
       "['p', 'w', 's', 'k', 'i', 'l', 'l', 's']"
      ]
     },
     "execution_count": 207,
     "metadata": {},
     "output_type": "execute_result"
    }
   ],
   "source": [
    "list(s)"
   ]
  },
  {
   "cell_type": "code",
   "execution_count": 208,
   "id": "f7330a2b-405f-4aed-b818-24251eba1443",
   "metadata": {},
   "outputs": [],
   "source": [
    "#as list break the strings into character"
   ]
  },
  {
   "cell_type": "code",
   "execution_count": 209,
   "id": "589fb38d-db53-40dc-8bde-5342ecc003ce",
   "metadata": {},
   "outputs": [],
   "source": [
    "#now we have to find su in the given list"
   ]
  },
  {
   "cell_type": "code",
   "execution_count": 210,
   "id": "abcc89f3-7584-4740-a86c-bd4c875527be",
   "metadata": {},
   "outputs": [
    {
     "data": {
      "text/plain": [
       "'sudh'"
      ]
     },
     "execution_count": 210,
     "metadata": {},
     "output_type": "execute_result"
    }
   ],
   "source": [
    "l[3]"
   ]
  },
  {
   "cell_type": "code",
   "execution_count": 211,
   "id": "4408b420-f7f7-426d-8362-81e7d1f190d6",
   "metadata": {},
   "outputs": [
    {
     "data": {
      "text/plain": [
       "str"
      ]
     },
     "execution_count": 211,
     "metadata": {},
     "output_type": "execute_result"
    }
   ],
   "source": [
    "type(l[3])"
   ]
  },
  {
   "cell_type": "code",
   "execution_count": 212,
   "id": "689b5475-dcae-45c3-9fe3-34333a4d0814",
   "metadata": {},
   "outputs": [],
   "source": [
    "#now we have to apply slicing operation"
   ]
  },
  {
   "cell_type": "code",
   "execution_count": 213,
   "id": "9d4ed166-2d7c-4397-accb-238a68679a73",
   "metadata": {},
   "outputs": [
    {
     "data": {
      "text/plain": [
       "'su'"
      ]
     },
     "execution_count": 213,
     "metadata": {},
     "output_type": "execute_result"
    }
   ],
   "source": [
    "l[3][0:2]"
   ]
  },
  {
   "cell_type": "code",
   "execution_count": 214,
   "id": "cfed70a1-db42-4956-87ce-2f1a1e348818",
   "metadata": {},
   "outputs": [],
   "source": [
    "#now we have excrat tu from true"
   ]
  },
  {
   "cell_type": "code",
   "execution_count": 215,
   "id": "bc4e471c-e8f3-480f-96cc-6f24e8012c5c",
   "metadata": {},
   "outputs": [
    {
     "data": {
      "text/plain": [
       "True"
      ]
     },
     "execution_count": 215,
     "metadata": {},
     "output_type": "execute_result"
    }
   ],
   "source": [
    "l[4]"
   ]
  },
  {
   "cell_type": "code",
   "execution_count": 216,
   "id": "8ce86591-1e99-4157-a5c7-9999cc3b2faf",
   "metadata": {},
   "outputs": [],
   "source": [
    "#as true is bollean so"
   ]
  },
  {
   "cell_type": "code",
   "execution_count": 217,
   "id": "1494e8dc-4559-486e-affd-fec78b6756fd",
   "metadata": {},
   "outputs": [
    {
     "ename": "TypeError",
     "evalue": "'bool' object is not subscriptable",
     "output_type": "error",
     "traceback": [
      "\u001b[0;31m---------------------------------------------------------------------------\u001b[0m",
      "\u001b[0;31mTypeError\u001b[0m                                 Traceback (most recent call last)",
      "Cell \u001b[0;32mIn[217], line 1\u001b[0m\n\u001b[0;32m----> 1\u001b[0m \u001b[43ml\u001b[49m\u001b[43m[\u001b[49m\u001b[38;5;241;43m4\u001b[39;49m\u001b[43m]\u001b[49m\u001b[43m[\u001b[49m\u001b[38;5;241;43m0\u001b[39;49m\u001b[43m:\u001b[49m\u001b[38;5;241;43m2\u001b[39;49m\u001b[43m]\u001b[49m\n",
      "\u001b[0;31mTypeError\u001b[0m: 'bool' object is not subscriptable"
     ]
    }
   ],
   "source": [
    "l[4][0:2]"
   ]
  },
  {
   "cell_type": "code",
   "execution_count": 218,
   "id": "4dfba63a-a4f9-4463-9f0b-754c7b14c796",
   "metadata": {},
   "outputs": [],
   "source": [
    "#so convert first into string"
   ]
  },
  {
   "cell_type": "code",
   "execution_count": 219,
   "id": "8c2b138f-6668-429d-bdda-27e421aca9f1",
   "metadata": {},
   "outputs": [
    {
     "data": {
      "text/plain": [
       "'Tr'"
      ]
     },
     "execution_count": 219,
     "metadata": {},
     "output_type": "execute_result"
    }
   ],
   "source": [
    "\n",
    "str(l[4])[0:2]"
   ]
  },
  {
   "cell_type": "code",
   "execution_count": 220,
   "id": "61681bcb-96db-4636-994f-15023515c2c5",
   "metadata": {},
   "outputs": [
    {
     "ename": "TypeError",
     "evalue": "can only concatenate list (not \"int\") to list",
     "output_type": "error",
     "traceback": [
      "\u001b[0;31m---------------------------------------------------------------------------\u001b[0m",
      "\u001b[0;31mTypeError\u001b[0m                                 Traceback (most recent call last)",
      "Cell \u001b[0;32mIn[220], line 1\u001b[0m\n\u001b[0;32m----> 1\u001b[0m \u001b[43ml\u001b[49m\u001b[38;5;241;43m+\u001b[39;49m\u001b[38;5;241;43m5\u001b[39;49m\n",
      "\u001b[0;31mTypeError\u001b[0m: can only concatenate list (not \"int\") to list"
     ]
    }
   ],
   "source": [
    "l+5"
   ]
  },
  {
   "cell_type": "code",
   "execution_count": 221,
   "id": "c8290196-9e5c-44c9-9468-7cde353d3b41",
   "metadata": {},
   "outputs": [],
   "source": [
    "\n",
    "#as 5 is int not a list"
   ]
  },
  {
   "cell_type": "code",
   "execution_count": 3,
   "id": "6c52a5f4-df57-43c0-9b07-3ed8dc9d2604",
   "metadata": {},
   "outputs": [],
   "source": [
    "l1=[3,4,5]"
   ]
  },
  {
   "cell_type": "code",
   "execution_count": 223,
   "id": "e9db3914-1bad-42f0-9ab4-1dd6a85c68f1",
   "metadata": {},
   "outputs": [
    {
     "data": {
      "text/plain": [
       "[1, 345, 45, 'sudh', True, (5+9j), 345.456, 3, 4, 5]"
      ]
     },
     "execution_count": 223,
     "metadata": {},
     "output_type": "execute_result"
    }
   ],
   "source": [
    "l+l1"
   ]
  },
  {
   "cell_type": "code",
   "execution_count": 224,
   "id": "36dc4b45-7720-449f-9ce5-152b569293d8",
   "metadata": {},
   "outputs": [
    {
     "data": {
      "text/plain": [
       "[3, 4, 5, 3, 4, 5, 3, 4, 5]"
      ]
     },
     "execution_count": 224,
     "metadata": {},
     "output_type": "execute_result"
    }
   ],
   "source": [
    "l1*3"
   ]
  },
  {
   "cell_type": "code",
   "execution_count": 225,
   "id": "83c4b023-c9ae-4625-b53e-8baec7378f4f",
   "metadata": {},
   "outputs": [],
   "source": [
    "#now we have to find number of elements"
   ]
  },
  {
   "cell_type": "code",
   "execution_count": 226,
   "id": "4abd1e56-f588-48f5-92d2-61fae2cd5d9c",
   "metadata": {},
   "outputs": [
    {
     "data": {
      "text/plain": [
       "7"
      ]
     },
     "execution_count": 226,
     "metadata": {},
     "output_type": "execute_result"
    }
   ],
   "source": [
    "\n",
    "\n",
    "len(l)\n"
   ]
  },
  {
   "cell_type": "code",
   "execution_count": 227,
   "id": "906772b7-8461-4b27-9598-df73d9e85f75",
   "metadata": {},
   "outputs": [
    {
     "data": {
      "text/plain": [
       "[1, 345, 45, 'sudh', True, (5+9j), 345.456]"
      ]
     },
     "execution_count": 227,
     "metadata": {},
     "output_type": "execute_result"
    }
   ],
   "source": [
    "l#original function"
   ]
  },
  {
   "cell_type": "code",
   "execution_count": 228,
   "id": "6311f5be-02c6-46a3-97ab-a7550301a0c4",
   "metadata": {},
   "outputs": [],
   "source": [
    "#now we have to add 5 in l so we use append function\n",
    "#which used to add any data in the list at the end"
   ]
  },
  {
   "cell_type": "code",
   "execution_count": 229,
   "id": "0467d7eb-d1d4-4595-9e07-6e0876d06063",
   "metadata": {},
   "outputs": [],
   "source": [
    "l.append(5)"
   ]
  },
  {
   "cell_type": "code",
   "execution_count": 230,
   "id": "357667a7-1e18-4417-88fb-8ab61a7511d9",
   "metadata": {},
   "outputs": [
    {
     "data": {
      "text/plain": [
       "[1, 345, 45, 'sudh', True, (5+9j), 345.456, 5]"
      ]
     },
     "execution_count": 230,
     "metadata": {},
     "output_type": "execute_result"
    }
   ],
   "source": [
    "l"
   ]
  },
  {
   "cell_type": "code",
   "execution_count": 231,
   "id": "72375ba2-ad61-4088-8349-dcd13ec6f18f",
   "metadata": {},
   "outputs": [
    {
     "data": {
      "text/plain": [
       "'pwskills'"
      ]
     },
     "execution_count": 231,
     "metadata": {},
     "output_type": "execute_result"
    }
   ],
   "source": [
    "s"
   ]
  },
  {
   "cell_type": "code",
   "execution_count": 232,
   "id": "f8c76e83-43c3-49ae-8f42-5636bd5dc988",
   "metadata": {},
   "outputs": [],
   "source": [
    "l.append(s)"
   ]
  },
  {
   "cell_type": "code",
   "execution_count": 233,
   "id": "3c131037-6c3f-4475-8004-96c956ca8a6b",
   "metadata": {},
   "outputs": [
    {
     "data": {
      "text/plain": [
       "[1, 345, 45, 'sudh', True, (5+9j), 345.456, 5, 'pwskills']"
      ]
     },
     "execution_count": 233,
     "metadata": {},
     "output_type": "execute_result"
    }
   ],
   "source": [
    "l"
   ]
  },
  {
   "cell_type": "code",
   "execution_count": 234,
   "id": "f80310be-54ad-4a2f-b465-1accc7aaf5bb",
   "metadata": {},
   "outputs": [],
   "source": [
    "#"
   ]
  },
  {
   "cell_type": "code",
   "execution_count": 235,
   "id": "45487555-d466-4425-b3bb-7b2b3ecec2af",
   "metadata": {},
   "outputs": [
    {
     "data": {
      "text/plain": [
       "[1, 345, 45, 'sudh', True, (5+9j), 345.456, 5, 'pwskills']"
      ]
     },
     "execution_count": 235,
     "metadata": {},
     "output_type": "execute_result"
    }
   ],
   "source": [
    "l"
   ]
  },
  {
   "cell_type": "code",
   "execution_count": 236,
   "id": "97241efd-76f4-4095-b693-424c370b009e",
   "metadata": {},
   "outputs": [
    {
     "data": {
      "text/plain": [
       "[3, 4, 5]"
      ]
     },
     "execution_count": 236,
     "metadata": {},
     "output_type": "execute_result"
    }
   ],
   "source": [
    "l1"
   ]
  },
  {
   "cell_type": "code",
   "execution_count": 237,
   "id": "f08c4d12-8b38-4a25-b5d0-0abd115e6606",
   "metadata": {},
   "outputs": [
    {
     "data": {
      "text/plain": [
       "[1, 345, 45, 'sudh', True, (5+9j), 345.456, 5, 'pwskills', 3, 4, 5]"
      ]
     },
     "execution_count": 237,
     "metadata": {},
     "output_type": "execute_result"
    }
   ],
   "source": [
    "l+l1"
   ]
  },
  {
   "cell_type": "code",
   "execution_count": 238,
   "id": "00d60458-d5fd-42f9-a046-b43b7f3e541f",
   "metadata": {},
   "outputs": [],
   "source": [
    "#this is different than given bellow"
   ]
  },
  {
   "cell_type": "code",
   "execution_count": 239,
   "id": "77f60d31-c197-40f5-b8a1-9c777d28bcd3",
   "metadata": {},
   "outputs": [],
   "source": [
    "l.append(l1)"
   ]
  },
  {
   "cell_type": "code",
   "execution_count": 240,
   "id": "0874f3f9-8b6b-4278-b650-078d4cff8eca",
   "metadata": {},
   "outputs": [
    {
     "data": {
      "text/plain": [
       "[1, 345, 45, 'sudh', True, (5+9j), 345.456, 5, 'pwskills', [3, 4, 5]]"
      ]
     },
     "execution_count": 240,
     "metadata": {},
     "output_type": "execute_result"
    }
   ],
   "source": [
    "l"
   ]
  },
  {
   "cell_type": "code",
   "execution_count": 241,
   "id": "a81db59a-1988-42ea-a612-dfa8a9981f96",
   "metadata": {},
   "outputs": [],
   "source": [
    "#the ave one is known as nested list"
   ]
  },
  {
   "cell_type": "code",
   "execution_count": 242,
   "id": "07edb5fd-e75c-4477-92df-2881fc7fb80c",
   "metadata": {},
   "outputs": [],
   "source": [
    "#now we have to find 4 in the nested list"
   ]
  },
  {
   "cell_type": "code",
   "execution_count": 243,
   "id": "38fa503f-06a9-4c60-b008-da70cfb61620",
   "metadata": {},
   "outputs": [
    {
     "data": {
      "text/plain": [
       "4"
      ]
     },
     "execution_count": 243,
     "metadata": {},
     "output_type": "execute_result"
    }
   ],
   "source": [
    "l[-1][1]"
   ]
  },
  {
   "cell_type": "code",
   "execution_count": 244,
   "id": "7e8b707a-3384-4991-b2ce-f6550cbf80da",
   "metadata": {},
   "outputs": [],
   "source": [
    "#extend function\n",
    "#which only used for iterables(easily break)\n",
    "#and not use in case of integers"
   ]
  },
  {
   "cell_type": "code",
   "execution_count": 245,
   "id": "68748c54-28f9-4bca-b9d5-8610ab0b59c7",
   "metadata": {},
   "outputs": [
    {
     "data": {
      "text/plain": [
       "[1, 345, 45, 'sudh', True, (5+9j), 345.456, 5, 'pwskills', [3, 4, 5]]"
      ]
     },
     "execution_count": 245,
     "metadata": {},
     "output_type": "execute_result"
    }
   ],
   "source": [
    "l"
   ]
  },
  {
   "cell_type": "code",
   "execution_count": 246,
   "id": "6f4adc12-e34d-44bd-aba1-16a00ce8eb9a",
   "metadata": {},
   "outputs": [
    {
     "ename": "TypeError",
     "evalue": "'int' object is not iterable",
     "output_type": "error",
     "traceback": [
      "\u001b[0;31m---------------------------------------------------------------------------\u001b[0m",
      "\u001b[0;31mTypeError\u001b[0m                                 Traceback (most recent call last)",
      "Cell \u001b[0;32mIn[246], line 1\u001b[0m\n\u001b[0;32m----> 1\u001b[0m \u001b[43ml\u001b[49m\u001b[38;5;241;43m.\u001b[39;49m\u001b[43mextend\u001b[49m\u001b[43m(\u001b[49m\u001b[38;5;241;43m4\u001b[39;49m\u001b[43m)\u001b[49m\n",
      "\u001b[0;31mTypeError\u001b[0m: 'int' object is not iterable"
     ]
    }
   ],
   "source": [
    "\n",
    "\n",
    "\n",
    "l.extend(4)"
   ]
  },
  {
   "cell_type": "code",
   "execution_count": 247,
   "id": "08777c05-4801-452e-aa75-23a314f1e26d",
   "metadata": {},
   "outputs": [],
   "source": [
    "l.extend(\"sudh\")"
   ]
  },
  {
   "cell_type": "code",
   "execution_count": 248,
   "id": "0dacaa1d-4c7a-4e9c-8e72-7287c5ddd951",
   "metadata": {},
   "outputs": [
    {
     "data": {
      "text/plain": [
       "[1,\n",
       " 345,\n",
       " 45,\n",
       " 'sudh',\n",
       " True,\n",
       " (5+9j),\n",
       " 345.456,\n",
       " 5,\n",
       " 'pwskills',\n",
       " [3, 4, 5],\n",
       " 's',\n",
       " 'u',\n",
       " 'd',\n",
       " 'h']"
      ]
     },
     "execution_count": 248,
     "metadata": {},
     "output_type": "execute_result"
    }
   ],
   "source": [
    "l"
   ]
  },
  {
   "cell_type": "code",
   "execution_count": 249,
   "id": "2b314332-44f4-4bbf-9dd0-7b612737e9d3",
   "metadata": {},
   "outputs": [
    {
     "ename": "TypeError",
     "evalue": "list.extend() takes exactly one argument (3 given)",
     "output_type": "error",
     "traceback": [
      "\u001b[0;31m---------------------------------------------------------------------------\u001b[0m",
      "\u001b[0;31mTypeError\u001b[0m                                 Traceback (most recent call last)",
      "Cell \u001b[0;32mIn[249], line 1\u001b[0m\n\u001b[0;32m----> 1\u001b[0m \u001b[43ml\u001b[49m\u001b[38;5;241;43m.\u001b[39;49m\u001b[43mextend\u001b[49m\u001b[43m(\u001b[49m\u001b[38;5;241;43m3\u001b[39;49m\u001b[43m,\u001b[49m\u001b[38;5;241;43m4\u001b[39;49m\u001b[43m,\u001b[49m\u001b[38;5;241;43m5\u001b[39;49m\u001b[43m)\u001b[49m\n",
      "\u001b[0;31mTypeError\u001b[0m: list.extend() takes exactly one argument (3 given)"
     ]
    }
   ],
   "source": [
    "\n",
    "l.extend(3,4,5)"
   ]
  },
  {
   "cell_type": "code",
   "execution_count": 250,
   "id": "bc1223d4-a852-4245-85b8-c2ecb328001c",
   "metadata": {},
   "outputs": [],
   "source": [
    "#but if we use list"
   ]
  },
  {
   "cell_type": "code",
   "execution_count": 251,
   "id": "76fb4198-7983-4fd7-a0c0-432fae7dc2aa",
   "metadata": {},
   "outputs": [],
   "source": [
    "l.extend([3,4,5])"
   ]
  },
  {
   "cell_type": "code",
   "execution_count": 252,
   "id": "82be2809-46f2-4365-88f7-8b3abc30314c",
   "metadata": {},
   "outputs": [
    {
     "data": {
      "text/plain": [
       "[1,\n",
       " 345,\n",
       " 45,\n",
       " 'sudh',\n",
       " True,\n",
       " (5+9j),\n",
       " 345.456,\n",
       " 5,\n",
       " 'pwskills',\n",
       " [3, 4, 5],\n",
       " 's',\n",
       " 'u',\n",
       " 'd',\n",
       " 'h',\n",
       " 3,\n",
       " 4,\n",
       " 5]"
      ]
     },
     "execution_count": 252,
     "metadata": {},
     "output_type": "execute_result"
    }
   ],
   "source": [
    "\n",
    "\n",
    "l"
   ]
  },
  {
   "cell_type": "code",
   "execution_count": 253,
   "id": "ad5f8902-eff8-4911-83a7-77052b118112",
   "metadata": {},
   "outputs": [
    {
     "data": {
      "text/plain": [
       "' in append use to add anything directly to the list\\nbut this is not a case in extend function which break the elements of\\nthe list or strings into character and then add\\nand it use for iterables'"
      ]
     },
     "execution_count": 253,
     "metadata": {},
     "output_type": "execute_result"
    }
   ],
   "source": [
    "''' in append use to add anything directly to the list\n",
    "but this is not a case in extend function which break the elements of\n",
    "the list or strings into character and then add\n",
    "and it use for iterables'''"
   ]
  },
  {
   "cell_type": "code",
   "execution_count": 2,
   "id": "f2cc8ad0-49c8-46e3-8c55-284e10ea9c02",
   "metadata": {},
   "outputs": [
    {
     "ename": "NameError",
     "evalue": "name 'l1' is not defined",
     "output_type": "error",
     "traceback": [
      "\u001b[0;31m---------------------------------------------------------------------------\u001b[0m",
      "\u001b[0;31mNameError\u001b[0m                                 Traceback (most recent call last)",
      "Cell \u001b[0;32mIn[2], line 1\u001b[0m\n\u001b[0;32m----> 1\u001b[0m \u001b[43ml1\u001b[49m\n",
      "\u001b[0;31mNameError\u001b[0m: name 'l1' is not defined"
     ]
    }
   ],
   "source": [
    "l1"
   ]
  },
  {
   "cell_type": "code",
   "execution_count": 255,
   "id": "db431ca8-7e76-43ad-aec5-f67fd17d90bf",
   "metadata": {},
   "outputs": [],
   "source": [
    "#now we have to add the data in the front of the list by using insert function"
   ]
  },
  {
   "cell_type": "code",
   "execution_count": 1,
   "id": "f31e3129-5c04-432f-bbbe-4b2241738f64",
   "metadata": {},
   "outputs": [
    {
     "ename": "NameError",
     "evalue": "name 'l1' is not defined",
     "output_type": "error",
     "traceback": [
      "\u001b[0;31m---------------------------------------------------------------------------\u001b[0m",
      "\u001b[0;31mNameError\u001b[0m                                 Traceback (most recent call last)",
      "Cell \u001b[0;32mIn[1], line 1\u001b[0m\n\u001b[0;32m----> 1\u001b[0m \u001b[43ml1\u001b[49m\u001b[38;5;241m.\u001b[39minsert(\u001b[38;5;241m1\u001b[39m,\u001b[38;5;124m\"\u001b[39m\u001b[38;5;124msudh\u001b[39m\u001b[38;5;124m\"\u001b[39m)\u001b[38;5;66;03m#1 describe the position \u001b[39;00m\n",
      "\u001b[0;31mNameError\u001b[0m: name 'l1' is not defined"
     ]
    }
   ],
   "source": [
    "l1.insert(1,\"sudh\")#1 describe the position "
   ]
  },
  {
   "cell_type": "code",
   "execution_count": 257,
   "id": "caf48ff4-c11f-4112-9c85-d536b6073a8a",
   "metadata": {},
   "outputs": [
    {
     "data": {
      "text/plain": [
       "[3, 'sudh', 4, 5]"
      ]
     },
     "execution_count": 257,
     "metadata": {},
     "output_type": "execute_result"
    }
   ],
   "source": [
    "l1"
   ]
  },
  {
   "cell_type": "code",
   "execution_count": 258,
   "id": "6bd62ea4-7c70-4f17-a1d2-b29d55173519",
   "metadata": {},
   "outputs": [],
   "source": [
    "l1.insert(2,[1,3,4])"
   ]
  },
  {
   "cell_type": "code",
   "execution_count": 259,
   "id": "029367b1-fa2d-4c1a-a973-361adac1f245",
   "metadata": {},
   "outputs": [
    {
     "data": {
      "text/plain": [
       "[3, 'sudh', [1, 3, 4], 4, 5]"
      ]
     },
     "execution_count": 259,
     "metadata": {},
     "output_type": "execute_result"
    }
   ],
   "source": [
    "l1"
   ]
  },
  {
   "cell_type": "code",
   "execution_count": 260,
   "id": "b3eec102-1f47-4b0b-ac4d-68d21fd47343",
   "metadata": {},
   "outputs": [],
   "source": [
    "l1.insert(-1,45)"
   ]
  },
  {
   "cell_type": "code",
   "execution_count": 261,
   "id": "99c73807-09c5-4b9f-a977-d42b61047e2b",
   "metadata": {},
   "outputs": [
    {
     "data": {
      "text/plain": [
       "[3, 'sudh', [1, 3, 4], 4, 45, 5]"
      ]
     },
     "execution_count": 261,
     "metadata": {},
     "output_type": "execute_result"
    }
   ],
   "source": [
    "l1"
   ]
  },
  {
   "cell_type": "code",
   "execution_count": 262,
   "id": "547acdf8-ec2b-4726-804b-3172050c01ba",
   "metadata": {},
   "outputs": [],
   "source": [
    "#as it work properly because s is at -1 position after insert is used 45 is placed at -1 position"
   ]
  },
  {
   "cell_type": "code",
   "execution_count": 263,
   "id": "1add23c4-2fcc-4d4f-a024-140a2cd994c7",
   "metadata": {},
   "outputs": [],
   "source": [
    "l1.insert(0,45)"
   ]
  },
  {
   "cell_type": "code",
   "execution_count": 264,
   "id": "f2162d63-007a-4457-b79a-eb17676430cb",
   "metadata": {},
   "outputs": [
    {
     "data": {
      "text/plain": [
       "[45, 3, 'sudh', [1, 3, 4], 4, 45, 5]"
      ]
     },
     "execution_count": 264,
     "metadata": {},
     "output_type": "execute_result"
    }
   ],
   "source": [
    "l1"
   ]
  },
  {
   "cell_type": "code",
   "execution_count": 265,
   "id": "30ee9904-e966-4dc5-83fe-d9fcccf1bfd4",
   "metadata": {},
   "outputs": [],
   "source": [
    "#now we also delete the data\n",
    "#by pop()"
   ]
  },
  {
   "cell_type": "code",
   "execution_count": 266,
   "id": "523bb803-0d8d-401a-890b-00ec7eff975b",
   "metadata": {},
   "outputs": [
    {
     "data": {
      "text/plain": [
       "5"
      ]
     },
     "execution_count": 266,
     "metadata": {},
     "output_type": "execute_result"
    }
   ],
   "source": [
    "l1.pop()#use to remove the data through index"
   ]
  },
  {
   "cell_type": "code",
   "execution_count": 267,
   "id": "9a377c87-6023-4fce-a896-db82328db3fb",
   "metadata": {},
   "outputs": [
    {
     "data": {
      "text/plain": [
       "'sudh'"
      ]
     },
     "execution_count": 267,
     "metadata": {},
     "output_type": "execute_result"
    }
   ],
   "source": [
    "l1.pop(2)"
   ]
  },
  {
   "cell_type": "code",
   "execution_count": 268,
   "id": "42d6b8f9-7181-4da3-9724-b21defda81ea",
   "metadata": {},
   "outputs": [
    {
     "data": {
      "text/plain": [
       "4"
      ]
     },
     "execution_count": 268,
     "metadata": {},
     "output_type": "execute_result"
    }
   ],
   "source": [
    "l1.pop(3)# why list is not remove"
   ]
  },
  {
   "cell_type": "code",
   "execution_count": 269,
   "id": "4083d4d4-b959-4bb4-a482-df452348a341",
   "metadata": {},
   "outputs": [],
   "source": [
    "l1.remove([1,3,4])"
   ]
  },
  {
   "cell_type": "code",
   "execution_count": 270,
   "id": "b9650fb0-c30d-4322-8d5a-13040228d413",
   "metadata": {},
   "outputs": [
    {
     "data": {
      "text/plain": [
       "[45, 3, 45]"
      ]
     },
     "execution_count": 270,
     "metadata": {},
     "output_type": "execute_result"
    }
   ],
   "source": [
    "l1"
   ]
  },
  {
   "cell_type": "code",
   "execution_count": 271,
   "id": "04b2fcd0-9289-40fa-9999-4b145cd6650b",
   "metadata": {},
   "outputs": [
    {
     "ename": "ValueError",
     "evalue": "list.remove(x): x not in list",
     "output_type": "error",
     "traceback": [
      "\u001b[0;31m---------------------------------------------------------------------------\u001b[0m",
      "\u001b[0;31mValueError\u001b[0m                                Traceback (most recent call last)",
      "Cell \u001b[0;32mIn[271], line 1\u001b[0m\n\u001b[0;32m----> 1\u001b[0m \u001b[43ml1\u001b[49m\u001b[38;5;241;43m.\u001b[39;49m\u001b[43mremove\u001b[49m\u001b[43m(\u001b[49m\u001b[38;5;241;43m4\u001b[39;49m\u001b[43m)\u001b[49m\n",
      "\u001b[0;31mValueError\u001b[0m: list.remove(x): x not in list"
     ]
    }
   ],
   "source": [
    "l1.remove(4)"
   ]
  },
  {
   "cell_type": "code",
   "execution_count": null,
   "id": "5e91b1e2-8608-4f6e-bd9c-6805bde79b88",
   "metadata": {},
   "outputs": [],
   "source": [
    "l1.insert(1,4)"
   ]
  },
  {
   "cell_type": "code",
   "execution_count": 272,
   "id": "1d199f45-7d8d-44c1-bfc8-5e5be1d0b89b",
   "metadata": {},
   "outputs": [
    {
     "data": {
      "text/plain": [
       "[45, 3, 45]"
      ]
     },
     "execution_count": 272,
     "metadata": {},
     "output_type": "execute_result"
    }
   ],
   "source": [
    "l1"
   ]
  },
  {
   "cell_type": "code",
   "execution_count": 273,
   "id": "bca72e77-2a59-46b4-8ed8-b8cca85b6fea",
   "metadata": {},
   "outputs": [],
   "source": [
    "l1.insert(1,[3,4,5])"
   ]
  },
  {
   "cell_type": "code",
   "execution_count": 298,
   "id": "eb33b567-c6d5-4cd5-ba30-55115747a169",
   "metadata": {},
   "outputs": [],
   "source": [
    "l1=[45,\"sudh\",[2,3,4],4]"
   ]
  },
  {
   "cell_type": "code",
   "execution_count": 299,
   "id": "3312cc88-6c65-49a6-9b1a-dd44325d2ed0",
   "metadata": {},
   "outputs": [
    {
     "data": {
      "text/plain": [
       "[45, 'sudh', [2, 3, 4], 4]"
      ]
     },
     "execution_count": 299,
     "metadata": {},
     "output_type": "execute_result"
    }
   ],
   "source": [
    "l1"
   ]
  },
  {
   "cell_type": "code",
   "execution_count": 300,
   "id": "fc8d3cfc-5ec2-44de-8155-4b1ea135f988",
   "metadata": {},
   "outputs": [
    {
     "ename": "ValueError",
     "evalue": "list.remove(x): x not in list",
     "output_type": "error",
     "traceback": [
      "\u001b[0;31m---------------------------------------------------------------------------\u001b[0m",
      "\u001b[0;31mValueError\u001b[0m                                Traceback (most recent call last)",
      "Cell \u001b[0;32mIn[300], line 1\u001b[0m\n\u001b[0;32m----> 1\u001b[0m \u001b[43ml1\u001b[49m\u001b[38;5;241;43m.\u001b[39;49m\u001b[43mremove\u001b[49m\u001b[43m(\u001b[49m\u001b[38;5;241;43m234\u001b[39;49m\u001b[43m)\u001b[49m\n",
      "\u001b[0;31mValueError\u001b[0m: list.remove(x): x not in list"
     ]
    }
   ],
   "source": [
    "l1.remove(234)"
   ]
  },
  {
   "cell_type": "code",
   "execution_count": 301,
   "id": "62888314-ab1d-41f4-ab3a-5c0e591b52e2",
   "metadata": {},
   "outputs": [],
   "source": [
    "l1[2].remove(3)"
   ]
  },
  {
   "cell_type": "code",
   "execution_count": 302,
   "id": "abc7e8e8-1996-4e84-a00e-9ddaa5eb43aa",
   "metadata": {},
   "outputs": [
    {
     "data": {
      "text/plain": [
       "[45, 'sudh', [2, 4], 4]"
      ]
     },
     "execution_count": 302,
     "metadata": {},
     "output_type": "execute_result"
    }
   ],
   "source": [
    "l1\n"
   ]
  },
  {
   "cell_type": "code",
   "execution_count": 303,
   "id": "36a53171-9377-4f47-8bcb-c520f43dd9eb",
   "metadata": {},
   "outputs": [],
   "source": [
    "#now we can not able to remove the string su from sudh because\n",
    "#strings are immutable whereas lists are mutable\n"
   ]
  },
  {
   "cell_type": "code",
   "execution_count": 304,
   "id": "0c2e0a81-b74a-4328-bea0-f66dfd4dd93f",
   "metadata": {},
   "outputs": [],
   "source": [
    "l1.append(4)"
   ]
  },
  {
   "cell_type": "code",
   "execution_count": 305,
   "id": "2203ad59-c77d-4833-882b-232fda61a2df",
   "metadata": {},
   "outputs": [
    {
     "data": {
      "text/plain": [
       "[45, 'sudh', [2, 4], 4, 4]"
      ]
     },
     "execution_count": 305,
     "metadata": {},
     "output_type": "execute_result"
    }
   ],
   "source": [
    "l1\n"
   ]
  },
  {
   "cell_type": "code",
   "execution_count": 306,
   "id": "3668d387-39c8-46a6-92ec-cfb89cec1496",
   "metadata": {},
   "outputs": [],
   "source": [
    "l1.remove(4)\n"
   ]
  },
  {
   "cell_type": "code",
   "execution_count": 307,
   "id": "d8cb6b54-1d7a-4ed9-b0ff-a445f5bf5d2e",
   "metadata": {},
   "outputs": [
    {
     "data": {
      "text/plain": [
       "[45, 'sudh', [2, 4], 4]"
      ]
     },
     "execution_count": 307,
     "metadata": {},
     "output_type": "execute_result"
    }
   ],
   "source": [
    "l1"
   ]
  },
  {
   "cell_type": "code",
   "execution_count": 308,
   "id": "53917c66-09e9-4019-bc17-40ce9ed99c90",
   "metadata": {},
   "outputs": [],
   "source": [
    "#only first occurance is removed\n"
   ]
  },
  {
   "cell_type": "code",
   "execution_count": 309,
   "id": "738117cf-c88e-437f-8483-a3d714287645",
   "metadata": {},
   "outputs": [],
   "source": [
    "# now reverse methods"
   ]
  },
  {
   "cell_type": "code",
   "execution_count": 310,
   "id": "4be08cda-c9c0-4d44-a4ae-90cc0cc22ac1",
   "metadata": {},
   "outputs": [
    {
     "data": {
      "text/plain": [
       "[4, [2, 4], 'sudh', 45]"
      ]
     },
     "execution_count": 310,
     "metadata": {},
     "output_type": "execute_result"
    }
   ],
   "source": [
    "l1[::-1]"
   ]
  },
  {
   "cell_type": "code",
   "execution_count": 311,
   "id": "b616204f-4a41-4245-a1ad-3bb323bb9c88",
   "metadata": {},
   "outputs": [],
   "source": [
    "#it is temporary reverse"
   ]
  },
  {
   "cell_type": "code",
   "execution_count": 312,
   "id": "d037a96a-2972-4174-bfe3-b2ab7e1798cc",
   "metadata": {},
   "outputs": [],
   "source": [
    "l1.reverse()"
   ]
  },
  {
   "cell_type": "code",
   "execution_count": 313,
   "id": "a1b51407-dde4-4c1e-97df-be011828da0d",
   "metadata": {},
   "outputs": [
    {
     "data": {
      "text/plain": [
       "[4, [2, 4], 'sudh', 45]"
      ]
     },
     "execution_count": 313,
     "metadata": {},
     "output_type": "execute_result"
    }
   ],
   "source": [
    "l1"
   ]
  },
  {
   "cell_type": "code",
   "execution_count": 314,
   "id": "8e7776e6-bad1-471a-a182-d328a89464fc",
   "metadata": {},
   "outputs": [],
   "source": [
    "#it is permanent reversed"
   ]
  },
  {
   "cell_type": "code",
   "execution_count": 315,
   "id": "fe02988c-45a8-4d33-8bc0-814393cf6aa5",
   "metadata": {},
   "outputs": [],
   "source": [
    "#to do permament reverse than we have to resign it"
   ]
  },
  {
   "cell_type": "code",
   "execution_count": 316,
   "id": "23d7c4d7-7327-4c11-af34-bc5dfda39468",
   "metadata": {},
   "outputs": [],
   "source": [
    "l1=l1[::-1]\n"
   ]
  },
  {
   "cell_type": "code",
   "execution_count": 317,
   "id": "5fded8c3-7521-4dc9-84b7-a8f5ea738f65",
   "metadata": {},
   "outputs": [
    {
     "data": {
      "text/plain": [
       "[45, 'sudh', [2, 4], 4]"
      ]
     },
     "execution_count": 317,
     "metadata": {},
     "output_type": "execute_result"
    }
   ],
   "source": [
    "l1"
   ]
  },
  {
   "cell_type": "code",
   "execution_count": 318,
   "id": "fcfd6f2e-8cd6-413c-85e2-fc62da0eb018",
   "metadata": {},
   "outputs": [
    {
     "ename": "TypeError",
     "evalue": "'<' not supported between instances of 'str' and 'int'",
     "output_type": "error",
     "traceback": [
      "\u001b[0;31m---------------------------------------------------------------------------\u001b[0m",
      "\u001b[0;31mTypeError\u001b[0m                                 Traceback (most recent call last)",
      "Cell \u001b[0;32mIn[318], line 1\u001b[0m\n\u001b[0;32m----> 1\u001b[0m \u001b[43ml1\u001b[49m\u001b[38;5;241;43m.\u001b[39;49m\u001b[43msort\u001b[49m\u001b[43m(\u001b[49m\u001b[43m)\u001b[49m\n",
      "\u001b[0;31mTypeError\u001b[0m: '<' not supported between instances of 'str' and 'int'"
     ]
    }
   ],
   "source": [
    "l1.sort()"
   ]
  },
  {
   "cell_type": "code",
   "execution_count": null,
   "id": "aa0f60fe-fa69-488d-a528-56da28a69637",
   "metadata": {},
   "outputs": [],
   "source": [
    "#it is because in lsist l1 datatypes are different"
   ]
  },
  {
   "cell_type": "code",
   "execution_count": 1,
   "id": "96999fa4-78e4-4fff-b3c9-5f5da1be4c2c",
   "metadata": {},
   "outputs": [],
   "source": [
    "l2=[2,56,32,0,54]\n",
    "\n"
   ]
  },
  {
   "cell_type": "code",
   "execution_count": 2,
   "id": "eb4d1fcc-a29e-4e3d-b240-9a5da1eea573",
   "metadata": {},
   "outputs": [],
   "source": [
    "l2.sort()# where it is use to arrange the specific datatype in accending order"
   ]
  },
  {
   "cell_type": "code",
   "execution_count": 3,
   "id": "effaef4c-14a7-4b54-bbe2-a95dbee2898c",
   "metadata": {},
   "outputs": [
    {
     "data": {
      "text/plain": [
       "[0, 2, 32, 54, 56]"
      ]
     },
     "execution_count": 3,
     "metadata": {},
     "output_type": "execute_result"
    }
   ],
   "source": [
    "l2"
   ]
  },
  {
   "cell_type": "code",
   "execution_count": 4,
   "id": "251b3b2b-e0f2-45ea-af96-11bd7e0f8b60",
   "metadata": {},
   "outputs": [],
   "source": [
    "l3=[34,\"sudh\",45,12,\"kumar\"]"
   ]
  },
  {
   "cell_type": "code",
   "execution_count": 5,
   "id": "c3c3df2f-00e5-4dcf-8fec-0f1d0b9461a9",
   "metadata": {},
   "outputs": [
    {
     "ename": "TypeError",
     "evalue": "'<' not supported between instances of 'str' and 'int'",
     "output_type": "error",
     "traceback": [
      "\u001b[0;31m---------------------------------------------------------------------------\u001b[0m",
      "\u001b[0;31mTypeError\u001b[0m                                 Traceback (most recent call last)",
      "Cell \u001b[0;32mIn[5], line 1\u001b[0m\n\u001b[0;32m----> 1\u001b[0m \u001b[43ml3\u001b[49m\u001b[38;5;241;43m.\u001b[39;49m\u001b[43msort\u001b[49m\u001b[43m(\u001b[49m\u001b[43m)\u001b[49m\n",
      "\u001b[0;31mTypeError\u001b[0m: '<' not supported between instances of 'str' and 'int'"
     ]
    }
   ],
   "source": [
    "l3.sort()"
   ]
  },
  {
   "cell_type": "code",
   "execution_count": 36,
   "id": "4e015365-752f-47ac-a39b-29197b3e5ccb",
   "metadata": {},
   "outputs": [],
   "source": [
    "l4=[\"sudh\",\"kumar\",\"pwskills\",\"datascience\"]"
   ]
  },
  {
   "cell_type": "code",
   "execution_count": 7,
   "id": "92ed4a6c-3640-4e59-9f8f-ece4f185af2e",
   "metadata": {},
   "outputs": [],
   "source": [
    "l4.sort()"
   ]
  },
  {
   "cell_type": "code",
   "execution_count": 8,
   "id": "df6d6727-b11e-4e24-aa71-1341bec03f8e",
   "metadata": {},
   "outputs": [
    {
     "data": {
      "text/plain": [
       "['datascience', 'kumar', 'pwskills', 'sudh']"
      ]
     },
     "execution_count": 8,
     "metadata": {},
     "output_type": "execute_result"
    }
   ],
   "source": [
    "l4"
   ]
  },
  {
   "cell_type": "code",
   "execution_count": 9,
   "id": "99ba0a67-f576-41b9-a901-f9369ba1d736",
   "metadata": {},
   "outputs": [],
   "source": [
    "#but what if we want desending order"
   ]
  },
  {
   "cell_type": "code",
   "execution_count": 10,
   "id": "915553cb-66eb-4e21-9772-a0e13821edf5",
   "metadata": {},
   "outputs": [],
   "source": [
    "l4.sort(reverse=True)"
   ]
  },
  {
   "cell_type": "code",
   "execution_count": 11,
   "id": "c4603794-de56-4762-ba74-daafe947a68a",
   "metadata": {},
   "outputs": [
    {
     "data": {
      "text/plain": [
       "['sudh', 'pwskills', 'kumar', 'datascience']"
      ]
     },
     "execution_count": 11,
     "metadata": {},
     "output_type": "execute_result"
    }
   ],
   "source": [
    "l4"
   ]
  },
  {
   "cell_type": "code",
   "execution_count": 12,
   "id": "030737d1-87f4-496c-91bd-1431e6b7f54d",
   "metadata": {},
   "outputs": [
    {
     "data": {
      "text/plain": [
       "0"
      ]
     },
     "execution_count": 12,
     "metadata": {},
     "output_type": "execute_result"
    }
   ],
   "source": [
    "l4.index(\"sudh\")"
   ]
  },
  {
   "cell_type": "code",
   "execution_count": 13,
   "id": "0c3324aa-a534-412e-8c90-dd08d86123f6",
   "metadata": {},
   "outputs": [
    {
     "data": {
      "text/plain": [
       "1"
      ]
     },
     "execution_count": 13,
     "metadata": {},
     "output_type": "execute_result"
    }
   ],
   "source": [
    "l4.count(\"sudh\")"
   ]
  },
  {
   "cell_type": "code",
   "execution_count": 14,
   "id": "69e875f9-fc0c-42a2-8377-b4c5e790de68",
   "metadata": {},
   "outputs": [],
   "source": [
    "s=\"sudh\""
   ]
  },
  {
   "cell_type": "code",
   "execution_count": 15,
   "id": "0d515054-141d-488b-8e07-759aa242daa8",
   "metadata": {},
   "outputs": [],
   "source": [
    "l5=[3,4,5,6]"
   ]
  },
  {
   "cell_type": "code",
   "execution_count": 16,
   "id": "7047c195-93c3-45f8-b8b3-0287a740ff65",
   "metadata": {},
   "outputs": [],
   "source": [
    "#now we have to remoce s in string"
   ]
  },
  {
   "cell_type": "code",
   "execution_count": 17,
   "id": "13c108b8-1f60-480a-a09a-3b0cf328aec9",
   "metadata": {},
   "outputs": [
    {
     "ename": "TypeError",
     "evalue": "'str' object does not support item assignment",
     "output_type": "error",
     "traceback": [
      "\u001b[0;31m---------------------------------------------------------------------------\u001b[0m",
      "\u001b[0;31mTypeError\u001b[0m                                 Traceback (most recent call last)",
      "Cell \u001b[0;32mIn[17], line 1\u001b[0m\n\u001b[0;32m----> 1\u001b[0m \u001b[43ms\u001b[49m\u001b[43m[\u001b[49m\u001b[38;5;241;43m0\u001b[39;49m\u001b[43m]\u001b[49m\u001b[38;5;241m=\u001b[39m\u001b[38;5;124m\"\u001b[39m\u001b[38;5;124ma\u001b[39m\u001b[38;5;124m\"\u001b[39m\n",
      "\u001b[0;31mTypeError\u001b[0m: 'str' object does not support item assignment"
     ]
    }
   ],
   "source": [
    "s[0]=\"a\""
   ]
  },
  {
   "cell_type": "code",
   "execution_count": 18,
   "id": "c83eb1c3-ea85-4ff6-887f-3b1a2f267d8a",
   "metadata": {},
   "outputs": [],
   "source": [
    "#replace s by a"
   ]
  },
  {
   "cell_type": "code",
   "execution_count": 19,
   "id": "5883e317-d380-4a2a-9da8-7361636883b7",
   "metadata": {},
   "outputs": [],
   "source": [
    "l5[0]=30"
   ]
  },
  {
   "cell_type": "code",
   "execution_count": 20,
   "id": "232bf784-7a71-4088-9e5e-e4869c58171c",
   "metadata": {},
   "outputs": [
    {
     "data": {
      "text/plain": [
       "[30, 4, 5, 6]"
      ]
     },
     "execution_count": 20,
     "metadata": {},
     "output_type": "execute_result"
    }
   ],
   "source": [
    "l5"
   ]
  },
  {
   "cell_type": "code",
   "execution_count": 21,
   "id": "95e57cb8-61e7-4434-9efb-c64dda36d8d7",
   "metadata": {},
   "outputs": [],
   "source": [
    "# in string replace ment of character is not posiible \n",
    "#where as in list it is possible\n"
   ]
  },
  {
   "cell_type": "code",
   "execution_count": 22,
   "id": "8289e7c5-19ee-4075-9235-90ec2043b43d",
   "metadata": {},
   "outputs": [],
   "source": [
    "# so mutability is called when we replace the data with other on specific position with respect to index\n",
    "# so string is immutable so we can not assign different data at index but lists are mutable"
   ]
  },
  {
   "cell_type": "code",
   "execution_count": 23,
   "id": "d9afe718-0478-43c5-95b9-830cebd34491",
   "metadata": {},
   "outputs": [],
   "source": [
    "#what it is"
   ]
  },
  {
   "cell_type": "code",
   "execution_count": 24,
   "id": "1eb38f5e-0d6d-4623-9ffc-dc0c20c0549b",
   "metadata": {},
   "outputs": [
    {
     "data": {
      "text/plain": [
       "'audh'"
      ]
     },
     "execution_count": 24,
     "metadata": {},
     "output_type": "execute_result"
    }
   ],
   "source": [
    "s.replace(\"s\",\"a\")"
   ]
  },
  {
   "cell_type": "code",
   "execution_count": 25,
   "id": "40d40e48-9d96-43f7-919c-c9fdce362457",
   "metadata": {},
   "outputs": [
    {
     "data": {
      "text/plain": [
       "'sudh'"
      ]
     },
     "execution_count": 25,
     "metadata": {},
     "output_type": "execute_result"
    }
   ],
   "source": [
    "s"
   ]
  },
  {
   "cell_type": "code",
   "execution_count": 26,
   "id": "ea3219b2-974e-4d58-b2c9-23fb2534e90d",
   "metadata": {},
   "outputs": [],
   "source": [
    "#so it also not get replace"
   ]
  },
  {
   "cell_type": "code",
   "execution_count": 27,
   "id": "364ba5d9-1de4-4b44-970b-d76124225945",
   "metadata": {},
   "outputs": [],
   "source": [
    "#new data types\n",
    "# tuples which store all types of datatypes\n"
   ]
  },
  {
   "cell_type": "code",
   "execution_count": 28,
   "id": "2eace591-f8a3-44da-ae36-a943d1fa82df",
   "metadata": {},
   "outputs": [],
   "source": [
    "t=(2,3,4,5,\"sudh\",45.56,False,23+34j,[4,5,6])"
   ]
  },
  {
   "cell_type": "code",
   "execution_count": 29,
   "id": "0ca55df4-0dfc-4c62-bf40-450d7afac325",
   "metadata": {},
   "outputs": [
    {
     "data": {
      "text/plain": [
       "tuple"
      ]
     },
     "execution_count": 29,
     "metadata": {},
     "output_type": "execute_result"
    }
   ],
   "source": [
    "type(t)"
   ]
  },
  {
   "cell_type": "code",
   "execution_count": 30,
   "id": "1c796bfa-0ac3-4006-8c75-befab8481d23",
   "metadata": {},
   "outputs": [
    {
     "data": {
      "text/plain": [
       "9"
      ]
     },
     "execution_count": 30,
     "metadata": {},
     "output_type": "execute_result"
    }
   ],
   "source": [
    "len(t)"
   ]
  },
  {
   "cell_type": "code",
   "execution_count": 31,
   "id": "c5b969a6-7681-4e1d-b159-3c695d8754e7",
   "metadata": {},
   "outputs": [],
   "source": [
    "#to excrat data similar to list"
   ]
  },
  {
   "cell_type": "code",
   "execution_count": 32,
   "id": "e77c32e4-3478-4ff4-bc8c-030ac4ff811b",
   "metadata": {},
   "outputs": [
    {
     "data": {
      "text/plain": [
       "2"
      ]
     },
     "execution_count": 32,
     "metadata": {},
     "output_type": "execute_result"
    }
   ],
   "source": [
    "t[0]"
   ]
  },
  {
   "cell_type": "code",
   "execution_count": 33,
   "id": "44ce186f-d579-4401-b298-1428202175bc",
   "metadata": {},
   "outputs": [
    {
     "data": {
      "text/plain": [
       "[4, 5, 6]"
      ]
     },
     "execution_count": 33,
     "metadata": {},
     "output_type": "execute_result"
    }
   ],
   "source": [
    "t[-1]"
   ]
  },
  {
   "cell_type": "code",
   "execution_count": 34,
   "id": "5ede8ef2-beaf-48dd-9a5a-d88b8913dcb2",
   "metadata": {},
   "outputs": [
    {
     "data": {
      "text/plain": [
       "([4, 5, 6], (23+34j), False, 45.56, 'sudh', 5, 4, 3, 2)"
      ]
     },
     "execution_count": 34,
     "metadata": {},
     "output_type": "execute_result"
    }
   ],
   "source": [
    "t[::-1]"
   ]
  },
  {
   "cell_type": "code",
   "execution_count": 35,
   "id": "ddf10aa4-06ec-4fd5-95a9-6d96b787fd29",
   "metadata": {},
   "outputs": [],
   "source": [
    "#all things are similar but what the major difference"
   ]
  },
  {
   "cell_type": "code",
   "execution_count": 37,
   "id": "986a3169-5157-441d-bbba-3376e1687336",
   "metadata": {},
   "outputs": [],
   "source": [
    "l4[0]=23455"
   ]
  },
  {
   "cell_type": "code",
   "execution_count": 38,
   "id": "ebfcf3c5-703e-4017-8be7-547e02263eeb",
   "metadata": {},
   "outputs": [
    {
     "data": {
      "text/plain": [
       "[23455, 'kumar', 'pwskills', 'datascience']"
      ]
     },
     "execution_count": 38,
     "metadata": {},
     "output_type": "execute_result"
    }
   ],
   "source": [
    "l4"
   ]
  },
  {
   "cell_type": "code",
   "execution_count": 39,
   "id": "6235c8d4-0d13-47f2-8b5e-37c881e60a0b",
   "metadata": {},
   "outputs": [
    {
     "data": {
      "text/plain": [
       "(2, 3, 4, 5, 'sudh', 45.56, False, (23+34j), [4, 5, 6])"
      ]
     },
     "execution_count": 39,
     "metadata": {},
     "output_type": "execute_result"
    }
   ],
   "source": [
    "t"
   ]
  },
  {
   "cell_type": "code",
   "execution_count": 40,
   "id": "174add20-711f-45b4-87cf-6bf4f3cb8a89",
   "metadata": {},
   "outputs": [
    {
     "ename": "TypeError",
     "evalue": "'tuple' object does not support item assignment",
     "output_type": "error",
     "traceback": [
      "\u001b[0;31m---------------------------------------------------------------------------\u001b[0m",
      "\u001b[0;31mTypeError\u001b[0m                                 Traceback (most recent call last)",
      "Cell \u001b[0;32mIn[40], line 1\u001b[0m\n\u001b[0;32m----> 1\u001b[0m \u001b[43mt\u001b[49m\u001b[43m[\u001b[49m\u001b[38;5;241;43m0\u001b[39;49m\u001b[43m]\u001b[49m\u001b[38;5;241m=\u001b[39m\u001b[38;5;124m\"\u001b[39m\u001b[38;5;124msudh\u001b[39m\u001b[38;5;124m\"\u001b[39m\n",
      "\u001b[0;31mTypeError\u001b[0m: 'tuple' object does not support item assignment"
     ]
    }
   ],
   "source": [
    "t[0]=\"sudh\""
   ]
  },
  {
   "cell_type": "code",
   "execution_count": 41,
   "id": "71f0c717-0c87-4749-aaa2-c77e0cbb0304",
   "metadata": {},
   "outputs": [],
   "source": [
    "#so tuples are immutable where as list are mutable"
   ]
  },
  {
   "cell_type": "code",
   "execution_count": 42,
   "id": "083a8ce3-05fe-4f7a-aa0c-a73500fe1c73",
   "metadata": {},
   "outputs": [],
   "source": [
    "#so where we use tuplke as it is use in passwords which cannot be change"
   ]
  },
  {
   "cell_type": "code",
   "execution_count": 43,
   "id": "25cdf74a-5dcb-45d1-8fa1-2f9659b585a0",
   "metadata": {},
   "outputs": [
    {
     "data": {
      "text/plain": [
       "([4, 5, 6], (23+34j), False, 45.56, 'sudh', 5, 4, 3, 2)"
      ]
     },
     "execution_count": 43,
     "metadata": {},
     "output_type": "execute_result"
    }
   ],
   "source": [
    "t[::-1]"
   ]
  },
  {
   "cell_type": "code",
   "execution_count": 44,
   "id": "c0ff3554-dd86-4904-a30b-49267d5469eb",
   "metadata": {},
   "outputs": [],
   "source": [
    "#it is stored in new data"
   ]
  },
  {
   "cell_type": "code",
   "execution_count": 45,
   "id": "4444a52c-6020-45e2-b15b-55fd9e260c88",
   "metadata": {},
   "outputs": [],
   "source": [
    "# what is set"
   ]
  },
  {
   "cell_type": "code",
   "execution_count": 46,
   "id": "be5d0686-e559-455d-b68c-0906a8f9da12",
   "metadata": {},
   "outputs": [],
   "source": [
    "s1={}# it is blank"
   ]
  },
  {
   "cell_type": "code",
   "execution_count": 47,
   "id": "c143cc8d-52dd-4a95-8153-ae1e65711ee5",
   "metadata": {},
   "outputs": [
    {
     "data": {
      "text/plain": [
       "dict"
      ]
     },
     "execution_count": 47,
     "metadata": {},
     "output_type": "execute_result"
    }
   ],
   "source": [
    "type(s1)"
   ]
  },
  {
   "cell_type": "code",
   "execution_count": 48,
   "id": "09b8404a-a44c-4b94-b514-94293fac7f67",
   "metadata": {},
   "outputs": [],
   "source": [
    "s2={2,3,45}"
   ]
  },
  {
   "cell_type": "code",
   "execution_count": 49,
   "id": "36c691e2-5f74-414c-839e-0dfc6849751c",
   "metadata": {},
   "outputs": [
    {
     "data": {
      "text/plain": [
       "set"
      ]
     },
     "execution_count": 49,
     "metadata": {},
     "output_type": "execute_result"
    }
   ],
   "source": [
    "type(s2)"
   ]
  },
  {
   "cell_type": "code",
   "execution_count": 50,
   "id": "a0f2becc-f814-4bda-901e-07d69a35fe2b",
   "metadata": {},
   "outputs": [
    {
     "ename": "TypeError",
     "evalue": "unhashable type: 'list'",
     "output_type": "error",
     "traceback": [
      "\u001b[0;31m---------------------------------------------------------------------------\u001b[0m",
      "\u001b[0;31mTypeError\u001b[0m                                 Traceback (most recent call last)",
      "Cell \u001b[0;32mIn[50], line 1\u001b[0m\n\u001b[0;32m----> 1\u001b[0m s3\u001b[38;5;241m=\u001b[39m{\u001b[38;5;241m345\u001b[39m,\u001b[38;5;241m234\u001b[39m,\u001b[38;5;241m678\u001b[39m,\u001b[38;5;124m\"\u001b[39m\u001b[38;5;124msudh\u001b[39m\u001b[38;5;124m\"\u001b[39m,\u001b[38;5;241m34\u001b[39m\u001b[38;5;241m+\u001b[39m\u001b[38;5;241m56\u001b[39mj,\u001b[38;5;241m34.56\u001b[39m,[\u001b[38;5;241m4\u001b[39m,\u001b[38;5;241m5\u001b[39m,\u001b[38;5;241m6\u001b[39m]}\n",
      "\u001b[0;31mTypeError\u001b[0m: unhashable type: 'list'"
     ]
    }
   ],
   "source": [
    "s3={345,234,678,\"sudh\",34+56j,34.56,[4,5,6]}\n"
   ]
  },
  {
   "cell_type": "code",
   "execution_count": 51,
   "id": "c152a200-ab0e-4bc7-8377-c0d993310513",
   "metadata": {},
   "outputs": [],
   "source": [
    "#list is not accepted\n"
   ]
  },
  {
   "cell_type": "code",
   "execution_count": 52,
   "id": "d4f467c1-fa84-4ac4-9d1e-8294ef6a4798",
   "metadata": {},
   "outputs": [],
   "source": [
    "s3={345,234,678,\"sudh\",34+56j,34.56,(4,5,6)}\n",
    "\n"
   ]
  },
  {
   "cell_type": "code",
   "execution_count": 53,
   "id": "f6ccc391-602e-47eb-805c-5924fff60883",
   "metadata": {},
   "outputs": [
    {
     "data": {
      "text/plain": [
       "{(34+56j), (4, 5, 6), 234, 34.56, 345, 678, 'sudh'}"
      ]
     },
     "execution_count": 53,
     "metadata": {},
     "output_type": "execute_result"
    }
   ],
   "source": [
    "s3\n"
   ]
  },
  {
   "cell_type": "code",
   "execution_count": 54,
   "id": "15abdf2d-ca92-4fda-8f65-938acd68762d",
   "metadata": {},
   "outputs": [],
   "source": [
    "#but it accepts touple"
   ]
  },
  {
   "cell_type": "code",
   "execution_count": 55,
   "id": "f43bd479-ed83-4aaa-833a-d648eba533dd",
   "metadata": {},
   "outputs": [],
   "source": [
    "#this is because set accepts only immutable inteties"
   ]
  },
  {
   "cell_type": "code",
   "execution_count": 56,
   "id": "fb291f9e-309a-450c-877b-e23bd66f8502",
   "metadata": {},
   "outputs": [],
   "source": [
    "s4={2,3,4,5,6,2,2,2,2,3,4,5,6,7,3,2,43,5,3,3}\n",
    "\n"
   ]
  },
  {
   "cell_type": "code",
   "execution_count": 57,
   "id": "f1d6f77c-b183-4aca-a692-86b50963cf82",
   "metadata": {},
   "outputs": [
    {
     "data": {
      "text/plain": [
       "{2, 3, 4, 5, 6, 7, 43}"
      ]
     },
     "execution_count": 57,
     "metadata": {},
     "output_type": "execute_result"
    }
   ],
   "source": [
    "s4"
   ]
  },
  {
   "cell_type": "code",
   "execution_count": 58,
   "id": "ed18b89f-4ece-41db-b1e1-d118942b90a5",
   "metadata": {},
   "outputs": [],
   "source": [
    "#as set is used to give unique data and it remove all the duplicates"
   ]
  },
  {
   "cell_type": "code",
   "execution_count": 59,
   "id": "6d1e3ac2-e65f-469b-ba1e-a9c28793ebf6",
   "metadata": {},
   "outputs": [],
   "source": [
    "#where it is used"
   ]
  },
  {
   "cell_type": "code",
   "execution_count": 60,
   "id": "8b51582e-f3d4-4b16-9e47-e186d9cd14cf",
   "metadata": {},
   "outputs": [],
   "source": [
    "l6=[2,3,4,5,6,2,2,3,4,2,3,4,56,4,3,5,\"sudh\",\"Sudh\"]\n"
   ]
  },
  {
   "cell_type": "code",
   "execution_count": 61,
   "id": "2dd0dffd-baf8-4378-8bba-be8ff9c9b4df",
   "metadata": {},
   "outputs": [
    {
     "ename": "SyntaxError",
     "evalue": "invalid syntax (1750246473.py, line 1)",
     "output_type": "error",
     "traceback": [
      "\u001b[0;36m  Cell \u001b[0;32mIn[61], line 1\u001b[0;36m\u001b[0m\n\u001b[0;31m    set{l6}\u001b[0m\n\u001b[0m       ^\u001b[0m\n\u001b[0;31mSyntaxError\u001b[0m\u001b[0;31m:\u001b[0m invalid syntax\n"
     ]
    }
   ],
   "source": [
    "set{l6}\n"
   ]
  },
  {
   "cell_type": "code",
   "execution_count": 66,
   "id": "09742353-1d6e-4bec-b0cd-418c455564e3",
   "metadata": {},
   "outputs": [],
   "source": [
    "l6=list(set(l6))\n",
    "\n"
   ]
  },
  {
   "cell_type": "code",
   "execution_count": 67,
   "id": "f87fbe2e-3db4-4cc3-873c-faeab742220b",
   "metadata": {},
   "outputs": [
    {
     "data": {
      "text/plain": [
       "[2, 3, 4, 5, 6, 'Sudh', 56, 'sudh']"
      ]
     },
     "execution_count": 67,
     "metadata": {},
     "output_type": "execute_result"
    }
   ],
   "source": [
    "l6"
   ]
  },
  {
   "cell_type": "code",
   "execution_count": 68,
   "id": "e5996d10-805e-45fd-b834-46f87fc61939",
   "metadata": {},
   "outputs": [],
   "source": [
    "s5={234,456,323,23,\"abc\",45}\n"
   ]
  },
  {
   "cell_type": "code",
   "execution_count": 69,
   "id": "cb22c697-8b5f-4b1b-a58a-6c4afe7c94cf",
   "metadata": {},
   "outputs": [
    {
     "data": {
      "text/plain": [
       "{23, 234, 323, 45, 456, 'abc'}"
      ]
     },
     "execution_count": 69,
     "metadata": {},
     "output_type": "execute_result"
    }
   ],
   "source": [
    "s5"
   ]
  },
  {
   "cell_type": "code",
   "execution_count": 70,
   "id": "ff6b9431-a421-44fd-943a-da380224b6f1",
   "metadata": {},
   "outputs": [],
   "source": [
    "#set never arrange a data"
   ]
  },
  {
   "cell_type": "code",
   "execution_count": 71,
   "id": "ca2a4249-37b4-479c-a132-e31c6b7cb918",
   "metadata": {},
   "outputs": [
    {
     "ename": "TypeError",
     "evalue": "'set' object is not subscriptable",
     "output_type": "error",
     "traceback": [
      "\u001b[0;31m---------------------------------------------------------------------------\u001b[0m",
      "\u001b[0;31mTypeError\u001b[0m                                 Traceback (most recent call last)",
      "Cell \u001b[0;32mIn[71], line 1\u001b[0m\n\u001b[0;32m----> 1\u001b[0m \u001b[43ms5\u001b[49m\u001b[43m[\u001b[49m\u001b[38;5;241;43m0\u001b[39;49m\u001b[43m]\u001b[49m\n",
      "\u001b[0;31mTypeError\u001b[0m: 'set' object is not subscriptable"
     ]
    }
   ],
   "source": [
    "s5[0]# indexing is not possible"
   ]
  },
  {
   "cell_type": "code",
   "execution_count": 72,
   "id": "fa3c052a-3c19-430c-8f6a-2893ca89827b",
   "metadata": {},
   "outputs": [
    {
     "ename": "TypeError",
     "evalue": "'set' object is not subscriptable",
     "output_type": "error",
     "traceback": [
      "\u001b[0;31m---------------------------------------------------------------------------\u001b[0m",
      "\u001b[0;31mTypeError\u001b[0m                                 Traceback (most recent call last)",
      "Cell \u001b[0;32mIn[72], line 1\u001b[0m\n\u001b[0;32m----> 1\u001b[0m \u001b[43ms5\u001b[49m\u001b[43m[\u001b[49m\u001b[43m:\u001b[49m\u001b[43m:\u001b[49m\u001b[38;5;241;43m-\u001b[39;49m\u001b[38;5;241;43m1\u001b[39;49m\u001b[43m]\u001b[49m\n",
      "\u001b[0;31mTypeError\u001b[0m: 'set' object is not subscriptable"
     ]
    }
   ],
   "source": [
    "s5[::-1]# indexcing is not possible\n"
   ]
  },
  {
   "cell_type": "code",
   "execution_count": 73,
   "id": "19631830-782b-4009-aa60-cab7e85bfdff",
   "metadata": {},
   "outputs": [],
   "source": [
    "s5.add(4)"
   ]
  },
  {
   "cell_type": "code",
   "execution_count": 74,
   "id": "2736eb76-b5a8-4aa3-88c0-7bd0cd4555a8",
   "metadata": {},
   "outputs": [
    {
     "data": {
      "text/plain": [
       "{23, 234, 323, 4, 45, 456, 'abc'}"
      ]
     },
     "execution_count": 74,
     "metadata": {},
     "output_type": "execute_result"
    }
   ],
   "source": [
    "s5"
   ]
  },
  {
   "cell_type": "code",
   "execution_count": 75,
   "id": "7086bf3d-b9e3-45cc-aa3f-5108a3fe3e96",
   "metadata": {},
   "outputs": [],
   "source": [
    "s5.remove(4)"
   ]
  },
  {
   "cell_type": "code",
   "execution_count": 76,
   "id": "e49ebe97-eb2f-4516-a52a-fd30aa4c2b9f",
   "metadata": {},
   "outputs": [
    {
     "data": {
      "text/plain": [
       "{23, 234, 323, 45, 456, 'abc'}"
      ]
     },
     "execution_count": 76,
     "metadata": {},
     "output_type": "execute_result"
    }
   ],
   "source": [
    "s5\n",
    "\n"
   ]
  },
  {
   "cell_type": "code",
   "execution_count": null,
   "id": "e7251091-ef9a-4a37-8b2c-f4ca19e4047c",
   "metadata": {},
   "outputs": [],
   "source": []
  }
 ],
 "metadata": {
  "kernelspec": {
   "display_name": "Python 3 (ipykernel)",
   "language": "python",
   "name": "python3"
  },
  "language_info": {
   "codemirror_mode": {
    "name": "ipython",
    "version": 3
   },
   "file_extension": ".py",
   "mimetype": "text/x-python",
   "name": "python",
   "nbconvert_exporter": "python",
   "pygments_lexer": "ipython3",
   "version": "3.10.8"
  }
 },
 "nbformat": 4,
 "nbformat_minor": 5
}
